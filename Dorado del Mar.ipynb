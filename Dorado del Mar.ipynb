{
 "cells": [
  {
   "cell_type": "code",
   "execution_count": 12,
   "metadata": {},
   "outputs": [
    {
     "data": {
      "text/html": [
       "        <script type=\"text/javascript\">\n",
       "        window.PlotlyConfig = {MathJaxConfig: 'local'};\n",
       "        if (window.MathJax) {MathJax.Hub.Config({SVG: {font: \"STIX-Web\"}});}\n",
       "        if (typeof require !== 'undefined') {\n",
       "        require.undef(\"plotly\");\n",
       "        requirejs.config({\n",
       "            paths: {\n",
       "                'plotly': ['https://cdn.plot.ly/plotly-latest.min']\n",
       "            }\n",
       "        });\n",
       "        require(['plotly'], function(Plotly) {\n",
       "            window._Plotly = Plotly;\n",
       "        });\n",
       "        }\n",
       "        </script>\n",
       "        "
      ]
     },
     "metadata": {},
     "output_type": "display_data"
    }
   ],
   "source": [
    "import pandas as pd\n",
    "import numpy as np\n",
    "import warnings\n",
    "warnings.filterwarnings('ignore')\n",
    "import re\n",
    "pd.set_option('display.max_columns', None)\n",
    "pd.set_option('display.max_rows', None)\n",
    "import glob\n",
    "from bs4 import BeautifulSoup\n",
    "import re\n",
    "import plotly.graph_objs as go\n",
    "from plotly.subplots import make_subplots\n",
    "from plotly.offline import init_notebook_mode, iplot\n",
    "from plotly.offline import init_notebook_mode, iplot\n",
    "init_notebook_mode(connected=True)\n",
    "import plotly.graph_objs as go\n",
    "from statsmodels.tsa.seasonal import seasonal_decompose\n",
    "from matplotlib import pyplot\n",
    "\n",
    "import matplotlib.pyplot as plt"
   ]
  },
  {
   "cell_type": "code",
   "execution_count": null,
   "metadata": {},
   "outputs": [],
   "source": [
    "path = \"/Users/macbook/Downloads/Dorado del mar/\"\n",
    "files = [f for f in glob.glob(path + \"*.html\")]\n",
    "files = sorted(files)"
   ]
  },
  {
   "cell_type": "code",
   "execution_count": null,
   "metadata": {},
   "outputs": [],
   "source": [
    "table_sub = pd.DataFrame([])\n",
    "table_head = pd.DataFrame([])\n",
    "for url in files:\n",
    "    page = open(url)\n",
    "    soup = BeautifulSoup(page.read())\n",
    "    parsed = soup.findAll('tr', {'class': re.compile(r'extrarow extraroddrow|extrarow extraevenrow')})\n",
    "    \n",
    "    #subheaders\n",
    "    for i in range(0, len(parsed)):\n",
    "        td = parsed[i].findAll('td')\n",
    "        td = re.sub(\"\\n+|\\r+|\\t+\", \";\",  td[0].text)\n",
    "        td = td.replace(' ;; ;;;',';').replace('\\xa0','')\n",
    "        td = re.sub(\"^;\", \"\",  td)\n",
    "        td = re.sub('[ ]{2,}',' ',  td)\n",
    "        td = re.sub(\";+\", \";\", td)\n",
    "    \n",
    "        cols_list = td.split(';')\n",
    "        cols_dict={}\n",
    "    \n",
    "        for j in range(0, len(cols_list)-1,2):\n",
    "            cols_dict[cols_list[j]] = cols_list[j+1]\n",
    "        row = pd.DataFrame(cols_dict, index=[i])\n",
    "        table_sub = pd.concat([table_sub, row])\n",
    "    \n",
    "    #headers\n",
    "    prop_id = soup.findAll('td', attrs={'class':\"evencol tablecol fld_community\"})\n",
    "    sale_date = soup.findAll('td', attrs={'class':\"oddcol tablecol fld_settled_sale_date\"})\n",
    "    sale_price = soup.findAll('td', attrs={'class':\"oddcol tablecol fld_sales_price\"})\n",
    "    appr_value = soup.findAll('td', attrs={'class':\"evencol tablecol fld_appraisal_value\"})\n",
    "    \n",
    "    col_list =[[],[],[],[]]\n",
    "    col_list_test = [prop_id, sale_date, sale_price, appr_value]\n",
    "    for n,j in enumerate(col_list_test):\n",
    "        for i in range(0, len(prop_id)):\n",
    "            row = re.sub(\"\\n+|\\r+|\\t+\", \";\",  j[i].text)\n",
    "            row = re.sub(\";+\", \";\",  row)\n",
    "            row = re.sub(\"^;|;$\", \"\",  row)\n",
    "            col_list[n].append(row)\n",
    "    \n",
    "    prop_id_col = col_list[0]\n",
    "    sale_date_col = col_list[1]\n",
    "    sale_price_col = col_list[2]\n",
    "    appr_value_col = col_list[3]\n",
    "    prop_type = [x.split(';')[1] for x in prop_id_col]\n",
    "    prop_id = [x.split(';')[2] for x in prop_id_col]\n",
    "    community = [x.split(';')[0] for x in prop_id_col]\n",
    "    table_page = pd.DataFrame({'Community':community,\n",
    "                          'Building type':prop_type,\n",
    "                          'Property id':prop_id,\n",
    "                          'Sale date':sale_date_col,\n",
    "                          'Sale price':sale_price_col,\n",
    "                          'Appraisal value':appr_value_col})\n",
    "    table_head = pd.concat([table_head, table_page])"
   ]
  },
  {
   "cell_type": "code",
   "execution_count": null,
   "metadata": {},
   "outputs": [],
   "source": [
    "table_head = table_head.reset_index(drop=True)\n",
    "table_sub = table_sub.reset_index(drop=True)\n",
    "del_mar_full = pd.concat([table_head,table_sub], axis=1)\n",
    "del_mar_full.shape"
   ]
  },
  {
   "cell_type": "code",
   "execution_count": null,
   "metadata": {},
   "outputs": [],
   "source": [
    "del_mar_full.to_csv('del_mar_full.csv')"
   ]
  },
  {
   "cell_type": "code",
   "execution_count": 2,
   "metadata": {},
   "outputs": [],
   "source": [
    "del_mar_full = pd.read_csv('del_mar_full.csv', index_col=[0])"
   ]
  },
  {
   "cell_type": "markdown",
   "metadata": {},
   "source": [
    "## Postprocessing"
   ]
  },
  {
   "cell_type": "code",
   "execution_count": 3,
   "metadata": {},
   "outputs": [],
   "source": [
    "cols = ['Municipality','Community', 'Property id', 'Address/Unit', 'Street','GLA(feet)', 'Rooms', \n",
    "        'Bedrooms', 'Bathrooms','Full bath', 'Half bath', 'Site(meters)', 'Garage', 'Stories', 'Units',  \n",
    "        'Building type', 'Cons. Type','Conditions','Actual age', 'Efective Age',  'Extras', 'Sale price',   \n",
    "        'Sale date','Appraisal value', 'Appraisal date',  'Opinion of site value', 'Marketing time',  \n",
    "        'Days on market', 'Prior sale date', 'Prior sale price', 'Latitud','Longitud','Zoning'\n",
    "        ]"
   ]
  },
  {
   "cell_type": "code",
   "execution_count": 4,
   "metadata": {},
   "outputs": [],
   "source": [
    "del_mar_full = del_mar_full[cols]"
   ]
  },
  {
   "cell_type": "code",
   "execution_count": 5,
   "metadata": {},
   "outputs": [],
   "source": [
    "# id\n",
    "del_mar_full['Property id'] = del_mar_full['Property id'].str.split('ID: ', expand=True)[1]\n",
    "# address\n",
    "del_mar_full['Address/Unit'] = del_mar_full['Street'] + ', ' + del_mar_full['Address/Unit']\n",
    "# price\n",
    "for col in ['Sale price', 'Appraisal value','Opinion of site value','Prior sale price','GLA(feet)']:\n",
    "    del_mar_full[col] = del_mar_full[col].str.replace('\\$','').str.replace(',','')\n",
    "    del_mar_full[col] = del_mar_full[col].replace({'':np.nan})\n",
    "# to floats\n",
    "for col in ['Bedrooms','Sale price', 'Appraisal value','Opinion of site value','Prior sale price'\n",
    "           ,'Bathrooms','GLA(feet)']:\n",
    "    del_mar_full[col] = del_mar_full[col].astype('float')\n",
    "del_mar_full['Sale date'] = pd.to_datetime(del_mar_full['Sale date'])"
   ]
  },
  {
   "cell_type": "markdown",
   "metadata": {},
   "source": [
    "## Comps"
   ]
  },
  {
   "cell_type": "code",
   "execution_count": 6,
   "metadata": {},
   "outputs": [],
   "source": [
    "comps = del_mar_full[(del_mar_full['Bedrooms'] >=2) & \n",
    "                     (del_mar_full['Bathrooms'] >=2) &\n",
    "                     (del_mar_full['GLA(feet)'] >=2000)].reset_index(drop=True)"
   ]
  },
  {
   "cell_type": "code",
   "execution_count": 7,
   "metadata": {},
   "outputs": [
    {
     "data": {
      "text/plain": [
       "(231, 33)"
      ]
     },
     "execution_count": 7,
     "metadata": {},
     "output_type": "execute_result"
    }
   ],
   "source": [
    "del_mar_full.shape"
   ]
  },
  {
   "cell_type": "code",
   "execution_count": 8,
   "metadata": {},
   "outputs": [
    {
     "data": {
      "text/plain": [
       "(96, 33)"
      ]
     },
     "execution_count": 8,
     "metadata": {},
     "output_type": "execute_result"
    }
   ],
   "source": [
    "comps.shape"
   ]
  },
  {
   "cell_type": "code",
   "execution_count": 9,
   "metadata": {},
   "outputs": [],
   "source": [
    "comps['Sale date Year'] = comps['Sale date'].apply(lambda x: x.year)\n",
    "comps['Sale date Quarter'] = comps['Sale date'].apply(lambda x: x.quarter)\n",
    "comps['Sale date Year-Quarter'] = comps['Sale date Year'].astype(str) +' Q'+ comps['Sale date Quarter'].astype(str)\n",
    "del_mar_full['Sale date Year'] = del_mar_full['Sale date'].apply(lambda x: x.year)\n",
    "del_mar_full['Sale date Quarter'] = del_mar_full['Sale date'].apply(lambda x: x.quarter)\n",
    "del_mar_full['Sale date Year-Quarter'] = del_mar_full['Sale date Year'].astype(str) +' Q'+ del_mar_full['Sale date Quarter'].astype(str)"
   ]
  },
  {
   "cell_type": "markdown",
   "metadata": {},
   "source": [
    "# Plots for comps"
   ]
  },
  {
   "cell_type": "code",
   "execution_count": 14,
   "metadata": {},
   "outputs": [
    {
     "data": {
      "application/vnd.plotly.v1+json": {
       "config": {
        "plotlyServerURL": "https://plot.ly"
       },
       "data": [
        {
         "name": "All houses",
         "opacity": 0.8,
         "type": "histogram",
         "x": [
          230000,
          205000,
          220000,
          324000,
          259000,
          361000,
          315000,
          260000,
          326000,
          220000,
          319000,
          255000,
          105000,
          280000,
          290000,
          255000,
          200000,
          225000,
          234000,
          260000,
          110000,
          302500,
          110000,
          210000,
          242000,
          255000,
          245000,
          265000,
          228915,
          352000,
          215000,
          225000,
          210000,
          242000,
          149900,
          140000,
          285000,
          243000,
          169500,
          335000,
          285000,
          293000,
          260000,
          230000,
          195000,
          160000,
          170000,
          295000,
          225000,
          70000,
          203000,
          218500,
          175000,
          215000,
          262000,
          240000,
          158000,
          170000,
          262000,
          225000,
          200000,
          180000,
          170000,
          200000,
          300000,
          100000,
          218500,
          220100,
          185000,
          214000,
          265000,
          185000,
          220000,
          250000,
          150000,
          210000,
          175000,
          165000,
          255000,
          190000,
          233000,
          215000,
          220000,
          216000,
          150000,
          155000,
          183500,
          115000,
          180000,
          172000,
          179900,
          152000,
          244000,
          131000,
          250000,
          275000,
          381000,
          135000,
          197000,
          167500,
          224000,
          258300,
          205000,
          153000,
          160000,
          180000,
          190000,
          160000,
          184000,
          220000,
          227000,
          176500,
          224000,
          250000,
          224000,
          155000,
          190000,
          159900,
          154500,
          300000,
          160000,
          200000,
          178000,
          140000,
          150000,
          210000,
          136000,
          135000,
          210000,
          124800,
          125000,
          195000,
          150634,
          150634,
          150000,
          175000,
          302000,
          152000,
          190000,
          116000,
          302000,
          176000,
          135000,
          220000,
          170000,
          145900,
          203750,
          130000,
          215000,
          180000,
          304000,
          370000,
          405000,
          316000,
          305000,
          340000,
          316000,
          352000,
          340000,
          340000,
          350000,
          340000,
          305000,
          222000,
          222000,
          260000,
          308000,
          259000,
          285000,
          250000,
          275000,
          240000,
          310000,
          265000,
          240000,
          240000,
          255000,
          310000,
          235000,
          285000,
          240000,
          256000,
          170000,
          250000,
          255000,
          200000,
          200000,
          280000,
          230000,
          255000,
          245000,
          265000,
          215000,
          195000,
          189000,
          190000,
          175000,
          151000,
          270000,
          96500,
          90000,
          210000,
          115000,
          180000,
          108900,
          255000,
          198000,
          138000,
          315000,
          207000,
          119000,
          220000,
          180000,
          200000,
          140000,
          165000,
          185000,
          340000,
          155000,
          230000,
          304000,
          275000,
          235000,
          240000,
          315000,
          260640,
          242500,
          345000,
          300000,
          265000,
          160000
         ],
         "xbins": {
          "size": 30000
         }
        },
        {
         "name": "Comps",
         "opacity": 0.8,
         "type": "histogram",
         "x": [
          205000,
          361000,
          315000,
          326000,
          220000,
          290000,
          225000,
          255000,
          265000,
          243000,
          169500,
          335000,
          285000,
          293000,
          230000,
          215000,
          240000,
          180000,
          300000,
          218500,
          220100,
          185000,
          250000,
          175000,
          179900,
          244000,
          250000,
          275000,
          381000,
          135000,
          197000,
          258300,
          160000,
          190000,
          220000,
          224000,
          250000,
          224000,
          190000,
          300000,
          200000,
          178000,
          210000,
          150000,
          302000,
          170000,
          145900,
          405000,
          316000,
          305000,
          340000,
          316000,
          352000,
          340000,
          340000,
          350000,
          340000,
          305000,
          222000,
          260000,
          308000,
          259000,
          285000,
          250000,
          275000,
          240000,
          310000,
          265000,
          240000,
          240000,
          255000,
          310000,
          235000,
          285000,
          240000,
          256000,
          170000,
          250000,
          200000,
          200000,
          280000,
          230000,
          245000,
          265000,
          230000,
          304000,
          275000,
          235000,
          240000,
          315000,
          260640,
          242500,
          345000,
          300000,
          265000,
          160000
         ],
         "xbins": {
          "size": 30000
         }
        }
       ],
       "layout": {
        "barmode": "overlay",
        "height": 400,
        "plot_bgcolor": "rgba(0,0,0,0)",
        "showlegend": true,
        "template": {
         "data": {
          "bar": [
           {
            "error_x": {
             "color": "#2a3f5f"
            },
            "error_y": {
             "color": "#2a3f5f"
            },
            "marker": {
             "line": {
              "color": "#E5ECF6",
              "width": 0.5
             }
            },
            "type": "bar"
           }
          ],
          "barpolar": [
           {
            "marker": {
             "line": {
              "color": "#E5ECF6",
              "width": 0.5
             }
            },
            "type": "barpolar"
           }
          ],
          "carpet": [
           {
            "aaxis": {
             "endlinecolor": "#2a3f5f",
             "gridcolor": "white",
             "linecolor": "white",
             "minorgridcolor": "white",
             "startlinecolor": "#2a3f5f"
            },
            "baxis": {
             "endlinecolor": "#2a3f5f",
             "gridcolor": "white",
             "linecolor": "white",
             "minorgridcolor": "white",
             "startlinecolor": "#2a3f5f"
            },
            "type": "carpet"
           }
          ],
          "choropleth": [
           {
            "colorbar": {
             "outlinewidth": 0,
             "ticks": ""
            },
            "type": "choropleth"
           }
          ],
          "contour": [
           {
            "colorbar": {
             "outlinewidth": 0,
             "ticks": ""
            },
            "colorscale": [
             [
              0,
              "#0d0887"
             ],
             [
              0.1111111111111111,
              "#46039f"
             ],
             [
              0.2222222222222222,
              "#7201a8"
             ],
             [
              0.3333333333333333,
              "#9c179e"
             ],
             [
              0.4444444444444444,
              "#bd3786"
             ],
             [
              0.5555555555555556,
              "#d8576b"
             ],
             [
              0.6666666666666666,
              "#ed7953"
             ],
             [
              0.7777777777777778,
              "#fb9f3a"
             ],
             [
              0.8888888888888888,
              "#fdca26"
             ],
             [
              1,
              "#f0f921"
             ]
            ],
            "type": "contour"
           }
          ],
          "contourcarpet": [
           {
            "colorbar": {
             "outlinewidth": 0,
             "ticks": ""
            },
            "type": "contourcarpet"
           }
          ],
          "heatmap": [
           {
            "colorbar": {
             "outlinewidth": 0,
             "ticks": ""
            },
            "colorscale": [
             [
              0,
              "#0d0887"
             ],
             [
              0.1111111111111111,
              "#46039f"
             ],
             [
              0.2222222222222222,
              "#7201a8"
             ],
             [
              0.3333333333333333,
              "#9c179e"
             ],
             [
              0.4444444444444444,
              "#bd3786"
             ],
             [
              0.5555555555555556,
              "#d8576b"
             ],
             [
              0.6666666666666666,
              "#ed7953"
             ],
             [
              0.7777777777777778,
              "#fb9f3a"
             ],
             [
              0.8888888888888888,
              "#fdca26"
             ],
             [
              1,
              "#f0f921"
             ]
            ],
            "type": "heatmap"
           }
          ],
          "heatmapgl": [
           {
            "colorbar": {
             "outlinewidth": 0,
             "ticks": ""
            },
            "colorscale": [
             [
              0,
              "#0d0887"
             ],
             [
              0.1111111111111111,
              "#46039f"
             ],
             [
              0.2222222222222222,
              "#7201a8"
             ],
             [
              0.3333333333333333,
              "#9c179e"
             ],
             [
              0.4444444444444444,
              "#bd3786"
             ],
             [
              0.5555555555555556,
              "#d8576b"
             ],
             [
              0.6666666666666666,
              "#ed7953"
             ],
             [
              0.7777777777777778,
              "#fb9f3a"
             ],
             [
              0.8888888888888888,
              "#fdca26"
             ],
             [
              1,
              "#f0f921"
             ]
            ],
            "type": "heatmapgl"
           }
          ],
          "histogram": [
           {
            "marker": {
             "colorbar": {
              "outlinewidth": 0,
              "ticks": ""
             }
            },
            "type": "histogram"
           }
          ],
          "histogram2d": [
           {
            "colorbar": {
             "outlinewidth": 0,
             "ticks": ""
            },
            "colorscale": [
             [
              0,
              "#0d0887"
             ],
             [
              0.1111111111111111,
              "#46039f"
             ],
             [
              0.2222222222222222,
              "#7201a8"
             ],
             [
              0.3333333333333333,
              "#9c179e"
             ],
             [
              0.4444444444444444,
              "#bd3786"
             ],
             [
              0.5555555555555556,
              "#d8576b"
             ],
             [
              0.6666666666666666,
              "#ed7953"
             ],
             [
              0.7777777777777778,
              "#fb9f3a"
             ],
             [
              0.8888888888888888,
              "#fdca26"
             ],
             [
              1,
              "#f0f921"
             ]
            ],
            "type": "histogram2d"
           }
          ],
          "histogram2dcontour": [
           {
            "colorbar": {
             "outlinewidth": 0,
             "ticks": ""
            },
            "colorscale": [
             [
              0,
              "#0d0887"
             ],
             [
              0.1111111111111111,
              "#46039f"
             ],
             [
              0.2222222222222222,
              "#7201a8"
             ],
             [
              0.3333333333333333,
              "#9c179e"
             ],
             [
              0.4444444444444444,
              "#bd3786"
             ],
             [
              0.5555555555555556,
              "#d8576b"
             ],
             [
              0.6666666666666666,
              "#ed7953"
             ],
             [
              0.7777777777777778,
              "#fb9f3a"
             ],
             [
              0.8888888888888888,
              "#fdca26"
             ],
             [
              1,
              "#f0f921"
             ]
            ],
            "type": "histogram2dcontour"
           }
          ],
          "mesh3d": [
           {
            "colorbar": {
             "outlinewidth": 0,
             "ticks": ""
            },
            "type": "mesh3d"
           }
          ],
          "parcoords": [
           {
            "line": {
             "colorbar": {
              "outlinewidth": 0,
              "ticks": ""
             }
            },
            "type": "parcoords"
           }
          ],
          "pie": [
           {
            "automargin": true,
            "type": "pie"
           }
          ],
          "scatter": [
           {
            "marker": {
             "colorbar": {
              "outlinewidth": 0,
              "ticks": ""
             }
            },
            "type": "scatter"
           }
          ],
          "scatter3d": [
           {
            "line": {
             "colorbar": {
              "outlinewidth": 0,
              "ticks": ""
             }
            },
            "marker": {
             "colorbar": {
              "outlinewidth": 0,
              "ticks": ""
             }
            },
            "type": "scatter3d"
           }
          ],
          "scattercarpet": [
           {
            "marker": {
             "colorbar": {
              "outlinewidth": 0,
              "ticks": ""
             }
            },
            "type": "scattercarpet"
           }
          ],
          "scattergeo": [
           {
            "marker": {
             "colorbar": {
              "outlinewidth": 0,
              "ticks": ""
             }
            },
            "type": "scattergeo"
           }
          ],
          "scattergl": [
           {
            "marker": {
             "colorbar": {
              "outlinewidth": 0,
              "ticks": ""
             }
            },
            "type": "scattergl"
           }
          ],
          "scattermapbox": [
           {
            "marker": {
             "colorbar": {
              "outlinewidth": 0,
              "ticks": ""
             }
            },
            "type": "scattermapbox"
           }
          ],
          "scatterpolar": [
           {
            "marker": {
             "colorbar": {
              "outlinewidth": 0,
              "ticks": ""
             }
            },
            "type": "scatterpolar"
           }
          ],
          "scatterpolargl": [
           {
            "marker": {
             "colorbar": {
              "outlinewidth": 0,
              "ticks": ""
             }
            },
            "type": "scatterpolargl"
           }
          ],
          "scatterternary": [
           {
            "marker": {
             "colorbar": {
              "outlinewidth": 0,
              "ticks": ""
             }
            },
            "type": "scatterternary"
           }
          ],
          "surface": [
           {
            "colorbar": {
             "outlinewidth": 0,
             "ticks": ""
            },
            "colorscale": [
             [
              0,
              "#0d0887"
             ],
             [
              0.1111111111111111,
              "#46039f"
             ],
             [
              0.2222222222222222,
              "#7201a8"
             ],
             [
              0.3333333333333333,
              "#9c179e"
             ],
             [
              0.4444444444444444,
              "#bd3786"
             ],
             [
              0.5555555555555556,
              "#d8576b"
             ],
             [
              0.6666666666666666,
              "#ed7953"
             ],
             [
              0.7777777777777778,
              "#fb9f3a"
             ],
             [
              0.8888888888888888,
              "#fdca26"
             ],
             [
              1,
              "#f0f921"
             ]
            ],
            "type": "surface"
           }
          ],
          "table": [
           {
            "cells": {
             "fill": {
              "color": "#EBF0F8"
             },
             "line": {
              "color": "white"
             }
            },
            "header": {
             "fill": {
              "color": "#C8D4E3"
             },
             "line": {
              "color": "white"
             }
            },
            "type": "table"
           }
          ]
         },
         "layout": {
          "annotationdefaults": {
           "arrowcolor": "#2a3f5f",
           "arrowhead": 0,
           "arrowwidth": 1
          },
          "coloraxis": {
           "colorbar": {
            "outlinewidth": 0,
            "ticks": ""
           }
          },
          "colorscale": {
           "diverging": [
            [
             0,
             "#8e0152"
            ],
            [
             0.1,
             "#c51b7d"
            ],
            [
             0.2,
             "#de77ae"
            ],
            [
             0.3,
             "#f1b6da"
            ],
            [
             0.4,
             "#fde0ef"
            ],
            [
             0.5,
             "#f7f7f7"
            ],
            [
             0.6,
             "#e6f5d0"
            ],
            [
             0.7,
             "#b8e186"
            ],
            [
             0.8,
             "#7fbc41"
            ],
            [
             0.9,
             "#4d9221"
            ],
            [
             1,
             "#276419"
            ]
           ],
           "sequential": [
            [
             0,
             "#0d0887"
            ],
            [
             0.1111111111111111,
             "#46039f"
            ],
            [
             0.2222222222222222,
             "#7201a8"
            ],
            [
             0.3333333333333333,
             "#9c179e"
            ],
            [
             0.4444444444444444,
             "#bd3786"
            ],
            [
             0.5555555555555556,
             "#d8576b"
            ],
            [
             0.6666666666666666,
             "#ed7953"
            ],
            [
             0.7777777777777778,
             "#fb9f3a"
            ],
            [
             0.8888888888888888,
             "#fdca26"
            ],
            [
             1,
             "#f0f921"
            ]
           ],
           "sequentialminus": [
            [
             0,
             "#0d0887"
            ],
            [
             0.1111111111111111,
             "#46039f"
            ],
            [
             0.2222222222222222,
             "#7201a8"
            ],
            [
             0.3333333333333333,
             "#9c179e"
            ],
            [
             0.4444444444444444,
             "#bd3786"
            ],
            [
             0.5555555555555556,
             "#d8576b"
            ],
            [
             0.6666666666666666,
             "#ed7953"
            ],
            [
             0.7777777777777778,
             "#fb9f3a"
            ],
            [
             0.8888888888888888,
             "#fdca26"
            ],
            [
             1,
             "#f0f921"
            ]
           ]
          },
          "colorway": [
           "#636efa",
           "#EF553B",
           "#00cc96",
           "#ab63fa",
           "#FFA15A",
           "#19d3f3",
           "#FF6692",
           "#B6E880",
           "#FF97FF",
           "#FECB52"
          ],
          "font": {
           "color": "#2a3f5f"
          },
          "geo": {
           "bgcolor": "white",
           "lakecolor": "white",
           "landcolor": "#E5ECF6",
           "showlakes": true,
           "showland": true,
           "subunitcolor": "white"
          },
          "hoverlabel": {
           "align": "left"
          },
          "hovermode": "closest",
          "mapbox": {
           "style": "light"
          },
          "paper_bgcolor": "white",
          "plot_bgcolor": "#E5ECF6",
          "polar": {
           "angularaxis": {
            "gridcolor": "white",
            "linecolor": "white",
            "ticks": ""
           },
           "bgcolor": "#E5ECF6",
           "radialaxis": {
            "gridcolor": "white",
            "linecolor": "white",
            "ticks": ""
           }
          },
          "scene": {
           "xaxis": {
            "backgroundcolor": "#E5ECF6",
            "gridcolor": "white",
            "gridwidth": 2,
            "linecolor": "white",
            "showbackground": true,
            "ticks": "",
            "zerolinecolor": "white"
           },
           "yaxis": {
            "backgroundcolor": "#E5ECF6",
            "gridcolor": "white",
            "gridwidth": 2,
            "linecolor": "white",
            "showbackground": true,
            "ticks": "",
            "zerolinecolor": "white"
           },
           "zaxis": {
            "backgroundcolor": "#E5ECF6",
            "gridcolor": "white",
            "gridwidth": 2,
            "linecolor": "white",
            "showbackground": true,
            "ticks": "",
            "zerolinecolor": "white"
           }
          },
          "shapedefaults": {
           "line": {
            "color": "#2a3f5f"
           }
          },
          "ternary": {
           "aaxis": {
            "gridcolor": "white",
            "linecolor": "white",
            "ticks": ""
           },
           "baxis": {
            "gridcolor": "white",
            "linecolor": "white",
            "ticks": ""
           },
           "bgcolor": "#E5ECF6",
           "caxis": {
            "gridcolor": "white",
            "linecolor": "white",
            "ticks": ""
           }
          },
          "title": {
           "x": 0.05
          },
          "xaxis": {
           "automargin": true,
           "gridcolor": "white",
           "linecolor": "white",
           "ticks": "",
           "title": {
            "standoff": 15
           },
           "zerolinecolor": "white",
           "zerolinewidth": 2
          },
          "yaxis": {
           "automargin": true,
           "gridcolor": "white",
           "linecolor": "white",
           "ticks": "",
           "title": {
            "standoff": 15
           },
           "zerolinecolor": "white",
           "zerolinewidth": 2
          }
         }
        },
        "title": {
         "text": "Price distribution of the sold houses"
        },
        "width": 600,
        "xaxis": {
         "gridcolor": "#EEEEEE",
         "nticks": 18,
         "tickfont": {
          "size": 10
         }
        },
        "yaxis": {
         "gridcolor": "#EEEEEE",
         "nticks": 18
        }
       }
      },
      "text/html": [
       "<div>\n",
       "        \n",
       "        \n",
       "            <div id=\"1a8839d1-cdcd-45ae-9291-21b96c26ba29\" class=\"plotly-graph-div\" style=\"height:400px; width:600px;\"></div>\n",
       "            <script type=\"text/javascript\">\n",
       "                require([\"plotly\"], function(Plotly) {\n",
       "                    window.PLOTLYENV=window.PLOTLYENV || {};\n",
       "                    \n",
       "                if (document.getElementById(\"1a8839d1-cdcd-45ae-9291-21b96c26ba29\")) {\n",
       "                    Plotly.newPlot(\n",
       "                        '1a8839d1-cdcd-45ae-9291-21b96c26ba29',\n",
       "                        [{\"name\": \"All houses\", \"opacity\": 0.8, \"type\": \"histogram\", \"x\": [230000.0, 205000.0, 220000.0, 324000.0, 259000.0, 361000.0, 315000.0, 260000.0, 326000.0, 220000.0, 319000.0, 255000.0, 105000.0, 280000.0, 290000.0, 255000.0, 200000.0, 225000.0, 234000.0, 260000.0, 110000.0, 302500.0, 110000.0, 210000.0, 242000.0, 255000.0, 245000.0, 265000.0, 228915.0, 352000.0, 215000.0, 225000.0, 210000.0, 242000.0, 149900.0, 140000.0, 285000.0, 243000.0, 169500.0, 335000.0, 285000.0, 293000.0, 260000.0, 230000.0, 195000.0, 160000.0, 170000.0, 295000.0, 225000.0, 70000.0, 203000.0, 218500.0, 175000.0, 215000.0, 262000.0, 240000.0, 158000.0, 170000.0, 262000.0, 225000.0, 200000.0, 180000.0, 170000.0, 200000.0, 300000.0, 100000.0, 218500.0, 220100.0, 185000.0, 214000.0, 265000.0, 185000.0, 220000.0, 250000.0, 150000.0, 210000.0, 175000.0, 165000.0, 255000.0, 190000.0, 233000.0, 215000.0, 220000.0, 216000.0, 150000.0, 155000.0, 183500.0, 115000.0, 180000.0, 172000.0, 179900.0, 152000.0, 244000.0, 131000.0, 250000.0, 275000.0, 381000.0, 135000.0, 197000.0, 167500.0, 224000.0, 258300.0, 205000.0, 153000.0, 160000.0, 180000.0, 190000.0, 160000.0, 184000.0, 220000.0, 227000.0, 176500.0, 224000.0, 250000.0, 224000.0, 155000.0, 190000.0, 159900.0, 154500.0, 300000.0, 160000.0, 200000.0, 178000.0, 140000.0, 150000.0, 210000.0, 136000.0, 135000.0, 210000.0, 124800.0, 125000.0, 195000.0, 150634.0, 150634.0, 150000.0, 175000.0, 302000.0, 152000.0, 190000.0, 116000.0, 302000.0, 176000.0, 135000.0, 220000.0, 170000.0, 145900.0, 203750.0, 130000.0, 215000.0, 180000.0, 304000.0, 370000.0, 405000.0, 316000.0, 305000.0, 340000.0, 316000.0, 352000.0, 340000.0, 340000.0, 350000.0, 340000.0, 305000.0, 222000.0, 222000.0, 260000.0, 308000.0, 259000.0, 285000.0, 250000.0, 275000.0, 240000.0, 310000.0, 265000.0, 240000.0, 240000.0, 255000.0, 310000.0, 235000.0, 285000.0, 240000.0, 256000.0, 170000.0, 250000.0, 255000.0, 200000.0, 200000.0, 280000.0, 230000.0, 255000.0, 245000.0, 265000.0, 215000.0, 195000.0, 189000.0, 190000.0, 175000.0, 151000.0, 270000.0, 96500.0, 90000.0, 210000.0, 115000.0, 180000.0, 108900.0, 255000.0, 198000.0, 138000.0, 315000.0, 207000.0, 119000.0, 220000.0, 180000.0, 200000.0, 140000.0, 165000.0, 185000.0, 340000.0, 155000.0, 230000.0, 304000.0, 275000.0, 235000.0, 240000.0, 315000.0, 260640.0, 242500.0, 345000.0, 300000.0, 265000.0, 160000.0], \"xbins\": {\"size\": 30000}}, {\"name\": \"Comps\", \"opacity\": 0.8, \"type\": \"histogram\", \"x\": [205000.0, 361000.0, 315000.0, 326000.0, 220000.0, 290000.0, 225000.0, 255000.0, 265000.0, 243000.0, 169500.0, 335000.0, 285000.0, 293000.0, 230000.0, 215000.0, 240000.0, 180000.0, 300000.0, 218500.0, 220100.0, 185000.0, 250000.0, 175000.0, 179900.0, 244000.0, 250000.0, 275000.0, 381000.0, 135000.0, 197000.0, 258300.0, 160000.0, 190000.0, 220000.0, 224000.0, 250000.0, 224000.0, 190000.0, 300000.0, 200000.0, 178000.0, 210000.0, 150000.0, 302000.0, 170000.0, 145900.0, 405000.0, 316000.0, 305000.0, 340000.0, 316000.0, 352000.0, 340000.0, 340000.0, 350000.0, 340000.0, 305000.0, 222000.0, 260000.0, 308000.0, 259000.0, 285000.0, 250000.0, 275000.0, 240000.0, 310000.0, 265000.0, 240000.0, 240000.0, 255000.0, 310000.0, 235000.0, 285000.0, 240000.0, 256000.0, 170000.0, 250000.0, 200000.0, 200000.0, 280000.0, 230000.0, 245000.0, 265000.0, 230000.0, 304000.0, 275000.0, 235000.0, 240000.0, 315000.0, 260640.0, 242500.0, 345000.0, 300000.0, 265000.0, 160000.0], \"xbins\": {\"size\": 30000}}],\n",
       "                        {\"barmode\": \"overlay\", \"height\": 400, \"plot_bgcolor\": \"rgba(0,0,0,0)\", \"showlegend\": true, \"template\": {\"data\": {\"bar\": [{\"error_x\": {\"color\": \"#2a3f5f\"}, \"error_y\": {\"color\": \"#2a3f5f\"}, \"marker\": {\"line\": {\"color\": \"#E5ECF6\", \"width\": 0.5}}, \"type\": \"bar\"}], \"barpolar\": [{\"marker\": {\"line\": {\"color\": \"#E5ECF6\", \"width\": 0.5}}, \"type\": \"barpolar\"}], \"carpet\": [{\"aaxis\": {\"endlinecolor\": \"#2a3f5f\", \"gridcolor\": \"white\", \"linecolor\": \"white\", \"minorgridcolor\": \"white\", \"startlinecolor\": \"#2a3f5f\"}, \"baxis\": {\"endlinecolor\": \"#2a3f5f\", \"gridcolor\": \"white\", \"linecolor\": \"white\", \"minorgridcolor\": \"white\", \"startlinecolor\": \"#2a3f5f\"}, \"type\": \"carpet\"}], \"choropleth\": [{\"colorbar\": {\"outlinewidth\": 0, \"ticks\": \"\"}, \"type\": \"choropleth\"}], \"contour\": [{\"colorbar\": {\"outlinewidth\": 0, \"ticks\": \"\"}, \"colorscale\": [[0.0, \"#0d0887\"], [0.1111111111111111, \"#46039f\"], [0.2222222222222222, \"#7201a8\"], [0.3333333333333333, \"#9c179e\"], [0.4444444444444444, \"#bd3786\"], [0.5555555555555556, \"#d8576b\"], [0.6666666666666666, \"#ed7953\"], [0.7777777777777778, \"#fb9f3a\"], [0.8888888888888888, \"#fdca26\"], [1.0, \"#f0f921\"]], \"type\": \"contour\"}], \"contourcarpet\": [{\"colorbar\": {\"outlinewidth\": 0, \"ticks\": \"\"}, \"type\": \"contourcarpet\"}], \"heatmap\": [{\"colorbar\": {\"outlinewidth\": 0, \"ticks\": \"\"}, \"colorscale\": [[0.0, \"#0d0887\"], [0.1111111111111111, \"#46039f\"], [0.2222222222222222, \"#7201a8\"], [0.3333333333333333, \"#9c179e\"], [0.4444444444444444, \"#bd3786\"], [0.5555555555555556, \"#d8576b\"], [0.6666666666666666, \"#ed7953\"], [0.7777777777777778, \"#fb9f3a\"], [0.8888888888888888, \"#fdca26\"], [1.0, \"#f0f921\"]], \"type\": \"heatmap\"}], \"heatmapgl\": [{\"colorbar\": {\"outlinewidth\": 0, \"ticks\": \"\"}, \"colorscale\": [[0.0, \"#0d0887\"], [0.1111111111111111, \"#46039f\"], [0.2222222222222222, \"#7201a8\"], [0.3333333333333333, \"#9c179e\"], [0.4444444444444444, \"#bd3786\"], [0.5555555555555556, \"#d8576b\"], [0.6666666666666666, \"#ed7953\"], [0.7777777777777778, \"#fb9f3a\"], [0.8888888888888888, \"#fdca26\"], [1.0, \"#f0f921\"]], \"type\": \"heatmapgl\"}], \"histogram\": [{\"marker\": {\"colorbar\": {\"outlinewidth\": 0, \"ticks\": \"\"}}, \"type\": \"histogram\"}], \"histogram2d\": [{\"colorbar\": {\"outlinewidth\": 0, \"ticks\": \"\"}, \"colorscale\": [[0.0, \"#0d0887\"], [0.1111111111111111, \"#46039f\"], [0.2222222222222222, \"#7201a8\"], [0.3333333333333333, \"#9c179e\"], [0.4444444444444444, \"#bd3786\"], [0.5555555555555556, \"#d8576b\"], [0.6666666666666666, \"#ed7953\"], [0.7777777777777778, \"#fb9f3a\"], [0.8888888888888888, \"#fdca26\"], [1.0, \"#f0f921\"]], \"type\": \"histogram2d\"}], \"histogram2dcontour\": [{\"colorbar\": {\"outlinewidth\": 0, \"ticks\": \"\"}, \"colorscale\": [[0.0, \"#0d0887\"], [0.1111111111111111, \"#46039f\"], [0.2222222222222222, \"#7201a8\"], [0.3333333333333333, \"#9c179e\"], [0.4444444444444444, \"#bd3786\"], [0.5555555555555556, \"#d8576b\"], [0.6666666666666666, \"#ed7953\"], [0.7777777777777778, \"#fb9f3a\"], [0.8888888888888888, \"#fdca26\"], [1.0, \"#f0f921\"]], \"type\": \"histogram2dcontour\"}], \"mesh3d\": [{\"colorbar\": {\"outlinewidth\": 0, \"ticks\": \"\"}, \"type\": \"mesh3d\"}], \"parcoords\": [{\"line\": {\"colorbar\": {\"outlinewidth\": 0, \"ticks\": \"\"}}, \"type\": \"parcoords\"}], \"pie\": [{\"automargin\": true, \"type\": \"pie\"}], \"scatter\": [{\"marker\": {\"colorbar\": {\"outlinewidth\": 0, \"ticks\": \"\"}}, \"type\": \"scatter\"}], \"scatter3d\": [{\"line\": {\"colorbar\": {\"outlinewidth\": 0, \"ticks\": \"\"}}, \"marker\": {\"colorbar\": {\"outlinewidth\": 0, \"ticks\": \"\"}}, \"type\": \"scatter3d\"}], \"scattercarpet\": [{\"marker\": {\"colorbar\": {\"outlinewidth\": 0, \"ticks\": \"\"}}, \"type\": \"scattercarpet\"}], \"scattergeo\": [{\"marker\": {\"colorbar\": {\"outlinewidth\": 0, \"ticks\": \"\"}}, \"type\": \"scattergeo\"}], \"scattergl\": [{\"marker\": {\"colorbar\": {\"outlinewidth\": 0, \"ticks\": \"\"}}, \"type\": \"scattergl\"}], \"scattermapbox\": [{\"marker\": {\"colorbar\": {\"outlinewidth\": 0, \"ticks\": \"\"}}, \"type\": \"scattermapbox\"}], \"scatterpolar\": [{\"marker\": {\"colorbar\": {\"outlinewidth\": 0, \"ticks\": \"\"}}, \"type\": \"scatterpolar\"}], \"scatterpolargl\": [{\"marker\": {\"colorbar\": {\"outlinewidth\": 0, \"ticks\": \"\"}}, \"type\": \"scatterpolargl\"}], \"scatterternary\": [{\"marker\": {\"colorbar\": {\"outlinewidth\": 0, \"ticks\": \"\"}}, \"type\": \"scatterternary\"}], \"surface\": [{\"colorbar\": {\"outlinewidth\": 0, \"ticks\": \"\"}, \"colorscale\": [[0.0, \"#0d0887\"], [0.1111111111111111, \"#46039f\"], [0.2222222222222222, \"#7201a8\"], [0.3333333333333333, \"#9c179e\"], [0.4444444444444444, \"#bd3786\"], [0.5555555555555556, \"#d8576b\"], [0.6666666666666666, \"#ed7953\"], [0.7777777777777778, \"#fb9f3a\"], [0.8888888888888888, \"#fdca26\"], [1.0, \"#f0f921\"]], \"type\": \"surface\"}], \"table\": [{\"cells\": {\"fill\": {\"color\": \"#EBF0F8\"}, \"line\": {\"color\": \"white\"}}, \"header\": {\"fill\": {\"color\": \"#C8D4E3\"}, \"line\": {\"color\": \"white\"}}, \"type\": \"table\"}]}, \"layout\": {\"annotationdefaults\": {\"arrowcolor\": \"#2a3f5f\", \"arrowhead\": 0, \"arrowwidth\": 1}, \"coloraxis\": {\"colorbar\": {\"outlinewidth\": 0, \"ticks\": \"\"}}, \"colorscale\": {\"diverging\": [[0, \"#8e0152\"], [0.1, \"#c51b7d\"], [0.2, \"#de77ae\"], [0.3, \"#f1b6da\"], [0.4, \"#fde0ef\"], [0.5, \"#f7f7f7\"], [0.6, \"#e6f5d0\"], [0.7, \"#b8e186\"], [0.8, \"#7fbc41\"], [0.9, \"#4d9221\"], [1, \"#276419\"]], \"sequential\": [[0.0, \"#0d0887\"], [0.1111111111111111, \"#46039f\"], [0.2222222222222222, \"#7201a8\"], [0.3333333333333333, \"#9c179e\"], [0.4444444444444444, \"#bd3786\"], [0.5555555555555556, \"#d8576b\"], [0.6666666666666666, \"#ed7953\"], [0.7777777777777778, \"#fb9f3a\"], [0.8888888888888888, \"#fdca26\"], [1.0, \"#f0f921\"]], \"sequentialminus\": [[0.0, \"#0d0887\"], [0.1111111111111111, \"#46039f\"], [0.2222222222222222, \"#7201a8\"], [0.3333333333333333, \"#9c179e\"], [0.4444444444444444, \"#bd3786\"], [0.5555555555555556, \"#d8576b\"], [0.6666666666666666, \"#ed7953\"], [0.7777777777777778, \"#fb9f3a\"], [0.8888888888888888, \"#fdca26\"], [1.0, \"#f0f921\"]]}, \"colorway\": [\"#636efa\", \"#EF553B\", \"#00cc96\", \"#ab63fa\", \"#FFA15A\", \"#19d3f3\", \"#FF6692\", \"#B6E880\", \"#FF97FF\", \"#FECB52\"], \"font\": {\"color\": \"#2a3f5f\"}, \"geo\": {\"bgcolor\": \"white\", \"lakecolor\": \"white\", \"landcolor\": \"#E5ECF6\", \"showlakes\": true, \"showland\": true, \"subunitcolor\": \"white\"}, \"hoverlabel\": {\"align\": \"left\"}, \"hovermode\": \"closest\", \"mapbox\": {\"style\": \"light\"}, \"paper_bgcolor\": \"white\", \"plot_bgcolor\": \"#E5ECF6\", \"polar\": {\"angularaxis\": {\"gridcolor\": \"white\", \"linecolor\": \"white\", \"ticks\": \"\"}, \"bgcolor\": \"#E5ECF6\", \"radialaxis\": {\"gridcolor\": \"white\", \"linecolor\": \"white\", \"ticks\": \"\"}}, \"scene\": {\"xaxis\": {\"backgroundcolor\": \"#E5ECF6\", \"gridcolor\": \"white\", \"gridwidth\": 2, \"linecolor\": \"white\", \"showbackground\": true, \"ticks\": \"\", \"zerolinecolor\": \"white\"}, \"yaxis\": {\"backgroundcolor\": \"#E5ECF6\", \"gridcolor\": \"white\", \"gridwidth\": 2, \"linecolor\": \"white\", \"showbackground\": true, \"ticks\": \"\", \"zerolinecolor\": \"white\"}, \"zaxis\": {\"backgroundcolor\": \"#E5ECF6\", \"gridcolor\": \"white\", \"gridwidth\": 2, \"linecolor\": \"white\", \"showbackground\": true, \"ticks\": \"\", \"zerolinecolor\": \"white\"}}, \"shapedefaults\": {\"line\": {\"color\": \"#2a3f5f\"}}, \"ternary\": {\"aaxis\": {\"gridcolor\": \"white\", \"linecolor\": \"white\", \"ticks\": \"\"}, \"baxis\": {\"gridcolor\": \"white\", \"linecolor\": \"white\", \"ticks\": \"\"}, \"bgcolor\": \"#E5ECF6\", \"caxis\": {\"gridcolor\": \"white\", \"linecolor\": \"white\", \"ticks\": \"\"}}, \"title\": {\"x\": 0.05}, \"xaxis\": {\"automargin\": true, \"gridcolor\": \"white\", \"linecolor\": \"white\", \"ticks\": \"\", \"title\": {\"standoff\": 15}, \"zerolinecolor\": \"white\", \"zerolinewidth\": 2}, \"yaxis\": {\"automargin\": true, \"gridcolor\": \"white\", \"linecolor\": \"white\", \"ticks\": \"\", \"title\": {\"standoff\": 15}, \"zerolinecolor\": \"white\", \"zerolinewidth\": 2}}}, \"title\": {\"text\": \"Price distribution of the sold houses\"}, \"width\": 600, \"xaxis\": {\"gridcolor\": \"#EEEEEE\", \"nticks\": 18, \"tickfont\": {\"size\": 10}}, \"yaxis\": {\"gridcolor\": \"#EEEEEE\", \"nticks\": 18}},\n",
       "                        {\"responsive\": true}\n",
       "                    ).then(function(){\n",
       "                            \n",
       "var gd = document.getElementById('1a8839d1-cdcd-45ae-9291-21b96c26ba29');\n",
       "var x = new MutationObserver(function (mutations, observer) {{\n",
       "        var display = window.getComputedStyle(gd).display;\n",
       "        if (!display || display === 'none') {{\n",
       "            console.log([gd, 'removed!']);\n",
       "            Plotly.purge(gd);\n",
       "            observer.disconnect();\n",
       "        }}\n",
       "}});\n",
       "\n",
       "// Listen for the removal of the full notebook cells\n",
       "var notebookContainer = gd.closest('#notebook-container');\n",
       "if (notebookContainer) {{\n",
       "    x.observe(notebookContainer, {childList: true});\n",
       "}}\n",
       "\n",
       "// Listen for the clearing of the current output cell\n",
       "var outputEl = gd.closest('.output');\n",
       "if (outputEl) {{\n",
       "    x.observe(outputEl, {childList: true});\n",
       "}}\n",
       "\n",
       "                        })\n",
       "                };\n",
       "                });\n",
       "            </script>\n",
       "        </div>"
      ]
     },
     "metadata": {},
     "output_type": "display_data"
    }
   ],
   "source": [
    "fig = go.Figure()\n",
    "fig.add_trace(go.Histogram(x=del_mar_full['Sale price'], xbins_size=30000,  name='All houses'))\n",
    "fig.add_trace(go.Histogram(x=comps['Sale price'], xbins_size=30000, name='Comps'))\n",
    "\n",
    "fig.update_layout(title_text='Price distribution of the sold houses',\n",
    "                  width=600, height=400, plot_bgcolor='rgba(0,0,0,0)', showlegend=True,\n",
    "                  yaxis=dict(gridcolor='#EEEEEE', nticks=18),\n",
    "                  xaxis=dict(gridcolor='#EEEEEE', nticks=18,\n",
    "                             tickfont=dict(size=10)))\n",
    "fig.update_layout(barmode='overlay')\n",
    "fig.update_traces(opacity=0.8)\n",
    "fig.show()"
   ]
  },
  {
   "cell_type": "code",
   "execution_count": 15,
   "metadata": {},
   "outputs": [
    {
     "data": {
      "application/vnd.plotly.v1+json": {
       "config": {
        "plotlyServerURL": "https://plot.ly"
       },
       "data": [
        {
         "name": "All houses",
         "opacity": 0.8,
         "type": "histogram",
         "x": [
          2028,
          1030,
          1884,
          1990,
          2542,
          2647,
          1293,
          2275,
          2028,
          1395,
          1196,
          1332,
          1360,
          2436,
          1196,
          1544,
          2165,
          1235,
          1259,
          968,
          1902,
          968,
          1037,
          1790,
          2633,
          2450,
          1698,
          1708,
          906,
          1314,
          2572,
          2713,
          4595,
          2625,
          2057,
          1282,
          2418,
          1938,
          1369,
          1530,
          1967,
          1265,
          1504,
          1337,
          1019,
          1124,
          2065,
          1739,
          2512,
          1010,
          998,
          1739,
          1532,
          1105,
          2045,
          1744,
          1857,
          4046,
          1343,
          2562,
          2561,
          1992,
          1260,
          1960,
          2675,
          1926,
          2021,
          1576,
          1247,
          2442,
          1171,
          1609,
          1608,
          1410,
          1019,
          1801,
          1462,
          1967,
          1842,
          1070,
          1430,
          1064,
          1250,
          2438,
          1738,
          2130,
          995,
          2545,
          2248,
          3427,
          2264,
          2810,
          1397,
          1600,
          2225,
          1338,
          1009,
          2368,
          1568,
          3267,
          1551,
          2193,
          1918,
          1231,
          2075,
          2392,
          2075,
          1236,
          2524,
          1360,
          1500,
          2200,
          1538,
          2087,
          2159,
          964,
          1735,
          3129,
          1616,
          1545,
          1591,
          1211,
          936,
          1760,
          1315,
          1315,
          2108,
          1821,
          2014,
          1186,
          2651,
          1291,
          1299,
          2001,
          2286,
          1466,
          1090,
          1614,
          1397,
          2648,
          2674,
          2540,
          2540,
          2540,
          2540,
          2678,
          2678,
          2548,
          2678,
          2563,
          2593,
          2593,
          2528,
          2447,
          2570,
          2447,
          2518,
          2447,
          2533,
          2540,
          2540,
          2769,
          2540,
          2528,
          2614,
          2514,
          2460,
          2456,
          2461,
          2539,
          2444,
          2445,
          2430,
          2470,
          2414,
          2605,
          2539,
          1557,
          1154,
          1154,
          1154,
          1154,
          1806,
          1154,
          1003,
          1003,
          1408,
          1003,
          1480,
          1279,
          1480,
          1944,
          1480,
          1156,
          1114,
          1156,
          1279,
          1113,
          1953,
          1720.5,
          2795,
          2654,
          2650,
          2603,
          2784,
          2700,
          2555,
          2457,
          2539,
          2589,
          2562,
          2511
         ],
         "xbins": {
          "size": 150
         }
        },
        {
         "name": "Comps",
         "opacity": 0.8,
         "type": "histogram",
         "x": [
          2028,
          2542,
          2647,
          2275,
          2028,
          2436,
          2165,
          2633,
          2450,
          2572,
          2713,
          4595,
          2625,
          2057,
          2418,
          2065,
          2512,
          2045,
          4046,
          2562,
          2561,
          2675,
          2021,
          2442,
          2438,
          2130,
          2545,
          2248,
          3427,
          2264,
          2810,
          2225,
          2368,
          3267,
          2193,
          2075,
          2392,
          2075,
          2524,
          2200,
          2087,
          2159,
          3129,
          2108,
          2014,
          2001,
          2286,
          2648,
          2674,
          2540,
          2540,
          2540,
          2540,
          2678,
          2678,
          2548,
          2678,
          2563,
          2593,
          2528,
          2447,
          2570,
          2447,
          2518,
          2447,
          2533,
          2540,
          2540,
          2769,
          2540,
          2528,
          2614,
          2514,
          2460,
          2456,
          2461,
          2539,
          2444,
          2445,
          2430,
          2470,
          2414,
          2605,
          2539,
          2795,
          2654,
          2650,
          2603,
          2784,
          2700,
          2555,
          2457,
          2539,
          2589,
          2562,
          2511
         ],
         "xbins": {
          "size": 150
         }
        }
       ],
       "layout": {
        "barmode": "overlay",
        "height": 400,
        "plot_bgcolor": "rgba(0,0,0,0)",
        "showlegend": true,
        "template": {
         "data": {
          "bar": [
           {
            "error_x": {
             "color": "#2a3f5f"
            },
            "error_y": {
             "color": "#2a3f5f"
            },
            "marker": {
             "line": {
              "color": "#E5ECF6",
              "width": 0.5
             }
            },
            "type": "bar"
           }
          ],
          "barpolar": [
           {
            "marker": {
             "line": {
              "color": "#E5ECF6",
              "width": 0.5
             }
            },
            "type": "barpolar"
           }
          ],
          "carpet": [
           {
            "aaxis": {
             "endlinecolor": "#2a3f5f",
             "gridcolor": "white",
             "linecolor": "white",
             "minorgridcolor": "white",
             "startlinecolor": "#2a3f5f"
            },
            "baxis": {
             "endlinecolor": "#2a3f5f",
             "gridcolor": "white",
             "linecolor": "white",
             "minorgridcolor": "white",
             "startlinecolor": "#2a3f5f"
            },
            "type": "carpet"
           }
          ],
          "choropleth": [
           {
            "colorbar": {
             "outlinewidth": 0,
             "ticks": ""
            },
            "type": "choropleth"
           }
          ],
          "contour": [
           {
            "colorbar": {
             "outlinewidth": 0,
             "ticks": ""
            },
            "colorscale": [
             [
              0,
              "#0d0887"
             ],
             [
              0.1111111111111111,
              "#46039f"
             ],
             [
              0.2222222222222222,
              "#7201a8"
             ],
             [
              0.3333333333333333,
              "#9c179e"
             ],
             [
              0.4444444444444444,
              "#bd3786"
             ],
             [
              0.5555555555555556,
              "#d8576b"
             ],
             [
              0.6666666666666666,
              "#ed7953"
             ],
             [
              0.7777777777777778,
              "#fb9f3a"
             ],
             [
              0.8888888888888888,
              "#fdca26"
             ],
             [
              1,
              "#f0f921"
             ]
            ],
            "type": "contour"
           }
          ],
          "contourcarpet": [
           {
            "colorbar": {
             "outlinewidth": 0,
             "ticks": ""
            },
            "type": "contourcarpet"
           }
          ],
          "heatmap": [
           {
            "colorbar": {
             "outlinewidth": 0,
             "ticks": ""
            },
            "colorscale": [
             [
              0,
              "#0d0887"
             ],
             [
              0.1111111111111111,
              "#46039f"
             ],
             [
              0.2222222222222222,
              "#7201a8"
             ],
             [
              0.3333333333333333,
              "#9c179e"
             ],
             [
              0.4444444444444444,
              "#bd3786"
             ],
             [
              0.5555555555555556,
              "#d8576b"
             ],
             [
              0.6666666666666666,
              "#ed7953"
             ],
             [
              0.7777777777777778,
              "#fb9f3a"
             ],
             [
              0.8888888888888888,
              "#fdca26"
             ],
             [
              1,
              "#f0f921"
             ]
            ],
            "type": "heatmap"
           }
          ],
          "heatmapgl": [
           {
            "colorbar": {
             "outlinewidth": 0,
             "ticks": ""
            },
            "colorscale": [
             [
              0,
              "#0d0887"
             ],
             [
              0.1111111111111111,
              "#46039f"
             ],
             [
              0.2222222222222222,
              "#7201a8"
             ],
             [
              0.3333333333333333,
              "#9c179e"
             ],
             [
              0.4444444444444444,
              "#bd3786"
             ],
             [
              0.5555555555555556,
              "#d8576b"
             ],
             [
              0.6666666666666666,
              "#ed7953"
             ],
             [
              0.7777777777777778,
              "#fb9f3a"
             ],
             [
              0.8888888888888888,
              "#fdca26"
             ],
             [
              1,
              "#f0f921"
             ]
            ],
            "type": "heatmapgl"
           }
          ],
          "histogram": [
           {
            "marker": {
             "colorbar": {
              "outlinewidth": 0,
              "ticks": ""
             }
            },
            "type": "histogram"
           }
          ],
          "histogram2d": [
           {
            "colorbar": {
             "outlinewidth": 0,
             "ticks": ""
            },
            "colorscale": [
             [
              0,
              "#0d0887"
             ],
             [
              0.1111111111111111,
              "#46039f"
             ],
             [
              0.2222222222222222,
              "#7201a8"
             ],
             [
              0.3333333333333333,
              "#9c179e"
             ],
             [
              0.4444444444444444,
              "#bd3786"
             ],
             [
              0.5555555555555556,
              "#d8576b"
             ],
             [
              0.6666666666666666,
              "#ed7953"
             ],
             [
              0.7777777777777778,
              "#fb9f3a"
             ],
             [
              0.8888888888888888,
              "#fdca26"
             ],
             [
              1,
              "#f0f921"
             ]
            ],
            "type": "histogram2d"
           }
          ],
          "histogram2dcontour": [
           {
            "colorbar": {
             "outlinewidth": 0,
             "ticks": ""
            },
            "colorscale": [
             [
              0,
              "#0d0887"
             ],
             [
              0.1111111111111111,
              "#46039f"
             ],
             [
              0.2222222222222222,
              "#7201a8"
             ],
             [
              0.3333333333333333,
              "#9c179e"
             ],
             [
              0.4444444444444444,
              "#bd3786"
             ],
             [
              0.5555555555555556,
              "#d8576b"
             ],
             [
              0.6666666666666666,
              "#ed7953"
             ],
             [
              0.7777777777777778,
              "#fb9f3a"
             ],
             [
              0.8888888888888888,
              "#fdca26"
             ],
             [
              1,
              "#f0f921"
             ]
            ],
            "type": "histogram2dcontour"
           }
          ],
          "mesh3d": [
           {
            "colorbar": {
             "outlinewidth": 0,
             "ticks": ""
            },
            "type": "mesh3d"
           }
          ],
          "parcoords": [
           {
            "line": {
             "colorbar": {
              "outlinewidth": 0,
              "ticks": ""
             }
            },
            "type": "parcoords"
           }
          ],
          "pie": [
           {
            "automargin": true,
            "type": "pie"
           }
          ],
          "scatter": [
           {
            "marker": {
             "colorbar": {
              "outlinewidth": 0,
              "ticks": ""
             }
            },
            "type": "scatter"
           }
          ],
          "scatter3d": [
           {
            "line": {
             "colorbar": {
              "outlinewidth": 0,
              "ticks": ""
             }
            },
            "marker": {
             "colorbar": {
              "outlinewidth": 0,
              "ticks": ""
             }
            },
            "type": "scatter3d"
           }
          ],
          "scattercarpet": [
           {
            "marker": {
             "colorbar": {
              "outlinewidth": 0,
              "ticks": ""
             }
            },
            "type": "scattercarpet"
           }
          ],
          "scattergeo": [
           {
            "marker": {
             "colorbar": {
              "outlinewidth": 0,
              "ticks": ""
             }
            },
            "type": "scattergeo"
           }
          ],
          "scattergl": [
           {
            "marker": {
             "colorbar": {
              "outlinewidth": 0,
              "ticks": ""
             }
            },
            "type": "scattergl"
           }
          ],
          "scattermapbox": [
           {
            "marker": {
             "colorbar": {
              "outlinewidth": 0,
              "ticks": ""
             }
            },
            "type": "scattermapbox"
           }
          ],
          "scatterpolar": [
           {
            "marker": {
             "colorbar": {
              "outlinewidth": 0,
              "ticks": ""
             }
            },
            "type": "scatterpolar"
           }
          ],
          "scatterpolargl": [
           {
            "marker": {
             "colorbar": {
              "outlinewidth": 0,
              "ticks": ""
             }
            },
            "type": "scatterpolargl"
           }
          ],
          "scatterternary": [
           {
            "marker": {
             "colorbar": {
              "outlinewidth": 0,
              "ticks": ""
             }
            },
            "type": "scatterternary"
           }
          ],
          "surface": [
           {
            "colorbar": {
             "outlinewidth": 0,
             "ticks": ""
            },
            "colorscale": [
             [
              0,
              "#0d0887"
             ],
             [
              0.1111111111111111,
              "#46039f"
             ],
             [
              0.2222222222222222,
              "#7201a8"
             ],
             [
              0.3333333333333333,
              "#9c179e"
             ],
             [
              0.4444444444444444,
              "#bd3786"
             ],
             [
              0.5555555555555556,
              "#d8576b"
             ],
             [
              0.6666666666666666,
              "#ed7953"
             ],
             [
              0.7777777777777778,
              "#fb9f3a"
             ],
             [
              0.8888888888888888,
              "#fdca26"
             ],
             [
              1,
              "#f0f921"
             ]
            ],
            "type": "surface"
           }
          ],
          "table": [
           {
            "cells": {
             "fill": {
              "color": "#EBF0F8"
             },
             "line": {
              "color": "white"
             }
            },
            "header": {
             "fill": {
              "color": "#C8D4E3"
             },
             "line": {
              "color": "white"
             }
            },
            "type": "table"
           }
          ]
         },
         "layout": {
          "annotationdefaults": {
           "arrowcolor": "#2a3f5f",
           "arrowhead": 0,
           "arrowwidth": 1
          },
          "coloraxis": {
           "colorbar": {
            "outlinewidth": 0,
            "ticks": ""
           }
          },
          "colorscale": {
           "diverging": [
            [
             0,
             "#8e0152"
            ],
            [
             0.1,
             "#c51b7d"
            ],
            [
             0.2,
             "#de77ae"
            ],
            [
             0.3,
             "#f1b6da"
            ],
            [
             0.4,
             "#fde0ef"
            ],
            [
             0.5,
             "#f7f7f7"
            ],
            [
             0.6,
             "#e6f5d0"
            ],
            [
             0.7,
             "#b8e186"
            ],
            [
             0.8,
             "#7fbc41"
            ],
            [
             0.9,
             "#4d9221"
            ],
            [
             1,
             "#276419"
            ]
           ],
           "sequential": [
            [
             0,
             "#0d0887"
            ],
            [
             0.1111111111111111,
             "#46039f"
            ],
            [
             0.2222222222222222,
             "#7201a8"
            ],
            [
             0.3333333333333333,
             "#9c179e"
            ],
            [
             0.4444444444444444,
             "#bd3786"
            ],
            [
             0.5555555555555556,
             "#d8576b"
            ],
            [
             0.6666666666666666,
             "#ed7953"
            ],
            [
             0.7777777777777778,
             "#fb9f3a"
            ],
            [
             0.8888888888888888,
             "#fdca26"
            ],
            [
             1,
             "#f0f921"
            ]
           ],
           "sequentialminus": [
            [
             0,
             "#0d0887"
            ],
            [
             0.1111111111111111,
             "#46039f"
            ],
            [
             0.2222222222222222,
             "#7201a8"
            ],
            [
             0.3333333333333333,
             "#9c179e"
            ],
            [
             0.4444444444444444,
             "#bd3786"
            ],
            [
             0.5555555555555556,
             "#d8576b"
            ],
            [
             0.6666666666666666,
             "#ed7953"
            ],
            [
             0.7777777777777778,
             "#fb9f3a"
            ],
            [
             0.8888888888888888,
             "#fdca26"
            ],
            [
             1,
             "#f0f921"
            ]
           ]
          },
          "colorway": [
           "#636efa",
           "#EF553B",
           "#00cc96",
           "#ab63fa",
           "#FFA15A",
           "#19d3f3",
           "#FF6692",
           "#B6E880",
           "#FF97FF",
           "#FECB52"
          ],
          "font": {
           "color": "#2a3f5f"
          },
          "geo": {
           "bgcolor": "white",
           "lakecolor": "white",
           "landcolor": "#E5ECF6",
           "showlakes": true,
           "showland": true,
           "subunitcolor": "white"
          },
          "hoverlabel": {
           "align": "left"
          },
          "hovermode": "closest",
          "mapbox": {
           "style": "light"
          },
          "paper_bgcolor": "white",
          "plot_bgcolor": "#E5ECF6",
          "polar": {
           "angularaxis": {
            "gridcolor": "white",
            "linecolor": "white",
            "ticks": ""
           },
           "bgcolor": "#E5ECF6",
           "radialaxis": {
            "gridcolor": "white",
            "linecolor": "white",
            "ticks": ""
           }
          },
          "scene": {
           "xaxis": {
            "backgroundcolor": "#E5ECF6",
            "gridcolor": "white",
            "gridwidth": 2,
            "linecolor": "white",
            "showbackground": true,
            "ticks": "",
            "zerolinecolor": "white"
           },
           "yaxis": {
            "backgroundcolor": "#E5ECF6",
            "gridcolor": "white",
            "gridwidth": 2,
            "linecolor": "white",
            "showbackground": true,
            "ticks": "",
            "zerolinecolor": "white"
           },
           "zaxis": {
            "backgroundcolor": "#E5ECF6",
            "gridcolor": "white",
            "gridwidth": 2,
            "linecolor": "white",
            "showbackground": true,
            "ticks": "",
            "zerolinecolor": "white"
           }
          },
          "shapedefaults": {
           "line": {
            "color": "#2a3f5f"
           }
          },
          "ternary": {
           "aaxis": {
            "gridcolor": "white",
            "linecolor": "white",
            "ticks": ""
           },
           "baxis": {
            "gridcolor": "white",
            "linecolor": "white",
            "ticks": ""
           },
           "bgcolor": "#E5ECF6",
           "caxis": {
            "gridcolor": "white",
            "linecolor": "white",
            "ticks": ""
           }
          },
          "title": {
           "x": 0.05
          },
          "xaxis": {
           "automargin": true,
           "gridcolor": "white",
           "linecolor": "white",
           "ticks": "",
           "title": {
            "standoff": 15
           },
           "zerolinecolor": "white",
           "zerolinewidth": 2
          },
          "yaxis": {
           "automargin": true,
           "gridcolor": "white",
           "linecolor": "white",
           "ticks": "",
           "title": {
            "standoff": 15
           },
           "zerolinecolor": "white",
           "zerolinewidth": 2
          }
         }
        },
        "title": {
         "text": "GLA distribution of the sold houses"
        },
        "width": 600,
        "xaxis": {
         "gridcolor": "#EEEEEE",
         "nticks": 18,
         "tickfont": {
          "size": 10
         }
        },
        "yaxis": {
         "gridcolor": "#EEEEEE",
         "nticks": 10
        }
       }
      },
      "text/html": [
       "<div>\n",
       "        \n",
       "        \n",
       "            <div id=\"d6a4d72c-76fe-4074-90a8-979e701b7d37\" class=\"plotly-graph-div\" style=\"height:400px; width:600px;\"></div>\n",
       "            <script type=\"text/javascript\">\n",
       "                require([\"plotly\"], function(Plotly) {\n",
       "                    window.PLOTLYENV=window.PLOTLYENV || {};\n",
       "                    \n",
       "                if (document.getElementById(\"d6a4d72c-76fe-4074-90a8-979e701b7d37\")) {\n",
       "                    Plotly.newPlot(\n",
       "                        'd6a4d72c-76fe-4074-90a8-979e701b7d37',\n",
       "                        [{\"name\": \"All houses\", \"opacity\": 0.8, \"type\": \"histogram\", \"x\": [2028.0, 1030.0, 1884.0, 1990.0, 2542.0, 2647.0, 1293.0, 2275.0, 2028.0, 1395.0, 1196.0, 1332.0, 1360.0, 2436.0, 1196.0, 1544.0, 2165.0, 1235.0, 1259.0, 968.0, 1902.0, 968.0, 1037.0, 1790.0, 2633.0, 2450.0, 1698.0, 1708.0, 906.0, 1314.0, 2572.0, 2713.0, 4595.0, 2625.0, 2057.0, 1282.0, 2418.0, 1938.0, 1369.0, 1530.0, 1967.0, 1265.0, 1504.0, 1337.0, 1019.0, 1124.0, 2065.0, 1739.0, 2512.0, 1010.0, 998.0, 1739.0, 1532.0, 1105.0, 2045.0, 1744.0, 1857.0, 4046.0, 1343.0, 2562.0, 2561.0, 1992.0, 1260.0, 1960.0, 2675.0, 1926.0, 2021.0, 1576.0, 1247.0, 2442.0, 1171.0, 1609.0, 1608.0, 1410.0, 1019.0, 1801.0, 1462.0, 1967.0, 1842.0, 1070.0, 1430.0, 1064.0, 1250.0, 2438.0, 1738.0, 2130.0, 995.0, 2545.0, 2248.0, 3427.0, 2264.0, 2810.0, 1397.0, 1600.0, 2225.0, 1338.0, 1009.0, 2368.0, 1568.0, 3267.0, 1551.0, 2193.0, 1918.0, 1231.0, 2075.0, 2392.0, 2075.0, 1236.0, 2524.0, 1360.0, 1500.0, 2200.0, 1538.0, 2087.0, 2159.0, 964.0, 1735.0, 3129.0, 1616.0, 1545.0, 1591.0, 1211.0, 936.0, 1760.0, 1315.0, 1315.0, 2108.0, 1821.0, 2014.0, 1186.0, 2651.0, 1291.0, 1299.0, 2001.0, 2286.0, 1466.0, 1090.0, 1614.0, 1397.0, 2648.0, 2674.0, 2540.0, 2540.0, 2540.0, 2540.0, 2678.0, 2678.0, 2548.0, 2678.0, 2563.0, 2593.0, 2593.0, 2528.0, 2447.0, 2570.0, 2447.0, 2518.0, 2447.0, 2533.0, 2540.0, 2540.0, 2769.0, 2540.0, 2528.0, 2614.0, 2514.0, 2460.0, 2456.0, 2461.0, 2539.0, 2444.0, 2445.0, 2430.0, 2470.0, 2414.0, 2605.0, 2539.0, 1557.0, 1154.0, 1154.0, 1154.0, 1154.0, 1806.0, 1154.0, 1003.0, 1003.0, 1408.0, 1003.0, 1480.0, 1279.0, 1480.0, 1944.0, 1480.0, 1156.0, 1114.0, 1156.0, 1279.0, 1113.0, 1953.0, 1720.5, 2795.0, 2654.0, 2650.0, 2603.0, 2784.0, 2700.0, 2555.0, 2457.0, 2539.0, 2589.0, 2562.0, 2511.0], \"xbins\": {\"size\": 150}}, {\"name\": \"Comps\", \"opacity\": 0.8, \"type\": \"histogram\", \"x\": [2028.0, 2542.0, 2647.0, 2275.0, 2028.0, 2436.0, 2165.0, 2633.0, 2450.0, 2572.0, 2713.0, 4595.0, 2625.0, 2057.0, 2418.0, 2065.0, 2512.0, 2045.0, 4046.0, 2562.0, 2561.0, 2675.0, 2021.0, 2442.0, 2438.0, 2130.0, 2545.0, 2248.0, 3427.0, 2264.0, 2810.0, 2225.0, 2368.0, 3267.0, 2193.0, 2075.0, 2392.0, 2075.0, 2524.0, 2200.0, 2087.0, 2159.0, 3129.0, 2108.0, 2014.0, 2001.0, 2286.0, 2648.0, 2674.0, 2540.0, 2540.0, 2540.0, 2540.0, 2678.0, 2678.0, 2548.0, 2678.0, 2563.0, 2593.0, 2528.0, 2447.0, 2570.0, 2447.0, 2518.0, 2447.0, 2533.0, 2540.0, 2540.0, 2769.0, 2540.0, 2528.0, 2614.0, 2514.0, 2460.0, 2456.0, 2461.0, 2539.0, 2444.0, 2445.0, 2430.0, 2470.0, 2414.0, 2605.0, 2539.0, 2795.0, 2654.0, 2650.0, 2603.0, 2784.0, 2700.0, 2555.0, 2457.0, 2539.0, 2589.0, 2562.0, 2511.0], \"xbins\": {\"size\": 150}}],\n",
       "                        {\"barmode\": \"overlay\", \"height\": 400, \"plot_bgcolor\": \"rgba(0,0,0,0)\", \"showlegend\": true, \"template\": {\"data\": {\"bar\": [{\"error_x\": {\"color\": \"#2a3f5f\"}, \"error_y\": {\"color\": \"#2a3f5f\"}, \"marker\": {\"line\": {\"color\": \"#E5ECF6\", \"width\": 0.5}}, \"type\": \"bar\"}], \"barpolar\": [{\"marker\": {\"line\": {\"color\": \"#E5ECF6\", \"width\": 0.5}}, \"type\": \"barpolar\"}], \"carpet\": [{\"aaxis\": {\"endlinecolor\": \"#2a3f5f\", \"gridcolor\": \"white\", \"linecolor\": \"white\", \"minorgridcolor\": \"white\", \"startlinecolor\": \"#2a3f5f\"}, \"baxis\": {\"endlinecolor\": \"#2a3f5f\", \"gridcolor\": \"white\", \"linecolor\": \"white\", \"minorgridcolor\": \"white\", \"startlinecolor\": \"#2a3f5f\"}, \"type\": \"carpet\"}], \"choropleth\": [{\"colorbar\": {\"outlinewidth\": 0, \"ticks\": \"\"}, \"type\": \"choropleth\"}], \"contour\": [{\"colorbar\": {\"outlinewidth\": 0, \"ticks\": \"\"}, \"colorscale\": [[0.0, \"#0d0887\"], [0.1111111111111111, \"#46039f\"], [0.2222222222222222, \"#7201a8\"], [0.3333333333333333, \"#9c179e\"], [0.4444444444444444, \"#bd3786\"], [0.5555555555555556, \"#d8576b\"], [0.6666666666666666, \"#ed7953\"], [0.7777777777777778, \"#fb9f3a\"], [0.8888888888888888, \"#fdca26\"], [1.0, \"#f0f921\"]], \"type\": \"contour\"}], \"contourcarpet\": [{\"colorbar\": {\"outlinewidth\": 0, \"ticks\": \"\"}, \"type\": \"contourcarpet\"}], \"heatmap\": [{\"colorbar\": {\"outlinewidth\": 0, \"ticks\": \"\"}, \"colorscale\": [[0.0, \"#0d0887\"], [0.1111111111111111, \"#46039f\"], [0.2222222222222222, \"#7201a8\"], [0.3333333333333333, \"#9c179e\"], [0.4444444444444444, \"#bd3786\"], [0.5555555555555556, \"#d8576b\"], [0.6666666666666666, \"#ed7953\"], [0.7777777777777778, \"#fb9f3a\"], [0.8888888888888888, \"#fdca26\"], [1.0, \"#f0f921\"]], \"type\": \"heatmap\"}], \"heatmapgl\": [{\"colorbar\": {\"outlinewidth\": 0, \"ticks\": \"\"}, \"colorscale\": [[0.0, \"#0d0887\"], [0.1111111111111111, \"#46039f\"], [0.2222222222222222, \"#7201a8\"], [0.3333333333333333, \"#9c179e\"], [0.4444444444444444, \"#bd3786\"], [0.5555555555555556, \"#d8576b\"], [0.6666666666666666, \"#ed7953\"], [0.7777777777777778, \"#fb9f3a\"], [0.8888888888888888, \"#fdca26\"], [1.0, \"#f0f921\"]], \"type\": \"heatmapgl\"}], \"histogram\": [{\"marker\": {\"colorbar\": {\"outlinewidth\": 0, \"ticks\": \"\"}}, \"type\": \"histogram\"}], \"histogram2d\": [{\"colorbar\": {\"outlinewidth\": 0, \"ticks\": \"\"}, \"colorscale\": [[0.0, \"#0d0887\"], [0.1111111111111111, \"#46039f\"], [0.2222222222222222, \"#7201a8\"], [0.3333333333333333, \"#9c179e\"], [0.4444444444444444, \"#bd3786\"], [0.5555555555555556, \"#d8576b\"], [0.6666666666666666, \"#ed7953\"], [0.7777777777777778, \"#fb9f3a\"], [0.8888888888888888, \"#fdca26\"], [1.0, \"#f0f921\"]], \"type\": \"histogram2d\"}], \"histogram2dcontour\": [{\"colorbar\": {\"outlinewidth\": 0, \"ticks\": \"\"}, \"colorscale\": [[0.0, \"#0d0887\"], [0.1111111111111111, \"#46039f\"], [0.2222222222222222, \"#7201a8\"], [0.3333333333333333, \"#9c179e\"], [0.4444444444444444, \"#bd3786\"], [0.5555555555555556, \"#d8576b\"], [0.6666666666666666, \"#ed7953\"], [0.7777777777777778, \"#fb9f3a\"], [0.8888888888888888, \"#fdca26\"], [1.0, \"#f0f921\"]], \"type\": \"histogram2dcontour\"}], \"mesh3d\": [{\"colorbar\": {\"outlinewidth\": 0, \"ticks\": \"\"}, \"type\": \"mesh3d\"}], \"parcoords\": [{\"line\": {\"colorbar\": {\"outlinewidth\": 0, \"ticks\": \"\"}}, \"type\": \"parcoords\"}], \"pie\": [{\"automargin\": true, \"type\": \"pie\"}], \"scatter\": [{\"marker\": {\"colorbar\": {\"outlinewidth\": 0, \"ticks\": \"\"}}, \"type\": \"scatter\"}], \"scatter3d\": [{\"line\": {\"colorbar\": {\"outlinewidth\": 0, \"ticks\": \"\"}}, \"marker\": {\"colorbar\": {\"outlinewidth\": 0, \"ticks\": \"\"}}, \"type\": \"scatter3d\"}], \"scattercarpet\": [{\"marker\": {\"colorbar\": {\"outlinewidth\": 0, \"ticks\": \"\"}}, \"type\": \"scattercarpet\"}], \"scattergeo\": [{\"marker\": {\"colorbar\": {\"outlinewidth\": 0, \"ticks\": \"\"}}, \"type\": \"scattergeo\"}], \"scattergl\": [{\"marker\": {\"colorbar\": {\"outlinewidth\": 0, \"ticks\": \"\"}}, \"type\": \"scattergl\"}], \"scattermapbox\": [{\"marker\": {\"colorbar\": {\"outlinewidth\": 0, \"ticks\": \"\"}}, \"type\": \"scattermapbox\"}], \"scatterpolar\": [{\"marker\": {\"colorbar\": {\"outlinewidth\": 0, \"ticks\": \"\"}}, \"type\": \"scatterpolar\"}], \"scatterpolargl\": [{\"marker\": {\"colorbar\": {\"outlinewidth\": 0, \"ticks\": \"\"}}, \"type\": \"scatterpolargl\"}], \"scatterternary\": [{\"marker\": {\"colorbar\": {\"outlinewidth\": 0, \"ticks\": \"\"}}, \"type\": \"scatterternary\"}], \"surface\": [{\"colorbar\": {\"outlinewidth\": 0, \"ticks\": \"\"}, \"colorscale\": [[0.0, \"#0d0887\"], [0.1111111111111111, \"#46039f\"], [0.2222222222222222, \"#7201a8\"], [0.3333333333333333, \"#9c179e\"], [0.4444444444444444, \"#bd3786\"], [0.5555555555555556, \"#d8576b\"], [0.6666666666666666, \"#ed7953\"], [0.7777777777777778, \"#fb9f3a\"], [0.8888888888888888, \"#fdca26\"], [1.0, \"#f0f921\"]], \"type\": \"surface\"}], \"table\": [{\"cells\": {\"fill\": {\"color\": \"#EBF0F8\"}, \"line\": {\"color\": \"white\"}}, \"header\": {\"fill\": {\"color\": \"#C8D4E3\"}, \"line\": {\"color\": \"white\"}}, \"type\": \"table\"}]}, \"layout\": {\"annotationdefaults\": {\"arrowcolor\": \"#2a3f5f\", \"arrowhead\": 0, \"arrowwidth\": 1}, \"coloraxis\": {\"colorbar\": {\"outlinewidth\": 0, \"ticks\": \"\"}}, \"colorscale\": {\"diverging\": [[0, \"#8e0152\"], [0.1, \"#c51b7d\"], [0.2, \"#de77ae\"], [0.3, \"#f1b6da\"], [0.4, \"#fde0ef\"], [0.5, \"#f7f7f7\"], [0.6, \"#e6f5d0\"], [0.7, \"#b8e186\"], [0.8, \"#7fbc41\"], [0.9, \"#4d9221\"], [1, \"#276419\"]], \"sequential\": [[0.0, \"#0d0887\"], [0.1111111111111111, \"#46039f\"], [0.2222222222222222, \"#7201a8\"], [0.3333333333333333, \"#9c179e\"], [0.4444444444444444, \"#bd3786\"], [0.5555555555555556, \"#d8576b\"], [0.6666666666666666, \"#ed7953\"], [0.7777777777777778, \"#fb9f3a\"], [0.8888888888888888, \"#fdca26\"], [1.0, \"#f0f921\"]], \"sequentialminus\": [[0.0, \"#0d0887\"], [0.1111111111111111, \"#46039f\"], [0.2222222222222222, \"#7201a8\"], [0.3333333333333333, \"#9c179e\"], [0.4444444444444444, \"#bd3786\"], [0.5555555555555556, \"#d8576b\"], [0.6666666666666666, \"#ed7953\"], [0.7777777777777778, \"#fb9f3a\"], [0.8888888888888888, \"#fdca26\"], [1.0, \"#f0f921\"]]}, \"colorway\": [\"#636efa\", \"#EF553B\", \"#00cc96\", \"#ab63fa\", \"#FFA15A\", \"#19d3f3\", \"#FF6692\", \"#B6E880\", \"#FF97FF\", \"#FECB52\"], \"font\": {\"color\": \"#2a3f5f\"}, \"geo\": {\"bgcolor\": \"white\", \"lakecolor\": \"white\", \"landcolor\": \"#E5ECF6\", \"showlakes\": true, \"showland\": true, \"subunitcolor\": \"white\"}, \"hoverlabel\": {\"align\": \"left\"}, \"hovermode\": \"closest\", \"mapbox\": {\"style\": \"light\"}, \"paper_bgcolor\": \"white\", \"plot_bgcolor\": \"#E5ECF6\", \"polar\": {\"angularaxis\": {\"gridcolor\": \"white\", \"linecolor\": \"white\", \"ticks\": \"\"}, \"bgcolor\": \"#E5ECF6\", \"radialaxis\": {\"gridcolor\": \"white\", \"linecolor\": \"white\", \"ticks\": \"\"}}, \"scene\": {\"xaxis\": {\"backgroundcolor\": \"#E5ECF6\", \"gridcolor\": \"white\", \"gridwidth\": 2, \"linecolor\": \"white\", \"showbackground\": true, \"ticks\": \"\", \"zerolinecolor\": \"white\"}, \"yaxis\": {\"backgroundcolor\": \"#E5ECF6\", \"gridcolor\": \"white\", \"gridwidth\": 2, \"linecolor\": \"white\", \"showbackground\": true, \"ticks\": \"\", \"zerolinecolor\": \"white\"}, \"zaxis\": {\"backgroundcolor\": \"#E5ECF6\", \"gridcolor\": \"white\", \"gridwidth\": 2, \"linecolor\": \"white\", \"showbackground\": true, \"ticks\": \"\", \"zerolinecolor\": \"white\"}}, \"shapedefaults\": {\"line\": {\"color\": \"#2a3f5f\"}}, \"ternary\": {\"aaxis\": {\"gridcolor\": \"white\", \"linecolor\": \"white\", \"ticks\": \"\"}, \"baxis\": {\"gridcolor\": \"white\", \"linecolor\": \"white\", \"ticks\": \"\"}, \"bgcolor\": \"#E5ECF6\", \"caxis\": {\"gridcolor\": \"white\", \"linecolor\": \"white\", \"ticks\": \"\"}}, \"title\": {\"x\": 0.05}, \"xaxis\": {\"automargin\": true, \"gridcolor\": \"white\", \"linecolor\": \"white\", \"ticks\": \"\", \"title\": {\"standoff\": 15}, \"zerolinecolor\": \"white\", \"zerolinewidth\": 2}, \"yaxis\": {\"automargin\": true, \"gridcolor\": \"white\", \"linecolor\": \"white\", \"ticks\": \"\", \"title\": {\"standoff\": 15}, \"zerolinecolor\": \"white\", \"zerolinewidth\": 2}}}, \"title\": {\"text\": \"GLA distribution of the sold houses\"}, \"width\": 600, \"xaxis\": {\"gridcolor\": \"#EEEEEE\", \"nticks\": 18, \"tickfont\": {\"size\": 10}}, \"yaxis\": {\"gridcolor\": \"#EEEEEE\", \"nticks\": 10}},\n",
       "                        {\"responsive\": true}\n",
       "                    ).then(function(){\n",
       "                            \n",
       "var gd = document.getElementById('d6a4d72c-76fe-4074-90a8-979e701b7d37');\n",
       "var x = new MutationObserver(function (mutations, observer) {{\n",
       "        var display = window.getComputedStyle(gd).display;\n",
       "        if (!display || display === 'none') {{\n",
       "            console.log([gd, 'removed!']);\n",
       "            Plotly.purge(gd);\n",
       "            observer.disconnect();\n",
       "        }}\n",
       "}});\n",
       "\n",
       "// Listen for the removal of the full notebook cells\n",
       "var notebookContainer = gd.closest('#notebook-container');\n",
       "if (notebookContainer) {{\n",
       "    x.observe(notebookContainer, {childList: true});\n",
       "}}\n",
       "\n",
       "// Listen for the clearing of the current output cell\n",
       "var outputEl = gd.closest('.output');\n",
       "if (outputEl) {{\n",
       "    x.observe(outputEl, {childList: true});\n",
       "}}\n",
       "\n",
       "                        })\n",
       "                };\n",
       "                });\n",
       "            </script>\n",
       "        </div>"
      ]
     },
     "metadata": {},
     "output_type": "display_data"
    }
   ],
   "source": [
    "fig = go.Figure()\n",
    "fig.add_trace(go.Histogram(x=del_mar_full[del_mar_full['GLA(feet)'] > 0]['GLA(feet)'], xbins_size=150,  name='All houses'))\n",
    "fig.add_trace(go.Histogram(x=comps['GLA(feet)'], xbins_size=150,  name='Comps'))\n",
    "\n",
    "fig.update_layout(title_text='GLA distribution of the sold houses',\n",
    "                  width=600, height=400, plot_bgcolor='rgba(0,0,0,0)', showlegend=True,\n",
    "                  yaxis=dict(gridcolor='#EEEEEE', nticks=10),\n",
    "                  xaxis=dict(gridcolor='#EEEEEE', nticks=18,\n",
    "                             tickfont=dict(size=10)))\n",
    "fig.update_layout(barmode='overlay')\n",
    "fig.update_traces(opacity=0.8)\n",
    "fig.show()"
   ]
  },
  {
   "cell_type": "code",
   "execution_count": 16,
   "metadata": {},
   "outputs": [
    {
     "data": {
      "application/vnd.plotly.v1+json": {
       "config": {
        "plotlyServerURL": "https://plot.ly"
       },
       "data": [
        {
         "name": "All houses",
         "opacity": 0.7,
         "type": "histogram",
         "x": [
          3,
          null,
          3,
          3,
          2,
          3,
          2,
          2,
          2,
          3,
          2,
          2,
          2,
          3,
          null,
          2,
          3,
          2,
          2,
          2,
          3,
          2,
          2,
          3,
          5,
          2,
          2,
          3,
          1,
          2,
          5,
          5,
          5,
          5,
          3,
          2,
          3,
          null,
          2,
          1,
          3,
          2,
          2,
          3,
          2,
          2,
          2,
          2,
          5,
          2,
          2,
          2,
          2,
          2,
          3,
          2,
          3,
          5,
          2,
          5,
          5,
          2,
          2,
          2,
          3,
          2,
          3,
          2,
          2,
          2,
          2,
          2,
          2,
          2,
          2,
          2,
          3,
          2,
          3,
          null,
          2,
          2,
          2,
          3,
          2,
          3,
          2,
          5,
          3,
          3,
          3,
          2,
          2,
          null,
          4,
          2,
          2,
          3,
          2,
          4,
          3,
          3,
          3,
          2,
          3,
          5,
          3,
          2,
          3,
          2,
          2,
          3,
          2,
          2,
          3,
          2,
          3,
          4,
          2,
          3,
          3,
          2,
          1,
          3,
          2,
          2,
          3,
          3,
          3,
          2,
          null,
          2,
          2,
          3,
          2,
          3,
          2,
          2,
          2,
          5,
          5,
          5,
          5,
          5,
          5,
          5,
          5,
          5,
          5,
          5,
          5,
          null,
          5,
          5,
          5,
          5,
          5,
          5,
          5,
          5,
          5,
          5,
          5,
          5,
          5,
          5,
          5,
          5,
          5,
          5,
          5,
          5,
          5,
          5,
          5,
          5,
          5,
          2,
          2,
          2,
          2,
          2,
          3,
          2,
          2,
          2,
          2,
          2,
          3,
          2,
          3,
          3,
          3,
          2,
          2,
          2,
          2,
          2,
          3,
          3,
          5,
          5,
          4,
          5,
          5,
          5,
          5,
          5,
          5,
          5,
          5,
          5
         ],
         "xbins": {
          "size": 1
         }
        },
        {
         "name": "Comps",
         "opacity": 0.7,
         "type": "histogram",
         "x": [
          3,
          2,
          3,
          2,
          2,
          3,
          3,
          5,
          2,
          5,
          5,
          5,
          5,
          3,
          3,
          2,
          5,
          3,
          5,
          5,
          5,
          3,
          3,
          2,
          3,
          3,
          5,
          3,
          3,
          3,
          2,
          4,
          3,
          4,
          3,
          3,
          5,
          3,
          3,
          3,
          2,
          3,
          4,
          3,
          3,
          3,
          2,
          5,
          5,
          5,
          5,
          5,
          5,
          5,
          5,
          5,
          5,
          5,
          5,
          5,
          5,
          5,
          5,
          5,
          5,
          5,
          5,
          5,
          5,
          5,
          5,
          5,
          5,
          5,
          5,
          5,
          5,
          5,
          5,
          5,
          5,
          5,
          5,
          5,
          5,
          5,
          4,
          5,
          5,
          5,
          5,
          5,
          5,
          5,
          5,
          5
         ],
         "xbins": {
          "size": 1
         }
        }
       ],
       "layout": {
        "barmode": "overlay",
        "height": 400,
        "plot_bgcolor": "rgba(0,0,0,0)",
        "showlegend": true,
        "template": {
         "data": {
          "bar": [
           {
            "error_x": {
             "color": "#2a3f5f"
            },
            "error_y": {
             "color": "#2a3f5f"
            },
            "marker": {
             "line": {
              "color": "#E5ECF6",
              "width": 0.5
             }
            },
            "type": "bar"
           }
          ],
          "barpolar": [
           {
            "marker": {
             "line": {
              "color": "#E5ECF6",
              "width": 0.5
             }
            },
            "type": "barpolar"
           }
          ],
          "carpet": [
           {
            "aaxis": {
             "endlinecolor": "#2a3f5f",
             "gridcolor": "white",
             "linecolor": "white",
             "minorgridcolor": "white",
             "startlinecolor": "#2a3f5f"
            },
            "baxis": {
             "endlinecolor": "#2a3f5f",
             "gridcolor": "white",
             "linecolor": "white",
             "minorgridcolor": "white",
             "startlinecolor": "#2a3f5f"
            },
            "type": "carpet"
           }
          ],
          "choropleth": [
           {
            "colorbar": {
             "outlinewidth": 0,
             "ticks": ""
            },
            "type": "choropleth"
           }
          ],
          "contour": [
           {
            "colorbar": {
             "outlinewidth": 0,
             "ticks": ""
            },
            "colorscale": [
             [
              0,
              "#0d0887"
             ],
             [
              0.1111111111111111,
              "#46039f"
             ],
             [
              0.2222222222222222,
              "#7201a8"
             ],
             [
              0.3333333333333333,
              "#9c179e"
             ],
             [
              0.4444444444444444,
              "#bd3786"
             ],
             [
              0.5555555555555556,
              "#d8576b"
             ],
             [
              0.6666666666666666,
              "#ed7953"
             ],
             [
              0.7777777777777778,
              "#fb9f3a"
             ],
             [
              0.8888888888888888,
              "#fdca26"
             ],
             [
              1,
              "#f0f921"
             ]
            ],
            "type": "contour"
           }
          ],
          "contourcarpet": [
           {
            "colorbar": {
             "outlinewidth": 0,
             "ticks": ""
            },
            "type": "contourcarpet"
           }
          ],
          "heatmap": [
           {
            "colorbar": {
             "outlinewidth": 0,
             "ticks": ""
            },
            "colorscale": [
             [
              0,
              "#0d0887"
             ],
             [
              0.1111111111111111,
              "#46039f"
             ],
             [
              0.2222222222222222,
              "#7201a8"
             ],
             [
              0.3333333333333333,
              "#9c179e"
             ],
             [
              0.4444444444444444,
              "#bd3786"
             ],
             [
              0.5555555555555556,
              "#d8576b"
             ],
             [
              0.6666666666666666,
              "#ed7953"
             ],
             [
              0.7777777777777778,
              "#fb9f3a"
             ],
             [
              0.8888888888888888,
              "#fdca26"
             ],
             [
              1,
              "#f0f921"
             ]
            ],
            "type": "heatmap"
           }
          ],
          "heatmapgl": [
           {
            "colorbar": {
             "outlinewidth": 0,
             "ticks": ""
            },
            "colorscale": [
             [
              0,
              "#0d0887"
             ],
             [
              0.1111111111111111,
              "#46039f"
             ],
             [
              0.2222222222222222,
              "#7201a8"
             ],
             [
              0.3333333333333333,
              "#9c179e"
             ],
             [
              0.4444444444444444,
              "#bd3786"
             ],
             [
              0.5555555555555556,
              "#d8576b"
             ],
             [
              0.6666666666666666,
              "#ed7953"
             ],
             [
              0.7777777777777778,
              "#fb9f3a"
             ],
             [
              0.8888888888888888,
              "#fdca26"
             ],
             [
              1,
              "#f0f921"
             ]
            ],
            "type": "heatmapgl"
           }
          ],
          "histogram": [
           {
            "marker": {
             "colorbar": {
              "outlinewidth": 0,
              "ticks": ""
             }
            },
            "type": "histogram"
           }
          ],
          "histogram2d": [
           {
            "colorbar": {
             "outlinewidth": 0,
             "ticks": ""
            },
            "colorscale": [
             [
              0,
              "#0d0887"
             ],
             [
              0.1111111111111111,
              "#46039f"
             ],
             [
              0.2222222222222222,
              "#7201a8"
             ],
             [
              0.3333333333333333,
              "#9c179e"
             ],
             [
              0.4444444444444444,
              "#bd3786"
             ],
             [
              0.5555555555555556,
              "#d8576b"
             ],
             [
              0.6666666666666666,
              "#ed7953"
             ],
             [
              0.7777777777777778,
              "#fb9f3a"
             ],
             [
              0.8888888888888888,
              "#fdca26"
             ],
             [
              1,
              "#f0f921"
             ]
            ],
            "type": "histogram2d"
           }
          ],
          "histogram2dcontour": [
           {
            "colorbar": {
             "outlinewidth": 0,
             "ticks": ""
            },
            "colorscale": [
             [
              0,
              "#0d0887"
             ],
             [
              0.1111111111111111,
              "#46039f"
             ],
             [
              0.2222222222222222,
              "#7201a8"
             ],
             [
              0.3333333333333333,
              "#9c179e"
             ],
             [
              0.4444444444444444,
              "#bd3786"
             ],
             [
              0.5555555555555556,
              "#d8576b"
             ],
             [
              0.6666666666666666,
              "#ed7953"
             ],
             [
              0.7777777777777778,
              "#fb9f3a"
             ],
             [
              0.8888888888888888,
              "#fdca26"
             ],
             [
              1,
              "#f0f921"
             ]
            ],
            "type": "histogram2dcontour"
           }
          ],
          "mesh3d": [
           {
            "colorbar": {
             "outlinewidth": 0,
             "ticks": ""
            },
            "type": "mesh3d"
           }
          ],
          "parcoords": [
           {
            "line": {
             "colorbar": {
              "outlinewidth": 0,
              "ticks": ""
             }
            },
            "type": "parcoords"
           }
          ],
          "pie": [
           {
            "automargin": true,
            "type": "pie"
           }
          ],
          "scatter": [
           {
            "marker": {
             "colorbar": {
              "outlinewidth": 0,
              "ticks": ""
             }
            },
            "type": "scatter"
           }
          ],
          "scatter3d": [
           {
            "line": {
             "colorbar": {
              "outlinewidth": 0,
              "ticks": ""
             }
            },
            "marker": {
             "colorbar": {
              "outlinewidth": 0,
              "ticks": ""
             }
            },
            "type": "scatter3d"
           }
          ],
          "scattercarpet": [
           {
            "marker": {
             "colorbar": {
              "outlinewidth": 0,
              "ticks": ""
             }
            },
            "type": "scattercarpet"
           }
          ],
          "scattergeo": [
           {
            "marker": {
             "colorbar": {
              "outlinewidth": 0,
              "ticks": ""
             }
            },
            "type": "scattergeo"
           }
          ],
          "scattergl": [
           {
            "marker": {
             "colorbar": {
              "outlinewidth": 0,
              "ticks": ""
             }
            },
            "type": "scattergl"
           }
          ],
          "scattermapbox": [
           {
            "marker": {
             "colorbar": {
              "outlinewidth": 0,
              "ticks": ""
             }
            },
            "type": "scattermapbox"
           }
          ],
          "scatterpolar": [
           {
            "marker": {
             "colorbar": {
              "outlinewidth": 0,
              "ticks": ""
             }
            },
            "type": "scatterpolar"
           }
          ],
          "scatterpolargl": [
           {
            "marker": {
             "colorbar": {
              "outlinewidth": 0,
              "ticks": ""
             }
            },
            "type": "scatterpolargl"
           }
          ],
          "scatterternary": [
           {
            "marker": {
             "colorbar": {
              "outlinewidth": 0,
              "ticks": ""
             }
            },
            "type": "scatterternary"
           }
          ],
          "surface": [
           {
            "colorbar": {
             "outlinewidth": 0,
             "ticks": ""
            },
            "colorscale": [
             [
              0,
              "#0d0887"
             ],
             [
              0.1111111111111111,
              "#46039f"
             ],
             [
              0.2222222222222222,
              "#7201a8"
             ],
             [
              0.3333333333333333,
              "#9c179e"
             ],
             [
              0.4444444444444444,
              "#bd3786"
             ],
             [
              0.5555555555555556,
              "#d8576b"
             ],
             [
              0.6666666666666666,
              "#ed7953"
             ],
             [
              0.7777777777777778,
              "#fb9f3a"
             ],
             [
              0.8888888888888888,
              "#fdca26"
             ],
             [
              1,
              "#f0f921"
             ]
            ],
            "type": "surface"
           }
          ],
          "table": [
           {
            "cells": {
             "fill": {
              "color": "#EBF0F8"
             },
             "line": {
              "color": "white"
             }
            },
            "header": {
             "fill": {
              "color": "#C8D4E3"
             },
             "line": {
              "color": "white"
             }
            },
            "type": "table"
           }
          ]
         },
         "layout": {
          "annotationdefaults": {
           "arrowcolor": "#2a3f5f",
           "arrowhead": 0,
           "arrowwidth": 1
          },
          "coloraxis": {
           "colorbar": {
            "outlinewidth": 0,
            "ticks": ""
           }
          },
          "colorscale": {
           "diverging": [
            [
             0,
             "#8e0152"
            ],
            [
             0.1,
             "#c51b7d"
            ],
            [
             0.2,
             "#de77ae"
            ],
            [
             0.3,
             "#f1b6da"
            ],
            [
             0.4,
             "#fde0ef"
            ],
            [
             0.5,
             "#f7f7f7"
            ],
            [
             0.6,
             "#e6f5d0"
            ],
            [
             0.7,
             "#b8e186"
            ],
            [
             0.8,
             "#7fbc41"
            ],
            [
             0.9,
             "#4d9221"
            ],
            [
             1,
             "#276419"
            ]
           ],
           "sequential": [
            [
             0,
             "#0d0887"
            ],
            [
             0.1111111111111111,
             "#46039f"
            ],
            [
             0.2222222222222222,
             "#7201a8"
            ],
            [
             0.3333333333333333,
             "#9c179e"
            ],
            [
             0.4444444444444444,
             "#bd3786"
            ],
            [
             0.5555555555555556,
             "#d8576b"
            ],
            [
             0.6666666666666666,
             "#ed7953"
            ],
            [
             0.7777777777777778,
             "#fb9f3a"
            ],
            [
             0.8888888888888888,
             "#fdca26"
            ],
            [
             1,
             "#f0f921"
            ]
           ],
           "sequentialminus": [
            [
             0,
             "#0d0887"
            ],
            [
             0.1111111111111111,
             "#46039f"
            ],
            [
             0.2222222222222222,
             "#7201a8"
            ],
            [
             0.3333333333333333,
             "#9c179e"
            ],
            [
             0.4444444444444444,
             "#bd3786"
            ],
            [
             0.5555555555555556,
             "#d8576b"
            ],
            [
             0.6666666666666666,
             "#ed7953"
            ],
            [
             0.7777777777777778,
             "#fb9f3a"
            ],
            [
             0.8888888888888888,
             "#fdca26"
            ],
            [
             1,
             "#f0f921"
            ]
           ]
          },
          "colorway": [
           "#636efa",
           "#EF553B",
           "#00cc96",
           "#ab63fa",
           "#FFA15A",
           "#19d3f3",
           "#FF6692",
           "#B6E880",
           "#FF97FF",
           "#FECB52"
          ],
          "font": {
           "color": "#2a3f5f"
          },
          "geo": {
           "bgcolor": "white",
           "lakecolor": "white",
           "landcolor": "#E5ECF6",
           "showlakes": true,
           "showland": true,
           "subunitcolor": "white"
          },
          "hoverlabel": {
           "align": "left"
          },
          "hovermode": "closest",
          "mapbox": {
           "style": "light"
          },
          "paper_bgcolor": "white",
          "plot_bgcolor": "#E5ECF6",
          "polar": {
           "angularaxis": {
            "gridcolor": "white",
            "linecolor": "white",
            "ticks": ""
           },
           "bgcolor": "#E5ECF6",
           "radialaxis": {
            "gridcolor": "white",
            "linecolor": "white",
            "ticks": ""
           }
          },
          "scene": {
           "xaxis": {
            "backgroundcolor": "#E5ECF6",
            "gridcolor": "white",
            "gridwidth": 2,
            "linecolor": "white",
            "showbackground": true,
            "ticks": "",
            "zerolinecolor": "white"
           },
           "yaxis": {
            "backgroundcolor": "#E5ECF6",
            "gridcolor": "white",
            "gridwidth": 2,
            "linecolor": "white",
            "showbackground": true,
            "ticks": "",
            "zerolinecolor": "white"
           },
           "zaxis": {
            "backgroundcolor": "#E5ECF6",
            "gridcolor": "white",
            "gridwidth": 2,
            "linecolor": "white",
            "showbackground": true,
            "ticks": "",
            "zerolinecolor": "white"
           }
          },
          "shapedefaults": {
           "line": {
            "color": "#2a3f5f"
           }
          },
          "ternary": {
           "aaxis": {
            "gridcolor": "white",
            "linecolor": "white",
            "ticks": ""
           },
           "baxis": {
            "gridcolor": "white",
            "linecolor": "white",
            "ticks": ""
           },
           "bgcolor": "#E5ECF6",
           "caxis": {
            "gridcolor": "white",
            "linecolor": "white",
            "ticks": ""
           }
          },
          "title": {
           "x": 0.05
          },
          "xaxis": {
           "automargin": true,
           "gridcolor": "white",
           "linecolor": "white",
           "ticks": "",
           "title": {
            "standoff": 15
           },
           "zerolinecolor": "white",
           "zerolinewidth": 2
          },
          "yaxis": {
           "automargin": true,
           "gridcolor": "white",
           "linecolor": "white",
           "ticks": "",
           "title": {
            "standoff": 15
           },
           "zerolinecolor": "white",
           "zerolinewidth": 2
          }
         }
        },
        "title": {
         "text": "baths distribution of the sold houses"
        },
        "width": 400,
        "xaxis": {
         "gridcolor": "#EEEEEE",
         "nticks": 6,
         "tickfont": {
          "size": 12
         }
        },
        "yaxis": {
         "gridcolor": "#EEEEEE",
         "nticks": 5
        }
       }
      },
      "text/html": [
       "<div>\n",
       "        \n",
       "        \n",
       "            <div id=\"98d74894-549f-49af-963b-c3b580d9bc9d\" class=\"plotly-graph-div\" style=\"height:400px; width:400px;\"></div>\n",
       "            <script type=\"text/javascript\">\n",
       "                require([\"plotly\"], function(Plotly) {\n",
       "                    window.PLOTLYENV=window.PLOTLYENV || {};\n",
       "                    \n",
       "                if (document.getElementById(\"98d74894-549f-49af-963b-c3b580d9bc9d\")) {\n",
       "                    Plotly.newPlot(\n",
       "                        '98d74894-549f-49af-963b-c3b580d9bc9d',\n",
       "                        [{\"name\": \"All houses\", \"opacity\": 0.7, \"type\": \"histogram\", \"x\": [3.0, null, 3.0, 3.0, 2.0, 3.0, 2.0, 2.0, 2.0, 3.0, 2.0, 2.0, 2.0, 3.0, null, 2.0, 3.0, 2.0, 2.0, 2.0, 3.0, 2.0, 2.0, 3.0, 5.0, 2.0, 2.0, 3.0, 1.0, 2.0, 5.0, 5.0, 5.0, 5.0, 3.0, 2.0, 3.0, null, 2.0, 1.0, 3.0, 2.0, 2.0, 3.0, 2.0, 2.0, 2.0, 2.0, 5.0, 2.0, 2.0, 2.0, 2.0, 2.0, 3.0, 2.0, 3.0, 5.0, 2.0, 5.0, 5.0, 2.0, 2.0, 2.0, 3.0, 2.0, 3.0, 2.0, 2.0, 2.0, 2.0, 2.0, 2.0, 2.0, 2.0, 2.0, 3.0, 2.0, 3.0, null, 2.0, 2.0, 2.0, 3.0, 2.0, 3.0, 2.0, 5.0, 3.0, 3.0, 3.0, 2.0, 2.0, null, 4.0, 2.0, 2.0, 3.0, 2.0, 4.0, 3.0, 3.0, 3.0, 2.0, 3.0, 5.0, 3.0, 2.0, 3.0, 2.0, 2.0, 3.0, 2.0, 2.0, 3.0, 2.0, 3.0, 4.0, 2.0, 3.0, 3.0, 2.0, 1.0, 3.0, 2.0, 2.0, 3.0, 3.0, 3.0, 2.0, null, 2.0, 2.0, 3.0, 2.0, 3.0, 2.0, 2.0, 2.0, 5.0, 5.0, 5.0, 5.0, 5.0, 5.0, 5.0, 5.0, 5.0, 5.0, 5.0, 5.0, null, 5.0, 5.0, 5.0, 5.0, 5.0, 5.0, 5.0, 5.0, 5.0, 5.0, 5.0, 5.0, 5.0, 5.0, 5.0, 5.0, 5.0, 5.0, 5.0, 5.0, 5.0, 5.0, 5.0, 5.0, 5.0, 2.0, 2.0, 2.0, 2.0, 2.0, 3.0, 2.0, 2.0, 2.0, 2.0, 2.0, 3.0, 2.0, 3.0, 3.0, 3.0, 2.0, 2.0, 2.0, 2.0, 2.0, 3.0, 3.0, 5.0, 5.0, 4.0, 5.0, 5.0, 5.0, 5.0, 5.0, 5.0, 5.0, 5.0, 5.0], \"xbins\": {\"size\": 1}}, {\"name\": \"Comps\", \"opacity\": 0.7, \"type\": \"histogram\", \"x\": [3.0, 2.0, 3.0, 2.0, 2.0, 3.0, 3.0, 5.0, 2.0, 5.0, 5.0, 5.0, 5.0, 3.0, 3.0, 2.0, 5.0, 3.0, 5.0, 5.0, 5.0, 3.0, 3.0, 2.0, 3.0, 3.0, 5.0, 3.0, 3.0, 3.0, 2.0, 4.0, 3.0, 4.0, 3.0, 3.0, 5.0, 3.0, 3.0, 3.0, 2.0, 3.0, 4.0, 3.0, 3.0, 3.0, 2.0, 5.0, 5.0, 5.0, 5.0, 5.0, 5.0, 5.0, 5.0, 5.0, 5.0, 5.0, 5.0, 5.0, 5.0, 5.0, 5.0, 5.0, 5.0, 5.0, 5.0, 5.0, 5.0, 5.0, 5.0, 5.0, 5.0, 5.0, 5.0, 5.0, 5.0, 5.0, 5.0, 5.0, 5.0, 5.0, 5.0, 5.0, 5.0, 5.0, 4.0, 5.0, 5.0, 5.0, 5.0, 5.0, 5.0, 5.0, 5.0, 5.0], \"xbins\": {\"size\": 1}}],\n",
       "                        {\"barmode\": \"overlay\", \"height\": 400, \"plot_bgcolor\": \"rgba(0,0,0,0)\", \"showlegend\": true, \"template\": {\"data\": {\"bar\": [{\"error_x\": {\"color\": \"#2a3f5f\"}, \"error_y\": {\"color\": \"#2a3f5f\"}, \"marker\": {\"line\": {\"color\": \"#E5ECF6\", \"width\": 0.5}}, \"type\": \"bar\"}], \"barpolar\": [{\"marker\": {\"line\": {\"color\": \"#E5ECF6\", \"width\": 0.5}}, \"type\": \"barpolar\"}], \"carpet\": [{\"aaxis\": {\"endlinecolor\": \"#2a3f5f\", \"gridcolor\": \"white\", \"linecolor\": \"white\", \"minorgridcolor\": \"white\", \"startlinecolor\": \"#2a3f5f\"}, \"baxis\": {\"endlinecolor\": \"#2a3f5f\", \"gridcolor\": \"white\", \"linecolor\": \"white\", \"minorgridcolor\": \"white\", \"startlinecolor\": \"#2a3f5f\"}, \"type\": \"carpet\"}], \"choropleth\": [{\"colorbar\": {\"outlinewidth\": 0, \"ticks\": \"\"}, \"type\": \"choropleth\"}], \"contour\": [{\"colorbar\": {\"outlinewidth\": 0, \"ticks\": \"\"}, \"colorscale\": [[0.0, \"#0d0887\"], [0.1111111111111111, \"#46039f\"], [0.2222222222222222, \"#7201a8\"], [0.3333333333333333, \"#9c179e\"], [0.4444444444444444, \"#bd3786\"], [0.5555555555555556, \"#d8576b\"], [0.6666666666666666, \"#ed7953\"], [0.7777777777777778, \"#fb9f3a\"], [0.8888888888888888, \"#fdca26\"], [1.0, \"#f0f921\"]], \"type\": \"contour\"}], \"contourcarpet\": [{\"colorbar\": {\"outlinewidth\": 0, \"ticks\": \"\"}, \"type\": \"contourcarpet\"}], \"heatmap\": [{\"colorbar\": {\"outlinewidth\": 0, \"ticks\": \"\"}, \"colorscale\": [[0.0, \"#0d0887\"], [0.1111111111111111, \"#46039f\"], [0.2222222222222222, \"#7201a8\"], [0.3333333333333333, \"#9c179e\"], [0.4444444444444444, \"#bd3786\"], [0.5555555555555556, \"#d8576b\"], [0.6666666666666666, \"#ed7953\"], [0.7777777777777778, \"#fb9f3a\"], [0.8888888888888888, \"#fdca26\"], [1.0, \"#f0f921\"]], \"type\": \"heatmap\"}], \"heatmapgl\": [{\"colorbar\": {\"outlinewidth\": 0, \"ticks\": \"\"}, \"colorscale\": [[0.0, \"#0d0887\"], [0.1111111111111111, \"#46039f\"], [0.2222222222222222, \"#7201a8\"], [0.3333333333333333, \"#9c179e\"], [0.4444444444444444, \"#bd3786\"], [0.5555555555555556, \"#d8576b\"], [0.6666666666666666, \"#ed7953\"], [0.7777777777777778, \"#fb9f3a\"], [0.8888888888888888, \"#fdca26\"], [1.0, \"#f0f921\"]], \"type\": \"heatmapgl\"}], \"histogram\": [{\"marker\": {\"colorbar\": {\"outlinewidth\": 0, \"ticks\": \"\"}}, \"type\": \"histogram\"}], \"histogram2d\": [{\"colorbar\": {\"outlinewidth\": 0, \"ticks\": \"\"}, \"colorscale\": [[0.0, \"#0d0887\"], [0.1111111111111111, \"#46039f\"], [0.2222222222222222, \"#7201a8\"], [0.3333333333333333, \"#9c179e\"], [0.4444444444444444, \"#bd3786\"], [0.5555555555555556, \"#d8576b\"], [0.6666666666666666, \"#ed7953\"], [0.7777777777777778, \"#fb9f3a\"], [0.8888888888888888, \"#fdca26\"], [1.0, \"#f0f921\"]], \"type\": \"histogram2d\"}], \"histogram2dcontour\": [{\"colorbar\": {\"outlinewidth\": 0, \"ticks\": \"\"}, \"colorscale\": [[0.0, \"#0d0887\"], [0.1111111111111111, \"#46039f\"], [0.2222222222222222, \"#7201a8\"], [0.3333333333333333, \"#9c179e\"], [0.4444444444444444, \"#bd3786\"], [0.5555555555555556, \"#d8576b\"], [0.6666666666666666, \"#ed7953\"], [0.7777777777777778, \"#fb9f3a\"], [0.8888888888888888, \"#fdca26\"], [1.0, \"#f0f921\"]], \"type\": \"histogram2dcontour\"}], \"mesh3d\": [{\"colorbar\": {\"outlinewidth\": 0, \"ticks\": \"\"}, \"type\": \"mesh3d\"}], \"parcoords\": [{\"line\": {\"colorbar\": {\"outlinewidth\": 0, \"ticks\": \"\"}}, \"type\": \"parcoords\"}], \"pie\": [{\"automargin\": true, \"type\": \"pie\"}], \"scatter\": [{\"marker\": {\"colorbar\": {\"outlinewidth\": 0, \"ticks\": \"\"}}, \"type\": \"scatter\"}], \"scatter3d\": [{\"line\": {\"colorbar\": {\"outlinewidth\": 0, \"ticks\": \"\"}}, \"marker\": {\"colorbar\": {\"outlinewidth\": 0, \"ticks\": \"\"}}, \"type\": \"scatter3d\"}], \"scattercarpet\": [{\"marker\": {\"colorbar\": {\"outlinewidth\": 0, \"ticks\": \"\"}}, \"type\": \"scattercarpet\"}], \"scattergeo\": [{\"marker\": {\"colorbar\": {\"outlinewidth\": 0, \"ticks\": \"\"}}, \"type\": \"scattergeo\"}], \"scattergl\": [{\"marker\": {\"colorbar\": {\"outlinewidth\": 0, \"ticks\": \"\"}}, \"type\": \"scattergl\"}], \"scattermapbox\": [{\"marker\": {\"colorbar\": {\"outlinewidth\": 0, \"ticks\": \"\"}}, \"type\": \"scattermapbox\"}], \"scatterpolar\": [{\"marker\": {\"colorbar\": {\"outlinewidth\": 0, \"ticks\": \"\"}}, \"type\": \"scatterpolar\"}], \"scatterpolargl\": [{\"marker\": {\"colorbar\": {\"outlinewidth\": 0, \"ticks\": \"\"}}, \"type\": \"scatterpolargl\"}], \"scatterternary\": [{\"marker\": {\"colorbar\": {\"outlinewidth\": 0, \"ticks\": \"\"}}, \"type\": \"scatterternary\"}], \"surface\": [{\"colorbar\": {\"outlinewidth\": 0, \"ticks\": \"\"}, \"colorscale\": [[0.0, \"#0d0887\"], [0.1111111111111111, \"#46039f\"], [0.2222222222222222, \"#7201a8\"], [0.3333333333333333, \"#9c179e\"], [0.4444444444444444, \"#bd3786\"], [0.5555555555555556, \"#d8576b\"], [0.6666666666666666, \"#ed7953\"], [0.7777777777777778, \"#fb9f3a\"], [0.8888888888888888, \"#fdca26\"], [1.0, \"#f0f921\"]], \"type\": \"surface\"}], \"table\": [{\"cells\": {\"fill\": {\"color\": \"#EBF0F8\"}, \"line\": {\"color\": \"white\"}}, \"header\": {\"fill\": {\"color\": \"#C8D4E3\"}, \"line\": {\"color\": \"white\"}}, \"type\": \"table\"}]}, \"layout\": {\"annotationdefaults\": {\"arrowcolor\": \"#2a3f5f\", \"arrowhead\": 0, \"arrowwidth\": 1}, \"coloraxis\": {\"colorbar\": {\"outlinewidth\": 0, \"ticks\": \"\"}}, \"colorscale\": {\"diverging\": [[0, \"#8e0152\"], [0.1, \"#c51b7d\"], [0.2, \"#de77ae\"], [0.3, \"#f1b6da\"], [0.4, \"#fde0ef\"], [0.5, \"#f7f7f7\"], [0.6, \"#e6f5d0\"], [0.7, \"#b8e186\"], [0.8, \"#7fbc41\"], [0.9, \"#4d9221\"], [1, \"#276419\"]], \"sequential\": [[0.0, \"#0d0887\"], [0.1111111111111111, \"#46039f\"], [0.2222222222222222, \"#7201a8\"], [0.3333333333333333, \"#9c179e\"], [0.4444444444444444, \"#bd3786\"], [0.5555555555555556, \"#d8576b\"], [0.6666666666666666, \"#ed7953\"], [0.7777777777777778, \"#fb9f3a\"], [0.8888888888888888, \"#fdca26\"], [1.0, \"#f0f921\"]], \"sequentialminus\": [[0.0, \"#0d0887\"], [0.1111111111111111, \"#46039f\"], [0.2222222222222222, \"#7201a8\"], [0.3333333333333333, \"#9c179e\"], [0.4444444444444444, \"#bd3786\"], [0.5555555555555556, \"#d8576b\"], [0.6666666666666666, \"#ed7953\"], [0.7777777777777778, \"#fb9f3a\"], [0.8888888888888888, \"#fdca26\"], [1.0, \"#f0f921\"]]}, \"colorway\": [\"#636efa\", \"#EF553B\", \"#00cc96\", \"#ab63fa\", \"#FFA15A\", \"#19d3f3\", \"#FF6692\", \"#B6E880\", \"#FF97FF\", \"#FECB52\"], \"font\": {\"color\": \"#2a3f5f\"}, \"geo\": {\"bgcolor\": \"white\", \"lakecolor\": \"white\", \"landcolor\": \"#E5ECF6\", \"showlakes\": true, \"showland\": true, \"subunitcolor\": \"white\"}, \"hoverlabel\": {\"align\": \"left\"}, \"hovermode\": \"closest\", \"mapbox\": {\"style\": \"light\"}, \"paper_bgcolor\": \"white\", \"plot_bgcolor\": \"#E5ECF6\", \"polar\": {\"angularaxis\": {\"gridcolor\": \"white\", \"linecolor\": \"white\", \"ticks\": \"\"}, \"bgcolor\": \"#E5ECF6\", \"radialaxis\": {\"gridcolor\": \"white\", \"linecolor\": \"white\", \"ticks\": \"\"}}, \"scene\": {\"xaxis\": {\"backgroundcolor\": \"#E5ECF6\", \"gridcolor\": \"white\", \"gridwidth\": 2, \"linecolor\": \"white\", \"showbackground\": true, \"ticks\": \"\", \"zerolinecolor\": \"white\"}, \"yaxis\": {\"backgroundcolor\": \"#E5ECF6\", \"gridcolor\": \"white\", \"gridwidth\": 2, \"linecolor\": \"white\", \"showbackground\": true, \"ticks\": \"\", \"zerolinecolor\": \"white\"}, \"zaxis\": {\"backgroundcolor\": \"#E5ECF6\", \"gridcolor\": \"white\", \"gridwidth\": 2, \"linecolor\": \"white\", \"showbackground\": true, \"ticks\": \"\", \"zerolinecolor\": \"white\"}}, \"shapedefaults\": {\"line\": {\"color\": \"#2a3f5f\"}}, \"ternary\": {\"aaxis\": {\"gridcolor\": \"white\", \"linecolor\": \"white\", \"ticks\": \"\"}, \"baxis\": {\"gridcolor\": \"white\", \"linecolor\": \"white\", \"ticks\": \"\"}, \"bgcolor\": \"#E5ECF6\", \"caxis\": {\"gridcolor\": \"white\", \"linecolor\": \"white\", \"ticks\": \"\"}}, \"title\": {\"x\": 0.05}, \"xaxis\": {\"automargin\": true, \"gridcolor\": \"white\", \"linecolor\": \"white\", \"ticks\": \"\", \"title\": {\"standoff\": 15}, \"zerolinecolor\": \"white\", \"zerolinewidth\": 2}, \"yaxis\": {\"automargin\": true, \"gridcolor\": \"white\", \"linecolor\": \"white\", \"ticks\": \"\", \"title\": {\"standoff\": 15}, \"zerolinecolor\": \"white\", \"zerolinewidth\": 2}}}, \"title\": {\"text\": \"baths distribution of the sold houses\"}, \"width\": 400, \"xaxis\": {\"gridcolor\": \"#EEEEEE\", \"nticks\": 6, \"tickfont\": {\"size\": 12}}, \"yaxis\": {\"gridcolor\": \"#EEEEEE\", \"nticks\": 5}},\n",
       "                        {\"responsive\": true}\n",
       "                    ).then(function(){\n",
       "                            \n",
       "var gd = document.getElementById('98d74894-549f-49af-963b-c3b580d9bc9d');\n",
       "var x = new MutationObserver(function (mutations, observer) {{\n",
       "        var display = window.getComputedStyle(gd).display;\n",
       "        if (!display || display === 'none') {{\n",
       "            console.log([gd, 'removed!']);\n",
       "            Plotly.purge(gd);\n",
       "            observer.disconnect();\n",
       "        }}\n",
       "}});\n",
       "\n",
       "// Listen for the removal of the full notebook cells\n",
       "var notebookContainer = gd.closest('#notebook-container');\n",
       "if (notebookContainer) {{\n",
       "    x.observe(notebookContainer, {childList: true});\n",
       "}}\n",
       "\n",
       "// Listen for the clearing of the current output cell\n",
       "var outputEl = gd.closest('.output');\n",
       "if (outputEl) {{\n",
       "    x.observe(outputEl, {childList: true});\n",
       "}}\n",
       "\n",
       "                        })\n",
       "                };\n",
       "                });\n",
       "            </script>\n",
       "        </div>"
      ]
     },
     "metadata": {},
     "output_type": "display_data"
    }
   ],
   "source": [
    "fig = go.Figure()\n",
    "fig.add_trace(go.Histogram(x=del_mar_full[del_mar_full['GLA(feet)'] > 0]['Bathrooms'], xbins_size=1,  name='All houses'))\n",
    "fig.add_trace(go.Histogram(x=comps['Bathrooms'], xbins_size=1,  name='Comps'))\n",
    "\n",
    "fig.update_layout(title_text='baths distribution of the sold houses',\n",
    "                  width=400, height=400, plot_bgcolor='rgba(0,0,0,0)', showlegend=True,\n",
    "                  yaxis=dict(gridcolor='#EEEEEE', nticks=5),\n",
    "                  xaxis=dict(gridcolor='#EEEEEE', nticks=6,\n",
    "                             tickfont=dict(size=12)))\n",
    "fig.update_layout(barmode='overlay')\n",
    "fig.update_traces(opacity=0.7)\n",
    "fig.show()"
   ]
  },
  {
   "cell_type": "code",
   "execution_count": 17,
   "metadata": {},
   "outputs": [
    {
     "data": {
      "application/vnd.plotly.v1+json": {
       "config": {
        "plotlyServerURL": "https://plot.ly"
       },
       "data": [
        {
         "marker": {
          "color": "blue",
          "opacity": 0.3,
          "size": 12
         },
         "mode": "markers",
         "name": "Min Quarter value",
         "type": "scatter",
         "x": [
          2028,
          2542,
          2647,
          2275,
          2028,
          2436,
          2165,
          2633,
          2450,
          2572,
          2713,
          4595,
          2625,
          2057,
          2418,
          2065,
          2512,
          2045,
          4046,
          2562,
          2561,
          2675,
          2021,
          2442,
          2438,
          2130,
          2545,
          2248,
          3427,
          2264,
          2810,
          2225,
          2368,
          3267,
          2193,
          2075,
          2392,
          2075,
          2524,
          2200,
          2087,
          2159,
          3129,
          2108,
          2014,
          2001,
          2286,
          2648,
          2674,
          2540,
          2540,
          2540,
          2540,
          2678,
          2678,
          2548,
          2678,
          2563,
          2593,
          2528,
          2447,
          2570,
          2447,
          2518,
          2447,
          2533,
          2540,
          2540,
          2769,
          2540,
          2528,
          2614,
          2514,
          2460,
          2456,
          2461,
          2539,
          2444,
          2445,
          2430,
          2470,
          2414,
          2605,
          2539,
          2795,
          2654,
          2650,
          2603,
          2784,
          2700,
          2555,
          2457,
          2539,
          2589,
          2562,
          2511
         ],
         "y": [
          205000,
          361000,
          315000,
          326000,
          220000,
          290000,
          225000,
          255000,
          265000,
          243000,
          169500,
          335000,
          285000,
          293000,
          230000,
          215000,
          240000,
          180000,
          300000,
          218500,
          220100,
          185000,
          250000,
          175000,
          179900,
          244000,
          250000,
          275000,
          381000,
          135000,
          197000,
          258300,
          160000,
          190000,
          220000,
          224000,
          250000,
          224000,
          190000,
          300000,
          200000,
          178000,
          210000,
          150000,
          302000,
          170000,
          145900,
          405000,
          316000,
          305000,
          340000,
          316000,
          352000,
          340000,
          340000,
          350000,
          340000,
          305000,
          222000,
          260000,
          308000,
          259000,
          285000,
          250000,
          275000,
          240000,
          310000,
          265000,
          240000,
          240000,
          255000,
          310000,
          235000,
          285000,
          240000,
          256000,
          170000,
          250000,
          200000,
          200000,
          280000,
          230000,
          245000,
          265000,
          230000,
          304000,
          275000,
          235000,
          240000,
          315000,
          260640,
          242500,
          345000,
          300000,
          265000,
          160000
         ]
        }
       ],
       "layout": {
        "height": 400,
        "plot_bgcolor": "rgba(0,0,0,0)",
        "showlegend": true,
        "template": {
         "data": {
          "bar": [
           {
            "error_x": {
             "color": "#2a3f5f"
            },
            "error_y": {
             "color": "#2a3f5f"
            },
            "marker": {
             "line": {
              "color": "#E5ECF6",
              "width": 0.5
             }
            },
            "type": "bar"
           }
          ],
          "barpolar": [
           {
            "marker": {
             "line": {
              "color": "#E5ECF6",
              "width": 0.5
             }
            },
            "type": "barpolar"
           }
          ],
          "carpet": [
           {
            "aaxis": {
             "endlinecolor": "#2a3f5f",
             "gridcolor": "white",
             "linecolor": "white",
             "minorgridcolor": "white",
             "startlinecolor": "#2a3f5f"
            },
            "baxis": {
             "endlinecolor": "#2a3f5f",
             "gridcolor": "white",
             "linecolor": "white",
             "minorgridcolor": "white",
             "startlinecolor": "#2a3f5f"
            },
            "type": "carpet"
           }
          ],
          "choropleth": [
           {
            "colorbar": {
             "outlinewidth": 0,
             "ticks": ""
            },
            "type": "choropleth"
           }
          ],
          "contour": [
           {
            "colorbar": {
             "outlinewidth": 0,
             "ticks": ""
            },
            "colorscale": [
             [
              0,
              "#0d0887"
             ],
             [
              0.1111111111111111,
              "#46039f"
             ],
             [
              0.2222222222222222,
              "#7201a8"
             ],
             [
              0.3333333333333333,
              "#9c179e"
             ],
             [
              0.4444444444444444,
              "#bd3786"
             ],
             [
              0.5555555555555556,
              "#d8576b"
             ],
             [
              0.6666666666666666,
              "#ed7953"
             ],
             [
              0.7777777777777778,
              "#fb9f3a"
             ],
             [
              0.8888888888888888,
              "#fdca26"
             ],
             [
              1,
              "#f0f921"
             ]
            ],
            "type": "contour"
           }
          ],
          "contourcarpet": [
           {
            "colorbar": {
             "outlinewidth": 0,
             "ticks": ""
            },
            "type": "contourcarpet"
           }
          ],
          "heatmap": [
           {
            "colorbar": {
             "outlinewidth": 0,
             "ticks": ""
            },
            "colorscale": [
             [
              0,
              "#0d0887"
             ],
             [
              0.1111111111111111,
              "#46039f"
             ],
             [
              0.2222222222222222,
              "#7201a8"
             ],
             [
              0.3333333333333333,
              "#9c179e"
             ],
             [
              0.4444444444444444,
              "#bd3786"
             ],
             [
              0.5555555555555556,
              "#d8576b"
             ],
             [
              0.6666666666666666,
              "#ed7953"
             ],
             [
              0.7777777777777778,
              "#fb9f3a"
             ],
             [
              0.8888888888888888,
              "#fdca26"
             ],
             [
              1,
              "#f0f921"
             ]
            ],
            "type": "heatmap"
           }
          ],
          "heatmapgl": [
           {
            "colorbar": {
             "outlinewidth": 0,
             "ticks": ""
            },
            "colorscale": [
             [
              0,
              "#0d0887"
             ],
             [
              0.1111111111111111,
              "#46039f"
             ],
             [
              0.2222222222222222,
              "#7201a8"
             ],
             [
              0.3333333333333333,
              "#9c179e"
             ],
             [
              0.4444444444444444,
              "#bd3786"
             ],
             [
              0.5555555555555556,
              "#d8576b"
             ],
             [
              0.6666666666666666,
              "#ed7953"
             ],
             [
              0.7777777777777778,
              "#fb9f3a"
             ],
             [
              0.8888888888888888,
              "#fdca26"
             ],
             [
              1,
              "#f0f921"
             ]
            ],
            "type": "heatmapgl"
           }
          ],
          "histogram": [
           {
            "marker": {
             "colorbar": {
              "outlinewidth": 0,
              "ticks": ""
             }
            },
            "type": "histogram"
           }
          ],
          "histogram2d": [
           {
            "colorbar": {
             "outlinewidth": 0,
             "ticks": ""
            },
            "colorscale": [
             [
              0,
              "#0d0887"
             ],
             [
              0.1111111111111111,
              "#46039f"
             ],
             [
              0.2222222222222222,
              "#7201a8"
             ],
             [
              0.3333333333333333,
              "#9c179e"
             ],
             [
              0.4444444444444444,
              "#bd3786"
             ],
             [
              0.5555555555555556,
              "#d8576b"
             ],
             [
              0.6666666666666666,
              "#ed7953"
             ],
             [
              0.7777777777777778,
              "#fb9f3a"
             ],
             [
              0.8888888888888888,
              "#fdca26"
             ],
             [
              1,
              "#f0f921"
             ]
            ],
            "type": "histogram2d"
           }
          ],
          "histogram2dcontour": [
           {
            "colorbar": {
             "outlinewidth": 0,
             "ticks": ""
            },
            "colorscale": [
             [
              0,
              "#0d0887"
             ],
             [
              0.1111111111111111,
              "#46039f"
             ],
             [
              0.2222222222222222,
              "#7201a8"
             ],
             [
              0.3333333333333333,
              "#9c179e"
             ],
             [
              0.4444444444444444,
              "#bd3786"
             ],
             [
              0.5555555555555556,
              "#d8576b"
             ],
             [
              0.6666666666666666,
              "#ed7953"
             ],
             [
              0.7777777777777778,
              "#fb9f3a"
             ],
             [
              0.8888888888888888,
              "#fdca26"
             ],
             [
              1,
              "#f0f921"
             ]
            ],
            "type": "histogram2dcontour"
           }
          ],
          "mesh3d": [
           {
            "colorbar": {
             "outlinewidth": 0,
             "ticks": ""
            },
            "type": "mesh3d"
           }
          ],
          "parcoords": [
           {
            "line": {
             "colorbar": {
              "outlinewidth": 0,
              "ticks": ""
             }
            },
            "type": "parcoords"
           }
          ],
          "pie": [
           {
            "automargin": true,
            "type": "pie"
           }
          ],
          "scatter": [
           {
            "marker": {
             "colorbar": {
              "outlinewidth": 0,
              "ticks": ""
             }
            },
            "type": "scatter"
           }
          ],
          "scatter3d": [
           {
            "line": {
             "colorbar": {
              "outlinewidth": 0,
              "ticks": ""
             }
            },
            "marker": {
             "colorbar": {
              "outlinewidth": 0,
              "ticks": ""
             }
            },
            "type": "scatter3d"
           }
          ],
          "scattercarpet": [
           {
            "marker": {
             "colorbar": {
              "outlinewidth": 0,
              "ticks": ""
             }
            },
            "type": "scattercarpet"
           }
          ],
          "scattergeo": [
           {
            "marker": {
             "colorbar": {
              "outlinewidth": 0,
              "ticks": ""
             }
            },
            "type": "scattergeo"
           }
          ],
          "scattergl": [
           {
            "marker": {
             "colorbar": {
              "outlinewidth": 0,
              "ticks": ""
             }
            },
            "type": "scattergl"
           }
          ],
          "scattermapbox": [
           {
            "marker": {
             "colorbar": {
              "outlinewidth": 0,
              "ticks": ""
             }
            },
            "type": "scattermapbox"
           }
          ],
          "scatterpolar": [
           {
            "marker": {
             "colorbar": {
              "outlinewidth": 0,
              "ticks": ""
             }
            },
            "type": "scatterpolar"
           }
          ],
          "scatterpolargl": [
           {
            "marker": {
             "colorbar": {
              "outlinewidth": 0,
              "ticks": ""
             }
            },
            "type": "scatterpolargl"
           }
          ],
          "scatterternary": [
           {
            "marker": {
             "colorbar": {
              "outlinewidth": 0,
              "ticks": ""
             }
            },
            "type": "scatterternary"
           }
          ],
          "surface": [
           {
            "colorbar": {
             "outlinewidth": 0,
             "ticks": ""
            },
            "colorscale": [
             [
              0,
              "#0d0887"
             ],
             [
              0.1111111111111111,
              "#46039f"
             ],
             [
              0.2222222222222222,
              "#7201a8"
             ],
             [
              0.3333333333333333,
              "#9c179e"
             ],
             [
              0.4444444444444444,
              "#bd3786"
             ],
             [
              0.5555555555555556,
              "#d8576b"
             ],
             [
              0.6666666666666666,
              "#ed7953"
             ],
             [
              0.7777777777777778,
              "#fb9f3a"
             ],
             [
              0.8888888888888888,
              "#fdca26"
             ],
             [
              1,
              "#f0f921"
             ]
            ],
            "type": "surface"
           }
          ],
          "table": [
           {
            "cells": {
             "fill": {
              "color": "#EBF0F8"
             },
             "line": {
              "color": "white"
             }
            },
            "header": {
             "fill": {
              "color": "#C8D4E3"
             },
             "line": {
              "color": "white"
             }
            },
            "type": "table"
           }
          ]
         },
         "layout": {
          "annotationdefaults": {
           "arrowcolor": "#2a3f5f",
           "arrowhead": 0,
           "arrowwidth": 1
          },
          "coloraxis": {
           "colorbar": {
            "outlinewidth": 0,
            "ticks": ""
           }
          },
          "colorscale": {
           "diverging": [
            [
             0,
             "#8e0152"
            ],
            [
             0.1,
             "#c51b7d"
            ],
            [
             0.2,
             "#de77ae"
            ],
            [
             0.3,
             "#f1b6da"
            ],
            [
             0.4,
             "#fde0ef"
            ],
            [
             0.5,
             "#f7f7f7"
            ],
            [
             0.6,
             "#e6f5d0"
            ],
            [
             0.7,
             "#b8e186"
            ],
            [
             0.8,
             "#7fbc41"
            ],
            [
             0.9,
             "#4d9221"
            ],
            [
             1,
             "#276419"
            ]
           ],
           "sequential": [
            [
             0,
             "#0d0887"
            ],
            [
             0.1111111111111111,
             "#46039f"
            ],
            [
             0.2222222222222222,
             "#7201a8"
            ],
            [
             0.3333333333333333,
             "#9c179e"
            ],
            [
             0.4444444444444444,
             "#bd3786"
            ],
            [
             0.5555555555555556,
             "#d8576b"
            ],
            [
             0.6666666666666666,
             "#ed7953"
            ],
            [
             0.7777777777777778,
             "#fb9f3a"
            ],
            [
             0.8888888888888888,
             "#fdca26"
            ],
            [
             1,
             "#f0f921"
            ]
           ],
           "sequentialminus": [
            [
             0,
             "#0d0887"
            ],
            [
             0.1111111111111111,
             "#46039f"
            ],
            [
             0.2222222222222222,
             "#7201a8"
            ],
            [
             0.3333333333333333,
             "#9c179e"
            ],
            [
             0.4444444444444444,
             "#bd3786"
            ],
            [
             0.5555555555555556,
             "#d8576b"
            ],
            [
             0.6666666666666666,
             "#ed7953"
            ],
            [
             0.7777777777777778,
             "#fb9f3a"
            ],
            [
             0.8888888888888888,
             "#fdca26"
            ],
            [
             1,
             "#f0f921"
            ]
           ]
          },
          "colorway": [
           "#636efa",
           "#EF553B",
           "#00cc96",
           "#ab63fa",
           "#FFA15A",
           "#19d3f3",
           "#FF6692",
           "#B6E880",
           "#FF97FF",
           "#FECB52"
          ],
          "font": {
           "color": "#2a3f5f"
          },
          "geo": {
           "bgcolor": "white",
           "lakecolor": "white",
           "landcolor": "#E5ECF6",
           "showlakes": true,
           "showland": true,
           "subunitcolor": "white"
          },
          "hoverlabel": {
           "align": "left"
          },
          "hovermode": "closest",
          "mapbox": {
           "style": "light"
          },
          "paper_bgcolor": "white",
          "plot_bgcolor": "#E5ECF6",
          "polar": {
           "angularaxis": {
            "gridcolor": "white",
            "linecolor": "white",
            "ticks": ""
           },
           "bgcolor": "#E5ECF6",
           "radialaxis": {
            "gridcolor": "white",
            "linecolor": "white",
            "ticks": ""
           }
          },
          "scene": {
           "xaxis": {
            "backgroundcolor": "#E5ECF6",
            "gridcolor": "white",
            "gridwidth": 2,
            "linecolor": "white",
            "showbackground": true,
            "ticks": "",
            "zerolinecolor": "white"
           },
           "yaxis": {
            "backgroundcolor": "#E5ECF6",
            "gridcolor": "white",
            "gridwidth": 2,
            "linecolor": "white",
            "showbackground": true,
            "ticks": "",
            "zerolinecolor": "white"
           },
           "zaxis": {
            "backgroundcolor": "#E5ECF6",
            "gridcolor": "white",
            "gridwidth": 2,
            "linecolor": "white",
            "showbackground": true,
            "ticks": "",
            "zerolinecolor": "white"
           }
          },
          "shapedefaults": {
           "line": {
            "color": "#2a3f5f"
           }
          },
          "ternary": {
           "aaxis": {
            "gridcolor": "white",
            "linecolor": "white",
            "ticks": ""
           },
           "baxis": {
            "gridcolor": "white",
            "linecolor": "white",
            "ticks": ""
           },
           "bgcolor": "#E5ECF6",
           "caxis": {
            "gridcolor": "white",
            "linecolor": "white",
            "ticks": ""
           }
          },
          "title": {
           "x": 0.05
          },
          "xaxis": {
           "automargin": true,
           "gridcolor": "white",
           "linecolor": "white",
           "ticks": "",
           "title": {
            "standoff": 15
           },
           "zerolinecolor": "white",
           "zerolinewidth": 2
          },
          "yaxis": {
           "automargin": true,
           "gridcolor": "white",
           "linecolor": "white",
           "ticks": "",
           "title": {
            "standoff": 15
           },
           "zerolinecolor": "white",
           "zerolinewidth": 2
          }
         }
        },
        "title": {
         "text": "Price change Dorado del Mar 2008-2019"
        },
        "width": 700,
        "xaxis": {
         "gridcolor": "#EEEEEE",
         "nticks": 10,
         "tickfont": {
          "size": 12
         }
        },
        "yaxis": {
         "gridcolor": "#EEEEEE",
         "nticks": 10
        }
       }
      },
      "text/html": [
       "<div>\n",
       "        \n",
       "        \n",
       "            <div id=\"8393b2cf-91d5-4830-ab7c-87fc163c00f6\" class=\"plotly-graph-div\" style=\"height:400px; width:700px;\"></div>\n",
       "            <script type=\"text/javascript\">\n",
       "                require([\"plotly\"], function(Plotly) {\n",
       "                    window.PLOTLYENV=window.PLOTLYENV || {};\n",
       "                    \n",
       "                if (document.getElementById(\"8393b2cf-91d5-4830-ab7c-87fc163c00f6\")) {\n",
       "                    Plotly.newPlot(\n",
       "                        '8393b2cf-91d5-4830-ab7c-87fc163c00f6',\n",
       "                        [{\"marker\": {\"color\": \"blue\", \"opacity\": 0.3, \"size\": 12}, \"mode\": \"markers\", \"name\": \"Min Quarter value\", \"type\": \"scatter\", \"x\": [2028.0, 2542.0, 2647.0, 2275.0, 2028.0, 2436.0, 2165.0, 2633.0, 2450.0, 2572.0, 2713.0, 4595.0, 2625.0, 2057.0, 2418.0, 2065.0, 2512.0, 2045.0, 4046.0, 2562.0, 2561.0, 2675.0, 2021.0, 2442.0, 2438.0, 2130.0, 2545.0, 2248.0, 3427.0, 2264.0, 2810.0, 2225.0, 2368.0, 3267.0, 2193.0, 2075.0, 2392.0, 2075.0, 2524.0, 2200.0, 2087.0, 2159.0, 3129.0, 2108.0, 2014.0, 2001.0, 2286.0, 2648.0, 2674.0, 2540.0, 2540.0, 2540.0, 2540.0, 2678.0, 2678.0, 2548.0, 2678.0, 2563.0, 2593.0, 2528.0, 2447.0, 2570.0, 2447.0, 2518.0, 2447.0, 2533.0, 2540.0, 2540.0, 2769.0, 2540.0, 2528.0, 2614.0, 2514.0, 2460.0, 2456.0, 2461.0, 2539.0, 2444.0, 2445.0, 2430.0, 2470.0, 2414.0, 2605.0, 2539.0, 2795.0, 2654.0, 2650.0, 2603.0, 2784.0, 2700.0, 2555.0, 2457.0, 2539.0, 2589.0, 2562.0, 2511.0], \"y\": [205000.0, 361000.0, 315000.0, 326000.0, 220000.0, 290000.0, 225000.0, 255000.0, 265000.0, 243000.0, 169500.0, 335000.0, 285000.0, 293000.0, 230000.0, 215000.0, 240000.0, 180000.0, 300000.0, 218500.0, 220100.0, 185000.0, 250000.0, 175000.0, 179900.0, 244000.0, 250000.0, 275000.0, 381000.0, 135000.0, 197000.0, 258300.0, 160000.0, 190000.0, 220000.0, 224000.0, 250000.0, 224000.0, 190000.0, 300000.0, 200000.0, 178000.0, 210000.0, 150000.0, 302000.0, 170000.0, 145900.0, 405000.0, 316000.0, 305000.0, 340000.0, 316000.0, 352000.0, 340000.0, 340000.0, 350000.0, 340000.0, 305000.0, 222000.0, 260000.0, 308000.0, 259000.0, 285000.0, 250000.0, 275000.0, 240000.0, 310000.0, 265000.0, 240000.0, 240000.0, 255000.0, 310000.0, 235000.0, 285000.0, 240000.0, 256000.0, 170000.0, 250000.0, 200000.0, 200000.0, 280000.0, 230000.0, 245000.0, 265000.0, 230000.0, 304000.0, 275000.0, 235000.0, 240000.0, 315000.0, 260640.0, 242500.0, 345000.0, 300000.0, 265000.0, 160000.0]}],\n",
       "                        {\"height\": 400, \"plot_bgcolor\": \"rgba(0,0,0,0)\", \"showlegend\": true, \"template\": {\"data\": {\"bar\": [{\"error_x\": {\"color\": \"#2a3f5f\"}, \"error_y\": {\"color\": \"#2a3f5f\"}, \"marker\": {\"line\": {\"color\": \"#E5ECF6\", \"width\": 0.5}}, \"type\": \"bar\"}], \"barpolar\": [{\"marker\": {\"line\": {\"color\": \"#E5ECF6\", \"width\": 0.5}}, \"type\": \"barpolar\"}], \"carpet\": [{\"aaxis\": {\"endlinecolor\": \"#2a3f5f\", \"gridcolor\": \"white\", \"linecolor\": \"white\", \"minorgridcolor\": \"white\", \"startlinecolor\": \"#2a3f5f\"}, \"baxis\": {\"endlinecolor\": \"#2a3f5f\", \"gridcolor\": \"white\", \"linecolor\": \"white\", \"minorgridcolor\": \"white\", \"startlinecolor\": \"#2a3f5f\"}, \"type\": \"carpet\"}], \"choropleth\": [{\"colorbar\": {\"outlinewidth\": 0, \"ticks\": \"\"}, \"type\": \"choropleth\"}], \"contour\": [{\"colorbar\": {\"outlinewidth\": 0, \"ticks\": \"\"}, \"colorscale\": [[0.0, \"#0d0887\"], [0.1111111111111111, \"#46039f\"], [0.2222222222222222, \"#7201a8\"], [0.3333333333333333, \"#9c179e\"], [0.4444444444444444, \"#bd3786\"], [0.5555555555555556, \"#d8576b\"], [0.6666666666666666, \"#ed7953\"], [0.7777777777777778, \"#fb9f3a\"], [0.8888888888888888, \"#fdca26\"], [1.0, \"#f0f921\"]], \"type\": \"contour\"}], \"contourcarpet\": [{\"colorbar\": {\"outlinewidth\": 0, \"ticks\": \"\"}, \"type\": \"contourcarpet\"}], \"heatmap\": [{\"colorbar\": {\"outlinewidth\": 0, \"ticks\": \"\"}, \"colorscale\": [[0.0, \"#0d0887\"], [0.1111111111111111, \"#46039f\"], [0.2222222222222222, \"#7201a8\"], [0.3333333333333333, \"#9c179e\"], [0.4444444444444444, \"#bd3786\"], [0.5555555555555556, \"#d8576b\"], [0.6666666666666666, \"#ed7953\"], [0.7777777777777778, \"#fb9f3a\"], [0.8888888888888888, \"#fdca26\"], [1.0, \"#f0f921\"]], \"type\": \"heatmap\"}], \"heatmapgl\": [{\"colorbar\": {\"outlinewidth\": 0, \"ticks\": \"\"}, \"colorscale\": [[0.0, \"#0d0887\"], [0.1111111111111111, \"#46039f\"], [0.2222222222222222, \"#7201a8\"], [0.3333333333333333, \"#9c179e\"], [0.4444444444444444, \"#bd3786\"], [0.5555555555555556, \"#d8576b\"], [0.6666666666666666, \"#ed7953\"], [0.7777777777777778, \"#fb9f3a\"], [0.8888888888888888, \"#fdca26\"], [1.0, \"#f0f921\"]], \"type\": \"heatmapgl\"}], \"histogram\": [{\"marker\": {\"colorbar\": {\"outlinewidth\": 0, \"ticks\": \"\"}}, \"type\": \"histogram\"}], \"histogram2d\": [{\"colorbar\": {\"outlinewidth\": 0, \"ticks\": \"\"}, \"colorscale\": [[0.0, \"#0d0887\"], [0.1111111111111111, \"#46039f\"], [0.2222222222222222, \"#7201a8\"], [0.3333333333333333, \"#9c179e\"], [0.4444444444444444, \"#bd3786\"], [0.5555555555555556, \"#d8576b\"], [0.6666666666666666, \"#ed7953\"], [0.7777777777777778, \"#fb9f3a\"], [0.8888888888888888, \"#fdca26\"], [1.0, \"#f0f921\"]], \"type\": \"histogram2d\"}], \"histogram2dcontour\": [{\"colorbar\": {\"outlinewidth\": 0, \"ticks\": \"\"}, \"colorscale\": [[0.0, \"#0d0887\"], [0.1111111111111111, \"#46039f\"], [0.2222222222222222, \"#7201a8\"], [0.3333333333333333, \"#9c179e\"], [0.4444444444444444, \"#bd3786\"], [0.5555555555555556, \"#d8576b\"], [0.6666666666666666, \"#ed7953\"], [0.7777777777777778, \"#fb9f3a\"], [0.8888888888888888, \"#fdca26\"], [1.0, \"#f0f921\"]], \"type\": \"histogram2dcontour\"}], \"mesh3d\": [{\"colorbar\": {\"outlinewidth\": 0, \"ticks\": \"\"}, \"type\": \"mesh3d\"}], \"parcoords\": [{\"line\": {\"colorbar\": {\"outlinewidth\": 0, \"ticks\": \"\"}}, \"type\": \"parcoords\"}], \"pie\": [{\"automargin\": true, \"type\": \"pie\"}], \"scatter\": [{\"marker\": {\"colorbar\": {\"outlinewidth\": 0, \"ticks\": \"\"}}, \"type\": \"scatter\"}], \"scatter3d\": [{\"line\": {\"colorbar\": {\"outlinewidth\": 0, \"ticks\": \"\"}}, \"marker\": {\"colorbar\": {\"outlinewidth\": 0, \"ticks\": \"\"}}, \"type\": \"scatter3d\"}], \"scattercarpet\": [{\"marker\": {\"colorbar\": {\"outlinewidth\": 0, \"ticks\": \"\"}}, \"type\": \"scattercarpet\"}], \"scattergeo\": [{\"marker\": {\"colorbar\": {\"outlinewidth\": 0, \"ticks\": \"\"}}, \"type\": \"scattergeo\"}], \"scattergl\": [{\"marker\": {\"colorbar\": {\"outlinewidth\": 0, \"ticks\": \"\"}}, \"type\": \"scattergl\"}], \"scattermapbox\": [{\"marker\": {\"colorbar\": {\"outlinewidth\": 0, \"ticks\": \"\"}}, \"type\": \"scattermapbox\"}], \"scatterpolar\": [{\"marker\": {\"colorbar\": {\"outlinewidth\": 0, \"ticks\": \"\"}}, \"type\": \"scatterpolar\"}], \"scatterpolargl\": [{\"marker\": {\"colorbar\": {\"outlinewidth\": 0, \"ticks\": \"\"}}, \"type\": \"scatterpolargl\"}], \"scatterternary\": [{\"marker\": {\"colorbar\": {\"outlinewidth\": 0, \"ticks\": \"\"}}, \"type\": \"scatterternary\"}], \"surface\": [{\"colorbar\": {\"outlinewidth\": 0, \"ticks\": \"\"}, \"colorscale\": [[0.0, \"#0d0887\"], [0.1111111111111111, \"#46039f\"], [0.2222222222222222, \"#7201a8\"], [0.3333333333333333, \"#9c179e\"], [0.4444444444444444, \"#bd3786\"], [0.5555555555555556, \"#d8576b\"], [0.6666666666666666, \"#ed7953\"], [0.7777777777777778, \"#fb9f3a\"], [0.8888888888888888, \"#fdca26\"], [1.0, \"#f0f921\"]], \"type\": \"surface\"}], \"table\": [{\"cells\": {\"fill\": {\"color\": \"#EBF0F8\"}, \"line\": {\"color\": \"white\"}}, \"header\": {\"fill\": {\"color\": \"#C8D4E3\"}, \"line\": {\"color\": \"white\"}}, \"type\": \"table\"}]}, \"layout\": {\"annotationdefaults\": {\"arrowcolor\": \"#2a3f5f\", \"arrowhead\": 0, \"arrowwidth\": 1}, \"coloraxis\": {\"colorbar\": {\"outlinewidth\": 0, \"ticks\": \"\"}}, \"colorscale\": {\"diverging\": [[0, \"#8e0152\"], [0.1, \"#c51b7d\"], [0.2, \"#de77ae\"], [0.3, \"#f1b6da\"], [0.4, \"#fde0ef\"], [0.5, \"#f7f7f7\"], [0.6, \"#e6f5d0\"], [0.7, \"#b8e186\"], [0.8, \"#7fbc41\"], [0.9, \"#4d9221\"], [1, \"#276419\"]], \"sequential\": [[0.0, \"#0d0887\"], [0.1111111111111111, \"#46039f\"], [0.2222222222222222, \"#7201a8\"], [0.3333333333333333, \"#9c179e\"], [0.4444444444444444, \"#bd3786\"], [0.5555555555555556, \"#d8576b\"], [0.6666666666666666, \"#ed7953\"], [0.7777777777777778, \"#fb9f3a\"], [0.8888888888888888, \"#fdca26\"], [1.0, \"#f0f921\"]], \"sequentialminus\": [[0.0, \"#0d0887\"], [0.1111111111111111, \"#46039f\"], [0.2222222222222222, \"#7201a8\"], [0.3333333333333333, \"#9c179e\"], [0.4444444444444444, \"#bd3786\"], [0.5555555555555556, \"#d8576b\"], [0.6666666666666666, \"#ed7953\"], [0.7777777777777778, \"#fb9f3a\"], [0.8888888888888888, \"#fdca26\"], [1.0, \"#f0f921\"]]}, \"colorway\": [\"#636efa\", \"#EF553B\", \"#00cc96\", \"#ab63fa\", \"#FFA15A\", \"#19d3f3\", \"#FF6692\", \"#B6E880\", \"#FF97FF\", \"#FECB52\"], \"font\": {\"color\": \"#2a3f5f\"}, \"geo\": {\"bgcolor\": \"white\", \"lakecolor\": \"white\", \"landcolor\": \"#E5ECF6\", \"showlakes\": true, \"showland\": true, \"subunitcolor\": \"white\"}, \"hoverlabel\": {\"align\": \"left\"}, \"hovermode\": \"closest\", \"mapbox\": {\"style\": \"light\"}, \"paper_bgcolor\": \"white\", \"plot_bgcolor\": \"#E5ECF6\", \"polar\": {\"angularaxis\": {\"gridcolor\": \"white\", \"linecolor\": \"white\", \"ticks\": \"\"}, \"bgcolor\": \"#E5ECF6\", \"radialaxis\": {\"gridcolor\": \"white\", \"linecolor\": \"white\", \"ticks\": \"\"}}, \"scene\": {\"xaxis\": {\"backgroundcolor\": \"#E5ECF6\", \"gridcolor\": \"white\", \"gridwidth\": 2, \"linecolor\": \"white\", \"showbackground\": true, \"ticks\": \"\", \"zerolinecolor\": \"white\"}, \"yaxis\": {\"backgroundcolor\": \"#E5ECF6\", \"gridcolor\": \"white\", \"gridwidth\": 2, \"linecolor\": \"white\", \"showbackground\": true, \"ticks\": \"\", \"zerolinecolor\": \"white\"}, \"zaxis\": {\"backgroundcolor\": \"#E5ECF6\", \"gridcolor\": \"white\", \"gridwidth\": 2, \"linecolor\": \"white\", \"showbackground\": true, \"ticks\": \"\", \"zerolinecolor\": \"white\"}}, \"shapedefaults\": {\"line\": {\"color\": \"#2a3f5f\"}}, \"ternary\": {\"aaxis\": {\"gridcolor\": \"white\", \"linecolor\": \"white\", \"ticks\": \"\"}, \"baxis\": {\"gridcolor\": \"white\", \"linecolor\": \"white\", \"ticks\": \"\"}, \"bgcolor\": \"#E5ECF6\", \"caxis\": {\"gridcolor\": \"white\", \"linecolor\": \"white\", \"ticks\": \"\"}}, \"title\": {\"x\": 0.05}, \"xaxis\": {\"automargin\": true, \"gridcolor\": \"white\", \"linecolor\": \"white\", \"ticks\": \"\", \"title\": {\"standoff\": 15}, \"zerolinecolor\": \"white\", \"zerolinewidth\": 2}, \"yaxis\": {\"automargin\": true, \"gridcolor\": \"white\", \"linecolor\": \"white\", \"ticks\": \"\", \"title\": {\"standoff\": 15}, \"zerolinecolor\": \"white\", \"zerolinewidth\": 2}}}, \"title\": {\"text\": \"Price change Dorado del Mar 2008-2019\"}, \"width\": 700, \"xaxis\": {\"gridcolor\": \"#EEEEEE\", \"nticks\": 10, \"tickfont\": {\"size\": 12}}, \"yaxis\": {\"gridcolor\": \"#EEEEEE\", \"nticks\": 10}},\n",
       "                        {\"responsive\": true}\n",
       "                    ).then(function(){\n",
       "                            \n",
       "var gd = document.getElementById('8393b2cf-91d5-4830-ab7c-87fc163c00f6');\n",
       "var x = new MutationObserver(function (mutations, observer) {{\n",
       "        var display = window.getComputedStyle(gd).display;\n",
       "        if (!display || display === 'none') {{\n",
       "            console.log([gd, 'removed!']);\n",
       "            Plotly.purge(gd);\n",
       "            observer.disconnect();\n",
       "        }}\n",
       "}});\n",
       "\n",
       "// Listen for the removal of the full notebook cells\n",
       "var notebookContainer = gd.closest('#notebook-container');\n",
       "if (notebookContainer) {{\n",
       "    x.observe(notebookContainer, {childList: true});\n",
       "}}\n",
       "\n",
       "// Listen for the clearing of the current output cell\n",
       "var outputEl = gd.closest('.output');\n",
       "if (outputEl) {{\n",
       "    x.observe(outputEl, {childList: true});\n",
       "}}\n",
       "\n",
       "                        })\n",
       "                };\n",
       "                });\n",
       "            </script>\n",
       "        </div>"
      ]
     },
     "metadata": {},
     "output_type": "display_data"
    }
   ],
   "source": [
    "fig = go.Figure()\n",
    "fig.add_trace(go.Scatter(x= comps['GLA(feet)'], \n",
    "                         y= comps['Sale price'],\n",
    "                         mode='markers',\n",
    "                         marker_color='blue',\n",
    "                         marker_size=12,\n",
    "                         marker_opacity=0.3,\n",
    "                         name = 'Min Quarter value',\n",
    "                        ),\n",
    "             )\n",
    "fig.update_layout(title_text='Price change Dorado del Mar 2008-2019',\n",
    "                  width=700, height=400, plot_bgcolor='rgba(0,0,0,0)', showlegend=True,\n",
    "                  yaxis=dict(gridcolor='#EEEEEE', nticks=10),\n",
    "                  xaxis=dict(nticks=10, gridcolor='#EEEEEE', \n",
    "                             tickfont=dict(size=12)))\n",
    "fig.show()"
   ]
  },
  {
   "cell_type": "markdown",
   "metadata": {},
   "source": [
    "## pricy"
   ]
  },
  {
   "cell_type": "code",
   "execution_count": 18,
   "metadata": {},
   "outputs": [],
   "source": [
    "pricy = del_mar_full[del_mar_full['Sale price'] >=250000].reset_index(drop=True)"
   ]
  },
  {
   "cell_type": "code",
   "execution_count": 19,
   "metadata": {},
   "outputs": [
    {
     "data": {
      "application/vnd.plotly.v1+json": {
       "config": {
        "plotlyServerURL": "https://plot.ly"
       },
       "data": [
        {
         "name": "All houses",
         "opacity": 0.8,
         "type": "histogram",
         "x": [
          1884,
          1990,
          2542,
          2647,
          1293,
          2275,
          1395,
          1196,
          1360,
          2436,
          1196,
          1259,
          1902,
          2633,
          2450,
          1314,
          4595,
          2625,
          2057,
          1282,
          1967,
          1739,
          1739,
          4046,
          1960,
          2021,
          1609,
          2545,
          2248,
          3427,
          2225,
          2392,
          2200,
          2014,
          2648,
          2674,
          2540,
          2540,
          2540,
          2540,
          2678,
          2678,
          2548,
          2678,
          2563,
          2528,
          2447,
          2570,
          2447,
          2518,
          2447,
          2540,
          2540,
          2528,
          2614,
          2460,
          2461,
          2444,
          2470,
          2539,
          1154,
          1944,
          1953,
          2654,
          2650,
          2700,
          2555,
          2539,
          2589,
          2562
         ],
         "xaxis": "x",
         "xbins": {
          "size": 300
         },
         "yaxis": "y"
        },
        {
         "name": "All houses",
         "opacity": 0.8,
         "type": "histogram",
         "x": [
          3,
          3,
          4,
          4,
          3,
          4,
          3,
          3,
          3,
          4,
          3,
          3,
          3,
          4,
          3,
          null,
          3,
          4,
          4,
          3,
          2,
          3,
          3,
          3,
          4,
          3,
          3,
          2,
          4,
          4,
          4,
          4,
          4,
          3,
          4,
          null,
          null,
          null,
          4,
          4,
          4,
          4,
          4,
          4,
          4,
          4,
          4,
          4,
          4,
          4,
          4,
          4,
          4,
          4,
          4,
          4,
          4,
          4,
          4,
          4,
          4,
          4,
          null,
          4,
          null,
          4,
          2,
          null,
          3,
          3,
          4,
          4,
          4,
          4,
          4,
          4,
          4
         ],
         "xaxis": "x2",
         "xbins": {
          "size": 1
         },
         "yaxis": "y2"
        },
        {
         "name": "All houses",
         "opacity": 0.8,
         "type": "histogram",
         "x": [
          3,
          3,
          2,
          3,
          2,
          2,
          3,
          2,
          2,
          3,
          null,
          2,
          3,
          5,
          2,
          null,
          2,
          5,
          5,
          3,
          2,
          3,
          2,
          2,
          5,
          2,
          3,
          2,
          5,
          3,
          3,
          4,
          5,
          3,
          3,
          null,
          null,
          null,
          5,
          5,
          5,
          5,
          5,
          5,
          5,
          5,
          5,
          5,
          5,
          5,
          5,
          5,
          5,
          5,
          5,
          5,
          5,
          5,
          5,
          5,
          5,
          5,
          null,
          5,
          null,
          5,
          2,
          null,
          3,
          3,
          5,
          4,
          5,
          5,
          5,
          5,
          5
         ],
         "xaxis": "x3",
         "xbins": {
          "size": 1
         },
         "yaxis": "y3"
        }
       ],
       "layout": {
        "barmode": "overlay",
        "height": 500,
        "plot_bgcolor": "rgba(0,0,0,0)",
        "showlegend": false,
        "template": {
         "data": {
          "bar": [
           {
            "error_x": {
             "color": "#2a3f5f"
            },
            "error_y": {
             "color": "#2a3f5f"
            },
            "marker": {
             "line": {
              "color": "#E5ECF6",
              "width": 0.5
             }
            },
            "type": "bar"
           }
          ],
          "barpolar": [
           {
            "marker": {
             "line": {
              "color": "#E5ECF6",
              "width": 0.5
             }
            },
            "type": "barpolar"
           }
          ],
          "carpet": [
           {
            "aaxis": {
             "endlinecolor": "#2a3f5f",
             "gridcolor": "white",
             "linecolor": "white",
             "minorgridcolor": "white",
             "startlinecolor": "#2a3f5f"
            },
            "baxis": {
             "endlinecolor": "#2a3f5f",
             "gridcolor": "white",
             "linecolor": "white",
             "minorgridcolor": "white",
             "startlinecolor": "#2a3f5f"
            },
            "type": "carpet"
           }
          ],
          "choropleth": [
           {
            "colorbar": {
             "outlinewidth": 0,
             "ticks": ""
            },
            "type": "choropleth"
           }
          ],
          "contour": [
           {
            "colorbar": {
             "outlinewidth": 0,
             "ticks": ""
            },
            "colorscale": [
             [
              0,
              "#0d0887"
             ],
             [
              0.1111111111111111,
              "#46039f"
             ],
             [
              0.2222222222222222,
              "#7201a8"
             ],
             [
              0.3333333333333333,
              "#9c179e"
             ],
             [
              0.4444444444444444,
              "#bd3786"
             ],
             [
              0.5555555555555556,
              "#d8576b"
             ],
             [
              0.6666666666666666,
              "#ed7953"
             ],
             [
              0.7777777777777778,
              "#fb9f3a"
             ],
             [
              0.8888888888888888,
              "#fdca26"
             ],
             [
              1,
              "#f0f921"
             ]
            ],
            "type": "contour"
           }
          ],
          "contourcarpet": [
           {
            "colorbar": {
             "outlinewidth": 0,
             "ticks": ""
            },
            "type": "contourcarpet"
           }
          ],
          "heatmap": [
           {
            "colorbar": {
             "outlinewidth": 0,
             "ticks": ""
            },
            "colorscale": [
             [
              0,
              "#0d0887"
             ],
             [
              0.1111111111111111,
              "#46039f"
             ],
             [
              0.2222222222222222,
              "#7201a8"
             ],
             [
              0.3333333333333333,
              "#9c179e"
             ],
             [
              0.4444444444444444,
              "#bd3786"
             ],
             [
              0.5555555555555556,
              "#d8576b"
             ],
             [
              0.6666666666666666,
              "#ed7953"
             ],
             [
              0.7777777777777778,
              "#fb9f3a"
             ],
             [
              0.8888888888888888,
              "#fdca26"
             ],
             [
              1,
              "#f0f921"
             ]
            ],
            "type": "heatmap"
           }
          ],
          "heatmapgl": [
           {
            "colorbar": {
             "outlinewidth": 0,
             "ticks": ""
            },
            "colorscale": [
             [
              0,
              "#0d0887"
             ],
             [
              0.1111111111111111,
              "#46039f"
             ],
             [
              0.2222222222222222,
              "#7201a8"
             ],
             [
              0.3333333333333333,
              "#9c179e"
             ],
             [
              0.4444444444444444,
              "#bd3786"
             ],
             [
              0.5555555555555556,
              "#d8576b"
             ],
             [
              0.6666666666666666,
              "#ed7953"
             ],
             [
              0.7777777777777778,
              "#fb9f3a"
             ],
             [
              0.8888888888888888,
              "#fdca26"
             ],
             [
              1,
              "#f0f921"
             ]
            ],
            "type": "heatmapgl"
           }
          ],
          "histogram": [
           {
            "marker": {
             "colorbar": {
              "outlinewidth": 0,
              "ticks": ""
             }
            },
            "type": "histogram"
           }
          ],
          "histogram2d": [
           {
            "colorbar": {
             "outlinewidth": 0,
             "ticks": ""
            },
            "colorscale": [
             [
              0,
              "#0d0887"
             ],
             [
              0.1111111111111111,
              "#46039f"
             ],
             [
              0.2222222222222222,
              "#7201a8"
             ],
             [
              0.3333333333333333,
              "#9c179e"
             ],
             [
              0.4444444444444444,
              "#bd3786"
             ],
             [
              0.5555555555555556,
              "#d8576b"
             ],
             [
              0.6666666666666666,
              "#ed7953"
             ],
             [
              0.7777777777777778,
              "#fb9f3a"
             ],
             [
              0.8888888888888888,
              "#fdca26"
             ],
             [
              1,
              "#f0f921"
             ]
            ],
            "type": "histogram2d"
           }
          ],
          "histogram2dcontour": [
           {
            "colorbar": {
             "outlinewidth": 0,
             "ticks": ""
            },
            "colorscale": [
             [
              0,
              "#0d0887"
             ],
             [
              0.1111111111111111,
              "#46039f"
             ],
             [
              0.2222222222222222,
              "#7201a8"
             ],
             [
              0.3333333333333333,
              "#9c179e"
             ],
             [
              0.4444444444444444,
              "#bd3786"
             ],
             [
              0.5555555555555556,
              "#d8576b"
             ],
             [
              0.6666666666666666,
              "#ed7953"
             ],
             [
              0.7777777777777778,
              "#fb9f3a"
             ],
             [
              0.8888888888888888,
              "#fdca26"
             ],
             [
              1,
              "#f0f921"
             ]
            ],
            "type": "histogram2dcontour"
           }
          ],
          "mesh3d": [
           {
            "colorbar": {
             "outlinewidth": 0,
             "ticks": ""
            },
            "type": "mesh3d"
           }
          ],
          "parcoords": [
           {
            "line": {
             "colorbar": {
              "outlinewidth": 0,
              "ticks": ""
             }
            },
            "type": "parcoords"
           }
          ],
          "pie": [
           {
            "automargin": true,
            "type": "pie"
           }
          ],
          "scatter": [
           {
            "marker": {
             "colorbar": {
              "outlinewidth": 0,
              "ticks": ""
             }
            },
            "type": "scatter"
           }
          ],
          "scatter3d": [
           {
            "line": {
             "colorbar": {
              "outlinewidth": 0,
              "ticks": ""
             }
            },
            "marker": {
             "colorbar": {
              "outlinewidth": 0,
              "ticks": ""
             }
            },
            "type": "scatter3d"
           }
          ],
          "scattercarpet": [
           {
            "marker": {
             "colorbar": {
              "outlinewidth": 0,
              "ticks": ""
             }
            },
            "type": "scattercarpet"
           }
          ],
          "scattergeo": [
           {
            "marker": {
             "colorbar": {
              "outlinewidth": 0,
              "ticks": ""
             }
            },
            "type": "scattergeo"
           }
          ],
          "scattergl": [
           {
            "marker": {
             "colorbar": {
              "outlinewidth": 0,
              "ticks": ""
             }
            },
            "type": "scattergl"
           }
          ],
          "scattermapbox": [
           {
            "marker": {
             "colorbar": {
              "outlinewidth": 0,
              "ticks": ""
             }
            },
            "type": "scattermapbox"
           }
          ],
          "scatterpolar": [
           {
            "marker": {
             "colorbar": {
              "outlinewidth": 0,
              "ticks": ""
             }
            },
            "type": "scatterpolar"
           }
          ],
          "scatterpolargl": [
           {
            "marker": {
             "colorbar": {
              "outlinewidth": 0,
              "ticks": ""
             }
            },
            "type": "scatterpolargl"
           }
          ],
          "scatterternary": [
           {
            "marker": {
             "colorbar": {
              "outlinewidth": 0,
              "ticks": ""
             }
            },
            "type": "scatterternary"
           }
          ],
          "surface": [
           {
            "colorbar": {
             "outlinewidth": 0,
             "ticks": ""
            },
            "colorscale": [
             [
              0,
              "#0d0887"
             ],
             [
              0.1111111111111111,
              "#46039f"
             ],
             [
              0.2222222222222222,
              "#7201a8"
             ],
             [
              0.3333333333333333,
              "#9c179e"
             ],
             [
              0.4444444444444444,
              "#bd3786"
             ],
             [
              0.5555555555555556,
              "#d8576b"
             ],
             [
              0.6666666666666666,
              "#ed7953"
             ],
             [
              0.7777777777777778,
              "#fb9f3a"
             ],
             [
              0.8888888888888888,
              "#fdca26"
             ],
             [
              1,
              "#f0f921"
             ]
            ],
            "type": "surface"
           }
          ],
          "table": [
           {
            "cells": {
             "fill": {
              "color": "#EBF0F8"
             },
             "line": {
              "color": "white"
             }
            },
            "header": {
             "fill": {
              "color": "#C8D4E3"
             },
             "line": {
              "color": "white"
             }
            },
            "type": "table"
           }
          ]
         },
         "layout": {
          "annotationdefaults": {
           "arrowcolor": "#2a3f5f",
           "arrowhead": 0,
           "arrowwidth": 1
          },
          "coloraxis": {
           "colorbar": {
            "outlinewidth": 0,
            "ticks": ""
           }
          },
          "colorscale": {
           "diverging": [
            [
             0,
             "#8e0152"
            ],
            [
             0.1,
             "#c51b7d"
            ],
            [
             0.2,
             "#de77ae"
            ],
            [
             0.3,
             "#f1b6da"
            ],
            [
             0.4,
             "#fde0ef"
            ],
            [
             0.5,
             "#f7f7f7"
            ],
            [
             0.6,
             "#e6f5d0"
            ],
            [
             0.7,
             "#b8e186"
            ],
            [
             0.8,
             "#7fbc41"
            ],
            [
             0.9,
             "#4d9221"
            ],
            [
             1,
             "#276419"
            ]
           ],
           "sequential": [
            [
             0,
             "#0d0887"
            ],
            [
             0.1111111111111111,
             "#46039f"
            ],
            [
             0.2222222222222222,
             "#7201a8"
            ],
            [
             0.3333333333333333,
             "#9c179e"
            ],
            [
             0.4444444444444444,
             "#bd3786"
            ],
            [
             0.5555555555555556,
             "#d8576b"
            ],
            [
             0.6666666666666666,
             "#ed7953"
            ],
            [
             0.7777777777777778,
             "#fb9f3a"
            ],
            [
             0.8888888888888888,
             "#fdca26"
            ],
            [
             1,
             "#f0f921"
            ]
           ],
           "sequentialminus": [
            [
             0,
             "#0d0887"
            ],
            [
             0.1111111111111111,
             "#46039f"
            ],
            [
             0.2222222222222222,
             "#7201a8"
            ],
            [
             0.3333333333333333,
             "#9c179e"
            ],
            [
             0.4444444444444444,
             "#bd3786"
            ],
            [
             0.5555555555555556,
             "#d8576b"
            ],
            [
             0.6666666666666666,
             "#ed7953"
            ],
            [
             0.7777777777777778,
             "#fb9f3a"
            ],
            [
             0.8888888888888888,
             "#fdca26"
            ],
            [
             1,
             "#f0f921"
            ]
           ]
          },
          "colorway": [
           "#636efa",
           "#EF553B",
           "#00cc96",
           "#ab63fa",
           "#FFA15A",
           "#19d3f3",
           "#FF6692",
           "#B6E880",
           "#FF97FF",
           "#FECB52"
          ],
          "font": {
           "color": "#2a3f5f"
          },
          "geo": {
           "bgcolor": "white",
           "lakecolor": "white",
           "landcolor": "#E5ECF6",
           "showlakes": true,
           "showland": true,
           "subunitcolor": "white"
          },
          "hoverlabel": {
           "align": "left"
          },
          "hovermode": "closest",
          "mapbox": {
           "style": "light"
          },
          "paper_bgcolor": "white",
          "plot_bgcolor": "#E5ECF6",
          "polar": {
           "angularaxis": {
            "gridcolor": "white",
            "linecolor": "white",
            "ticks": ""
           },
           "bgcolor": "#E5ECF6",
           "radialaxis": {
            "gridcolor": "white",
            "linecolor": "white",
            "ticks": ""
           }
          },
          "scene": {
           "xaxis": {
            "backgroundcolor": "#E5ECF6",
            "gridcolor": "white",
            "gridwidth": 2,
            "linecolor": "white",
            "showbackground": true,
            "ticks": "",
            "zerolinecolor": "white"
           },
           "yaxis": {
            "backgroundcolor": "#E5ECF6",
            "gridcolor": "white",
            "gridwidth": 2,
            "linecolor": "white",
            "showbackground": true,
            "ticks": "",
            "zerolinecolor": "white"
           },
           "zaxis": {
            "backgroundcolor": "#E5ECF6",
            "gridcolor": "white",
            "gridwidth": 2,
            "linecolor": "white",
            "showbackground": true,
            "ticks": "",
            "zerolinecolor": "white"
           }
          },
          "shapedefaults": {
           "line": {
            "color": "#2a3f5f"
           }
          },
          "ternary": {
           "aaxis": {
            "gridcolor": "white",
            "linecolor": "white",
            "ticks": ""
           },
           "baxis": {
            "gridcolor": "white",
            "linecolor": "white",
            "ticks": ""
           },
           "bgcolor": "#E5ECF6",
           "caxis": {
            "gridcolor": "white",
            "linecolor": "white",
            "ticks": ""
           }
          },
          "title": {
           "x": 0.05
          },
          "xaxis": {
           "automargin": true,
           "gridcolor": "white",
           "linecolor": "white",
           "ticks": "",
           "title": {
            "standoff": 15
           },
           "zerolinecolor": "white",
           "zerolinewidth": 2
          },
          "yaxis": {
           "automargin": true,
           "gridcolor": "white",
           "linecolor": "white",
           "ticks": "",
           "title": {
            "standoff": 15
           },
           "zerolinecolor": "white",
           "zerolinewidth": 2
          }
         }
        },
        "title": {
         "text": "GLA distribution of the sold houses"
        },
        "width": 900,
        "xaxis": {
         "anchor": "y",
         "domain": [
          0,
          0.4465116279069768
         ],
         "gridcolor": "#EEEEEE",
         "gridwidth": 0.1,
         "nticks": 18,
         "showgrid": true,
         "tickfont": {
          "size": 12
         },
         "title": {
          "text": "Area"
         }
        },
        "xaxis2": {
         "anchor": "y2",
         "domain": [
          0.4665116279069768,
          0.7232558139534885
         ],
         "gridcolor": "#EEEEEE",
         "gridwidth": 0.1,
         "showgrid": true,
         "title": {
          "text": "Bedrooms"
         }
        },
        "xaxis3": {
         "anchor": "y3",
         "domain": [
          0.7432558139534885,
          1
         ],
         "gridcolor": "#EEEEEE",
         "gridwidth": 0.1,
         "showgrid": true,
         "title": {
          "text": "Bathrooms"
         }
        },
        "yaxis": {
         "anchor": "x",
         "domain": [
          0,
          1
         ],
         "gridcolor": "#EEEEEE",
         "gridwidth": 0.1,
         "nticks": 5,
         "showgrid": true
        },
        "yaxis2": {
         "anchor": "x2",
         "domain": [
          0,
          1
         ],
         "gridcolor": "#EEEEEE",
         "gridwidth": 0.1,
         "matches": "y",
         "showgrid": true,
         "showticklabels": false
        },
        "yaxis3": {
         "anchor": "x3",
         "domain": [
          0,
          1
         ],
         "gridcolor": "#EEEEEE",
         "gridwidth": 0.1,
         "matches": "y",
         "showgrid": true,
         "showticklabels": false
        }
       }
      },
      "text/html": [
       "<div>\n",
       "        \n",
       "        \n",
       "            <div id=\"6c3e9a1b-fe30-4cbe-a6e0-2537ea89f332\" class=\"plotly-graph-div\" style=\"height:500px; width:900px;\"></div>\n",
       "            <script type=\"text/javascript\">\n",
       "                require([\"plotly\"], function(Plotly) {\n",
       "                    window.PLOTLYENV=window.PLOTLYENV || {};\n",
       "                    \n",
       "                if (document.getElementById(\"6c3e9a1b-fe30-4cbe-a6e0-2537ea89f332\")) {\n",
       "                    Plotly.newPlot(\n",
       "                        '6c3e9a1b-fe30-4cbe-a6e0-2537ea89f332',\n",
       "                        [{\"name\": \"All houses\", \"opacity\": 0.8, \"type\": \"histogram\", \"x\": [1884.0, 1990.0, 2542.0, 2647.0, 1293.0, 2275.0, 1395.0, 1196.0, 1360.0, 2436.0, 1196.0, 1259.0, 1902.0, 2633.0, 2450.0, 1314.0, 4595.0, 2625.0, 2057.0, 1282.0, 1967.0, 1739.0, 1739.0, 4046.0, 1960.0, 2021.0, 1609.0, 2545.0, 2248.0, 3427.0, 2225.0, 2392.0, 2200.0, 2014.0, 2648.0, 2674.0, 2540.0, 2540.0, 2540.0, 2540.0, 2678.0, 2678.0, 2548.0, 2678.0, 2563.0, 2528.0, 2447.0, 2570.0, 2447.0, 2518.0, 2447.0, 2540.0, 2540.0, 2528.0, 2614.0, 2460.0, 2461.0, 2444.0, 2470.0, 2539.0, 1154.0, 1944.0, 1953.0, 2654.0, 2650.0, 2700.0, 2555.0, 2539.0, 2589.0, 2562.0], \"xaxis\": \"x\", \"xbins\": {\"size\": 300}, \"yaxis\": \"y\"}, {\"name\": \"All houses\", \"opacity\": 0.8, \"type\": \"histogram\", \"x\": [3.0, 3.0, 4.0, 4.0, 3.0, 4.0, 3.0, 3.0, 3.0, 4.0, 3.0, 3.0, 3.0, 4.0, 3.0, null, 3.0, 4.0, 4.0, 3.0, 2.0, 3.0, 3.0, 3.0, 4.0, 3.0, 3.0, 2.0, 4.0, 4.0, 4.0, 4.0, 4.0, 3.0, 4.0, null, null, null, 4.0, 4.0, 4.0, 4.0, 4.0, 4.0, 4.0, 4.0, 4.0, 4.0, 4.0, 4.0, 4.0, 4.0, 4.0, 4.0, 4.0, 4.0, 4.0, 4.0, 4.0, 4.0, 4.0, 4.0, null, 4.0, null, 4.0, 2.0, null, 3.0, 3.0, 4.0, 4.0, 4.0, 4.0, 4.0, 4.0, 4.0], \"xaxis\": \"x2\", \"xbins\": {\"size\": 1}, \"yaxis\": \"y2\"}, {\"name\": \"All houses\", \"opacity\": 0.8, \"type\": \"histogram\", \"x\": [3.0, 3.0, 2.0, 3.0, 2.0, 2.0, 3.0, 2.0, 2.0, 3.0, null, 2.0, 3.0, 5.0, 2.0, null, 2.0, 5.0, 5.0, 3.0, 2.0, 3.0, 2.0, 2.0, 5.0, 2.0, 3.0, 2.0, 5.0, 3.0, 3.0, 4.0, 5.0, 3.0, 3.0, null, null, null, 5.0, 5.0, 5.0, 5.0, 5.0, 5.0, 5.0, 5.0, 5.0, 5.0, 5.0, 5.0, 5.0, 5.0, 5.0, 5.0, 5.0, 5.0, 5.0, 5.0, 5.0, 5.0, 5.0, 5.0, null, 5.0, null, 5.0, 2.0, null, 3.0, 3.0, 5.0, 4.0, 5.0, 5.0, 5.0, 5.0, 5.0], \"xaxis\": \"x3\", \"xbins\": {\"size\": 1}, \"yaxis\": \"y3\"}],\n",
       "                        {\"barmode\": \"overlay\", \"height\": 500, \"plot_bgcolor\": \"rgba(0,0,0,0)\", \"showlegend\": false, \"template\": {\"data\": {\"bar\": [{\"error_x\": {\"color\": \"#2a3f5f\"}, \"error_y\": {\"color\": \"#2a3f5f\"}, \"marker\": {\"line\": {\"color\": \"#E5ECF6\", \"width\": 0.5}}, \"type\": \"bar\"}], \"barpolar\": [{\"marker\": {\"line\": {\"color\": \"#E5ECF6\", \"width\": 0.5}}, \"type\": \"barpolar\"}], \"carpet\": [{\"aaxis\": {\"endlinecolor\": \"#2a3f5f\", \"gridcolor\": \"white\", \"linecolor\": \"white\", \"minorgridcolor\": \"white\", \"startlinecolor\": \"#2a3f5f\"}, \"baxis\": {\"endlinecolor\": \"#2a3f5f\", \"gridcolor\": \"white\", \"linecolor\": \"white\", \"minorgridcolor\": \"white\", \"startlinecolor\": \"#2a3f5f\"}, \"type\": \"carpet\"}], \"choropleth\": [{\"colorbar\": {\"outlinewidth\": 0, \"ticks\": \"\"}, \"type\": \"choropleth\"}], \"contour\": [{\"colorbar\": {\"outlinewidth\": 0, \"ticks\": \"\"}, \"colorscale\": [[0.0, \"#0d0887\"], [0.1111111111111111, \"#46039f\"], [0.2222222222222222, \"#7201a8\"], [0.3333333333333333, \"#9c179e\"], [0.4444444444444444, \"#bd3786\"], [0.5555555555555556, \"#d8576b\"], [0.6666666666666666, \"#ed7953\"], [0.7777777777777778, \"#fb9f3a\"], [0.8888888888888888, \"#fdca26\"], [1.0, \"#f0f921\"]], \"type\": \"contour\"}], \"contourcarpet\": [{\"colorbar\": {\"outlinewidth\": 0, \"ticks\": \"\"}, \"type\": \"contourcarpet\"}], \"heatmap\": [{\"colorbar\": {\"outlinewidth\": 0, \"ticks\": \"\"}, \"colorscale\": [[0.0, \"#0d0887\"], [0.1111111111111111, \"#46039f\"], [0.2222222222222222, \"#7201a8\"], [0.3333333333333333, \"#9c179e\"], [0.4444444444444444, \"#bd3786\"], [0.5555555555555556, \"#d8576b\"], [0.6666666666666666, \"#ed7953\"], [0.7777777777777778, \"#fb9f3a\"], [0.8888888888888888, \"#fdca26\"], [1.0, \"#f0f921\"]], \"type\": \"heatmap\"}], \"heatmapgl\": [{\"colorbar\": {\"outlinewidth\": 0, \"ticks\": \"\"}, \"colorscale\": [[0.0, \"#0d0887\"], [0.1111111111111111, \"#46039f\"], [0.2222222222222222, \"#7201a8\"], [0.3333333333333333, \"#9c179e\"], [0.4444444444444444, \"#bd3786\"], [0.5555555555555556, \"#d8576b\"], [0.6666666666666666, \"#ed7953\"], [0.7777777777777778, \"#fb9f3a\"], [0.8888888888888888, \"#fdca26\"], [1.0, \"#f0f921\"]], \"type\": \"heatmapgl\"}], \"histogram\": [{\"marker\": {\"colorbar\": {\"outlinewidth\": 0, \"ticks\": \"\"}}, \"type\": \"histogram\"}], \"histogram2d\": [{\"colorbar\": {\"outlinewidth\": 0, \"ticks\": \"\"}, \"colorscale\": [[0.0, \"#0d0887\"], [0.1111111111111111, \"#46039f\"], [0.2222222222222222, \"#7201a8\"], [0.3333333333333333, \"#9c179e\"], [0.4444444444444444, \"#bd3786\"], [0.5555555555555556, \"#d8576b\"], [0.6666666666666666, \"#ed7953\"], [0.7777777777777778, \"#fb9f3a\"], [0.8888888888888888, \"#fdca26\"], [1.0, \"#f0f921\"]], \"type\": \"histogram2d\"}], \"histogram2dcontour\": [{\"colorbar\": {\"outlinewidth\": 0, \"ticks\": \"\"}, \"colorscale\": [[0.0, \"#0d0887\"], [0.1111111111111111, \"#46039f\"], [0.2222222222222222, \"#7201a8\"], [0.3333333333333333, \"#9c179e\"], [0.4444444444444444, \"#bd3786\"], [0.5555555555555556, \"#d8576b\"], [0.6666666666666666, \"#ed7953\"], [0.7777777777777778, \"#fb9f3a\"], [0.8888888888888888, \"#fdca26\"], [1.0, \"#f0f921\"]], \"type\": \"histogram2dcontour\"}], \"mesh3d\": [{\"colorbar\": {\"outlinewidth\": 0, \"ticks\": \"\"}, \"type\": \"mesh3d\"}], \"parcoords\": [{\"line\": {\"colorbar\": {\"outlinewidth\": 0, \"ticks\": \"\"}}, \"type\": \"parcoords\"}], \"pie\": [{\"automargin\": true, \"type\": \"pie\"}], \"scatter\": [{\"marker\": {\"colorbar\": {\"outlinewidth\": 0, \"ticks\": \"\"}}, \"type\": \"scatter\"}], \"scatter3d\": [{\"line\": {\"colorbar\": {\"outlinewidth\": 0, \"ticks\": \"\"}}, \"marker\": {\"colorbar\": {\"outlinewidth\": 0, \"ticks\": \"\"}}, \"type\": \"scatter3d\"}], \"scattercarpet\": [{\"marker\": {\"colorbar\": {\"outlinewidth\": 0, \"ticks\": \"\"}}, \"type\": \"scattercarpet\"}], \"scattergeo\": [{\"marker\": {\"colorbar\": {\"outlinewidth\": 0, \"ticks\": \"\"}}, \"type\": \"scattergeo\"}], \"scattergl\": [{\"marker\": {\"colorbar\": {\"outlinewidth\": 0, \"ticks\": \"\"}}, \"type\": \"scattergl\"}], \"scattermapbox\": [{\"marker\": {\"colorbar\": {\"outlinewidth\": 0, \"ticks\": \"\"}}, \"type\": \"scattermapbox\"}], \"scatterpolar\": [{\"marker\": {\"colorbar\": {\"outlinewidth\": 0, \"ticks\": \"\"}}, \"type\": \"scatterpolar\"}], \"scatterpolargl\": [{\"marker\": {\"colorbar\": {\"outlinewidth\": 0, \"ticks\": \"\"}}, \"type\": \"scatterpolargl\"}], \"scatterternary\": [{\"marker\": {\"colorbar\": {\"outlinewidth\": 0, \"ticks\": \"\"}}, \"type\": \"scatterternary\"}], \"surface\": [{\"colorbar\": {\"outlinewidth\": 0, \"ticks\": \"\"}, \"colorscale\": [[0.0, \"#0d0887\"], [0.1111111111111111, \"#46039f\"], [0.2222222222222222, \"#7201a8\"], [0.3333333333333333, \"#9c179e\"], [0.4444444444444444, \"#bd3786\"], [0.5555555555555556, \"#d8576b\"], [0.6666666666666666, \"#ed7953\"], [0.7777777777777778, \"#fb9f3a\"], [0.8888888888888888, \"#fdca26\"], [1.0, \"#f0f921\"]], \"type\": \"surface\"}], \"table\": [{\"cells\": {\"fill\": {\"color\": \"#EBF0F8\"}, \"line\": {\"color\": \"white\"}}, \"header\": {\"fill\": {\"color\": \"#C8D4E3\"}, \"line\": {\"color\": \"white\"}}, \"type\": \"table\"}]}, \"layout\": {\"annotationdefaults\": {\"arrowcolor\": \"#2a3f5f\", \"arrowhead\": 0, \"arrowwidth\": 1}, \"coloraxis\": {\"colorbar\": {\"outlinewidth\": 0, \"ticks\": \"\"}}, \"colorscale\": {\"diverging\": [[0, \"#8e0152\"], [0.1, \"#c51b7d\"], [0.2, \"#de77ae\"], [0.3, \"#f1b6da\"], [0.4, \"#fde0ef\"], [0.5, \"#f7f7f7\"], [0.6, \"#e6f5d0\"], [0.7, \"#b8e186\"], [0.8, \"#7fbc41\"], [0.9, \"#4d9221\"], [1, \"#276419\"]], \"sequential\": [[0.0, \"#0d0887\"], [0.1111111111111111, \"#46039f\"], [0.2222222222222222, \"#7201a8\"], [0.3333333333333333, \"#9c179e\"], [0.4444444444444444, \"#bd3786\"], [0.5555555555555556, \"#d8576b\"], [0.6666666666666666, \"#ed7953\"], [0.7777777777777778, \"#fb9f3a\"], [0.8888888888888888, \"#fdca26\"], [1.0, \"#f0f921\"]], \"sequentialminus\": [[0.0, \"#0d0887\"], [0.1111111111111111, \"#46039f\"], [0.2222222222222222, \"#7201a8\"], [0.3333333333333333, \"#9c179e\"], [0.4444444444444444, \"#bd3786\"], [0.5555555555555556, \"#d8576b\"], [0.6666666666666666, \"#ed7953\"], [0.7777777777777778, \"#fb9f3a\"], [0.8888888888888888, \"#fdca26\"], [1.0, \"#f0f921\"]]}, \"colorway\": [\"#636efa\", \"#EF553B\", \"#00cc96\", \"#ab63fa\", \"#FFA15A\", \"#19d3f3\", \"#FF6692\", \"#B6E880\", \"#FF97FF\", \"#FECB52\"], \"font\": {\"color\": \"#2a3f5f\"}, \"geo\": {\"bgcolor\": \"white\", \"lakecolor\": \"white\", \"landcolor\": \"#E5ECF6\", \"showlakes\": true, \"showland\": true, \"subunitcolor\": \"white\"}, \"hoverlabel\": {\"align\": \"left\"}, \"hovermode\": \"closest\", \"mapbox\": {\"style\": \"light\"}, \"paper_bgcolor\": \"white\", \"plot_bgcolor\": \"#E5ECF6\", \"polar\": {\"angularaxis\": {\"gridcolor\": \"white\", \"linecolor\": \"white\", \"ticks\": \"\"}, \"bgcolor\": \"#E5ECF6\", \"radialaxis\": {\"gridcolor\": \"white\", \"linecolor\": \"white\", \"ticks\": \"\"}}, \"scene\": {\"xaxis\": {\"backgroundcolor\": \"#E5ECF6\", \"gridcolor\": \"white\", \"gridwidth\": 2, \"linecolor\": \"white\", \"showbackground\": true, \"ticks\": \"\", \"zerolinecolor\": \"white\"}, \"yaxis\": {\"backgroundcolor\": \"#E5ECF6\", \"gridcolor\": \"white\", \"gridwidth\": 2, \"linecolor\": \"white\", \"showbackground\": true, \"ticks\": \"\", \"zerolinecolor\": \"white\"}, \"zaxis\": {\"backgroundcolor\": \"#E5ECF6\", \"gridcolor\": \"white\", \"gridwidth\": 2, \"linecolor\": \"white\", \"showbackground\": true, \"ticks\": \"\", \"zerolinecolor\": \"white\"}}, \"shapedefaults\": {\"line\": {\"color\": \"#2a3f5f\"}}, \"ternary\": {\"aaxis\": {\"gridcolor\": \"white\", \"linecolor\": \"white\", \"ticks\": \"\"}, \"baxis\": {\"gridcolor\": \"white\", \"linecolor\": \"white\", \"ticks\": \"\"}, \"bgcolor\": \"#E5ECF6\", \"caxis\": {\"gridcolor\": \"white\", \"linecolor\": \"white\", \"ticks\": \"\"}}, \"title\": {\"x\": 0.05}, \"xaxis\": {\"automargin\": true, \"gridcolor\": \"white\", \"linecolor\": \"white\", \"ticks\": \"\", \"title\": {\"standoff\": 15}, \"zerolinecolor\": \"white\", \"zerolinewidth\": 2}, \"yaxis\": {\"automargin\": true, \"gridcolor\": \"white\", \"linecolor\": \"white\", \"ticks\": \"\", \"title\": {\"standoff\": 15}, \"zerolinecolor\": \"white\", \"zerolinewidth\": 2}}}, \"title\": {\"text\": \"GLA distribution of the sold houses\"}, \"width\": 900, \"xaxis\": {\"anchor\": \"y\", \"domain\": [0.0, 0.4465116279069768], \"gridcolor\": \"#EEEEEE\", \"gridwidth\": 0.1, \"nticks\": 18, \"showgrid\": true, \"tickfont\": {\"size\": 12}, \"title\": {\"text\": \"Area\"}}, \"xaxis2\": {\"anchor\": \"y2\", \"domain\": [0.4665116279069768, 0.7232558139534885], \"gridcolor\": \"#EEEEEE\", \"gridwidth\": 0.1, \"showgrid\": true, \"title\": {\"text\": \"Bedrooms\"}}, \"xaxis3\": {\"anchor\": \"y3\", \"domain\": [0.7432558139534885, 1.0], \"gridcolor\": \"#EEEEEE\", \"gridwidth\": 0.1, \"showgrid\": true, \"title\": {\"text\": \"Bathrooms\"}}, \"yaxis\": {\"anchor\": \"x\", \"domain\": [0.0, 1.0], \"gridcolor\": \"#EEEEEE\", \"gridwidth\": 0.1, \"nticks\": 5, \"showgrid\": true}, \"yaxis2\": {\"anchor\": \"x2\", \"domain\": [0.0, 1.0], \"gridcolor\": \"#EEEEEE\", \"gridwidth\": 0.1, \"matches\": \"y\", \"showgrid\": true, \"showticklabels\": false}, \"yaxis3\": {\"anchor\": \"x3\", \"domain\": [0.0, 1.0], \"gridcolor\": \"#EEEEEE\", \"gridwidth\": 0.1, \"matches\": \"y\", \"showgrid\": true, \"showticklabels\": false}},\n",
       "                        {\"responsive\": true}\n",
       "                    ).then(function(){\n",
       "                            \n",
       "var gd = document.getElementById('6c3e9a1b-fe30-4cbe-a6e0-2537ea89f332');\n",
       "var x = new MutationObserver(function (mutations, observer) {{\n",
       "        var display = window.getComputedStyle(gd).display;\n",
       "        if (!display || display === 'none') {{\n",
       "            console.log([gd, 'removed!']);\n",
       "            Plotly.purge(gd);\n",
       "            observer.disconnect();\n",
       "        }}\n",
       "}});\n",
       "\n",
       "// Listen for the removal of the full notebook cells\n",
       "var notebookContainer = gd.closest('#notebook-container');\n",
       "if (notebookContainer) {{\n",
       "    x.observe(notebookContainer, {childList: true});\n",
       "}}\n",
       "\n",
       "// Listen for the clearing of the current output cell\n",
       "var outputEl = gd.closest('.output');\n",
       "if (outputEl) {{\n",
       "    x.observe(outputEl, {childList: true});\n",
       "}}\n",
       "\n",
       "                        })\n",
       "                };\n",
       "                });\n",
       "            </script>\n",
       "        </div>"
      ]
     },
     "metadata": {},
     "output_type": "display_data"
    }
   ],
   "source": [
    "fig = make_subplots(rows=1, cols=3,horizontal_spacing = 0.02,column_widths=[0.4, 0.23,0.23], shared_yaxes=True)\n",
    "\n",
    "fig.add_trace(go.Histogram(x=pricy[pricy['GLA(feet)'] > 0]['GLA(feet)'], xbins_size=300,  name='All houses'),1,1)\n",
    "fig.add_trace(go.Histogram(x=pricy['Bedrooms'], xbins_size=1,  name='All houses'),1,2)\n",
    "fig.add_trace(go.Histogram(x=pricy['Bathrooms'], xbins_size=1,  name='All houses'),1,3)\n",
    "\n",
    "\n",
    "\n",
    "fig.update_layout(title_text='GLA distribution of the sold houses',\n",
    "                  width=900, height=500, plot_bgcolor='rgba(0,0,0,0)', showlegend=False,\n",
    "                  yaxis=dict(gridcolor='#EEEEEE', nticks=5),\n",
    "                  xaxis=dict(gridcolor='#EEEEEE', nticks=18,\n",
    "                             tickfont=dict(size=12)))\n",
    "axes_names = ['Area','', 'Bedrooms', 'Bathrooms','','']\n",
    "for j,i in enumerate(['xaxis','yaxis','xaxis2','xaxis3','yaxis2','yaxis3']):\n",
    "    fig.layout[i]['showgrid'] = True\n",
    "    fig.layout[i]['gridwidth'] = 0.1\n",
    "    fig.layout[i]['showgrid'] = True\n",
    "    fig.layout[i]['gridcolor'] = '#EEEEEE'\n",
    "    \n",
    "    #fig.layout[i]['nticks'] = 15\n",
    "    if 'xaxis' in i:\n",
    "        fig.layout[i]['title'] = axes_names[j]\n",
    "    \n",
    "fig.update_layout(barmode='overlay')\n",
    "fig.update_traces(opacity=0.8)\n",
    "fig.show()"
   ]
  },
  {
   "cell_type": "code",
   "execution_count": 20,
   "metadata": {},
   "outputs": [
    {
     "ename": "NameError",
     "evalue": "name 'stories' is not defined",
     "output_type": "error",
     "traceback": [
      "\u001b[0;31m---------------------------------------------------------------------------\u001b[0m",
      "\u001b[0;31mNameError\u001b[0m                                 Traceback (most recent call last)",
      "\u001b[0;32m<ipython-input-20-860c2417a780>\u001b[0m in \u001b[0;36m<module>\u001b[0;34m\u001b[0m\n\u001b[1;32m      3\u001b[0m                     shared_yaxes=True)\n\u001b[1;32m      4\u001b[0m \u001b[0;34m\u001b[0m\u001b[0m\n\u001b[0;32m----> 5\u001b[0;31m fig.add_trace(go.Bar(x=stories.index,\n\u001b[0m\u001b[1;32m      6\u001b[0m                      y=stories['Stories'].values,  name='All houses'),1,1)\n\u001b[1;32m      7\u001b[0m \u001b[0mfig\u001b[0m\u001b[0;34m.\u001b[0m\u001b[0madd_trace\u001b[0m\u001b[0;34m(\u001b[0m\u001b[0mgo\u001b[0m\u001b[0;34m.\u001b[0m\u001b[0mHistogram\u001b[0m\u001b[0;34m(\u001b[0m\u001b[0mx\u001b[0m\u001b[0;34m=\u001b[0m\u001b[0mpricy\u001b[0m\u001b[0;34m[\u001b[0m\u001b[0;34m'Actual age'\u001b[0m\u001b[0;34m]\u001b[0m\u001b[0;34m,\u001b[0m \u001b[0mxbins_size\u001b[0m\u001b[0;34m=\u001b[0m\u001b[0;36m1\u001b[0m\u001b[0;34m,\u001b[0m  \u001b[0mname\u001b[0m\u001b[0;34m=\u001b[0m\u001b[0;34m'Ag'\u001b[0m\u001b[0;34m)\u001b[0m\u001b[0;34m,\u001b[0m\u001b[0;36m1\u001b[0m\u001b[0;34m,\u001b[0m\u001b[0;36m2\u001b[0m\u001b[0;34m)\u001b[0m\u001b[0;34m\u001b[0m\u001b[0;34m\u001b[0m\u001b[0m\n",
      "\u001b[0;31mNameError\u001b[0m: name 'stories' is not defined"
     ]
    }
   ],
   "source": [
    "fig = make_subplots(rows=1, cols=2,horizontal_spacing = 0.08,\n",
    "                    column_widths=[0.5, 0.5], \n",
    "                    shared_yaxes=True)\n",
    "\n",
    "fig.add_trace(go.Bar(x=stories.index,\n",
    "                     y=stories['Stories'].values,  name='All houses'),1,1)\n",
    "fig.add_trace(go.Histogram(x=pricy['Actual age'], xbins_size=1,  name='Ag'),1,2)\n",
    "\n",
    "\n",
    "\n",
    "fig.update_layout(title_text='GLA distribution of the sold houses',\n",
    "                  bargap=0.3,\n",
    "                  width=900, height=500, plot_bgcolor='rgba(0,0,0,0)', showlegend=False,\n",
    "                  yaxis=dict(gridcolor='#EEEEEE', nticks=5),\n",
    "                  xaxis=dict(gridcolor='#EEEEEE',\n",
    "                             tickfont=dict(size=12)))\n",
    "axes_names = ['Stories','', 'Age', 'Age','']\n",
    "for j,i in enumerate(['xaxis','yaxis','xaxis2','yaxis2']):\n",
    "    fig.layout[i]['showgrid'] = True\n",
    "    fig.layout[i]['gridwidth'] = 0.1\n",
    "    fig.layout[i]['showgrid'] = True\n",
    "    fig.layout[i]['gridcolor'] = '#EEEEEE'\n",
    "\n",
    "    if 'xaxis' in i:\n",
    "        fig.layout[i]['title'] = axes_names[j]\n",
    "    \n",
    "fig.update_traces(opacity=0.8)\n",
    "fig.show()"
   ]
  },
  {
   "cell_type": "code",
   "execution_count": null,
   "metadata": {},
   "outputs": [],
   "source": [
    "fig = go.Figure()\n",
    "fig.add_trace(go.Scatter(x= pricy['Sale date'], \n",
    "                         y= pricy['Sale price'],\n",
    "                         mode='markers',\n",
    "                         name = 'Dorado del Mar',\n",
    "                         marker=dict(size=10, opacity=0.6)\n",
    "                           ))\n",
    "\n",
    "fig.update_layout(title_text='Price per Sq.ft. Dorado del Mar Change 2008-2019',\n",
    "                  width=800, height=300, plot_bgcolor='rgba(0,0,0,0)', showlegend=True,\n",
    "                  yaxis=dict(gridcolor='#EEEEEE'),\n",
    "                  xaxis=dict(tickangle=-45, nticks=50, gridcolor='#EEEEEE', \n",
    "                             tickfont=dict(size=9)))\n",
    "\n",
    "fig.show()"
   ]
  },
  {
   "cell_type": "markdown",
   "metadata": {},
   "source": [
    "### sales volume"
   ]
  },
  {
   "cell_type": "code",
   "execution_count": null,
   "metadata": {},
   "outputs": [],
   "source": [
    "sales_volume_mar_comps = comps.groupby('Sale date Year-Quarter')['Sale price'].count()\n",
    "sales_volume_mar_comps = pd.DataFrame(sales_volume_mar_comps ).rename(columns={'Sale price':'Volume'})\n",
    "\n",
    "del_mar_full = del_mar_full.sort_values('Sale date Year-Quarter')\n",
    "sales_volume_dorado = del_mar_full.groupby('Sale date Year-Quarter')['Sale price'].count()\n",
    "sales_volume_dorado = pd.DataFrame(sales_volume_dorado).rename(columns={'Sale price':'Volume'})\n",
    "\n",
    "\n",
    "#sales_volume['Sale price'] = [x/400*100 for x in sales_volume['Sale price']]"
   ]
  },
  {
   "cell_type": "code",
   "execution_count": null,
   "metadata": {},
   "outputs": [],
   "source": [
    "fig = go.Figure()\n",
    "fig.add_trace(go.Scatter(x= sales_volume_mar_comps.index, \n",
    "                         y= sales_volume_mar_comps['Volume'],\n",
    "                         mode='markers',\n",
    "                         name = 'Dorado del Mar',\n",
    "                         marker=dict(size=10, opacity=0.6)\n",
    "                           ))\n",
    "fig.add_trace(go.Scatter(x= sales_volume_dorado.index, \n",
    "                         y= sales_volume_dorado['Volume'],\n",
    "                         mode='markers',\n",
    "                         name = 'Dorado',\n",
    "                         marker=dict(size=10, opacity=0.6)\n",
    "                           ))\n",
    "\n",
    "\n",
    "\n",
    "fig.update_layout(title_text='Price per Sq.ft. Dorado del Mar Change 2008-2019',\n",
    "                  width=1200, height=300, plot_bgcolor='rgba(0,0,0,0)', showlegend=True,\n",
    "                  yaxis=dict(gridcolor='#EEEEEE', nticks=10),\n",
    "                  xaxis=dict(tickangle=-45, gridcolor='#EEEEEE', \n",
    "                             tickfont=dict(size=9)))\n",
    "\n",
    "fig.show()"
   ]
  },
  {
   "cell_type": "markdown",
   "metadata": {},
   "source": [
    "# comps grouping"
   ]
  },
  {
   "cell_type": "code",
   "execution_count": 21,
   "metadata": {},
   "outputs": [],
   "source": [
    "comps_quarters = comps.groupby('Sale date Year-Quarter')['Sale price'].agg(Price_min='min', \n",
    "                                                                          Price_max='max', \n",
    "                                                                          Price_median='median')\n",
    "comps_quarters = pd.DataFrame(comps_quarters)"
   ]
  },
  {
   "cell_type": "code",
   "execution_count": 22,
   "metadata": {},
   "outputs": [
    {
     "data": {
      "text/plain": [
       "224558.97435897434"
      ]
     },
     "execution_count": 22,
     "metadata": {},
     "output_type": "execute_result"
    }
   ],
   "source": [
    "comps_quarters['Price_min'].mean()"
   ]
  },
  {
   "cell_type": "code",
   "execution_count": 23,
   "metadata": {},
   "outputs": [],
   "source": [
    "min_change = [(comps_quarters['Price_min'][x+1]-comps_quarters['Price_min'][x])/comps_quarters['Price_min'][x]*100 for x in range(comps_quarters.shape[0]-1)]\n",
    "percent_min = [0]\n",
    "percent_min.extend(min_change)\n",
    "max_change = [(comps_quarters['Price_max'][x+1]-comps_quarters['Price_max'][x])/comps_quarters['Price_max'][x]*100 for x in range(comps_quarters.shape[0]-1)]\n",
    "percent_max = [0]\n",
    "percent_max.extend(max_change)\n",
    "comps_quarters['Price_max_change'] = percent_max\n",
    "comps_quarters['Price_min_change'] = percent_min"
   ]
  },
  {
   "cell_type": "code",
   "execution_count": 24,
   "metadata": {},
   "outputs": [],
   "source": [
    "def set_annotation(df, x, y, k, min_or_max, percent=False, fontsize=6,): \n",
    "    if min_or_max == 'min':\n",
    "        col_one = 'Price_min_change'\n",
    "        col_two = 'Price_min'\n",
    "        ay = 50\n",
    "        #ax=-10\n",
    "    elif min_or_max == 'max':\n",
    "        col_one = 'Price_max_change'\n",
    "        col_two = 'Price_max'\n",
    "        ay = -60\n",
    "        #ax=-10\n",
    "    if df[col_one][k] > 0:\n",
    "        color='green'\n",
    "        prefix = '+'\n",
    "        ay = ay+10\n",
    "    else:\n",
    "        color='brown'\n",
    "        prefix = ''\n",
    "    \n",
    "    sub=1000\n",
    "    K = 'K'\n",
    "    if percent == True:\n",
    "        sub = 1\n",
    "        K = ''\n",
    "    value = df[col_two][k]/sub\n",
    "    return dict(x=x,  \n",
    "                y=y,       \n",
    "                text='{:.0f}{}<br>{}{:.0f}%'.format(value,K, prefix,\n",
    "                                                   df[col_one][k]),\n",
    "                font=dict(size=fontsize, color=color),\n",
    "                showarrow=True,\n",
    "                arrowhead=0,\n",
    "                #xref=\"x\",\n",
    "                #yref=\"y\",\n",
    "                ax=0,\n",
    "                ay=ay,\n",
    "                #ayref='y',\n",
    "                arrowwidth=0.5,\n",
    "                arrowcolor=\"#616161\",\n",
    "                opacity=1\n",
    "               ) "
   ]
  },
  {
   "cell_type": "code",
   "execution_count": 25,
   "metadata": {},
   "outputs": [],
   "source": [
    "annotations_min=[set_annotation(comps_quarters, k, comps_quarters['Price_min'][k], k, 'min') for k in range(comps_quarters.shape[0])]\n",
    "annotations_max=[set_annotation(comps_quarters, k, comps_quarters['Price_max'][k], k, 'max') for k in range(comps_quarters.shape[0])]\n",
    "annotations_min.extend(annotations_max)"
   ]
  },
  {
   "cell_type": "code",
   "execution_count": 26,
   "metadata": {},
   "outputs": [
    {
     "data": {
      "application/vnd.plotly.v1+json": {
       "config": {
        "plotlyServerURL": "https://plot.ly"
       },
       "data": [
        {
         "marker": {
          "color": "blue"
         },
         "mode": "lines+markers",
         "name": "Min Quarter value",
         "type": "scatter",
         "x": [
          "2008 Q1",
          "2008 Q2",
          "2008 Q4",
          "2009 Q1",
          "2009 Q2",
          "2009 Q3",
          "2009 Q4",
          "2010 Q1",
          "2010 Q2",
          "2010 Q4",
          "2011 Q1",
          "2011 Q2",
          "2011 Q3",
          "2011 Q4",
          "2012 Q1",
          "2012 Q2",
          "2012 Q3",
          "2012 Q4",
          "2013 Q1",
          "2013 Q3",
          "2014 Q1",
          "2014 Q3",
          "2014 Q4",
          "2015 Q1",
          "2015 Q2",
          "2015 Q3",
          "2015 Q4",
          "2016 Q1",
          "2016 Q2",
          "2016 Q3",
          "2016 Q4",
          "2017 Q1",
          "2017 Q2",
          "2017 Q4",
          "2018 Q1",
          "2018 Q2",
          "2018 Q3",
          "2018 Q4",
          "2019 Q1"
         ],
         "y": [
          315000,
          326000,
          205000,
          220000,
          316000,
          290000,
          305000,
          225000,
          305000,
          222000,
          169500,
          230000,
          235000,
          215000,
          310000,
          255000,
          240000,
          180000,
          218500,
          185000,
          175000,
          179900,
          244000,
          250000,
          135000,
          160000,
          190000,
          160000,
          220000,
          190000,
          256000,
          170000,
          210000,
          200000,
          280000,
          150000,
          230000,
          245000,
          145900
         ]
        },
        {
         "fill": "tonexty",
         "fillcolor": "rgba(248, 245, 159, 0.1)",
         "marker": {
          "color": "red"
         },
         "mode": "lines+markers",
         "name": "Max Quarter value",
         "type": "scatter",
         "x": [
          "2008 Q1",
          "2008 Q2",
          "2008 Q4",
          "2009 Q1",
          "2009 Q2",
          "2009 Q3",
          "2009 Q4",
          "2010 Q1",
          "2010 Q2",
          "2010 Q4",
          "2011 Q1",
          "2011 Q2",
          "2011 Q3",
          "2011 Q4",
          "2012 Q1",
          "2012 Q2",
          "2012 Q3",
          "2012 Q4",
          "2013 Q1",
          "2013 Q3",
          "2014 Q1",
          "2014 Q3",
          "2014 Q4",
          "2015 Q1",
          "2015 Q2",
          "2015 Q3",
          "2015 Q4",
          "2016 Q1",
          "2016 Q2",
          "2016 Q3",
          "2016 Q4",
          "2017 Q1",
          "2017 Q2",
          "2017 Q4",
          "2018 Q1",
          "2018 Q2",
          "2018 Q3",
          "2018 Q4",
          "2019 Q1"
         ],
         "y": [
          361000,
          405000,
          205000,
          220000,
          352000,
          290000,
          350000,
          225000,
          305000,
          222000,
          335000,
          310000,
          275000,
          215000,
          310000,
          255000,
          240000,
          285000,
          300000,
          315000,
          175000,
          345000,
          300000,
          275000,
          381000,
          160000,
          240000,
          160000,
          220000,
          250000,
          256000,
          300000,
          250000,
          200000,
          280000,
          302000,
          230000,
          265000,
          170000
         ]
        },
        {
         "line": {
          "color": "grey",
          "dash": "dashdot",
          "shape": "spline",
          "width": 1
         },
         "mode": "lines",
         "name": "Median Quarter value",
         "type": "scatter",
         "x": [
          "2008 Q1",
          "2008 Q2",
          "2008 Q4",
          "2009 Q1",
          "2009 Q2",
          "2009 Q3",
          "2009 Q4",
          "2010 Q1",
          "2010 Q2",
          "2010 Q4",
          "2011 Q1",
          "2011 Q2",
          "2011 Q3",
          "2011 Q4",
          "2012 Q1",
          "2012 Q2",
          "2012 Q3",
          "2012 Q4",
          "2013 Q1",
          "2013 Q3",
          "2014 Q1",
          "2014 Q3",
          "2014 Q4",
          "2015 Q1",
          "2015 Q2",
          "2015 Q3",
          "2015 Q4",
          "2016 Q1",
          "2016 Q2",
          "2016 Q3",
          "2016 Q4",
          "2017 Q1",
          "2017 Q2",
          "2017 Q4",
          "2018 Q1",
          "2018 Q2",
          "2018 Q3",
          "2018 Q4",
          "2019 Q1"
         ],
         "y": [
          338000,
          365500,
          205000,
          220000,
          328000,
          290000,
          340000,
          225000,
          305000,
          222000,
          275000,
          265000,
          240000,
          215000,
          310000,
          255000,
          240000,
          235000,
          242550,
          250000,
          175000,
          262450,
          272000,
          262500,
          258300,
          160000,
          215000,
          160000,
          220000,
          224000,
          256000,
          189000,
          230000,
          200000,
          280000,
          226000,
          230000,
          255000,
          157950
         ]
        }
       ],
       "layout": {
        "annotations": [
         {
          "arrowcolor": "#616161",
          "arrowhead": 0,
          "arrowwidth": 0.5,
          "ax": 0,
          "ay": 50,
          "font": {
           "color": "brown",
           "size": 6
          },
          "opacity": 1,
          "showarrow": true,
          "text": "315K<br>0%",
          "x": 0,
          "y": 315000
         },
         {
          "arrowcolor": "#616161",
          "arrowhead": 0,
          "arrowwidth": 0.5,
          "ax": 0,
          "ay": 60,
          "font": {
           "color": "green",
           "size": 6
          },
          "opacity": 1,
          "showarrow": true,
          "text": "326K<br>+3%",
          "x": 1,
          "y": 326000
         },
         {
          "arrowcolor": "#616161",
          "arrowhead": 0,
          "arrowwidth": 0.5,
          "ax": 0,
          "ay": 50,
          "font": {
           "color": "brown",
           "size": 6
          },
          "opacity": 1,
          "showarrow": true,
          "text": "205K<br>-37%",
          "x": 2,
          "y": 205000
         },
         {
          "arrowcolor": "#616161",
          "arrowhead": 0,
          "arrowwidth": 0.5,
          "ax": 0,
          "ay": 60,
          "font": {
           "color": "green",
           "size": 6
          },
          "opacity": 1,
          "showarrow": true,
          "text": "220K<br>+7%",
          "x": 3,
          "y": 220000
         },
         {
          "arrowcolor": "#616161",
          "arrowhead": 0,
          "arrowwidth": 0.5,
          "ax": 0,
          "ay": 60,
          "font": {
           "color": "green",
           "size": 6
          },
          "opacity": 1,
          "showarrow": true,
          "text": "316K<br>+44%",
          "x": 4,
          "y": 316000
         },
         {
          "arrowcolor": "#616161",
          "arrowhead": 0,
          "arrowwidth": 0.5,
          "ax": 0,
          "ay": 50,
          "font": {
           "color": "brown",
           "size": 6
          },
          "opacity": 1,
          "showarrow": true,
          "text": "290K<br>-8%",
          "x": 5,
          "y": 290000
         },
         {
          "arrowcolor": "#616161",
          "arrowhead": 0,
          "arrowwidth": 0.5,
          "ax": 0,
          "ay": 60,
          "font": {
           "color": "green",
           "size": 6
          },
          "opacity": 1,
          "showarrow": true,
          "text": "305K<br>+5%",
          "x": 6,
          "y": 305000
         },
         {
          "arrowcolor": "#616161",
          "arrowhead": 0,
          "arrowwidth": 0.5,
          "ax": 0,
          "ay": 50,
          "font": {
           "color": "brown",
           "size": 6
          },
          "opacity": 1,
          "showarrow": true,
          "text": "225K<br>-26%",
          "x": 7,
          "y": 225000
         },
         {
          "arrowcolor": "#616161",
          "arrowhead": 0,
          "arrowwidth": 0.5,
          "ax": 0,
          "ay": 60,
          "font": {
           "color": "green",
           "size": 6
          },
          "opacity": 1,
          "showarrow": true,
          "text": "305K<br>+36%",
          "x": 8,
          "y": 305000
         },
         {
          "arrowcolor": "#616161",
          "arrowhead": 0,
          "arrowwidth": 0.5,
          "ax": 0,
          "ay": 50,
          "font": {
           "color": "brown",
           "size": 6
          },
          "opacity": 1,
          "showarrow": true,
          "text": "222K<br>-27%",
          "x": 9,
          "y": 222000
         },
         {
          "arrowcolor": "#616161",
          "arrowhead": 0,
          "arrowwidth": 0.5,
          "ax": 0,
          "ay": 50,
          "font": {
           "color": "brown",
           "size": 6
          },
          "opacity": 1,
          "showarrow": true,
          "text": "170K<br>-24%",
          "x": 10,
          "y": 169500
         },
         {
          "arrowcolor": "#616161",
          "arrowhead": 0,
          "arrowwidth": 0.5,
          "ax": 0,
          "ay": 60,
          "font": {
           "color": "green",
           "size": 6
          },
          "opacity": 1,
          "showarrow": true,
          "text": "230K<br>+36%",
          "x": 11,
          "y": 230000
         },
         {
          "arrowcolor": "#616161",
          "arrowhead": 0,
          "arrowwidth": 0.5,
          "ax": 0,
          "ay": 60,
          "font": {
           "color": "green",
           "size": 6
          },
          "opacity": 1,
          "showarrow": true,
          "text": "235K<br>+2%",
          "x": 12,
          "y": 235000
         },
         {
          "arrowcolor": "#616161",
          "arrowhead": 0,
          "arrowwidth": 0.5,
          "ax": 0,
          "ay": 50,
          "font": {
           "color": "brown",
           "size": 6
          },
          "opacity": 1,
          "showarrow": true,
          "text": "215K<br>-9%",
          "x": 13,
          "y": 215000
         },
         {
          "arrowcolor": "#616161",
          "arrowhead": 0,
          "arrowwidth": 0.5,
          "ax": 0,
          "ay": 60,
          "font": {
           "color": "green",
           "size": 6
          },
          "opacity": 1,
          "showarrow": true,
          "text": "310K<br>+44%",
          "x": 14,
          "y": 310000
         },
         {
          "arrowcolor": "#616161",
          "arrowhead": 0,
          "arrowwidth": 0.5,
          "ax": 0,
          "ay": 50,
          "font": {
           "color": "brown",
           "size": 6
          },
          "opacity": 1,
          "showarrow": true,
          "text": "255K<br>-18%",
          "x": 15,
          "y": 255000
         },
         {
          "arrowcolor": "#616161",
          "arrowhead": 0,
          "arrowwidth": 0.5,
          "ax": 0,
          "ay": 50,
          "font": {
           "color": "brown",
           "size": 6
          },
          "opacity": 1,
          "showarrow": true,
          "text": "240K<br>-6%",
          "x": 16,
          "y": 240000
         },
         {
          "arrowcolor": "#616161",
          "arrowhead": 0,
          "arrowwidth": 0.5,
          "ax": 0,
          "ay": 50,
          "font": {
           "color": "brown",
           "size": 6
          },
          "opacity": 1,
          "showarrow": true,
          "text": "180K<br>-25%",
          "x": 17,
          "y": 180000
         },
         {
          "arrowcolor": "#616161",
          "arrowhead": 0,
          "arrowwidth": 0.5,
          "ax": 0,
          "ay": 60,
          "font": {
           "color": "green",
           "size": 6
          },
          "opacity": 1,
          "showarrow": true,
          "text": "218K<br>+21%",
          "x": 18,
          "y": 218500
         },
         {
          "arrowcolor": "#616161",
          "arrowhead": 0,
          "arrowwidth": 0.5,
          "ax": 0,
          "ay": 50,
          "font": {
           "color": "brown",
           "size": 6
          },
          "opacity": 1,
          "showarrow": true,
          "text": "185K<br>-15%",
          "x": 19,
          "y": 185000
         },
         {
          "arrowcolor": "#616161",
          "arrowhead": 0,
          "arrowwidth": 0.5,
          "ax": 0,
          "ay": 50,
          "font": {
           "color": "brown",
           "size": 6
          },
          "opacity": 1,
          "showarrow": true,
          "text": "175K<br>-5%",
          "x": 20,
          "y": 175000
         },
         {
          "arrowcolor": "#616161",
          "arrowhead": 0,
          "arrowwidth": 0.5,
          "ax": 0,
          "ay": 60,
          "font": {
           "color": "green",
           "size": 6
          },
          "opacity": 1,
          "showarrow": true,
          "text": "180K<br>+3%",
          "x": 21,
          "y": 179900
         },
         {
          "arrowcolor": "#616161",
          "arrowhead": 0,
          "arrowwidth": 0.5,
          "ax": 0,
          "ay": 60,
          "font": {
           "color": "green",
           "size": 6
          },
          "opacity": 1,
          "showarrow": true,
          "text": "244K<br>+36%",
          "x": 22,
          "y": 244000
         },
         {
          "arrowcolor": "#616161",
          "arrowhead": 0,
          "arrowwidth": 0.5,
          "ax": 0,
          "ay": 60,
          "font": {
           "color": "green",
           "size": 6
          },
          "opacity": 1,
          "showarrow": true,
          "text": "250K<br>+2%",
          "x": 23,
          "y": 250000
         },
         {
          "arrowcolor": "#616161",
          "arrowhead": 0,
          "arrowwidth": 0.5,
          "ax": 0,
          "ay": 50,
          "font": {
           "color": "brown",
           "size": 6
          },
          "opacity": 1,
          "showarrow": true,
          "text": "135K<br>-46%",
          "x": 24,
          "y": 135000
         },
         {
          "arrowcolor": "#616161",
          "arrowhead": 0,
          "arrowwidth": 0.5,
          "ax": 0,
          "ay": 60,
          "font": {
           "color": "green",
           "size": 6
          },
          "opacity": 1,
          "showarrow": true,
          "text": "160K<br>+19%",
          "x": 25,
          "y": 160000
         },
         {
          "arrowcolor": "#616161",
          "arrowhead": 0,
          "arrowwidth": 0.5,
          "ax": 0,
          "ay": 60,
          "font": {
           "color": "green",
           "size": 6
          },
          "opacity": 1,
          "showarrow": true,
          "text": "190K<br>+19%",
          "x": 26,
          "y": 190000
         },
         {
          "arrowcolor": "#616161",
          "arrowhead": 0,
          "arrowwidth": 0.5,
          "ax": 0,
          "ay": 50,
          "font": {
           "color": "brown",
           "size": 6
          },
          "opacity": 1,
          "showarrow": true,
          "text": "160K<br>-16%",
          "x": 27,
          "y": 160000
         },
         {
          "arrowcolor": "#616161",
          "arrowhead": 0,
          "arrowwidth": 0.5,
          "ax": 0,
          "ay": 60,
          "font": {
           "color": "green",
           "size": 6
          },
          "opacity": 1,
          "showarrow": true,
          "text": "220K<br>+38%",
          "x": 28,
          "y": 220000
         },
         {
          "arrowcolor": "#616161",
          "arrowhead": 0,
          "arrowwidth": 0.5,
          "ax": 0,
          "ay": 50,
          "font": {
           "color": "brown",
           "size": 6
          },
          "opacity": 1,
          "showarrow": true,
          "text": "190K<br>-14%",
          "x": 29,
          "y": 190000
         },
         {
          "arrowcolor": "#616161",
          "arrowhead": 0,
          "arrowwidth": 0.5,
          "ax": 0,
          "ay": 60,
          "font": {
           "color": "green",
           "size": 6
          },
          "opacity": 1,
          "showarrow": true,
          "text": "256K<br>+35%",
          "x": 30,
          "y": 256000
         },
         {
          "arrowcolor": "#616161",
          "arrowhead": 0,
          "arrowwidth": 0.5,
          "ax": 0,
          "ay": 50,
          "font": {
           "color": "brown",
           "size": 6
          },
          "opacity": 1,
          "showarrow": true,
          "text": "170K<br>-34%",
          "x": 31,
          "y": 170000
         },
         {
          "arrowcolor": "#616161",
          "arrowhead": 0,
          "arrowwidth": 0.5,
          "ax": 0,
          "ay": 60,
          "font": {
           "color": "green",
           "size": 6
          },
          "opacity": 1,
          "showarrow": true,
          "text": "210K<br>+24%",
          "x": 32,
          "y": 210000
         },
         {
          "arrowcolor": "#616161",
          "arrowhead": 0,
          "arrowwidth": 0.5,
          "ax": 0,
          "ay": 50,
          "font": {
           "color": "brown",
           "size": 6
          },
          "opacity": 1,
          "showarrow": true,
          "text": "200K<br>-5%",
          "x": 33,
          "y": 200000
         },
         {
          "arrowcolor": "#616161",
          "arrowhead": 0,
          "arrowwidth": 0.5,
          "ax": 0,
          "ay": 60,
          "font": {
           "color": "green",
           "size": 6
          },
          "opacity": 1,
          "showarrow": true,
          "text": "280K<br>+40%",
          "x": 34,
          "y": 280000
         },
         {
          "arrowcolor": "#616161",
          "arrowhead": 0,
          "arrowwidth": 0.5,
          "ax": 0,
          "ay": 50,
          "font": {
           "color": "brown",
           "size": 6
          },
          "opacity": 1,
          "showarrow": true,
          "text": "150K<br>-46%",
          "x": 35,
          "y": 150000
         },
         {
          "arrowcolor": "#616161",
          "arrowhead": 0,
          "arrowwidth": 0.5,
          "ax": 0,
          "ay": 60,
          "font": {
           "color": "green",
           "size": 6
          },
          "opacity": 1,
          "showarrow": true,
          "text": "230K<br>+53%",
          "x": 36,
          "y": 230000
         },
         {
          "arrowcolor": "#616161",
          "arrowhead": 0,
          "arrowwidth": 0.5,
          "ax": 0,
          "ay": 60,
          "font": {
           "color": "green",
           "size": 6
          },
          "opacity": 1,
          "showarrow": true,
          "text": "245K<br>+7%",
          "x": 37,
          "y": 245000
         },
         {
          "arrowcolor": "#616161",
          "arrowhead": 0,
          "arrowwidth": 0.5,
          "ax": 0,
          "ay": 50,
          "font": {
           "color": "brown",
           "size": 6
          },
          "opacity": 1,
          "showarrow": true,
          "text": "146K<br>-40%",
          "x": 38,
          "y": 145900
         },
         {
          "arrowcolor": "#616161",
          "arrowhead": 0,
          "arrowwidth": 0.5,
          "ax": 0,
          "ay": -60,
          "font": {
           "color": "brown",
           "size": 6
          },
          "opacity": 1,
          "showarrow": true,
          "text": "361K<br>0%",
          "x": 0,
          "y": 361000
         },
         {
          "arrowcolor": "#616161",
          "arrowhead": 0,
          "arrowwidth": 0.5,
          "ax": 0,
          "ay": -50,
          "font": {
           "color": "green",
           "size": 6
          },
          "opacity": 1,
          "showarrow": true,
          "text": "405K<br>+12%",
          "x": 1,
          "y": 405000
         },
         {
          "arrowcolor": "#616161",
          "arrowhead": 0,
          "arrowwidth": 0.5,
          "ax": 0,
          "ay": -60,
          "font": {
           "color": "brown",
           "size": 6
          },
          "opacity": 1,
          "showarrow": true,
          "text": "205K<br>-49%",
          "x": 2,
          "y": 205000
         },
         {
          "arrowcolor": "#616161",
          "arrowhead": 0,
          "arrowwidth": 0.5,
          "ax": 0,
          "ay": -50,
          "font": {
           "color": "green",
           "size": 6
          },
          "opacity": 1,
          "showarrow": true,
          "text": "220K<br>+7%",
          "x": 3,
          "y": 220000
         },
         {
          "arrowcolor": "#616161",
          "arrowhead": 0,
          "arrowwidth": 0.5,
          "ax": 0,
          "ay": -50,
          "font": {
           "color": "green",
           "size": 6
          },
          "opacity": 1,
          "showarrow": true,
          "text": "352K<br>+60%",
          "x": 4,
          "y": 352000
         },
         {
          "arrowcolor": "#616161",
          "arrowhead": 0,
          "arrowwidth": 0.5,
          "ax": 0,
          "ay": -60,
          "font": {
           "color": "brown",
           "size": 6
          },
          "opacity": 1,
          "showarrow": true,
          "text": "290K<br>-18%",
          "x": 5,
          "y": 290000
         },
         {
          "arrowcolor": "#616161",
          "arrowhead": 0,
          "arrowwidth": 0.5,
          "ax": 0,
          "ay": -50,
          "font": {
           "color": "green",
           "size": 6
          },
          "opacity": 1,
          "showarrow": true,
          "text": "350K<br>+21%",
          "x": 6,
          "y": 350000
         },
         {
          "arrowcolor": "#616161",
          "arrowhead": 0,
          "arrowwidth": 0.5,
          "ax": 0,
          "ay": -60,
          "font": {
           "color": "brown",
           "size": 6
          },
          "opacity": 1,
          "showarrow": true,
          "text": "225K<br>-36%",
          "x": 7,
          "y": 225000
         },
         {
          "arrowcolor": "#616161",
          "arrowhead": 0,
          "arrowwidth": 0.5,
          "ax": 0,
          "ay": -50,
          "font": {
           "color": "green",
           "size": 6
          },
          "opacity": 1,
          "showarrow": true,
          "text": "305K<br>+36%",
          "x": 8,
          "y": 305000
         },
         {
          "arrowcolor": "#616161",
          "arrowhead": 0,
          "arrowwidth": 0.5,
          "ax": 0,
          "ay": -60,
          "font": {
           "color": "brown",
           "size": 6
          },
          "opacity": 1,
          "showarrow": true,
          "text": "222K<br>-27%",
          "x": 9,
          "y": 222000
         },
         {
          "arrowcolor": "#616161",
          "arrowhead": 0,
          "arrowwidth": 0.5,
          "ax": 0,
          "ay": -50,
          "font": {
           "color": "green",
           "size": 6
          },
          "opacity": 1,
          "showarrow": true,
          "text": "335K<br>+51%",
          "x": 10,
          "y": 335000
         },
         {
          "arrowcolor": "#616161",
          "arrowhead": 0,
          "arrowwidth": 0.5,
          "ax": 0,
          "ay": -60,
          "font": {
           "color": "brown",
           "size": 6
          },
          "opacity": 1,
          "showarrow": true,
          "text": "310K<br>-7%",
          "x": 11,
          "y": 310000
         },
         {
          "arrowcolor": "#616161",
          "arrowhead": 0,
          "arrowwidth": 0.5,
          "ax": 0,
          "ay": -60,
          "font": {
           "color": "brown",
           "size": 6
          },
          "opacity": 1,
          "showarrow": true,
          "text": "275K<br>-11%",
          "x": 12,
          "y": 275000
         },
         {
          "arrowcolor": "#616161",
          "arrowhead": 0,
          "arrowwidth": 0.5,
          "ax": 0,
          "ay": -60,
          "font": {
           "color": "brown",
           "size": 6
          },
          "opacity": 1,
          "showarrow": true,
          "text": "215K<br>-22%",
          "x": 13,
          "y": 215000
         },
         {
          "arrowcolor": "#616161",
          "arrowhead": 0,
          "arrowwidth": 0.5,
          "ax": 0,
          "ay": -50,
          "font": {
           "color": "green",
           "size": 6
          },
          "opacity": 1,
          "showarrow": true,
          "text": "310K<br>+44%",
          "x": 14,
          "y": 310000
         },
         {
          "arrowcolor": "#616161",
          "arrowhead": 0,
          "arrowwidth": 0.5,
          "ax": 0,
          "ay": -60,
          "font": {
           "color": "brown",
           "size": 6
          },
          "opacity": 1,
          "showarrow": true,
          "text": "255K<br>-18%",
          "x": 15,
          "y": 255000
         },
         {
          "arrowcolor": "#616161",
          "arrowhead": 0,
          "arrowwidth": 0.5,
          "ax": 0,
          "ay": -60,
          "font": {
           "color": "brown",
           "size": 6
          },
          "opacity": 1,
          "showarrow": true,
          "text": "240K<br>-6%",
          "x": 16,
          "y": 240000
         },
         {
          "arrowcolor": "#616161",
          "arrowhead": 0,
          "arrowwidth": 0.5,
          "ax": 0,
          "ay": -50,
          "font": {
           "color": "green",
           "size": 6
          },
          "opacity": 1,
          "showarrow": true,
          "text": "285K<br>+19%",
          "x": 17,
          "y": 285000
         },
         {
          "arrowcolor": "#616161",
          "arrowhead": 0,
          "arrowwidth": 0.5,
          "ax": 0,
          "ay": -50,
          "font": {
           "color": "green",
           "size": 6
          },
          "opacity": 1,
          "showarrow": true,
          "text": "300K<br>+5%",
          "x": 18,
          "y": 300000
         },
         {
          "arrowcolor": "#616161",
          "arrowhead": 0,
          "arrowwidth": 0.5,
          "ax": 0,
          "ay": -50,
          "font": {
           "color": "green",
           "size": 6
          },
          "opacity": 1,
          "showarrow": true,
          "text": "315K<br>+5%",
          "x": 19,
          "y": 315000
         },
         {
          "arrowcolor": "#616161",
          "arrowhead": 0,
          "arrowwidth": 0.5,
          "ax": 0,
          "ay": -60,
          "font": {
           "color": "brown",
           "size": 6
          },
          "opacity": 1,
          "showarrow": true,
          "text": "175K<br>-44%",
          "x": 20,
          "y": 175000
         },
         {
          "arrowcolor": "#616161",
          "arrowhead": 0,
          "arrowwidth": 0.5,
          "ax": 0,
          "ay": -50,
          "font": {
           "color": "green",
           "size": 6
          },
          "opacity": 1,
          "showarrow": true,
          "text": "345K<br>+97%",
          "x": 21,
          "y": 345000
         },
         {
          "arrowcolor": "#616161",
          "arrowhead": 0,
          "arrowwidth": 0.5,
          "ax": 0,
          "ay": -60,
          "font": {
           "color": "brown",
           "size": 6
          },
          "opacity": 1,
          "showarrow": true,
          "text": "300K<br>-13%",
          "x": 22,
          "y": 300000
         },
         {
          "arrowcolor": "#616161",
          "arrowhead": 0,
          "arrowwidth": 0.5,
          "ax": 0,
          "ay": -60,
          "font": {
           "color": "brown",
           "size": 6
          },
          "opacity": 1,
          "showarrow": true,
          "text": "275K<br>-8%",
          "x": 23,
          "y": 275000
         },
         {
          "arrowcolor": "#616161",
          "arrowhead": 0,
          "arrowwidth": 0.5,
          "ax": 0,
          "ay": -50,
          "font": {
           "color": "green",
           "size": 6
          },
          "opacity": 1,
          "showarrow": true,
          "text": "381K<br>+39%",
          "x": 24,
          "y": 381000
         },
         {
          "arrowcolor": "#616161",
          "arrowhead": 0,
          "arrowwidth": 0.5,
          "ax": 0,
          "ay": -60,
          "font": {
           "color": "brown",
           "size": 6
          },
          "opacity": 1,
          "showarrow": true,
          "text": "160K<br>-58%",
          "x": 25,
          "y": 160000
         },
         {
          "arrowcolor": "#616161",
          "arrowhead": 0,
          "arrowwidth": 0.5,
          "ax": 0,
          "ay": -50,
          "font": {
           "color": "green",
           "size": 6
          },
          "opacity": 1,
          "showarrow": true,
          "text": "240K<br>+50%",
          "x": 26,
          "y": 240000
         },
         {
          "arrowcolor": "#616161",
          "arrowhead": 0,
          "arrowwidth": 0.5,
          "ax": 0,
          "ay": -60,
          "font": {
           "color": "brown",
           "size": 6
          },
          "opacity": 1,
          "showarrow": true,
          "text": "160K<br>-33%",
          "x": 27,
          "y": 160000
         },
         {
          "arrowcolor": "#616161",
          "arrowhead": 0,
          "arrowwidth": 0.5,
          "ax": 0,
          "ay": -50,
          "font": {
           "color": "green",
           "size": 6
          },
          "opacity": 1,
          "showarrow": true,
          "text": "220K<br>+38%",
          "x": 28,
          "y": 220000
         },
         {
          "arrowcolor": "#616161",
          "arrowhead": 0,
          "arrowwidth": 0.5,
          "ax": 0,
          "ay": -50,
          "font": {
           "color": "green",
           "size": 6
          },
          "opacity": 1,
          "showarrow": true,
          "text": "250K<br>+14%",
          "x": 29,
          "y": 250000
         },
         {
          "arrowcolor": "#616161",
          "arrowhead": 0,
          "arrowwidth": 0.5,
          "ax": 0,
          "ay": -50,
          "font": {
           "color": "green",
           "size": 6
          },
          "opacity": 1,
          "showarrow": true,
          "text": "256K<br>+2%",
          "x": 30,
          "y": 256000
         },
         {
          "arrowcolor": "#616161",
          "arrowhead": 0,
          "arrowwidth": 0.5,
          "ax": 0,
          "ay": -50,
          "font": {
           "color": "green",
           "size": 6
          },
          "opacity": 1,
          "showarrow": true,
          "text": "300K<br>+17%",
          "x": 31,
          "y": 300000
         },
         {
          "arrowcolor": "#616161",
          "arrowhead": 0,
          "arrowwidth": 0.5,
          "ax": 0,
          "ay": -60,
          "font": {
           "color": "brown",
           "size": 6
          },
          "opacity": 1,
          "showarrow": true,
          "text": "250K<br>-17%",
          "x": 32,
          "y": 250000
         },
         {
          "arrowcolor": "#616161",
          "arrowhead": 0,
          "arrowwidth": 0.5,
          "ax": 0,
          "ay": -60,
          "font": {
           "color": "brown",
           "size": 6
          },
          "opacity": 1,
          "showarrow": true,
          "text": "200K<br>-20%",
          "x": 33,
          "y": 200000
         },
         {
          "arrowcolor": "#616161",
          "arrowhead": 0,
          "arrowwidth": 0.5,
          "ax": 0,
          "ay": -50,
          "font": {
           "color": "green",
           "size": 6
          },
          "opacity": 1,
          "showarrow": true,
          "text": "280K<br>+40%",
          "x": 34,
          "y": 280000
         },
         {
          "arrowcolor": "#616161",
          "arrowhead": 0,
          "arrowwidth": 0.5,
          "ax": 0,
          "ay": -50,
          "font": {
           "color": "green",
           "size": 6
          },
          "opacity": 1,
          "showarrow": true,
          "text": "302K<br>+8%",
          "x": 35,
          "y": 302000
         },
         {
          "arrowcolor": "#616161",
          "arrowhead": 0,
          "arrowwidth": 0.5,
          "ax": 0,
          "ay": -60,
          "font": {
           "color": "brown",
           "size": 6
          },
          "opacity": 1,
          "showarrow": true,
          "text": "230K<br>-24%",
          "x": 36,
          "y": 230000
         },
         {
          "arrowcolor": "#616161",
          "arrowhead": 0,
          "arrowwidth": 0.5,
          "ax": 0,
          "ay": -50,
          "font": {
           "color": "green",
           "size": 6
          },
          "opacity": 1,
          "showarrow": true,
          "text": "265K<br>+15%",
          "x": 37,
          "y": 265000
         },
         {
          "arrowcolor": "#616161",
          "arrowhead": 0,
          "arrowwidth": 0.5,
          "ax": 0,
          "ay": -60,
          "font": {
           "color": "brown",
           "size": 6
          },
          "opacity": 1,
          "showarrow": true,
          "text": "170K<br>-36%",
          "x": 38,
          "y": 170000
         }
        ],
        "height": 500,
        "plot_bgcolor": "rgba(0,0,0,0)",
        "showlegend": true,
        "template": {
         "data": {
          "bar": [
           {
            "error_x": {
             "color": "#2a3f5f"
            },
            "error_y": {
             "color": "#2a3f5f"
            },
            "marker": {
             "line": {
              "color": "#E5ECF6",
              "width": 0.5
             }
            },
            "type": "bar"
           }
          ],
          "barpolar": [
           {
            "marker": {
             "line": {
              "color": "#E5ECF6",
              "width": 0.5
             }
            },
            "type": "barpolar"
           }
          ],
          "carpet": [
           {
            "aaxis": {
             "endlinecolor": "#2a3f5f",
             "gridcolor": "white",
             "linecolor": "white",
             "minorgridcolor": "white",
             "startlinecolor": "#2a3f5f"
            },
            "baxis": {
             "endlinecolor": "#2a3f5f",
             "gridcolor": "white",
             "linecolor": "white",
             "minorgridcolor": "white",
             "startlinecolor": "#2a3f5f"
            },
            "type": "carpet"
           }
          ],
          "choropleth": [
           {
            "colorbar": {
             "outlinewidth": 0,
             "ticks": ""
            },
            "type": "choropleth"
           }
          ],
          "contour": [
           {
            "colorbar": {
             "outlinewidth": 0,
             "ticks": ""
            },
            "colorscale": [
             [
              0,
              "#0d0887"
             ],
             [
              0.1111111111111111,
              "#46039f"
             ],
             [
              0.2222222222222222,
              "#7201a8"
             ],
             [
              0.3333333333333333,
              "#9c179e"
             ],
             [
              0.4444444444444444,
              "#bd3786"
             ],
             [
              0.5555555555555556,
              "#d8576b"
             ],
             [
              0.6666666666666666,
              "#ed7953"
             ],
             [
              0.7777777777777778,
              "#fb9f3a"
             ],
             [
              0.8888888888888888,
              "#fdca26"
             ],
             [
              1,
              "#f0f921"
             ]
            ],
            "type": "contour"
           }
          ],
          "contourcarpet": [
           {
            "colorbar": {
             "outlinewidth": 0,
             "ticks": ""
            },
            "type": "contourcarpet"
           }
          ],
          "heatmap": [
           {
            "colorbar": {
             "outlinewidth": 0,
             "ticks": ""
            },
            "colorscale": [
             [
              0,
              "#0d0887"
             ],
             [
              0.1111111111111111,
              "#46039f"
             ],
             [
              0.2222222222222222,
              "#7201a8"
             ],
             [
              0.3333333333333333,
              "#9c179e"
             ],
             [
              0.4444444444444444,
              "#bd3786"
             ],
             [
              0.5555555555555556,
              "#d8576b"
             ],
             [
              0.6666666666666666,
              "#ed7953"
             ],
             [
              0.7777777777777778,
              "#fb9f3a"
             ],
             [
              0.8888888888888888,
              "#fdca26"
             ],
             [
              1,
              "#f0f921"
             ]
            ],
            "type": "heatmap"
           }
          ],
          "heatmapgl": [
           {
            "colorbar": {
             "outlinewidth": 0,
             "ticks": ""
            },
            "colorscale": [
             [
              0,
              "#0d0887"
             ],
             [
              0.1111111111111111,
              "#46039f"
             ],
             [
              0.2222222222222222,
              "#7201a8"
             ],
             [
              0.3333333333333333,
              "#9c179e"
             ],
             [
              0.4444444444444444,
              "#bd3786"
             ],
             [
              0.5555555555555556,
              "#d8576b"
             ],
             [
              0.6666666666666666,
              "#ed7953"
             ],
             [
              0.7777777777777778,
              "#fb9f3a"
             ],
             [
              0.8888888888888888,
              "#fdca26"
             ],
             [
              1,
              "#f0f921"
             ]
            ],
            "type": "heatmapgl"
           }
          ],
          "histogram": [
           {
            "marker": {
             "colorbar": {
              "outlinewidth": 0,
              "ticks": ""
             }
            },
            "type": "histogram"
           }
          ],
          "histogram2d": [
           {
            "colorbar": {
             "outlinewidth": 0,
             "ticks": ""
            },
            "colorscale": [
             [
              0,
              "#0d0887"
             ],
             [
              0.1111111111111111,
              "#46039f"
             ],
             [
              0.2222222222222222,
              "#7201a8"
             ],
             [
              0.3333333333333333,
              "#9c179e"
             ],
             [
              0.4444444444444444,
              "#bd3786"
             ],
             [
              0.5555555555555556,
              "#d8576b"
             ],
             [
              0.6666666666666666,
              "#ed7953"
             ],
             [
              0.7777777777777778,
              "#fb9f3a"
             ],
             [
              0.8888888888888888,
              "#fdca26"
             ],
             [
              1,
              "#f0f921"
             ]
            ],
            "type": "histogram2d"
           }
          ],
          "histogram2dcontour": [
           {
            "colorbar": {
             "outlinewidth": 0,
             "ticks": ""
            },
            "colorscale": [
             [
              0,
              "#0d0887"
             ],
             [
              0.1111111111111111,
              "#46039f"
             ],
             [
              0.2222222222222222,
              "#7201a8"
             ],
             [
              0.3333333333333333,
              "#9c179e"
             ],
             [
              0.4444444444444444,
              "#bd3786"
             ],
             [
              0.5555555555555556,
              "#d8576b"
             ],
             [
              0.6666666666666666,
              "#ed7953"
             ],
             [
              0.7777777777777778,
              "#fb9f3a"
             ],
             [
              0.8888888888888888,
              "#fdca26"
             ],
             [
              1,
              "#f0f921"
             ]
            ],
            "type": "histogram2dcontour"
           }
          ],
          "mesh3d": [
           {
            "colorbar": {
             "outlinewidth": 0,
             "ticks": ""
            },
            "type": "mesh3d"
           }
          ],
          "parcoords": [
           {
            "line": {
             "colorbar": {
              "outlinewidth": 0,
              "ticks": ""
             }
            },
            "type": "parcoords"
           }
          ],
          "pie": [
           {
            "automargin": true,
            "type": "pie"
           }
          ],
          "scatter": [
           {
            "marker": {
             "colorbar": {
              "outlinewidth": 0,
              "ticks": ""
             }
            },
            "type": "scatter"
           }
          ],
          "scatter3d": [
           {
            "line": {
             "colorbar": {
              "outlinewidth": 0,
              "ticks": ""
             }
            },
            "marker": {
             "colorbar": {
              "outlinewidth": 0,
              "ticks": ""
             }
            },
            "type": "scatter3d"
           }
          ],
          "scattercarpet": [
           {
            "marker": {
             "colorbar": {
              "outlinewidth": 0,
              "ticks": ""
             }
            },
            "type": "scattercarpet"
           }
          ],
          "scattergeo": [
           {
            "marker": {
             "colorbar": {
              "outlinewidth": 0,
              "ticks": ""
             }
            },
            "type": "scattergeo"
           }
          ],
          "scattergl": [
           {
            "marker": {
             "colorbar": {
              "outlinewidth": 0,
              "ticks": ""
             }
            },
            "type": "scattergl"
           }
          ],
          "scattermapbox": [
           {
            "marker": {
             "colorbar": {
              "outlinewidth": 0,
              "ticks": ""
             }
            },
            "type": "scattermapbox"
           }
          ],
          "scatterpolar": [
           {
            "marker": {
             "colorbar": {
              "outlinewidth": 0,
              "ticks": ""
             }
            },
            "type": "scatterpolar"
           }
          ],
          "scatterpolargl": [
           {
            "marker": {
             "colorbar": {
              "outlinewidth": 0,
              "ticks": ""
             }
            },
            "type": "scatterpolargl"
           }
          ],
          "scatterternary": [
           {
            "marker": {
             "colorbar": {
              "outlinewidth": 0,
              "ticks": ""
             }
            },
            "type": "scatterternary"
           }
          ],
          "surface": [
           {
            "colorbar": {
             "outlinewidth": 0,
             "ticks": ""
            },
            "colorscale": [
             [
              0,
              "#0d0887"
             ],
             [
              0.1111111111111111,
              "#46039f"
             ],
             [
              0.2222222222222222,
              "#7201a8"
             ],
             [
              0.3333333333333333,
              "#9c179e"
             ],
             [
              0.4444444444444444,
              "#bd3786"
             ],
             [
              0.5555555555555556,
              "#d8576b"
             ],
             [
              0.6666666666666666,
              "#ed7953"
             ],
             [
              0.7777777777777778,
              "#fb9f3a"
             ],
             [
              0.8888888888888888,
              "#fdca26"
             ],
             [
              1,
              "#f0f921"
             ]
            ],
            "type": "surface"
           }
          ],
          "table": [
           {
            "cells": {
             "fill": {
              "color": "#EBF0F8"
             },
             "line": {
              "color": "white"
             }
            },
            "header": {
             "fill": {
              "color": "#C8D4E3"
             },
             "line": {
              "color": "white"
             }
            },
            "type": "table"
           }
          ]
         },
         "layout": {
          "annotationdefaults": {
           "arrowcolor": "#2a3f5f",
           "arrowhead": 0,
           "arrowwidth": 1
          },
          "coloraxis": {
           "colorbar": {
            "outlinewidth": 0,
            "ticks": ""
           }
          },
          "colorscale": {
           "diverging": [
            [
             0,
             "#8e0152"
            ],
            [
             0.1,
             "#c51b7d"
            ],
            [
             0.2,
             "#de77ae"
            ],
            [
             0.3,
             "#f1b6da"
            ],
            [
             0.4,
             "#fde0ef"
            ],
            [
             0.5,
             "#f7f7f7"
            ],
            [
             0.6,
             "#e6f5d0"
            ],
            [
             0.7,
             "#b8e186"
            ],
            [
             0.8,
             "#7fbc41"
            ],
            [
             0.9,
             "#4d9221"
            ],
            [
             1,
             "#276419"
            ]
           ],
           "sequential": [
            [
             0,
             "#0d0887"
            ],
            [
             0.1111111111111111,
             "#46039f"
            ],
            [
             0.2222222222222222,
             "#7201a8"
            ],
            [
             0.3333333333333333,
             "#9c179e"
            ],
            [
             0.4444444444444444,
             "#bd3786"
            ],
            [
             0.5555555555555556,
             "#d8576b"
            ],
            [
             0.6666666666666666,
             "#ed7953"
            ],
            [
             0.7777777777777778,
             "#fb9f3a"
            ],
            [
             0.8888888888888888,
             "#fdca26"
            ],
            [
             1,
             "#f0f921"
            ]
           ],
           "sequentialminus": [
            [
             0,
             "#0d0887"
            ],
            [
             0.1111111111111111,
             "#46039f"
            ],
            [
             0.2222222222222222,
             "#7201a8"
            ],
            [
             0.3333333333333333,
             "#9c179e"
            ],
            [
             0.4444444444444444,
             "#bd3786"
            ],
            [
             0.5555555555555556,
             "#d8576b"
            ],
            [
             0.6666666666666666,
             "#ed7953"
            ],
            [
             0.7777777777777778,
             "#fb9f3a"
            ],
            [
             0.8888888888888888,
             "#fdca26"
            ],
            [
             1,
             "#f0f921"
            ]
           ]
          },
          "colorway": [
           "#636efa",
           "#EF553B",
           "#00cc96",
           "#ab63fa",
           "#FFA15A",
           "#19d3f3",
           "#FF6692",
           "#B6E880",
           "#FF97FF",
           "#FECB52"
          ],
          "font": {
           "color": "#2a3f5f"
          },
          "geo": {
           "bgcolor": "white",
           "lakecolor": "white",
           "landcolor": "#E5ECF6",
           "showlakes": true,
           "showland": true,
           "subunitcolor": "white"
          },
          "hoverlabel": {
           "align": "left"
          },
          "hovermode": "closest",
          "mapbox": {
           "style": "light"
          },
          "paper_bgcolor": "white",
          "plot_bgcolor": "#E5ECF6",
          "polar": {
           "angularaxis": {
            "gridcolor": "white",
            "linecolor": "white",
            "ticks": ""
           },
           "bgcolor": "#E5ECF6",
           "radialaxis": {
            "gridcolor": "white",
            "linecolor": "white",
            "ticks": ""
           }
          },
          "scene": {
           "xaxis": {
            "backgroundcolor": "#E5ECF6",
            "gridcolor": "white",
            "gridwidth": 2,
            "linecolor": "white",
            "showbackground": true,
            "ticks": "",
            "zerolinecolor": "white"
           },
           "yaxis": {
            "backgroundcolor": "#E5ECF6",
            "gridcolor": "white",
            "gridwidth": 2,
            "linecolor": "white",
            "showbackground": true,
            "ticks": "",
            "zerolinecolor": "white"
           },
           "zaxis": {
            "backgroundcolor": "#E5ECF6",
            "gridcolor": "white",
            "gridwidth": 2,
            "linecolor": "white",
            "showbackground": true,
            "ticks": "",
            "zerolinecolor": "white"
           }
          },
          "shapedefaults": {
           "line": {
            "color": "#2a3f5f"
           }
          },
          "ternary": {
           "aaxis": {
            "gridcolor": "white",
            "linecolor": "white",
            "ticks": ""
           },
           "baxis": {
            "gridcolor": "white",
            "linecolor": "white",
            "ticks": ""
           },
           "bgcolor": "#E5ECF6",
           "caxis": {
            "gridcolor": "white",
            "linecolor": "white",
            "ticks": ""
           }
          },
          "title": {
           "x": 0.05
          },
          "xaxis": {
           "automargin": true,
           "gridcolor": "white",
           "linecolor": "white",
           "ticks": "",
           "title": {
            "standoff": 15
           },
           "zerolinecolor": "white",
           "zerolinewidth": 2
          },
          "yaxis": {
           "automargin": true,
           "gridcolor": "white",
           "linecolor": "white",
           "ticks": "",
           "title": {
            "standoff": 15
           },
           "zerolinecolor": "white",
           "zerolinewidth": 2
          }
         }
        },
        "title": {
         "text": "Price change Dorado del Mar 2008-2019"
        },
        "width": 1000,
        "xaxis": {
         "gridcolor": "#EEEEEE",
         "tickangle": -45,
         "tickfont": {
          "size": 9
         }
        },
        "yaxis": {
         "gridcolor": "#EEEEEE",
         "nticks": 18
        }
       }
      },
      "text/html": [
       "<div>\n",
       "        \n",
       "        \n",
       "            <div id=\"9e7165aa-8e66-4518-861f-2190e13a5ed1\" class=\"plotly-graph-div\" style=\"height:500px; width:1000px;\"></div>\n",
       "            <script type=\"text/javascript\">\n",
       "                require([\"plotly\"], function(Plotly) {\n",
       "                    window.PLOTLYENV=window.PLOTLYENV || {};\n",
       "                    \n",
       "                if (document.getElementById(\"9e7165aa-8e66-4518-861f-2190e13a5ed1\")) {\n",
       "                    Plotly.newPlot(\n",
       "                        '9e7165aa-8e66-4518-861f-2190e13a5ed1',\n",
       "                        [{\"marker\": {\"color\": \"blue\"}, \"mode\": \"lines+markers\", \"name\": \"Min Quarter value\", \"type\": \"scatter\", \"x\": [\"2008 Q1\", \"2008 Q2\", \"2008 Q4\", \"2009 Q1\", \"2009 Q2\", \"2009 Q3\", \"2009 Q4\", \"2010 Q1\", \"2010 Q2\", \"2010 Q4\", \"2011 Q1\", \"2011 Q2\", \"2011 Q3\", \"2011 Q4\", \"2012 Q1\", \"2012 Q2\", \"2012 Q3\", \"2012 Q4\", \"2013 Q1\", \"2013 Q3\", \"2014 Q1\", \"2014 Q3\", \"2014 Q4\", \"2015 Q1\", \"2015 Q2\", \"2015 Q3\", \"2015 Q4\", \"2016 Q1\", \"2016 Q2\", \"2016 Q3\", \"2016 Q4\", \"2017 Q1\", \"2017 Q2\", \"2017 Q4\", \"2018 Q1\", \"2018 Q2\", \"2018 Q3\", \"2018 Q4\", \"2019 Q1\"], \"y\": [315000.0, 326000.0, 205000.0, 220000.0, 316000.0, 290000.0, 305000.0, 225000.0, 305000.0, 222000.0, 169500.0, 230000.0, 235000.0, 215000.0, 310000.0, 255000.0, 240000.0, 180000.0, 218500.0, 185000.0, 175000.0, 179900.0, 244000.0, 250000.0, 135000.0, 160000.0, 190000.0, 160000.0, 220000.0, 190000.0, 256000.0, 170000.0, 210000.0, 200000.0, 280000.0, 150000.0, 230000.0, 245000.0, 145900.0]}, {\"fill\": \"tonexty\", \"fillcolor\": \"rgba(248, 245, 159, 0.1)\", \"marker\": {\"color\": \"red\"}, \"mode\": \"lines+markers\", \"name\": \"Max Quarter value\", \"type\": \"scatter\", \"x\": [\"2008 Q1\", \"2008 Q2\", \"2008 Q4\", \"2009 Q1\", \"2009 Q2\", \"2009 Q3\", \"2009 Q4\", \"2010 Q1\", \"2010 Q2\", \"2010 Q4\", \"2011 Q1\", \"2011 Q2\", \"2011 Q3\", \"2011 Q4\", \"2012 Q1\", \"2012 Q2\", \"2012 Q3\", \"2012 Q4\", \"2013 Q1\", \"2013 Q3\", \"2014 Q1\", \"2014 Q3\", \"2014 Q4\", \"2015 Q1\", \"2015 Q2\", \"2015 Q3\", \"2015 Q4\", \"2016 Q1\", \"2016 Q2\", \"2016 Q3\", \"2016 Q4\", \"2017 Q1\", \"2017 Q2\", \"2017 Q4\", \"2018 Q1\", \"2018 Q2\", \"2018 Q3\", \"2018 Q4\", \"2019 Q1\"], \"y\": [361000.0, 405000.0, 205000.0, 220000.0, 352000.0, 290000.0, 350000.0, 225000.0, 305000.0, 222000.0, 335000.0, 310000.0, 275000.0, 215000.0, 310000.0, 255000.0, 240000.0, 285000.0, 300000.0, 315000.0, 175000.0, 345000.0, 300000.0, 275000.0, 381000.0, 160000.0, 240000.0, 160000.0, 220000.0, 250000.0, 256000.0, 300000.0, 250000.0, 200000.0, 280000.0, 302000.0, 230000.0, 265000.0, 170000.0]}, {\"line\": {\"color\": \"grey\", \"dash\": \"dashdot\", \"shape\": \"spline\", \"width\": 1}, \"mode\": \"lines\", \"name\": \"Median Quarter value\", \"type\": \"scatter\", \"x\": [\"2008 Q1\", \"2008 Q2\", \"2008 Q4\", \"2009 Q1\", \"2009 Q2\", \"2009 Q3\", \"2009 Q4\", \"2010 Q1\", \"2010 Q2\", \"2010 Q4\", \"2011 Q1\", \"2011 Q2\", \"2011 Q3\", \"2011 Q4\", \"2012 Q1\", \"2012 Q2\", \"2012 Q3\", \"2012 Q4\", \"2013 Q1\", \"2013 Q3\", \"2014 Q1\", \"2014 Q3\", \"2014 Q4\", \"2015 Q1\", \"2015 Q2\", \"2015 Q3\", \"2015 Q4\", \"2016 Q1\", \"2016 Q2\", \"2016 Q3\", \"2016 Q4\", \"2017 Q1\", \"2017 Q2\", \"2017 Q4\", \"2018 Q1\", \"2018 Q2\", \"2018 Q3\", \"2018 Q4\", \"2019 Q1\"], \"y\": [338000.0, 365500.0, 205000.0, 220000.0, 328000.0, 290000.0, 340000.0, 225000.0, 305000.0, 222000.0, 275000.0, 265000.0, 240000.0, 215000.0, 310000.0, 255000.0, 240000.0, 235000.0, 242550.0, 250000.0, 175000.0, 262450.0, 272000.0, 262500.0, 258300.0, 160000.0, 215000.0, 160000.0, 220000.0, 224000.0, 256000.0, 189000.0, 230000.0, 200000.0, 280000.0, 226000.0, 230000.0, 255000.0, 157950.0]}],\n",
       "                        {\"annotations\": [{\"arrowcolor\": \"#616161\", \"arrowhead\": 0, \"arrowwidth\": 0.5, \"ax\": 0, \"ay\": 50, \"font\": {\"color\": \"brown\", \"size\": 6}, \"opacity\": 1, \"showarrow\": true, \"text\": \"315K<br>0%\", \"x\": 0, \"y\": 315000.0}, {\"arrowcolor\": \"#616161\", \"arrowhead\": 0, \"arrowwidth\": 0.5, \"ax\": 0, \"ay\": 60, \"font\": {\"color\": \"green\", \"size\": 6}, \"opacity\": 1, \"showarrow\": true, \"text\": \"326K<br>+3%\", \"x\": 1, \"y\": 326000.0}, {\"arrowcolor\": \"#616161\", \"arrowhead\": 0, \"arrowwidth\": 0.5, \"ax\": 0, \"ay\": 50, \"font\": {\"color\": \"brown\", \"size\": 6}, \"opacity\": 1, \"showarrow\": true, \"text\": \"205K<br>-37%\", \"x\": 2, \"y\": 205000.0}, {\"arrowcolor\": \"#616161\", \"arrowhead\": 0, \"arrowwidth\": 0.5, \"ax\": 0, \"ay\": 60, \"font\": {\"color\": \"green\", \"size\": 6}, \"opacity\": 1, \"showarrow\": true, \"text\": \"220K<br>+7%\", \"x\": 3, \"y\": 220000.0}, {\"arrowcolor\": \"#616161\", \"arrowhead\": 0, \"arrowwidth\": 0.5, \"ax\": 0, \"ay\": 60, \"font\": {\"color\": \"green\", \"size\": 6}, \"opacity\": 1, \"showarrow\": true, \"text\": \"316K<br>+44%\", \"x\": 4, \"y\": 316000.0}, {\"arrowcolor\": \"#616161\", \"arrowhead\": 0, \"arrowwidth\": 0.5, \"ax\": 0, \"ay\": 50, \"font\": {\"color\": \"brown\", \"size\": 6}, \"opacity\": 1, \"showarrow\": true, \"text\": \"290K<br>-8%\", \"x\": 5, \"y\": 290000.0}, {\"arrowcolor\": \"#616161\", \"arrowhead\": 0, \"arrowwidth\": 0.5, \"ax\": 0, \"ay\": 60, \"font\": {\"color\": \"green\", \"size\": 6}, \"opacity\": 1, \"showarrow\": true, \"text\": \"305K<br>+5%\", \"x\": 6, \"y\": 305000.0}, {\"arrowcolor\": \"#616161\", \"arrowhead\": 0, \"arrowwidth\": 0.5, \"ax\": 0, \"ay\": 50, \"font\": {\"color\": \"brown\", \"size\": 6}, \"opacity\": 1, \"showarrow\": true, \"text\": \"225K<br>-26%\", \"x\": 7, \"y\": 225000.0}, {\"arrowcolor\": \"#616161\", \"arrowhead\": 0, \"arrowwidth\": 0.5, \"ax\": 0, \"ay\": 60, \"font\": {\"color\": \"green\", \"size\": 6}, \"opacity\": 1, \"showarrow\": true, \"text\": \"305K<br>+36%\", \"x\": 8, \"y\": 305000.0}, {\"arrowcolor\": \"#616161\", \"arrowhead\": 0, \"arrowwidth\": 0.5, \"ax\": 0, \"ay\": 50, \"font\": {\"color\": \"brown\", \"size\": 6}, \"opacity\": 1, \"showarrow\": true, \"text\": \"222K<br>-27%\", \"x\": 9, \"y\": 222000.0}, {\"arrowcolor\": \"#616161\", \"arrowhead\": 0, \"arrowwidth\": 0.5, \"ax\": 0, \"ay\": 50, \"font\": {\"color\": \"brown\", \"size\": 6}, \"opacity\": 1, \"showarrow\": true, \"text\": \"170K<br>-24%\", \"x\": 10, \"y\": 169500.0}, {\"arrowcolor\": \"#616161\", \"arrowhead\": 0, \"arrowwidth\": 0.5, \"ax\": 0, \"ay\": 60, \"font\": {\"color\": \"green\", \"size\": 6}, \"opacity\": 1, \"showarrow\": true, \"text\": \"230K<br>+36%\", \"x\": 11, \"y\": 230000.0}, {\"arrowcolor\": \"#616161\", \"arrowhead\": 0, \"arrowwidth\": 0.5, \"ax\": 0, \"ay\": 60, \"font\": {\"color\": \"green\", \"size\": 6}, \"opacity\": 1, \"showarrow\": true, \"text\": \"235K<br>+2%\", \"x\": 12, \"y\": 235000.0}, {\"arrowcolor\": \"#616161\", \"arrowhead\": 0, \"arrowwidth\": 0.5, \"ax\": 0, \"ay\": 50, \"font\": {\"color\": \"brown\", \"size\": 6}, \"opacity\": 1, \"showarrow\": true, \"text\": \"215K<br>-9%\", \"x\": 13, \"y\": 215000.0}, {\"arrowcolor\": \"#616161\", \"arrowhead\": 0, \"arrowwidth\": 0.5, \"ax\": 0, \"ay\": 60, \"font\": {\"color\": \"green\", \"size\": 6}, \"opacity\": 1, \"showarrow\": true, \"text\": \"310K<br>+44%\", \"x\": 14, \"y\": 310000.0}, {\"arrowcolor\": \"#616161\", \"arrowhead\": 0, \"arrowwidth\": 0.5, \"ax\": 0, \"ay\": 50, \"font\": {\"color\": \"brown\", \"size\": 6}, \"opacity\": 1, \"showarrow\": true, \"text\": \"255K<br>-18%\", \"x\": 15, \"y\": 255000.0}, {\"arrowcolor\": \"#616161\", \"arrowhead\": 0, \"arrowwidth\": 0.5, \"ax\": 0, \"ay\": 50, \"font\": {\"color\": \"brown\", \"size\": 6}, \"opacity\": 1, \"showarrow\": true, \"text\": \"240K<br>-6%\", \"x\": 16, \"y\": 240000.0}, {\"arrowcolor\": \"#616161\", \"arrowhead\": 0, \"arrowwidth\": 0.5, \"ax\": 0, \"ay\": 50, \"font\": {\"color\": \"brown\", \"size\": 6}, \"opacity\": 1, \"showarrow\": true, \"text\": \"180K<br>-25%\", \"x\": 17, \"y\": 180000.0}, {\"arrowcolor\": \"#616161\", \"arrowhead\": 0, \"arrowwidth\": 0.5, \"ax\": 0, \"ay\": 60, \"font\": {\"color\": \"green\", \"size\": 6}, \"opacity\": 1, \"showarrow\": true, \"text\": \"218K<br>+21%\", \"x\": 18, \"y\": 218500.0}, {\"arrowcolor\": \"#616161\", \"arrowhead\": 0, \"arrowwidth\": 0.5, \"ax\": 0, \"ay\": 50, \"font\": {\"color\": \"brown\", \"size\": 6}, \"opacity\": 1, \"showarrow\": true, \"text\": \"185K<br>-15%\", \"x\": 19, \"y\": 185000.0}, {\"arrowcolor\": \"#616161\", \"arrowhead\": 0, \"arrowwidth\": 0.5, \"ax\": 0, \"ay\": 50, \"font\": {\"color\": \"brown\", \"size\": 6}, \"opacity\": 1, \"showarrow\": true, \"text\": \"175K<br>-5%\", \"x\": 20, \"y\": 175000.0}, {\"arrowcolor\": \"#616161\", \"arrowhead\": 0, \"arrowwidth\": 0.5, \"ax\": 0, \"ay\": 60, \"font\": {\"color\": \"green\", \"size\": 6}, \"opacity\": 1, \"showarrow\": true, \"text\": \"180K<br>+3%\", \"x\": 21, \"y\": 179900.0}, {\"arrowcolor\": \"#616161\", \"arrowhead\": 0, \"arrowwidth\": 0.5, \"ax\": 0, \"ay\": 60, \"font\": {\"color\": \"green\", \"size\": 6}, \"opacity\": 1, \"showarrow\": true, \"text\": \"244K<br>+36%\", \"x\": 22, \"y\": 244000.0}, {\"arrowcolor\": \"#616161\", \"arrowhead\": 0, \"arrowwidth\": 0.5, \"ax\": 0, \"ay\": 60, \"font\": {\"color\": \"green\", \"size\": 6}, \"opacity\": 1, \"showarrow\": true, \"text\": \"250K<br>+2%\", \"x\": 23, \"y\": 250000.0}, {\"arrowcolor\": \"#616161\", \"arrowhead\": 0, \"arrowwidth\": 0.5, \"ax\": 0, \"ay\": 50, \"font\": {\"color\": \"brown\", \"size\": 6}, \"opacity\": 1, \"showarrow\": true, \"text\": \"135K<br>-46%\", \"x\": 24, \"y\": 135000.0}, {\"arrowcolor\": \"#616161\", \"arrowhead\": 0, \"arrowwidth\": 0.5, \"ax\": 0, \"ay\": 60, \"font\": {\"color\": \"green\", \"size\": 6}, \"opacity\": 1, \"showarrow\": true, \"text\": \"160K<br>+19%\", \"x\": 25, \"y\": 160000.0}, {\"arrowcolor\": \"#616161\", \"arrowhead\": 0, \"arrowwidth\": 0.5, \"ax\": 0, \"ay\": 60, \"font\": {\"color\": \"green\", \"size\": 6}, \"opacity\": 1, \"showarrow\": true, \"text\": \"190K<br>+19%\", \"x\": 26, \"y\": 190000.0}, {\"arrowcolor\": \"#616161\", \"arrowhead\": 0, \"arrowwidth\": 0.5, \"ax\": 0, \"ay\": 50, \"font\": {\"color\": \"brown\", \"size\": 6}, \"opacity\": 1, \"showarrow\": true, \"text\": \"160K<br>-16%\", \"x\": 27, \"y\": 160000.0}, {\"arrowcolor\": \"#616161\", \"arrowhead\": 0, \"arrowwidth\": 0.5, \"ax\": 0, \"ay\": 60, \"font\": {\"color\": \"green\", \"size\": 6}, \"opacity\": 1, \"showarrow\": true, \"text\": \"220K<br>+38%\", \"x\": 28, \"y\": 220000.0}, {\"arrowcolor\": \"#616161\", \"arrowhead\": 0, \"arrowwidth\": 0.5, \"ax\": 0, \"ay\": 50, \"font\": {\"color\": \"brown\", \"size\": 6}, \"opacity\": 1, \"showarrow\": true, \"text\": \"190K<br>-14%\", \"x\": 29, \"y\": 190000.0}, {\"arrowcolor\": \"#616161\", \"arrowhead\": 0, \"arrowwidth\": 0.5, \"ax\": 0, \"ay\": 60, \"font\": {\"color\": \"green\", \"size\": 6}, \"opacity\": 1, \"showarrow\": true, \"text\": \"256K<br>+35%\", \"x\": 30, \"y\": 256000.0}, {\"arrowcolor\": \"#616161\", \"arrowhead\": 0, \"arrowwidth\": 0.5, \"ax\": 0, \"ay\": 50, \"font\": {\"color\": \"brown\", \"size\": 6}, \"opacity\": 1, \"showarrow\": true, \"text\": \"170K<br>-34%\", \"x\": 31, \"y\": 170000.0}, {\"arrowcolor\": \"#616161\", \"arrowhead\": 0, \"arrowwidth\": 0.5, \"ax\": 0, \"ay\": 60, \"font\": {\"color\": \"green\", \"size\": 6}, \"opacity\": 1, \"showarrow\": true, \"text\": \"210K<br>+24%\", \"x\": 32, \"y\": 210000.0}, {\"arrowcolor\": \"#616161\", \"arrowhead\": 0, \"arrowwidth\": 0.5, \"ax\": 0, \"ay\": 50, \"font\": {\"color\": \"brown\", \"size\": 6}, \"opacity\": 1, \"showarrow\": true, \"text\": \"200K<br>-5%\", \"x\": 33, \"y\": 200000.0}, {\"arrowcolor\": \"#616161\", \"arrowhead\": 0, \"arrowwidth\": 0.5, \"ax\": 0, \"ay\": 60, \"font\": {\"color\": \"green\", \"size\": 6}, \"opacity\": 1, \"showarrow\": true, \"text\": \"280K<br>+40%\", \"x\": 34, \"y\": 280000.0}, {\"arrowcolor\": \"#616161\", \"arrowhead\": 0, \"arrowwidth\": 0.5, \"ax\": 0, \"ay\": 50, \"font\": {\"color\": \"brown\", \"size\": 6}, \"opacity\": 1, \"showarrow\": true, \"text\": \"150K<br>-46%\", \"x\": 35, \"y\": 150000.0}, {\"arrowcolor\": \"#616161\", \"arrowhead\": 0, \"arrowwidth\": 0.5, \"ax\": 0, \"ay\": 60, \"font\": {\"color\": \"green\", \"size\": 6}, \"opacity\": 1, \"showarrow\": true, \"text\": \"230K<br>+53%\", \"x\": 36, \"y\": 230000.0}, {\"arrowcolor\": \"#616161\", \"arrowhead\": 0, \"arrowwidth\": 0.5, \"ax\": 0, \"ay\": 60, \"font\": {\"color\": \"green\", \"size\": 6}, \"opacity\": 1, \"showarrow\": true, \"text\": \"245K<br>+7%\", \"x\": 37, \"y\": 245000.0}, {\"arrowcolor\": \"#616161\", \"arrowhead\": 0, \"arrowwidth\": 0.5, \"ax\": 0, \"ay\": 50, \"font\": {\"color\": \"brown\", \"size\": 6}, \"opacity\": 1, \"showarrow\": true, \"text\": \"146K<br>-40%\", \"x\": 38, \"y\": 145900.0}, {\"arrowcolor\": \"#616161\", \"arrowhead\": 0, \"arrowwidth\": 0.5, \"ax\": 0, \"ay\": -60, \"font\": {\"color\": \"brown\", \"size\": 6}, \"opacity\": 1, \"showarrow\": true, \"text\": \"361K<br>0%\", \"x\": 0, \"y\": 361000.0}, {\"arrowcolor\": \"#616161\", \"arrowhead\": 0, \"arrowwidth\": 0.5, \"ax\": 0, \"ay\": -50, \"font\": {\"color\": \"green\", \"size\": 6}, \"opacity\": 1, \"showarrow\": true, \"text\": \"405K<br>+12%\", \"x\": 1, \"y\": 405000.0}, {\"arrowcolor\": \"#616161\", \"arrowhead\": 0, \"arrowwidth\": 0.5, \"ax\": 0, \"ay\": -60, \"font\": {\"color\": \"brown\", \"size\": 6}, \"opacity\": 1, \"showarrow\": true, \"text\": \"205K<br>-49%\", \"x\": 2, \"y\": 205000.0}, {\"arrowcolor\": \"#616161\", \"arrowhead\": 0, \"arrowwidth\": 0.5, \"ax\": 0, \"ay\": -50, \"font\": {\"color\": \"green\", \"size\": 6}, \"opacity\": 1, \"showarrow\": true, \"text\": \"220K<br>+7%\", \"x\": 3, \"y\": 220000.0}, {\"arrowcolor\": \"#616161\", \"arrowhead\": 0, \"arrowwidth\": 0.5, \"ax\": 0, \"ay\": -50, \"font\": {\"color\": \"green\", \"size\": 6}, \"opacity\": 1, \"showarrow\": true, \"text\": \"352K<br>+60%\", \"x\": 4, \"y\": 352000.0}, {\"arrowcolor\": \"#616161\", \"arrowhead\": 0, \"arrowwidth\": 0.5, \"ax\": 0, \"ay\": -60, \"font\": {\"color\": \"brown\", \"size\": 6}, \"opacity\": 1, \"showarrow\": true, \"text\": \"290K<br>-18%\", \"x\": 5, \"y\": 290000.0}, {\"arrowcolor\": \"#616161\", \"arrowhead\": 0, \"arrowwidth\": 0.5, \"ax\": 0, \"ay\": -50, \"font\": {\"color\": \"green\", \"size\": 6}, \"opacity\": 1, \"showarrow\": true, \"text\": \"350K<br>+21%\", \"x\": 6, \"y\": 350000.0}, {\"arrowcolor\": \"#616161\", \"arrowhead\": 0, \"arrowwidth\": 0.5, \"ax\": 0, \"ay\": -60, \"font\": {\"color\": \"brown\", \"size\": 6}, \"opacity\": 1, \"showarrow\": true, \"text\": \"225K<br>-36%\", \"x\": 7, \"y\": 225000.0}, {\"arrowcolor\": \"#616161\", \"arrowhead\": 0, \"arrowwidth\": 0.5, \"ax\": 0, \"ay\": -50, \"font\": {\"color\": \"green\", \"size\": 6}, \"opacity\": 1, \"showarrow\": true, \"text\": \"305K<br>+36%\", \"x\": 8, \"y\": 305000.0}, {\"arrowcolor\": \"#616161\", \"arrowhead\": 0, \"arrowwidth\": 0.5, \"ax\": 0, \"ay\": -60, \"font\": {\"color\": \"brown\", \"size\": 6}, \"opacity\": 1, \"showarrow\": true, \"text\": \"222K<br>-27%\", \"x\": 9, \"y\": 222000.0}, {\"arrowcolor\": \"#616161\", \"arrowhead\": 0, \"arrowwidth\": 0.5, \"ax\": 0, \"ay\": -50, \"font\": {\"color\": \"green\", \"size\": 6}, \"opacity\": 1, \"showarrow\": true, \"text\": \"335K<br>+51%\", \"x\": 10, \"y\": 335000.0}, {\"arrowcolor\": \"#616161\", \"arrowhead\": 0, \"arrowwidth\": 0.5, \"ax\": 0, \"ay\": -60, \"font\": {\"color\": \"brown\", \"size\": 6}, \"opacity\": 1, \"showarrow\": true, \"text\": \"310K<br>-7%\", \"x\": 11, \"y\": 310000.0}, {\"arrowcolor\": \"#616161\", \"arrowhead\": 0, \"arrowwidth\": 0.5, \"ax\": 0, \"ay\": -60, \"font\": {\"color\": \"brown\", \"size\": 6}, \"opacity\": 1, \"showarrow\": true, \"text\": \"275K<br>-11%\", \"x\": 12, \"y\": 275000.0}, {\"arrowcolor\": \"#616161\", \"arrowhead\": 0, \"arrowwidth\": 0.5, \"ax\": 0, \"ay\": -60, \"font\": {\"color\": \"brown\", \"size\": 6}, \"opacity\": 1, \"showarrow\": true, \"text\": \"215K<br>-22%\", \"x\": 13, \"y\": 215000.0}, {\"arrowcolor\": \"#616161\", \"arrowhead\": 0, \"arrowwidth\": 0.5, \"ax\": 0, \"ay\": -50, \"font\": {\"color\": \"green\", \"size\": 6}, \"opacity\": 1, \"showarrow\": true, \"text\": \"310K<br>+44%\", \"x\": 14, \"y\": 310000.0}, {\"arrowcolor\": \"#616161\", \"arrowhead\": 0, \"arrowwidth\": 0.5, \"ax\": 0, \"ay\": -60, \"font\": {\"color\": \"brown\", \"size\": 6}, \"opacity\": 1, \"showarrow\": true, \"text\": \"255K<br>-18%\", \"x\": 15, \"y\": 255000.0}, {\"arrowcolor\": \"#616161\", \"arrowhead\": 0, \"arrowwidth\": 0.5, \"ax\": 0, \"ay\": -60, \"font\": {\"color\": \"brown\", \"size\": 6}, \"opacity\": 1, \"showarrow\": true, \"text\": \"240K<br>-6%\", \"x\": 16, \"y\": 240000.0}, {\"arrowcolor\": \"#616161\", \"arrowhead\": 0, \"arrowwidth\": 0.5, \"ax\": 0, \"ay\": -50, \"font\": {\"color\": \"green\", \"size\": 6}, \"opacity\": 1, \"showarrow\": true, \"text\": \"285K<br>+19%\", \"x\": 17, \"y\": 285000.0}, {\"arrowcolor\": \"#616161\", \"arrowhead\": 0, \"arrowwidth\": 0.5, \"ax\": 0, \"ay\": -50, \"font\": {\"color\": \"green\", \"size\": 6}, \"opacity\": 1, \"showarrow\": true, \"text\": \"300K<br>+5%\", \"x\": 18, \"y\": 300000.0}, {\"arrowcolor\": \"#616161\", \"arrowhead\": 0, \"arrowwidth\": 0.5, \"ax\": 0, \"ay\": -50, \"font\": {\"color\": \"green\", \"size\": 6}, \"opacity\": 1, \"showarrow\": true, \"text\": \"315K<br>+5%\", \"x\": 19, \"y\": 315000.0}, {\"arrowcolor\": \"#616161\", \"arrowhead\": 0, \"arrowwidth\": 0.5, \"ax\": 0, \"ay\": -60, \"font\": {\"color\": \"brown\", \"size\": 6}, \"opacity\": 1, \"showarrow\": true, \"text\": \"175K<br>-44%\", \"x\": 20, \"y\": 175000.0}, {\"arrowcolor\": \"#616161\", \"arrowhead\": 0, \"arrowwidth\": 0.5, \"ax\": 0, \"ay\": -50, \"font\": {\"color\": \"green\", \"size\": 6}, \"opacity\": 1, \"showarrow\": true, \"text\": \"345K<br>+97%\", \"x\": 21, \"y\": 345000.0}, {\"arrowcolor\": \"#616161\", \"arrowhead\": 0, \"arrowwidth\": 0.5, \"ax\": 0, \"ay\": -60, \"font\": {\"color\": \"brown\", \"size\": 6}, \"opacity\": 1, \"showarrow\": true, \"text\": \"300K<br>-13%\", \"x\": 22, \"y\": 300000.0}, {\"arrowcolor\": \"#616161\", \"arrowhead\": 0, \"arrowwidth\": 0.5, \"ax\": 0, \"ay\": -60, \"font\": {\"color\": \"brown\", \"size\": 6}, \"opacity\": 1, \"showarrow\": true, \"text\": \"275K<br>-8%\", \"x\": 23, \"y\": 275000.0}, {\"arrowcolor\": \"#616161\", \"arrowhead\": 0, \"arrowwidth\": 0.5, \"ax\": 0, \"ay\": -50, \"font\": {\"color\": \"green\", \"size\": 6}, \"opacity\": 1, \"showarrow\": true, \"text\": \"381K<br>+39%\", \"x\": 24, \"y\": 381000.0}, {\"arrowcolor\": \"#616161\", \"arrowhead\": 0, \"arrowwidth\": 0.5, \"ax\": 0, \"ay\": -60, \"font\": {\"color\": \"brown\", \"size\": 6}, \"opacity\": 1, \"showarrow\": true, \"text\": \"160K<br>-58%\", \"x\": 25, \"y\": 160000.0}, {\"arrowcolor\": \"#616161\", \"arrowhead\": 0, \"arrowwidth\": 0.5, \"ax\": 0, \"ay\": -50, \"font\": {\"color\": \"green\", \"size\": 6}, \"opacity\": 1, \"showarrow\": true, \"text\": \"240K<br>+50%\", \"x\": 26, \"y\": 240000.0}, {\"arrowcolor\": \"#616161\", \"arrowhead\": 0, \"arrowwidth\": 0.5, \"ax\": 0, \"ay\": -60, \"font\": {\"color\": \"brown\", \"size\": 6}, \"opacity\": 1, \"showarrow\": true, \"text\": \"160K<br>-33%\", \"x\": 27, \"y\": 160000.0}, {\"arrowcolor\": \"#616161\", \"arrowhead\": 0, \"arrowwidth\": 0.5, \"ax\": 0, \"ay\": -50, \"font\": {\"color\": \"green\", \"size\": 6}, \"opacity\": 1, \"showarrow\": true, \"text\": \"220K<br>+38%\", \"x\": 28, \"y\": 220000.0}, {\"arrowcolor\": \"#616161\", \"arrowhead\": 0, \"arrowwidth\": 0.5, \"ax\": 0, \"ay\": -50, \"font\": {\"color\": \"green\", \"size\": 6}, \"opacity\": 1, \"showarrow\": true, \"text\": \"250K<br>+14%\", \"x\": 29, \"y\": 250000.0}, {\"arrowcolor\": \"#616161\", \"arrowhead\": 0, \"arrowwidth\": 0.5, \"ax\": 0, \"ay\": -50, \"font\": {\"color\": \"green\", \"size\": 6}, \"opacity\": 1, \"showarrow\": true, \"text\": \"256K<br>+2%\", \"x\": 30, \"y\": 256000.0}, {\"arrowcolor\": \"#616161\", \"arrowhead\": 0, \"arrowwidth\": 0.5, \"ax\": 0, \"ay\": -50, \"font\": {\"color\": \"green\", \"size\": 6}, \"opacity\": 1, \"showarrow\": true, \"text\": \"300K<br>+17%\", \"x\": 31, \"y\": 300000.0}, {\"arrowcolor\": \"#616161\", \"arrowhead\": 0, \"arrowwidth\": 0.5, \"ax\": 0, \"ay\": -60, \"font\": {\"color\": \"brown\", \"size\": 6}, \"opacity\": 1, \"showarrow\": true, \"text\": \"250K<br>-17%\", \"x\": 32, \"y\": 250000.0}, {\"arrowcolor\": \"#616161\", \"arrowhead\": 0, \"arrowwidth\": 0.5, \"ax\": 0, \"ay\": -60, \"font\": {\"color\": \"brown\", \"size\": 6}, \"opacity\": 1, \"showarrow\": true, \"text\": \"200K<br>-20%\", \"x\": 33, \"y\": 200000.0}, {\"arrowcolor\": \"#616161\", \"arrowhead\": 0, \"arrowwidth\": 0.5, \"ax\": 0, \"ay\": -50, \"font\": {\"color\": \"green\", \"size\": 6}, \"opacity\": 1, \"showarrow\": true, \"text\": \"280K<br>+40%\", \"x\": 34, \"y\": 280000.0}, {\"arrowcolor\": \"#616161\", \"arrowhead\": 0, \"arrowwidth\": 0.5, \"ax\": 0, \"ay\": -50, \"font\": {\"color\": \"green\", \"size\": 6}, \"opacity\": 1, \"showarrow\": true, \"text\": \"302K<br>+8%\", \"x\": 35, \"y\": 302000.0}, {\"arrowcolor\": \"#616161\", \"arrowhead\": 0, \"arrowwidth\": 0.5, \"ax\": 0, \"ay\": -60, \"font\": {\"color\": \"brown\", \"size\": 6}, \"opacity\": 1, \"showarrow\": true, \"text\": \"230K<br>-24%\", \"x\": 36, \"y\": 230000.0}, {\"arrowcolor\": \"#616161\", \"arrowhead\": 0, \"arrowwidth\": 0.5, \"ax\": 0, \"ay\": -50, \"font\": {\"color\": \"green\", \"size\": 6}, \"opacity\": 1, \"showarrow\": true, \"text\": \"265K<br>+15%\", \"x\": 37, \"y\": 265000.0}, {\"arrowcolor\": \"#616161\", \"arrowhead\": 0, \"arrowwidth\": 0.5, \"ax\": 0, \"ay\": -60, \"font\": {\"color\": \"brown\", \"size\": 6}, \"opacity\": 1, \"showarrow\": true, \"text\": \"170K<br>-36%\", \"x\": 38, \"y\": 170000.0}], \"height\": 500, \"plot_bgcolor\": \"rgba(0,0,0,0)\", \"showlegend\": true, \"template\": {\"data\": {\"bar\": [{\"error_x\": {\"color\": \"#2a3f5f\"}, \"error_y\": {\"color\": \"#2a3f5f\"}, \"marker\": {\"line\": {\"color\": \"#E5ECF6\", \"width\": 0.5}}, \"type\": \"bar\"}], \"barpolar\": [{\"marker\": {\"line\": {\"color\": \"#E5ECF6\", \"width\": 0.5}}, \"type\": \"barpolar\"}], \"carpet\": [{\"aaxis\": {\"endlinecolor\": \"#2a3f5f\", \"gridcolor\": \"white\", \"linecolor\": \"white\", \"minorgridcolor\": \"white\", \"startlinecolor\": \"#2a3f5f\"}, \"baxis\": {\"endlinecolor\": \"#2a3f5f\", \"gridcolor\": \"white\", \"linecolor\": \"white\", \"minorgridcolor\": \"white\", \"startlinecolor\": \"#2a3f5f\"}, \"type\": \"carpet\"}], \"choropleth\": [{\"colorbar\": {\"outlinewidth\": 0, \"ticks\": \"\"}, \"type\": \"choropleth\"}], \"contour\": [{\"colorbar\": {\"outlinewidth\": 0, \"ticks\": \"\"}, \"colorscale\": [[0.0, \"#0d0887\"], [0.1111111111111111, \"#46039f\"], [0.2222222222222222, \"#7201a8\"], [0.3333333333333333, \"#9c179e\"], [0.4444444444444444, \"#bd3786\"], [0.5555555555555556, \"#d8576b\"], [0.6666666666666666, \"#ed7953\"], [0.7777777777777778, \"#fb9f3a\"], [0.8888888888888888, \"#fdca26\"], [1.0, \"#f0f921\"]], \"type\": \"contour\"}], \"contourcarpet\": [{\"colorbar\": {\"outlinewidth\": 0, \"ticks\": \"\"}, \"type\": \"contourcarpet\"}], \"heatmap\": [{\"colorbar\": {\"outlinewidth\": 0, \"ticks\": \"\"}, \"colorscale\": [[0.0, \"#0d0887\"], [0.1111111111111111, \"#46039f\"], [0.2222222222222222, \"#7201a8\"], [0.3333333333333333, \"#9c179e\"], [0.4444444444444444, \"#bd3786\"], [0.5555555555555556, \"#d8576b\"], [0.6666666666666666, \"#ed7953\"], [0.7777777777777778, \"#fb9f3a\"], [0.8888888888888888, \"#fdca26\"], [1.0, \"#f0f921\"]], \"type\": \"heatmap\"}], \"heatmapgl\": [{\"colorbar\": {\"outlinewidth\": 0, \"ticks\": \"\"}, \"colorscale\": [[0.0, \"#0d0887\"], [0.1111111111111111, \"#46039f\"], [0.2222222222222222, \"#7201a8\"], [0.3333333333333333, \"#9c179e\"], [0.4444444444444444, \"#bd3786\"], [0.5555555555555556, \"#d8576b\"], [0.6666666666666666, \"#ed7953\"], [0.7777777777777778, \"#fb9f3a\"], [0.8888888888888888, \"#fdca26\"], [1.0, \"#f0f921\"]], \"type\": \"heatmapgl\"}], \"histogram\": [{\"marker\": {\"colorbar\": {\"outlinewidth\": 0, \"ticks\": \"\"}}, \"type\": \"histogram\"}], \"histogram2d\": [{\"colorbar\": {\"outlinewidth\": 0, \"ticks\": \"\"}, \"colorscale\": [[0.0, \"#0d0887\"], [0.1111111111111111, \"#46039f\"], [0.2222222222222222, \"#7201a8\"], [0.3333333333333333, \"#9c179e\"], [0.4444444444444444, \"#bd3786\"], [0.5555555555555556, \"#d8576b\"], [0.6666666666666666, \"#ed7953\"], [0.7777777777777778, \"#fb9f3a\"], [0.8888888888888888, \"#fdca26\"], [1.0, \"#f0f921\"]], \"type\": \"histogram2d\"}], \"histogram2dcontour\": [{\"colorbar\": {\"outlinewidth\": 0, \"ticks\": \"\"}, \"colorscale\": [[0.0, \"#0d0887\"], [0.1111111111111111, \"#46039f\"], [0.2222222222222222, \"#7201a8\"], [0.3333333333333333, \"#9c179e\"], [0.4444444444444444, \"#bd3786\"], [0.5555555555555556, \"#d8576b\"], [0.6666666666666666, \"#ed7953\"], [0.7777777777777778, \"#fb9f3a\"], [0.8888888888888888, \"#fdca26\"], [1.0, \"#f0f921\"]], \"type\": \"histogram2dcontour\"}], \"mesh3d\": [{\"colorbar\": {\"outlinewidth\": 0, \"ticks\": \"\"}, \"type\": \"mesh3d\"}], \"parcoords\": [{\"line\": {\"colorbar\": {\"outlinewidth\": 0, \"ticks\": \"\"}}, \"type\": \"parcoords\"}], \"pie\": [{\"automargin\": true, \"type\": \"pie\"}], \"scatter\": [{\"marker\": {\"colorbar\": {\"outlinewidth\": 0, \"ticks\": \"\"}}, \"type\": \"scatter\"}], \"scatter3d\": [{\"line\": {\"colorbar\": {\"outlinewidth\": 0, \"ticks\": \"\"}}, \"marker\": {\"colorbar\": {\"outlinewidth\": 0, \"ticks\": \"\"}}, \"type\": \"scatter3d\"}], \"scattercarpet\": [{\"marker\": {\"colorbar\": {\"outlinewidth\": 0, \"ticks\": \"\"}}, \"type\": \"scattercarpet\"}], \"scattergeo\": [{\"marker\": {\"colorbar\": {\"outlinewidth\": 0, \"ticks\": \"\"}}, \"type\": \"scattergeo\"}], \"scattergl\": [{\"marker\": {\"colorbar\": {\"outlinewidth\": 0, \"ticks\": \"\"}}, \"type\": \"scattergl\"}], \"scattermapbox\": [{\"marker\": {\"colorbar\": {\"outlinewidth\": 0, \"ticks\": \"\"}}, \"type\": \"scattermapbox\"}], \"scatterpolar\": [{\"marker\": {\"colorbar\": {\"outlinewidth\": 0, \"ticks\": \"\"}}, \"type\": \"scatterpolar\"}], \"scatterpolargl\": [{\"marker\": {\"colorbar\": {\"outlinewidth\": 0, \"ticks\": \"\"}}, \"type\": \"scatterpolargl\"}], \"scatterternary\": [{\"marker\": {\"colorbar\": {\"outlinewidth\": 0, \"ticks\": \"\"}}, \"type\": \"scatterternary\"}], \"surface\": [{\"colorbar\": {\"outlinewidth\": 0, \"ticks\": \"\"}, \"colorscale\": [[0.0, \"#0d0887\"], [0.1111111111111111, \"#46039f\"], [0.2222222222222222, \"#7201a8\"], [0.3333333333333333, \"#9c179e\"], [0.4444444444444444, \"#bd3786\"], [0.5555555555555556, \"#d8576b\"], [0.6666666666666666, \"#ed7953\"], [0.7777777777777778, \"#fb9f3a\"], [0.8888888888888888, \"#fdca26\"], [1.0, \"#f0f921\"]], \"type\": \"surface\"}], \"table\": [{\"cells\": {\"fill\": {\"color\": \"#EBF0F8\"}, \"line\": {\"color\": \"white\"}}, \"header\": {\"fill\": {\"color\": \"#C8D4E3\"}, \"line\": {\"color\": \"white\"}}, \"type\": \"table\"}]}, \"layout\": {\"annotationdefaults\": {\"arrowcolor\": \"#2a3f5f\", \"arrowhead\": 0, \"arrowwidth\": 1}, \"coloraxis\": {\"colorbar\": {\"outlinewidth\": 0, \"ticks\": \"\"}}, \"colorscale\": {\"diverging\": [[0, \"#8e0152\"], [0.1, \"#c51b7d\"], [0.2, \"#de77ae\"], [0.3, \"#f1b6da\"], [0.4, \"#fde0ef\"], [0.5, \"#f7f7f7\"], [0.6, \"#e6f5d0\"], [0.7, \"#b8e186\"], [0.8, \"#7fbc41\"], [0.9, \"#4d9221\"], [1, \"#276419\"]], \"sequential\": [[0.0, \"#0d0887\"], [0.1111111111111111, \"#46039f\"], [0.2222222222222222, \"#7201a8\"], [0.3333333333333333, \"#9c179e\"], [0.4444444444444444, \"#bd3786\"], [0.5555555555555556, \"#d8576b\"], [0.6666666666666666, \"#ed7953\"], [0.7777777777777778, \"#fb9f3a\"], [0.8888888888888888, \"#fdca26\"], [1.0, \"#f0f921\"]], \"sequentialminus\": [[0.0, \"#0d0887\"], [0.1111111111111111, \"#46039f\"], [0.2222222222222222, \"#7201a8\"], [0.3333333333333333, \"#9c179e\"], [0.4444444444444444, \"#bd3786\"], [0.5555555555555556, \"#d8576b\"], [0.6666666666666666, \"#ed7953\"], [0.7777777777777778, \"#fb9f3a\"], [0.8888888888888888, \"#fdca26\"], [1.0, \"#f0f921\"]]}, \"colorway\": [\"#636efa\", \"#EF553B\", \"#00cc96\", \"#ab63fa\", \"#FFA15A\", \"#19d3f3\", \"#FF6692\", \"#B6E880\", \"#FF97FF\", \"#FECB52\"], \"font\": {\"color\": \"#2a3f5f\"}, \"geo\": {\"bgcolor\": \"white\", \"lakecolor\": \"white\", \"landcolor\": \"#E5ECF6\", \"showlakes\": true, \"showland\": true, \"subunitcolor\": \"white\"}, \"hoverlabel\": {\"align\": \"left\"}, \"hovermode\": \"closest\", \"mapbox\": {\"style\": \"light\"}, \"paper_bgcolor\": \"white\", \"plot_bgcolor\": \"#E5ECF6\", \"polar\": {\"angularaxis\": {\"gridcolor\": \"white\", \"linecolor\": \"white\", \"ticks\": \"\"}, \"bgcolor\": \"#E5ECF6\", \"radialaxis\": {\"gridcolor\": \"white\", \"linecolor\": \"white\", \"ticks\": \"\"}}, \"scene\": {\"xaxis\": {\"backgroundcolor\": \"#E5ECF6\", \"gridcolor\": \"white\", \"gridwidth\": 2, \"linecolor\": \"white\", \"showbackground\": true, \"ticks\": \"\", \"zerolinecolor\": \"white\"}, \"yaxis\": {\"backgroundcolor\": \"#E5ECF6\", \"gridcolor\": \"white\", \"gridwidth\": 2, \"linecolor\": \"white\", \"showbackground\": true, \"ticks\": \"\", \"zerolinecolor\": \"white\"}, \"zaxis\": {\"backgroundcolor\": \"#E5ECF6\", \"gridcolor\": \"white\", \"gridwidth\": 2, \"linecolor\": \"white\", \"showbackground\": true, \"ticks\": \"\", \"zerolinecolor\": \"white\"}}, \"shapedefaults\": {\"line\": {\"color\": \"#2a3f5f\"}}, \"ternary\": {\"aaxis\": {\"gridcolor\": \"white\", \"linecolor\": \"white\", \"ticks\": \"\"}, \"baxis\": {\"gridcolor\": \"white\", \"linecolor\": \"white\", \"ticks\": \"\"}, \"bgcolor\": \"#E5ECF6\", \"caxis\": {\"gridcolor\": \"white\", \"linecolor\": \"white\", \"ticks\": \"\"}}, \"title\": {\"x\": 0.05}, \"xaxis\": {\"automargin\": true, \"gridcolor\": \"white\", \"linecolor\": \"white\", \"ticks\": \"\", \"title\": {\"standoff\": 15}, \"zerolinecolor\": \"white\", \"zerolinewidth\": 2}, \"yaxis\": {\"automargin\": true, \"gridcolor\": \"white\", \"linecolor\": \"white\", \"ticks\": \"\", \"title\": {\"standoff\": 15}, \"zerolinecolor\": \"white\", \"zerolinewidth\": 2}}}, \"title\": {\"text\": \"Price change Dorado del Mar 2008-2019\"}, \"width\": 1000, \"xaxis\": {\"gridcolor\": \"#EEEEEE\", \"tickangle\": -45, \"tickfont\": {\"size\": 9}}, \"yaxis\": {\"gridcolor\": \"#EEEEEE\", \"nticks\": 18}},\n",
       "                        {\"responsive\": true}\n",
       "                    ).then(function(){\n",
       "                            \n",
       "var gd = document.getElementById('9e7165aa-8e66-4518-861f-2190e13a5ed1');\n",
       "var x = new MutationObserver(function (mutations, observer) {{\n",
       "        var display = window.getComputedStyle(gd).display;\n",
       "        if (!display || display === 'none') {{\n",
       "            console.log([gd, 'removed!']);\n",
       "            Plotly.purge(gd);\n",
       "            observer.disconnect();\n",
       "        }}\n",
       "}});\n",
       "\n",
       "// Listen for the removal of the full notebook cells\n",
       "var notebookContainer = gd.closest('#notebook-container');\n",
       "if (notebookContainer) {{\n",
       "    x.observe(notebookContainer, {childList: true});\n",
       "}}\n",
       "\n",
       "// Listen for the clearing of the current output cell\n",
       "var outputEl = gd.closest('.output');\n",
       "if (outputEl) {{\n",
       "    x.observe(outputEl, {childList: true});\n",
       "}}\n",
       "\n",
       "                        })\n",
       "                };\n",
       "                });\n",
       "            </script>\n",
       "        </div>"
      ]
     },
     "metadata": {},
     "output_type": "display_data"
    }
   ],
   "source": [
    "fig = go.Figure()\n",
    "fig.add_trace(go.Scatter(x= comps_quarters.index, \n",
    "                         y= comps_quarters['Price_min'],\n",
    "                         mode='lines+markers',\n",
    "                         marker_color='blue',\n",
    "                         name = 'Min Quarter value',\n",
    "                        ),\n",
    "             )\n",
    "fig.add_trace(go.Scatter(x= comps_quarters.index, \n",
    "                         y= comps_quarters['Price_max'],\n",
    "                         mode='lines+markers',\n",
    "                         marker_color='red',\n",
    "                         name = 'Max Quarter value',\n",
    "                         fill='tonexty',fillcolor='rgba(248, 245, 159, 0.1)'))\n",
    "fig.add_trace(go.Scatter(x= comps_quarters.index, \n",
    "                         y= comps_quarters['Price_median'],\n",
    "                         mode='lines',\n",
    "                         name = 'Median Quarter value',\n",
    "                         line = dict(shape = 'spline', width=1, dash='dashdot', color='grey')\n",
    "                           ))\n",
    "fig.update_layout(title_text='Price change Dorado del Mar 2008-2019',\n",
    "                  width=1000, height=500, plot_bgcolor='rgba(0,0,0,0)', showlegend=True,\n",
    "                  yaxis=dict(gridcolor='#EEEEEE', nticks=18),\n",
    "                  xaxis=dict(tickangle=-45, gridcolor='#EEEEEE', \n",
    "                             tickfont=dict(size=9)))\n",
    "fig.update_layout(annotations=annotations_min)\n",
    "fig.show()"
   ]
  },
  {
   "cell_type": "markdown",
   "metadata": {},
   "source": [
    "### per sq.m"
   ]
  },
  {
   "cell_type": "code",
   "execution_count": 27,
   "metadata": {},
   "outputs": [],
   "source": [
    "comps['Price/area'] = comps['Sale price']/comps['GLA(feet)']"
   ]
  },
  {
   "cell_type": "code",
   "execution_count": 28,
   "metadata": {},
   "outputs": [],
   "source": [
    "comps_q_sq = comps.groupby('Sale date Year-Quarter')['Price/area'].agg(Price_min='min', \n",
    "                                                                          Price_max='max', \n",
    "                                                                          Price_median='median')\n",
    "comps_q_sq = pd.DataFrame(comps_q_sq)"
   ]
  },
  {
   "cell_type": "code",
   "execution_count": 29,
   "metadata": {},
   "outputs": [],
   "source": [
    "min_change = [(comps_q_sq['Price_min'][x+1]-comps_q_sq['Price_min'][x])/comps_q_sq['Price_min'][x]*100 for x in range(comps_q_sq.shape[0]-1)]\n",
    "percent_min = [0]\n",
    "percent_min.extend(min_change)\n",
    "max_change = [(comps_q_sq['Price_max'][x+1]-comps_q_sq['Price_max'][x])/comps_q_sq['Price_max'][x]*100 for x in range(comps_q_sq.shape[0]-1)]\n",
    "percent_max = [0]\n",
    "percent_max.extend(max_change)\n",
    "comps_q_sq['Price_max_change'] = percent_max\n",
    "comps_q_sq['Price_min_change'] = percent_min"
   ]
  },
  {
   "cell_type": "code",
   "execution_count": 30,
   "metadata": {},
   "outputs": [
    {
     "data": {
      "text/plain": [
       "31.25"
      ]
     },
     "execution_count": 30,
     "metadata": {},
     "output_type": "execute_result"
    }
   ],
   "source": [
    "(84-64)/64*100"
   ]
  },
  {
   "cell_type": "code",
   "execution_count": 31,
   "metadata": {},
   "outputs": [],
   "source": [
    "annotations_min=[set_annotation(comps_q_sq, k, comps_q_sq['Price_min'][k], k, 'min', percent=True) for k in range(comps_q_sq.shape[0])]\n",
    "annotations_max=[set_annotation(comps_q_sq, k, comps_q_sq['Price_max'][k], k, 'max', percent=True) for k in range(comps_q_sq.shape[0])]\n",
    "annotations_min.extend(annotations_max)"
   ]
  },
  {
   "cell_type": "code",
   "execution_count": 32,
   "metadata": {},
   "outputs": [
    {
     "data": {
      "application/vnd.plotly.v1+json": {
       "config": {
        "plotlyServerURL": "https://plot.ly"
       },
       "data": [
        {
         "mode": "lines+markers",
         "name": "Min Quarter value",
         "type": "scatter",
         "x": [
          "2008 Q1",
          "2008 Q2",
          "2008 Q4",
          "2009 Q1",
          "2009 Q2",
          "2009 Q3",
          "2009 Q4",
          "2010 Q1",
          "2010 Q2",
          "2010 Q4",
          "2011 Q1",
          "2011 Q2",
          "2011 Q3",
          "2011 Q4",
          "2012 Q1",
          "2012 Q2",
          "2012 Q3",
          "2012 Q4",
          "2013 Q1",
          "2013 Q3",
          "2014 Q1",
          "2014 Q3",
          "2014 Q4",
          "2015 Q1",
          "2015 Q2",
          "2015 Q3",
          "2015 Q4",
          "2016 Q1",
          "2016 Q2",
          "2016 Q3",
          "2016 Q4",
          "2017 Q1",
          "2017 Q2",
          "2017 Q4",
          "2018 Q1",
          "2018 Q2",
          "2018 Q3",
          "2018 Q4",
          "2019 Q1"
         ],
         "y": [
          119.00264450321119,
          143.2967032967033,
          101.08481262327416,
          108.48126232741618,
          118.17501869857891,
          119.04761904761905,
          120.07874015748031,
          103.92609699769054,
          119.00117050331643,
          85.61511762437331,
          62.47696277183929,
          82.28980322003578,
          86.6738894907909,
          104.11622276029055,
          118.59219586840092,
          100.87025316455696,
          86.20689655172414,
          88.01955990220048,
          74.14730598121602,
          69.1588785046729,
          71.66257166257166,
          73.78999179655456,
          114.55399061032864,
          98.23182711198429,
          59.628975265017665,
          67.56756756756756,
          58.15733088460361,
          63.71963361210673,
          100.31919744642043,
          75.27733755942948,
          104.02275497765136,
          66.9554942890902,
          67.11409395973155,
          81.79959100204499,
          113.36032388663968,
          71.15749525616698,
          95.27754763877383,
          94.04990403071017,
          63.823272090988624
         ]
        },
        {
         "fill": "tonexty",
         "fillcolor": "rgba(248, 245, 159, 0.1)",
         "mode": "lines+markers",
         "name": "Max Quarter value",
         "type": "scatter",
         "x": [
          "2008 Q1",
          "2008 Q2",
          "2008 Q4",
          "2009 Q1",
          "2009 Q2",
          "2009 Q3",
          "2009 Q4",
          "2010 Q1",
          "2010 Q2",
          "2010 Q4",
          "2011 Q1",
          "2011 Q2",
          "2011 Q3",
          "2011 Q4",
          "2012 Q1",
          "2012 Q2",
          "2012 Q3",
          "2012 Q4",
          "2013 Q1",
          "2013 Q3",
          "2014 Q1",
          "2014 Q3",
          "2014 Q4",
          "2015 Q1",
          "2015 Q2",
          "2015 Q3",
          "2015 Q4",
          "2016 Q1",
          "2016 Q2",
          "2016 Q3",
          "2016 Q4",
          "2017 Q1",
          "2017 Q2",
          "2017 Q4",
          "2018 Q1",
          "2018 Q2",
          "2018 Q3",
          "2018 Q4",
          "2019 Q1"
         ],
         "y": [
          142.01416207710463,
          152.94561933534743,
          101.08481262327416,
          108.48126232741618,
          138.58267716535434,
          119.04761904761905,
          137.36263736263737,
          103.92609699769054,
          119.00117050331643,
          85.61511762437331,
          116.46914589293011,
          142.4404472532815,
          112.38250919493257,
          104.11622276029055,
          118.59219586840092,
          100.87025316455696,
          95.54140127388536,
          115.85365853658537,
          108.16326530612245,
          123.70113805047006,
          71.66257166257166,
          135.88026782197716,
          115.87485515643105,
          122.33096085409252,
          116.08988764044943,
          67.56756756756756,
          97.71986970684038,
          63.71963361210673,
          100.31919744642043,
          107.95180722891567,
          104.02275497765136,
          136.36363636363637,
          102.29132569558101,
          82.3045267489712,
          113.36032388663968,
          149.95034756703078,
          95.27754763877383,
          104.37179992122883,
          84.95752123938031
         ]
        },
        {
         "line": {
          "color": "grey",
          "dash": "dashdot",
          "shape": "spline",
          "width": 1
         },
         "mode": "lines",
         "name": "Median Quarter value",
         "type": "scatter",
         "x": [
          "2008 Q1",
          "2008 Q2",
          "2008 Q4",
          "2009 Q1",
          "2009 Q2",
          "2009 Q3",
          "2009 Q4",
          "2010 Q1",
          "2010 Q2",
          "2010 Q4",
          "2011 Q1",
          "2011 Q2",
          "2011 Q3",
          "2011 Q4",
          "2012 Q1",
          "2012 Q2",
          "2012 Q3",
          "2012 Q4",
          "2013 Q1",
          "2013 Q3",
          "2014 Q1",
          "2014 Q3",
          "2014 Q4",
          "2015 Q1",
          "2015 Q2",
          "2015 Q3",
          "2015 Q4",
          "2016 Q1",
          "2016 Q2",
          "2016 Q3",
          "2016 Q4",
          "2017 Q1",
          "2017 Q2",
          "2017 Q4",
          "2018 Q1",
          "2018 Q2",
          "2018 Q3",
          "2018 Q4",
          "2019 Q1"
         ],
         "y": [
          130.5084032901579,
          148.12116131602536,
          101.08481262327416,
          108.48126232741618,
          129.13385826771653,
          119.04761904761905,
          126.96041822255414,
          103.92609699769054,
          119.00117050331643,
          85.61511762437331,
          94.48818897637796,
          104.33070866141732,
          94.749309119621,
          104.11622276029055,
          118.59219586840092,
          100.87025316455696,
          90.87414891280474,
          93.47653142402545,
          85.61396233236127,
          102.01174168297456,
          71.66257166257166,
          104.83512980926585,
          115.21442288337985,
          110.28139398303841,
          103.43481654957064,
          67.56756756756756,
          77.938600295722,
          63.71963361210673,
          100.31919744642043,
          106.23342869806987,
          104.02275497765136,
          89.13845675150411,
          84.70270982765628,
          82.0520588755081,
          113.36032388663968,
          110.55392141159888,
          95.27754763877383,
          96.84770224078997,
          74.39039666518447
         ]
        }
       ],
       "layout": {
        "annotations": [
         {
          "arrowcolor": "#616161",
          "arrowhead": 0,
          "arrowwidth": 0.5,
          "ax": 0,
          "ay": 50,
          "font": {
           "color": "brown",
           "size": 6
          },
          "opacity": 1,
          "showarrow": true,
          "text": "119<br>0%",
          "x": 0,
          "y": 119.00264450321119
         },
         {
          "arrowcolor": "#616161",
          "arrowhead": 0,
          "arrowwidth": 0.5,
          "ax": 0,
          "ay": 60,
          "font": {
           "color": "green",
           "size": 6
          },
          "opacity": 1,
          "showarrow": true,
          "text": "143<br>+20%",
          "x": 1,
          "y": 143.2967032967033
         },
         {
          "arrowcolor": "#616161",
          "arrowhead": 0,
          "arrowwidth": 0.5,
          "ax": 0,
          "ay": 50,
          "font": {
           "color": "brown",
           "size": 6
          },
          "opacity": 1,
          "showarrow": true,
          "text": "101<br>-29%",
          "x": 2,
          "y": 101.08481262327416
         },
         {
          "arrowcolor": "#616161",
          "arrowhead": 0,
          "arrowwidth": 0.5,
          "ax": 0,
          "ay": 60,
          "font": {
           "color": "green",
           "size": 6
          },
          "opacity": 1,
          "showarrow": true,
          "text": "108<br>+7%",
          "x": 3,
          "y": 108.48126232741618
         },
         {
          "arrowcolor": "#616161",
          "arrowhead": 0,
          "arrowwidth": 0.5,
          "ax": 0,
          "ay": 60,
          "font": {
           "color": "green",
           "size": 6
          },
          "opacity": 1,
          "showarrow": true,
          "text": "118<br>+9%",
          "x": 4,
          "y": 118.17501869857891
         },
         {
          "arrowcolor": "#616161",
          "arrowhead": 0,
          "arrowwidth": 0.5,
          "ax": 0,
          "ay": 60,
          "font": {
           "color": "green",
           "size": 6
          },
          "opacity": 1,
          "showarrow": true,
          "text": "119<br>+1%",
          "x": 5,
          "y": 119.04761904761905
         },
         {
          "arrowcolor": "#616161",
          "arrowhead": 0,
          "arrowwidth": 0.5,
          "ax": 0,
          "ay": 60,
          "font": {
           "color": "green",
           "size": 6
          },
          "opacity": 1,
          "showarrow": true,
          "text": "120<br>+1%",
          "x": 6,
          "y": 120.07874015748031
         },
         {
          "arrowcolor": "#616161",
          "arrowhead": 0,
          "arrowwidth": 0.5,
          "ax": 0,
          "ay": 50,
          "font": {
           "color": "brown",
           "size": 6
          },
          "opacity": 1,
          "showarrow": true,
          "text": "104<br>-13%",
          "x": 7,
          "y": 103.92609699769054
         },
         {
          "arrowcolor": "#616161",
          "arrowhead": 0,
          "arrowwidth": 0.5,
          "ax": 0,
          "ay": 60,
          "font": {
           "color": "green",
           "size": 6
          },
          "opacity": 1,
          "showarrow": true,
          "text": "119<br>+15%",
          "x": 8,
          "y": 119.00117050331643
         },
         {
          "arrowcolor": "#616161",
          "arrowhead": 0,
          "arrowwidth": 0.5,
          "ax": 0,
          "ay": 50,
          "font": {
           "color": "brown",
           "size": 6
          },
          "opacity": 1,
          "showarrow": true,
          "text": "86<br>-28%",
          "x": 9,
          "y": 85.61511762437331
         },
         {
          "arrowcolor": "#616161",
          "arrowhead": 0,
          "arrowwidth": 0.5,
          "ax": 0,
          "ay": 50,
          "font": {
           "color": "brown",
           "size": 6
          },
          "opacity": 1,
          "showarrow": true,
          "text": "62<br>-27%",
          "x": 10,
          "y": 62.47696277183929
         },
         {
          "arrowcolor": "#616161",
          "arrowhead": 0,
          "arrowwidth": 0.5,
          "ax": 0,
          "ay": 60,
          "font": {
           "color": "green",
           "size": 6
          },
          "opacity": 1,
          "showarrow": true,
          "text": "82<br>+32%",
          "x": 11,
          "y": 82.28980322003578
         },
         {
          "arrowcolor": "#616161",
          "arrowhead": 0,
          "arrowwidth": 0.5,
          "ax": 0,
          "ay": 60,
          "font": {
           "color": "green",
           "size": 6
          },
          "opacity": 1,
          "showarrow": true,
          "text": "87<br>+5%",
          "x": 12,
          "y": 86.6738894907909
         },
         {
          "arrowcolor": "#616161",
          "arrowhead": 0,
          "arrowwidth": 0.5,
          "ax": 0,
          "ay": 60,
          "font": {
           "color": "green",
           "size": 6
          },
          "opacity": 1,
          "showarrow": true,
          "text": "104<br>+20%",
          "x": 13,
          "y": 104.11622276029055
         },
         {
          "arrowcolor": "#616161",
          "arrowhead": 0,
          "arrowwidth": 0.5,
          "ax": 0,
          "ay": 60,
          "font": {
           "color": "green",
           "size": 6
          },
          "opacity": 1,
          "showarrow": true,
          "text": "119<br>+14%",
          "x": 14,
          "y": 118.59219586840092
         },
         {
          "arrowcolor": "#616161",
          "arrowhead": 0,
          "arrowwidth": 0.5,
          "ax": 0,
          "ay": 50,
          "font": {
           "color": "brown",
           "size": 6
          },
          "opacity": 1,
          "showarrow": true,
          "text": "101<br>-15%",
          "x": 15,
          "y": 100.87025316455696
         },
         {
          "arrowcolor": "#616161",
          "arrowhead": 0,
          "arrowwidth": 0.5,
          "ax": 0,
          "ay": 50,
          "font": {
           "color": "brown",
           "size": 6
          },
          "opacity": 1,
          "showarrow": true,
          "text": "86<br>-15%",
          "x": 16,
          "y": 86.20689655172414
         },
         {
          "arrowcolor": "#616161",
          "arrowhead": 0,
          "arrowwidth": 0.5,
          "ax": 0,
          "ay": 60,
          "font": {
           "color": "green",
           "size": 6
          },
          "opacity": 1,
          "showarrow": true,
          "text": "88<br>+2%",
          "x": 17,
          "y": 88.01955990220048
         },
         {
          "arrowcolor": "#616161",
          "arrowhead": 0,
          "arrowwidth": 0.5,
          "ax": 0,
          "ay": 50,
          "font": {
           "color": "brown",
           "size": 6
          },
          "opacity": 1,
          "showarrow": true,
          "text": "74<br>-16%",
          "x": 18,
          "y": 74.14730598121602
         },
         {
          "arrowcolor": "#616161",
          "arrowhead": 0,
          "arrowwidth": 0.5,
          "ax": 0,
          "ay": 50,
          "font": {
           "color": "brown",
           "size": 6
          },
          "opacity": 1,
          "showarrow": true,
          "text": "69<br>-7%",
          "x": 19,
          "y": 69.1588785046729
         },
         {
          "arrowcolor": "#616161",
          "arrowhead": 0,
          "arrowwidth": 0.5,
          "ax": 0,
          "ay": 60,
          "font": {
           "color": "green",
           "size": 6
          },
          "opacity": 1,
          "showarrow": true,
          "text": "72<br>+4%",
          "x": 20,
          "y": 71.66257166257166
         },
         {
          "arrowcolor": "#616161",
          "arrowhead": 0,
          "arrowwidth": 0.5,
          "ax": 0,
          "ay": 60,
          "font": {
           "color": "green",
           "size": 6
          },
          "opacity": 1,
          "showarrow": true,
          "text": "74<br>+3%",
          "x": 21,
          "y": 73.78999179655456
         },
         {
          "arrowcolor": "#616161",
          "arrowhead": 0,
          "arrowwidth": 0.5,
          "ax": 0,
          "ay": 60,
          "font": {
           "color": "green",
           "size": 6
          },
          "opacity": 1,
          "showarrow": true,
          "text": "115<br>+55%",
          "x": 22,
          "y": 114.55399061032864
         },
         {
          "arrowcolor": "#616161",
          "arrowhead": 0,
          "arrowwidth": 0.5,
          "ax": 0,
          "ay": 50,
          "font": {
           "color": "brown",
           "size": 6
          },
          "opacity": 1,
          "showarrow": true,
          "text": "98<br>-14%",
          "x": 23,
          "y": 98.23182711198429
         },
         {
          "arrowcolor": "#616161",
          "arrowhead": 0,
          "arrowwidth": 0.5,
          "ax": 0,
          "ay": 50,
          "font": {
           "color": "brown",
           "size": 6
          },
          "opacity": 1,
          "showarrow": true,
          "text": "60<br>-39%",
          "x": 24,
          "y": 59.628975265017665
         },
         {
          "arrowcolor": "#616161",
          "arrowhead": 0,
          "arrowwidth": 0.5,
          "ax": 0,
          "ay": 60,
          "font": {
           "color": "green",
           "size": 6
          },
          "opacity": 1,
          "showarrow": true,
          "text": "68<br>+13%",
          "x": 25,
          "y": 67.56756756756756
         },
         {
          "arrowcolor": "#616161",
          "arrowhead": 0,
          "arrowwidth": 0.5,
          "ax": 0,
          "ay": 50,
          "font": {
           "color": "brown",
           "size": 6
          },
          "opacity": 1,
          "showarrow": true,
          "text": "58<br>-14%",
          "x": 26,
          "y": 58.15733088460361
         },
         {
          "arrowcolor": "#616161",
          "arrowhead": 0,
          "arrowwidth": 0.5,
          "ax": 0,
          "ay": 60,
          "font": {
           "color": "green",
           "size": 6
          },
          "opacity": 1,
          "showarrow": true,
          "text": "64<br>+10%",
          "x": 27,
          "y": 63.71963361210673
         },
         {
          "arrowcolor": "#616161",
          "arrowhead": 0,
          "arrowwidth": 0.5,
          "ax": 0,
          "ay": 60,
          "font": {
           "color": "green",
           "size": 6
          },
          "opacity": 1,
          "showarrow": true,
          "text": "100<br>+57%",
          "x": 28,
          "y": 100.31919744642043
         },
         {
          "arrowcolor": "#616161",
          "arrowhead": 0,
          "arrowwidth": 0.5,
          "ax": 0,
          "ay": 50,
          "font": {
           "color": "brown",
           "size": 6
          },
          "opacity": 1,
          "showarrow": true,
          "text": "75<br>-25%",
          "x": 29,
          "y": 75.27733755942948
         },
         {
          "arrowcolor": "#616161",
          "arrowhead": 0,
          "arrowwidth": 0.5,
          "ax": 0,
          "ay": 60,
          "font": {
           "color": "green",
           "size": 6
          },
          "opacity": 1,
          "showarrow": true,
          "text": "104<br>+38%",
          "x": 30,
          "y": 104.02275497765136
         },
         {
          "arrowcolor": "#616161",
          "arrowhead": 0,
          "arrowwidth": 0.5,
          "ax": 0,
          "ay": 50,
          "font": {
           "color": "brown",
           "size": 6
          },
          "opacity": 1,
          "showarrow": true,
          "text": "67<br>-36%",
          "x": 31,
          "y": 66.9554942890902
         },
         {
          "arrowcolor": "#616161",
          "arrowhead": 0,
          "arrowwidth": 0.5,
          "ax": 0,
          "ay": 60,
          "font": {
           "color": "green",
           "size": 6
          },
          "opacity": 1,
          "showarrow": true,
          "text": "67<br>+0%",
          "x": 32,
          "y": 67.11409395973155
         },
         {
          "arrowcolor": "#616161",
          "arrowhead": 0,
          "arrowwidth": 0.5,
          "ax": 0,
          "ay": 60,
          "font": {
           "color": "green",
           "size": 6
          },
          "opacity": 1,
          "showarrow": true,
          "text": "82<br>+22%",
          "x": 33,
          "y": 81.79959100204499
         },
         {
          "arrowcolor": "#616161",
          "arrowhead": 0,
          "arrowwidth": 0.5,
          "ax": 0,
          "ay": 60,
          "font": {
           "color": "green",
           "size": 6
          },
          "opacity": 1,
          "showarrow": true,
          "text": "113<br>+39%",
          "x": 34,
          "y": 113.36032388663968
         },
         {
          "arrowcolor": "#616161",
          "arrowhead": 0,
          "arrowwidth": 0.5,
          "ax": 0,
          "ay": 50,
          "font": {
           "color": "brown",
           "size": 6
          },
          "opacity": 1,
          "showarrow": true,
          "text": "71<br>-37%",
          "x": 35,
          "y": 71.15749525616698
         },
         {
          "arrowcolor": "#616161",
          "arrowhead": 0,
          "arrowwidth": 0.5,
          "ax": 0,
          "ay": 60,
          "font": {
           "color": "green",
           "size": 6
          },
          "opacity": 1,
          "showarrow": true,
          "text": "95<br>+34%",
          "x": 36,
          "y": 95.27754763877383
         },
         {
          "arrowcolor": "#616161",
          "arrowhead": 0,
          "arrowwidth": 0.5,
          "ax": 0,
          "ay": 50,
          "font": {
           "color": "brown",
           "size": 6
          },
          "opacity": 1,
          "showarrow": true,
          "text": "94<br>-1%",
          "x": 37,
          "y": 94.04990403071017
         },
         {
          "arrowcolor": "#616161",
          "arrowhead": 0,
          "arrowwidth": 0.5,
          "ax": 0,
          "ay": 50,
          "font": {
           "color": "brown",
           "size": 6
          },
          "opacity": 1,
          "showarrow": true,
          "text": "64<br>-32%",
          "x": 38,
          "y": 63.823272090988624
         },
         {
          "arrowcolor": "#616161",
          "arrowhead": 0,
          "arrowwidth": 0.5,
          "ax": 0,
          "ay": -60,
          "font": {
           "color": "brown",
           "size": 6
          },
          "opacity": 1,
          "showarrow": true,
          "text": "142<br>0%",
          "x": 0,
          "y": 142.01416207710463
         },
         {
          "arrowcolor": "#616161",
          "arrowhead": 0,
          "arrowwidth": 0.5,
          "ax": 0,
          "ay": -50,
          "font": {
           "color": "green",
           "size": 6
          },
          "opacity": 1,
          "showarrow": true,
          "text": "153<br>+8%",
          "x": 1,
          "y": 152.94561933534743
         },
         {
          "arrowcolor": "#616161",
          "arrowhead": 0,
          "arrowwidth": 0.5,
          "ax": 0,
          "ay": -60,
          "font": {
           "color": "brown",
           "size": 6
          },
          "opacity": 1,
          "showarrow": true,
          "text": "101<br>-34%",
          "x": 2,
          "y": 101.08481262327416
         },
         {
          "arrowcolor": "#616161",
          "arrowhead": 0,
          "arrowwidth": 0.5,
          "ax": 0,
          "ay": -50,
          "font": {
           "color": "green",
           "size": 6
          },
          "opacity": 1,
          "showarrow": true,
          "text": "108<br>+7%",
          "x": 3,
          "y": 108.48126232741618
         },
         {
          "arrowcolor": "#616161",
          "arrowhead": 0,
          "arrowwidth": 0.5,
          "ax": 0,
          "ay": -50,
          "font": {
           "color": "green",
           "size": 6
          },
          "opacity": 1,
          "showarrow": true,
          "text": "139<br>+28%",
          "x": 4,
          "y": 138.58267716535434
         },
         {
          "arrowcolor": "#616161",
          "arrowhead": 0,
          "arrowwidth": 0.5,
          "ax": 0,
          "ay": -60,
          "font": {
           "color": "brown",
           "size": 6
          },
          "opacity": 1,
          "showarrow": true,
          "text": "119<br>-14%",
          "x": 5,
          "y": 119.04761904761905
         },
         {
          "arrowcolor": "#616161",
          "arrowhead": 0,
          "arrowwidth": 0.5,
          "ax": 0,
          "ay": -50,
          "font": {
           "color": "green",
           "size": 6
          },
          "opacity": 1,
          "showarrow": true,
          "text": "137<br>+15%",
          "x": 6,
          "y": 137.36263736263737
         },
         {
          "arrowcolor": "#616161",
          "arrowhead": 0,
          "arrowwidth": 0.5,
          "ax": 0,
          "ay": -60,
          "font": {
           "color": "brown",
           "size": 6
          },
          "opacity": 1,
          "showarrow": true,
          "text": "104<br>-24%",
          "x": 7,
          "y": 103.92609699769054
         },
         {
          "arrowcolor": "#616161",
          "arrowhead": 0,
          "arrowwidth": 0.5,
          "ax": 0,
          "ay": -50,
          "font": {
           "color": "green",
           "size": 6
          },
          "opacity": 1,
          "showarrow": true,
          "text": "119<br>+15%",
          "x": 8,
          "y": 119.00117050331643
         },
         {
          "arrowcolor": "#616161",
          "arrowhead": 0,
          "arrowwidth": 0.5,
          "ax": 0,
          "ay": -60,
          "font": {
           "color": "brown",
           "size": 6
          },
          "opacity": 1,
          "showarrow": true,
          "text": "86<br>-28%",
          "x": 9,
          "y": 85.61511762437331
         },
         {
          "arrowcolor": "#616161",
          "arrowhead": 0,
          "arrowwidth": 0.5,
          "ax": 0,
          "ay": -50,
          "font": {
           "color": "green",
           "size": 6
          },
          "opacity": 1,
          "showarrow": true,
          "text": "116<br>+36%",
          "x": 10,
          "y": 116.46914589293011
         },
         {
          "arrowcolor": "#616161",
          "arrowhead": 0,
          "arrowwidth": 0.5,
          "ax": 0,
          "ay": -50,
          "font": {
           "color": "green",
           "size": 6
          },
          "opacity": 1,
          "showarrow": true,
          "text": "142<br>+22%",
          "x": 11,
          "y": 142.4404472532815
         },
         {
          "arrowcolor": "#616161",
          "arrowhead": 0,
          "arrowwidth": 0.5,
          "ax": 0,
          "ay": -60,
          "font": {
           "color": "brown",
           "size": 6
          },
          "opacity": 1,
          "showarrow": true,
          "text": "112<br>-21%",
          "x": 12,
          "y": 112.38250919493257
         },
         {
          "arrowcolor": "#616161",
          "arrowhead": 0,
          "arrowwidth": 0.5,
          "ax": 0,
          "ay": -60,
          "font": {
           "color": "brown",
           "size": 6
          },
          "opacity": 1,
          "showarrow": true,
          "text": "104<br>-7%",
          "x": 13,
          "y": 104.11622276029055
         },
         {
          "arrowcolor": "#616161",
          "arrowhead": 0,
          "arrowwidth": 0.5,
          "ax": 0,
          "ay": -50,
          "font": {
           "color": "green",
           "size": 6
          },
          "opacity": 1,
          "showarrow": true,
          "text": "119<br>+14%",
          "x": 14,
          "y": 118.59219586840092
         },
         {
          "arrowcolor": "#616161",
          "arrowhead": 0,
          "arrowwidth": 0.5,
          "ax": 0,
          "ay": -60,
          "font": {
           "color": "brown",
           "size": 6
          },
          "opacity": 1,
          "showarrow": true,
          "text": "101<br>-15%",
          "x": 15,
          "y": 100.87025316455696
         },
         {
          "arrowcolor": "#616161",
          "arrowhead": 0,
          "arrowwidth": 0.5,
          "ax": 0,
          "ay": -60,
          "font": {
           "color": "brown",
           "size": 6
          },
          "opacity": 1,
          "showarrow": true,
          "text": "96<br>-5%",
          "x": 16,
          "y": 95.54140127388536
         },
         {
          "arrowcolor": "#616161",
          "arrowhead": 0,
          "arrowwidth": 0.5,
          "ax": 0,
          "ay": -50,
          "font": {
           "color": "green",
           "size": 6
          },
          "opacity": 1,
          "showarrow": true,
          "text": "116<br>+21%",
          "x": 17,
          "y": 115.85365853658537
         },
         {
          "arrowcolor": "#616161",
          "arrowhead": 0,
          "arrowwidth": 0.5,
          "ax": 0,
          "ay": -60,
          "font": {
           "color": "brown",
           "size": 6
          },
          "opacity": 1,
          "showarrow": true,
          "text": "108<br>-7%",
          "x": 18,
          "y": 108.16326530612245
         },
         {
          "arrowcolor": "#616161",
          "arrowhead": 0,
          "arrowwidth": 0.5,
          "ax": 0,
          "ay": -50,
          "font": {
           "color": "green",
           "size": 6
          },
          "opacity": 1,
          "showarrow": true,
          "text": "124<br>+14%",
          "x": 19,
          "y": 123.70113805047006
         },
         {
          "arrowcolor": "#616161",
          "arrowhead": 0,
          "arrowwidth": 0.5,
          "ax": 0,
          "ay": -60,
          "font": {
           "color": "brown",
           "size": 6
          },
          "opacity": 1,
          "showarrow": true,
          "text": "72<br>-42%",
          "x": 20,
          "y": 71.66257166257166
         },
         {
          "arrowcolor": "#616161",
          "arrowhead": 0,
          "arrowwidth": 0.5,
          "ax": 0,
          "ay": -50,
          "font": {
           "color": "green",
           "size": 6
          },
          "opacity": 1,
          "showarrow": true,
          "text": "136<br>+90%",
          "x": 21,
          "y": 135.88026782197716
         },
         {
          "arrowcolor": "#616161",
          "arrowhead": 0,
          "arrowwidth": 0.5,
          "ax": 0,
          "ay": -60,
          "font": {
           "color": "brown",
           "size": 6
          },
          "opacity": 1,
          "showarrow": true,
          "text": "116<br>-15%",
          "x": 22,
          "y": 115.87485515643105
         },
         {
          "arrowcolor": "#616161",
          "arrowhead": 0,
          "arrowwidth": 0.5,
          "ax": 0,
          "ay": -50,
          "font": {
           "color": "green",
           "size": 6
          },
          "opacity": 1,
          "showarrow": true,
          "text": "122<br>+6%",
          "x": 23,
          "y": 122.33096085409252
         },
         {
          "arrowcolor": "#616161",
          "arrowhead": 0,
          "arrowwidth": 0.5,
          "ax": 0,
          "ay": -60,
          "font": {
           "color": "brown",
           "size": 6
          },
          "opacity": 1,
          "showarrow": true,
          "text": "116<br>-5%",
          "x": 24,
          "y": 116.08988764044943
         },
         {
          "arrowcolor": "#616161",
          "arrowhead": 0,
          "arrowwidth": 0.5,
          "ax": 0,
          "ay": -60,
          "font": {
           "color": "brown",
           "size": 6
          },
          "opacity": 1,
          "showarrow": true,
          "text": "68<br>-42%",
          "x": 25,
          "y": 67.56756756756756
         },
         {
          "arrowcolor": "#616161",
          "arrowhead": 0,
          "arrowwidth": 0.5,
          "ax": 0,
          "ay": -50,
          "font": {
           "color": "green",
           "size": 6
          },
          "opacity": 1,
          "showarrow": true,
          "text": "98<br>+45%",
          "x": 26,
          "y": 97.71986970684038
         },
         {
          "arrowcolor": "#616161",
          "arrowhead": 0,
          "arrowwidth": 0.5,
          "ax": 0,
          "ay": -60,
          "font": {
           "color": "brown",
           "size": 6
          },
          "opacity": 1,
          "showarrow": true,
          "text": "64<br>-35%",
          "x": 27,
          "y": 63.71963361210673
         },
         {
          "arrowcolor": "#616161",
          "arrowhead": 0,
          "arrowwidth": 0.5,
          "ax": 0,
          "ay": -50,
          "font": {
           "color": "green",
           "size": 6
          },
          "opacity": 1,
          "showarrow": true,
          "text": "100<br>+57%",
          "x": 28,
          "y": 100.31919744642043
         },
         {
          "arrowcolor": "#616161",
          "arrowhead": 0,
          "arrowwidth": 0.5,
          "ax": 0,
          "ay": -50,
          "font": {
           "color": "green",
           "size": 6
          },
          "opacity": 1,
          "showarrow": true,
          "text": "108<br>+8%",
          "x": 29,
          "y": 107.95180722891567
         },
         {
          "arrowcolor": "#616161",
          "arrowhead": 0,
          "arrowwidth": 0.5,
          "ax": 0,
          "ay": -60,
          "font": {
           "color": "brown",
           "size": 6
          },
          "opacity": 1,
          "showarrow": true,
          "text": "104<br>-4%",
          "x": 30,
          "y": 104.02275497765136
         },
         {
          "arrowcolor": "#616161",
          "arrowhead": 0,
          "arrowwidth": 0.5,
          "ax": 0,
          "ay": -50,
          "font": {
           "color": "green",
           "size": 6
          },
          "opacity": 1,
          "showarrow": true,
          "text": "136<br>+31%",
          "x": 31,
          "y": 136.36363636363637
         },
         {
          "arrowcolor": "#616161",
          "arrowhead": 0,
          "arrowwidth": 0.5,
          "ax": 0,
          "ay": -60,
          "font": {
           "color": "brown",
           "size": 6
          },
          "opacity": 1,
          "showarrow": true,
          "text": "102<br>-25%",
          "x": 32,
          "y": 102.29132569558101
         },
         {
          "arrowcolor": "#616161",
          "arrowhead": 0,
          "arrowwidth": 0.5,
          "ax": 0,
          "ay": -60,
          "font": {
           "color": "brown",
           "size": 6
          },
          "opacity": 1,
          "showarrow": true,
          "text": "82<br>-20%",
          "x": 33,
          "y": 82.3045267489712
         },
         {
          "arrowcolor": "#616161",
          "arrowhead": 0,
          "arrowwidth": 0.5,
          "ax": 0,
          "ay": -50,
          "font": {
           "color": "green",
           "size": 6
          },
          "opacity": 1,
          "showarrow": true,
          "text": "113<br>+38%",
          "x": 34,
          "y": 113.36032388663968
         },
         {
          "arrowcolor": "#616161",
          "arrowhead": 0,
          "arrowwidth": 0.5,
          "ax": 0,
          "ay": -50,
          "font": {
           "color": "green",
           "size": 6
          },
          "opacity": 1,
          "showarrow": true,
          "text": "150<br>+32%",
          "x": 35,
          "y": 149.95034756703078
         },
         {
          "arrowcolor": "#616161",
          "arrowhead": 0,
          "arrowwidth": 0.5,
          "ax": 0,
          "ay": -60,
          "font": {
           "color": "brown",
           "size": 6
          },
          "opacity": 1,
          "showarrow": true,
          "text": "95<br>-36%",
          "x": 36,
          "y": 95.27754763877383
         },
         {
          "arrowcolor": "#616161",
          "arrowhead": 0,
          "arrowwidth": 0.5,
          "ax": 0,
          "ay": -50,
          "font": {
           "color": "green",
           "size": 6
          },
          "opacity": 1,
          "showarrow": true,
          "text": "104<br>+10%",
          "x": 37,
          "y": 104.37179992122883
         },
         {
          "arrowcolor": "#616161",
          "arrowhead": 0,
          "arrowwidth": 0.5,
          "ax": 0,
          "ay": -60,
          "font": {
           "color": "brown",
           "size": 6
          },
          "opacity": 1,
          "showarrow": true,
          "text": "85<br>-19%",
          "x": 38,
          "y": 84.95752123938031
         }
        ],
        "height": 500,
        "plot_bgcolor": "rgba(0,0,0,0)",
        "showlegend": true,
        "template": {
         "data": {
          "bar": [
           {
            "error_x": {
             "color": "#2a3f5f"
            },
            "error_y": {
             "color": "#2a3f5f"
            },
            "marker": {
             "line": {
              "color": "#E5ECF6",
              "width": 0.5
             }
            },
            "type": "bar"
           }
          ],
          "barpolar": [
           {
            "marker": {
             "line": {
              "color": "#E5ECF6",
              "width": 0.5
             }
            },
            "type": "barpolar"
           }
          ],
          "carpet": [
           {
            "aaxis": {
             "endlinecolor": "#2a3f5f",
             "gridcolor": "white",
             "linecolor": "white",
             "minorgridcolor": "white",
             "startlinecolor": "#2a3f5f"
            },
            "baxis": {
             "endlinecolor": "#2a3f5f",
             "gridcolor": "white",
             "linecolor": "white",
             "minorgridcolor": "white",
             "startlinecolor": "#2a3f5f"
            },
            "type": "carpet"
           }
          ],
          "choropleth": [
           {
            "colorbar": {
             "outlinewidth": 0,
             "ticks": ""
            },
            "type": "choropleth"
           }
          ],
          "contour": [
           {
            "colorbar": {
             "outlinewidth": 0,
             "ticks": ""
            },
            "colorscale": [
             [
              0,
              "#0d0887"
             ],
             [
              0.1111111111111111,
              "#46039f"
             ],
             [
              0.2222222222222222,
              "#7201a8"
             ],
             [
              0.3333333333333333,
              "#9c179e"
             ],
             [
              0.4444444444444444,
              "#bd3786"
             ],
             [
              0.5555555555555556,
              "#d8576b"
             ],
             [
              0.6666666666666666,
              "#ed7953"
             ],
             [
              0.7777777777777778,
              "#fb9f3a"
             ],
             [
              0.8888888888888888,
              "#fdca26"
             ],
             [
              1,
              "#f0f921"
             ]
            ],
            "type": "contour"
           }
          ],
          "contourcarpet": [
           {
            "colorbar": {
             "outlinewidth": 0,
             "ticks": ""
            },
            "type": "contourcarpet"
           }
          ],
          "heatmap": [
           {
            "colorbar": {
             "outlinewidth": 0,
             "ticks": ""
            },
            "colorscale": [
             [
              0,
              "#0d0887"
             ],
             [
              0.1111111111111111,
              "#46039f"
             ],
             [
              0.2222222222222222,
              "#7201a8"
             ],
             [
              0.3333333333333333,
              "#9c179e"
             ],
             [
              0.4444444444444444,
              "#bd3786"
             ],
             [
              0.5555555555555556,
              "#d8576b"
             ],
             [
              0.6666666666666666,
              "#ed7953"
             ],
             [
              0.7777777777777778,
              "#fb9f3a"
             ],
             [
              0.8888888888888888,
              "#fdca26"
             ],
             [
              1,
              "#f0f921"
             ]
            ],
            "type": "heatmap"
           }
          ],
          "heatmapgl": [
           {
            "colorbar": {
             "outlinewidth": 0,
             "ticks": ""
            },
            "colorscale": [
             [
              0,
              "#0d0887"
             ],
             [
              0.1111111111111111,
              "#46039f"
             ],
             [
              0.2222222222222222,
              "#7201a8"
             ],
             [
              0.3333333333333333,
              "#9c179e"
             ],
             [
              0.4444444444444444,
              "#bd3786"
             ],
             [
              0.5555555555555556,
              "#d8576b"
             ],
             [
              0.6666666666666666,
              "#ed7953"
             ],
             [
              0.7777777777777778,
              "#fb9f3a"
             ],
             [
              0.8888888888888888,
              "#fdca26"
             ],
             [
              1,
              "#f0f921"
             ]
            ],
            "type": "heatmapgl"
           }
          ],
          "histogram": [
           {
            "marker": {
             "colorbar": {
              "outlinewidth": 0,
              "ticks": ""
             }
            },
            "type": "histogram"
           }
          ],
          "histogram2d": [
           {
            "colorbar": {
             "outlinewidth": 0,
             "ticks": ""
            },
            "colorscale": [
             [
              0,
              "#0d0887"
             ],
             [
              0.1111111111111111,
              "#46039f"
             ],
             [
              0.2222222222222222,
              "#7201a8"
             ],
             [
              0.3333333333333333,
              "#9c179e"
             ],
             [
              0.4444444444444444,
              "#bd3786"
             ],
             [
              0.5555555555555556,
              "#d8576b"
             ],
             [
              0.6666666666666666,
              "#ed7953"
             ],
             [
              0.7777777777777778,
              "#fb9f3a"
             ],
             [
              0.8888888888888888,
              "#fdca26"
             ],
             [
              1,
              "#f0f921"
             ]
            ],
            "type": "histogram2d"
           }
          ],
          "histogram2dcontour": [
           {
            "colorbar": {
             "outlinewidth": 0,
             "ticks": ""
            },
            "colorscale": [
             [
              0,
              "#0d0887"
             ],
             [
              0.1111111111111111,
              "#46039f"
             ],
             [
              0.2222222222222222,
              "#7201a8"
             ],
             [
              0.3333333333333333,
              "#9c179e"
             ],
             [
              0.4444444444444444,
              "#bd3786"
             ],
             [
              0.5555555555555556,
              "#d8576b"
             ],
             [
              0.6666666666666666,
              "#ed7953"
             ],
             [
              0.7777777777777778,
              "#fb9f3a"
             ],
             [
              0.8888888888888888,
              "#fdca26"
             ],
             [
              1,
              "#f0f921"
             ]
            ],
            "type": "histogram2dcontour"
           }
          ],
          "mesh3d": [
           {
            "colorbar": {
             "outlinewidth": 0,
             "ticks": ""
            },
            "type": "mesh3d"
           }
          ],
          "parcoords": [
           {
            "line": {
             "colorbar": {
              "outlinewidth": 0,
              "ticks": ""
             }
            },
            "type": "parcoords"
           }
          ],
          "pie": [
           {
            "automargin": true,
            "type": "pie"
           }
          ],
          "scatter": [
           {
            "marker": {
             "colorbar": {
              "outlinewidth": 0,
              "ticks": ""
             }
            },
            "type": "scatter"
           }
          ],
          "scatter3d": [
           {
            "line": {
             "colorbar": {
              "outlinewidth": 0,
              "ticks": ""
             }
            },
            "marker": {
             "colorbar": {
              "outlinewidth": 0,
              "ticks": ""
             }
            },
            "type": "scatter3d"
           }
          ],
          "scattercarpet": [
           {
            "marker": {
             "colorbar": {
              "outlinewidth": 0,
              "ticks": ""
             }
            },
            "type": "scattercarpet"
           }
          ],
          "scattergeo": [
           {
            "marker": {
             "colorbar": {
              "outlinewidth": 0,
              "ticks": ""
             }
            },
            "type": "scattergeo"
           }
          ],
          "scattergl": [
           {
            "marker": {
             "colorbar": {
              "outlinewidth": 0,
              "ticks": ""
             }
            },
            "type": "scattergl"
           }
          ],
          "scattermapbox": [
           {
            "marker": {
             "colorbar": {
              "outlinewidth": 0,
              "ticks": ""
             }
            },
            "type": "scattermapbox"
           }
          ],
          "scatterpolar": [
           {
            "marker": {
             "colorbar": {
              "outlinewidth": 0,
              "ticks": ""
             }
            },
            "type": "scatterpolar"
           }
          ],
          "scatterpolargl": [
           {
            "marker": {
             "colorbar": {
              "outlinewidth": 0,
              "ticks": ""
             }
            },
            "type": "scatterpolargl"
           }
          ],
          "scatterternary": [
           {
            "marker": {
             "colorbar": {
              "outlinewidth": 0,
              "ticks": ""
             }
            },
            "type": "scatterternary"
           }
          ],
          "surface": [
           {
            "colorbar": {
             "outlinewidth": 0,
             "ticks": ""
            },
            "colorscale": [
             [
              0,
              "#0d0887"
             ],
             [
              0.1111111111111111,
              "#46039f"
             ],
             [
              0.2222222222222222,
              "#7201a8"
             ],
             [
              0.3333333333333333,
              "#9c179e"
             ],
             [
              0.4444444444444444,
              "#bd3786"
             ],
             [
              0.5555555555555556,
              "#d8576b"
             ],
             [
              0.6666666666666666,
              "#ed7953"
             ],
             [
              0.7777777777777778,
              "#fb9f3a"
             ],
             [
              0.8888888888888888,
              "#fdca26"
             ],
             [
              1,
              "#f0f921"
             ]
            ],
            "type": "surface"
           }
          ],
          "table": [
           {
            "cells": {
             "fill": {
              "color": "#EBF0F8"
             },
             "line": {
              "color": "white"
             }
            },
            "header": {
             "fill": {
              "color": "#C8D4E3"
             },
             "line": {
              "color": "white"
             }
            },
            "type": "table"
           }
          ]
         },
         "layout": {
          "annotationdefaults": {
           "arrowcolor": "#2a3f5f",
           "arrowhead": 0,
           "arrowwidth": 1
          },
          "coloraxis": {
           "colorbar": {
            "outlinewidth": 0,
            "ticks": ""
           }
          },
          "colorscale": {
           "diverging": [
            [
             0,
             "#8e0152"
            ],
            [
             0.1,
             "#c51b7d"
            ],
            [
             0.2,
             "#de77ae"
            ],
            [
             0.3,
             "#f1b6da"
            ],
            [
             0.4,
             "#fde0ef"
            ],
            [
             0.5,
             "#f7f7f7"
            ],
            [
             0.6,
             "#e6f5d0"
            ],
            [
             0.7,
             "#b8e186"
            ],
            [
             0.8,
             "#7fbc41"
            ],
            [
             0.9,
             "#4d9221"
            ],
            [
             1,
             "#276419"
            ]
           ],
           "sequential": [
            [
             0,
             "#0d0887"
            ],
            [
             0.1111111111111111,
             "#46039f"
            ],
            [
             0.2222222222222222,
             "#7201a8"
            ],
            [
             0.3333333333333333,
             "#9c179e"
            ],
            [
             0.4444444444444444,
             "#bd3786"
            ],
            [
             0.5555555555555556,
             "#d8576b"
            ],
            [
             0.6666666666666666,
             "#ed7953"
            ],
            [
             0.7777777777777778,
             "#fb9f3a"
            ],
            [
             0.8888888888888888,
             "#fdca26"
            ],
            [
             1,
             "#f0f921"
            ]
           ],
           "sequentialminus": [
            [
             0,
             "#0d0887"
            ],
            [
             0.1111111111111111,
             "#46039f"
            ],
            [
             0.2222222222222222,
             "#7201a8"
            ],
            [
             0.3333333333333333,
             "#9c179e"
            ],
            [
             0.4444444444444444,
             "#bd3786"
            ],
            [
             0.5555555555555556,
             "#d8576b"
            ],
            [
             0.6666666666666666,
             "#ed7953"
            ],
            [
             0.7777777777777778,
             "#fb9f3a"
            ],
            [
             0.8888888888888888,
             "#fdca26"
            ],
            [
             1,
             "#f0f921"
            ]
           ]
          },
          "colorway": [
           "#636efa",
           "#EF553B",
           "#00cc96",
           "#ab63fa",
           "#FFA15A",
           "#19d3f3",
           "#FF6692",
           "#B6E880",
           "#FF97FF",
           "#FECB52"
          ],
          "font": {
           "color": "#2a3f5f"
          },
          "geo": {
           "bgcolor": "white",
           "lakecolor": "white",
           "landcolor": "#E5ECF6",
           "showlakes": true,
           "showland": true,
           "subunitcolor": "white"
          },
          "hoverlabel": {
           "align": "left"
          },
          "hovermode": "closest",
          "mapbox": {
           "style": "light"
          },
          "paper_bgcolor": "white",
          "plot_bgcolor": "#E5ECF6",
          "polar": {
           "angularaxis": {
            "gridcolor": "white",
            "linecolor": "white",
            "ticks": ""
           },
           "bgcolor": "#E5ECF6",
           "radialaxis": {
            "gridcolor": "white",
            "linecolor": "white",
            "ticks": ""
           }
          },
          "scene": {
           "xaxis": {
            "backgroundcolor": "#E5ECF6",
            "gridcolor": "white",
            "gridwidth": 2,
            "linecolor": "white",
            "showbackground": true,
            "ticks": "",
            "zerolinecolor": "white"
           },
           "yaxis": {
            "backgroundcolor": "#E5ECF6",
            "gridcolor": "white",
            "gridwidth": 2,
            "linecolor": "white",
            "showbackground": true,
            "ticks": "",
            "zerolinecolor": "white"
           },
           "zaxis": {
            "backgroundcolor": "#E5ECF6",
            "gridcolor": "white",
            "gridwidth": 2,
            "linecolor": "white",
            "showbackground": true,
            "ticks": "",
            "zerolinecolor": "white"
           }
          },
          "shapedefaults": {
           "line": {
            "color": "#2a3f5f"
           }
          },
          "ternary": {
           "aaxis": {
            "gridcolor": "white",
            "linecolor": "white",
            "ticks": ""
           },
           "baxis": {
            "gridcolor": "white",
            "linecolor": "white",
            "ticks": ""
           },
           "bgcolor": "#E5ECF6",
           "caxis": {
            "gridcolor": "white",
            "linecolor": "white",
            "ticks": ""
           }
          },
          "title": {
           "x": 0.05
          },
          "xaxis": {
           "automargin": true,
           "gridcolor": "white",
           "linecolor": "white",
           "ticks": "",
           "title": {
            "standoff": 15
           },
           "zerolinecolor": "white",
           "zerolinewidth": 2
          },
          "yaxis": {
           "automargin": true,
           "gridcolor": "white",
           "linecolor": "white",
           "ticks": "",
           "title": {
            "standoff": 15
           },
           "zerolinecolor": "white",
           "zerolinewidth": 2
          }
         }
        },
        "title": {
         "text": "Price per Sq.ft. Dorado del Mar Change 2008-2019"
        },
        "width": 1000,
        "xaxis": {
         "gridcolor": "#EEEEEE",
         "tickangle": -45,
         "tickfont": {
          "size": 9
         }
        },
        "yaxis": {
         "gridcolor": "#EEEEEE",
         "nticks": 18
        }
       }
      },
      "text/html": [
       "<div>\n",
       "        \n",
       "        \n",
       "            <div id=\"6cfcbc04-98a8-4be3-bf97-f27e5f72d6ad\" class=\"plotly-graph-div\" style=\"height:500px; width:1000px;\"></div>\n",
       "            <script type=\"text/javascript\">\n",
       "                require([\"plotly\"], function(Plotly) {\n",
       "                    window.PLOTLYENV=window.PLOTLYENV || {};\n",
       "                    \n",
       "                if (document.getElementById(\"6cfcbc04-98a8-4be3-bf97-f27e5f72d6ad\")) {\n",
       "                    Plotly.newPlot(\n",
       "                        '6cfcbc04-98a8-4be3-bf97-f27e5f72d6ad',\n",
       "                        [{\"mode\": \"lines+markers\", \"name\": \"Min Quarter value\", \"type\": \"scatter\", \"x\": [\"2008 Q1\", \"2008 Q2\", \"2008 Q4\", \"2009 Q1\", \"2009 Q2\", \"2009 Q3\", \"2009 Q4\", \"2010 Q1\", \"2010 Q2\", \"2010 Q4\", \"2011 Q1\", \"2011 Q2\", \"2011 Q3\", \"2011 Q4\", \"2012 Q1\", \"2012 Q2\", \"2012 Q3\", \"2012 Q4\", \"2013 Q1\", \"2013 Q3\", \"2014 Q1\", \"2014 Q3\", \"2014 Q4\", \"2015 Q1\", \"2015 Q2\", \"2015 Q3\", \"2015 Q4\", \"2016 Q1\", \"2016 Q2\", \"2016 Q3\", \"2016 Q4\", \"2017 Q1\", \"2017 Q2\", \"2017 Q4\", \"2018 Q1\", \"2018 Q2\", \"2018 Q3\", \"2018 Q4\", \"2019 Q1\"], \"y\": [119.00264450321119, 143.2967032967033, 101.08481262327416, 108.48126232741618, 118.17501869857891, 119.04761904761905, 120.07874015748031, 103.92609699769054, 119.00117050331643, 85.61511762437331, 62.47696277183929, 82.28980322003578, 86.6738894907909, 104.11622276029055, 118.59219586840092, 100.87025316455696, 86.20689655172414, 88.01955990220048, 74.14730598121602, 69.1588785046729, 71.66257166257166, 73.78999179655456, 114.55399061032864, 98.23182711198429, 59.628975265017665, 67.56756756756756, 58.15733088460361, 63.71963361210673, 100.31919744642043, 75.27733755942948, 104.02275497765136, 66.9554942890902, 67.11409395973155, 81.79959100204499, 113.36032388663968, 71.15749525616698, 95.27754763877383, 94.04990403071017, 63.823272090988624]}, {\"fill\": \"tonexty\", \"fillcolor\": \"rgba(248, 245, 159, 0.1)\", \"mode\": \"lines+markers\", \"name\": \"Max Quarter value\", \"type\": \"scatter\", \"x\": [\"2008 Q1\", \"2008 Q2\", \"2008 Q4\", \"2009 Q1\", \"2009 Q2\", \"2009 Q3\", \"2009 Q4\", \"2010 Q1\", \"2010 Q2\", \"2010 Q4\", \"2011 Q1\", \"2011 Q2\", \"2011 Q3\", \"2011 Q4\", \"2012 Q1\", \"2012 Q2\", \"2012 Q3\", \"2012 Q4\", \"2013 Q1\", \"2013 Q3\", \"2014 Q1\", \"2014 Q3\", \"2014 Q4\", \"2015 Q1\", \"2015 Q2\", \"2015 Q3\", \"2015 Q4\", \"2016 Q1\", \"2016 Q2\", \"2016 Q3\", \"2016 Q4\", \"2017 Q1\", \"2017 Q2\", \"2017 Q4\", \"2018 Q1\", \"2018 Q2\", \"2018 Q3\", \"2018 Q4\", \"2019 Q1\"], \"y\": [142.01416207710463, 152.94561933534743, 101.08481262327416, 108.48126232741618, 138.58267716535434, 119.04761904761905, 137.36263736263737, 103.92609699769054, 119.00117050331643, 85.61511762437331, 116.46914589293011, 142.4404472532815, 112.38250919493257, 104.11622276029055, 118.59219586840092, 100.87025316455696, 95.54140127388536, 115.85365853658537, 108.16326530612245, 123.70113805047006, 71.66257166257166, 135.88026782197716, 115.87485515643105, 122.33096085409252, 116.08988764044943, 67.56756756756756, 97.71986970684038, 63.71963361210673, 100.31919744642043, 107.95180722891567, 104.02275497765136, 136.36363636363637, 102.29132569558101, 82.3045267489712, 113.36032388663968, 149.95034756703078, 95.27754763877383, 104.37179992122883, 84.95752123938031]}, {\"line\": {\"color\": \"grey\", \"dash\": \"dashdot\", \"shape\": \"spline\", \"width\": 1}, \"mode\": \"lines\", \"name\": \"Median Quarter value\", \"type\": \"scatter\", \"x\": [\"2008 Q1\", \"2008 Q2\", \"2008 Q4\", \"2009 Q1\", \"2009 Q2\", \"2009 Q3\", \"2009 Q4\", \"2010 Q1\", \"2010 Q2\", \"2010 Q4\", \"2011 Q1\", \"2011 Q2\", \"2011 Q3\", \"2011 Q4\", \"2012 Q1\", \"2012 Q2\", \"2012 Q3\", \"2012 Q4\", \"2013 Q1\", \"2013 Q3\", \"2014 Q1\", \"2014 Q3\", \"2014 Q4\", \"2015 Q1\", \"2015 Q2\", \"2015 Q3\", \"2015 Q4\", \"2016 Q1\", \"2016 Q2\", \"2016 Q3\", \"2016 Q4\", \"2017 Q1\", \"2017 Q2\", \"2017 Q4\", \"2018 Q1\", \"2018 Q2\", \"2018 Q3\", \"2018 Q4\", \"2019 Q1\"], \"y\": [130.5084032901579, 148.12116131602536, 101.08481262327416, 108.48126232741618, 129.13385826771653, 119.04761904761905, 126.96041822255414, 103.92609699769054, 119.00117050331643, 85.61511762437331, 94.48818897637796, 104.33070866141732, 94.749309119621, 104.11622276029055, 118.59219586840092, 100.87025316455696, 90.87414891280474, 93.47653142402545, 85.61396233236127, 102.01174168297456, 71.66257166257166, 104.83512980926585, 115.21442288337985, 110.28139398303841, 103.43481654957064, 67.56756756756756, 77.938600295722, 63.71963361210673, 100.31919744642043, 106.23342869806987, 104.02275497765136, 89.13845675150411, 84.70270982765628, 82.0520588755081, 113.36032388663968, 110.55392141159888, 95.27754763877383, 96.84770224078997, 74.39039666518447]}],\n",
       "                        {\"annotations\": [{\"arrowcolor\": \"#616161\", \"arrowhead\": 0, \"arrowwidth\": 0.5, \"ax\": 0, \"ay\": 50, \"font\": {\"color\": \"brown\", \"size\": 6}, \"opacity\": 1, \"showarrow\": true, \"text\": \"119<br>0%\", \"x\": 0, \"y\": 119.00264450321119}, {\"arrowcolor\": \"#616161\", \"arrowhead\": 0, \"arrowwidth\": 0.5, \"ax\": 0, \"ay\": 60, \"font\": {\"color\": \"green\", \"size\": 6}, \"opacity\": 1, \"showarrow\": true, \"text\": \"143<br>+20%\", \"x\": 1, \"y\": 143.2967032967033}, {\"arrowcolor\": \"#616161\", \"arrowhead\": 0, \"arrowwidth\": 0.5, \"ax\": 0, \"ay\": 50, \"font\": {\"color\": \"brown\", \"size\": 6}, \"opacity\": 1, \"showarrow\": true, \"text\": \"101<br>-29%\", \"x\": 2, \"y\": 101.08481262327416}, {\"arrowcolor\": \"#616161\", \"arrowhead\": 0, \"arrowwidth\": 0.5, \"ax\": 0, \"ay\": 60, \"font\": {\"color\": \"green\", \"size\": 6}, \"opacity\": 1, \"showarrow\": true, \"text\": \"108<br>+7%\", \"x\": 3, \"y\": 108.48126232741618}, {\"arrowcolor\": \"#616161\", \"arrowhead\": 0, \"arrowwidth\": 0.5, \"ax\": 0, \"ay\": 60, \"font\": {\"color\": \"green\", \"size\": 6}, \"opacity\": 1, \"showarrow\": true, \"text\": \"118<br>+9%\", \"x\": 4, \"y\": 118.17501869857891}, {\"arrowcolor\": \"#616161\", \"arrowhead\": 0, \"arrowwidth\": 0.5, \"ax\": 0, \"ay\": 60, \"font\": {\"color\": \"green\", \"size\": 6}, \"opacity\": 1, \"showarrow\": true, \"text\": \"119<br>+1%\", \"x\": 5, \"y\": 119.04761904761905}, {\"arrowcolor\": \"#616161\", \"arrowhead\": 0, \"arrowwidth\": 0.5, \"ax\": 0, \"ay\": 60, \"font\": {\"color\": \"green\", \"size\": 6}, \"opacity\": 1, \"showarrow\": true, \"text\": \"120<br>+1%\", \"x\": 6, \"y\": 120.07874015748031}, {\"arrowcolor\": \"#616161\", \"arrowhead\": 0, \"arrowwidth\": 0.5, \"ax\": 0, \"ay\": 50, \"font\": {\"color\": \"brown\", \"size\": 6}, \"opacity\": 1, \"showarrow\": true, \"text\": \"104<br>-13%\", \"x\": 7, \"y\": 103.92609699769054}, {\"arrowcolor\": \"#616161\", \"arrowhead\": 0, \"arrowwidth\": 0.5, \"ax\": 0, \"ay\": 60, \"font\": {\"color\": \"green\", \"size\": 6}, \"opacity\": 1, \"showarrow\": true, \"text\": \"119<br>+15%\", \"x\": 8, \"y\": 119.00117050331643}, {\"arrowcolor\": \"#616161\", \"arrowhead\": 0, \"arrowwidth\": 0.5, \"ax\": 0, \"ay\": 50, \"font\": {\"color\": \"brown\", \"size\": 6}, \"opacity\": 1, \"showarrow\": true, \"text\": \"86<br>-28%\", \"x\": 9, \"y\": 85.61511762437331}, {\"arrowcolor\": \"#616161\", \"arrowhead\": 0, \"arrowwidth\": 0.5, \"ax\": 0, \"ay\": 50, \"font\": {\"color\": \"brown\", \"size\": 6}, \"opacity\": 1, \"showarrow\": true, \"text\": \"62<br>-27%\", \"x\": 10, \"y\": 62.47696277183929}, {\"arrowcolor\": \"#616161\", \"arrowhead\": 0, \"arrowwidth\": 0.5, \"ax\": 0, \"ay\": 60, \"font\": {\"color\": \"green\", \"size\": 6}, \"opacity\": 1, \"showarrow\": true, \"text\": \"82<br>+32%\", \"x\": 11, \"y\": 82.28980322003578}, {\"arrowcolor\": \"#616161\", \"arrowhead\": 0, \"arrowwidth\": 0.5, \"ax\": 0, \"ay\": 60, \"font\": {\"color\": \"green\", \"size\": 6}, \"opacity\": 1, \"showarrow\": true, \"text\": \"87<br>+5%\", \"x\": 12, \"y\": 86.6738894907909}, {\"arrowcolor\": \"#616161\", \"arrowhead\": 0, \"arrowwidth\": 0.5, \"ax\": 0, \"ay\": 60, \"font\": {\"color\": \"green\", \"size\": 6}, \"opacity\": 1, \"showarrow\": true, \"text\": \"104<br>+20%\", \"x\": 13, \"y\": 104.11622276029055}, {\"arrowcolor\": \"#616161\", \"arrowhead\": 0, \"arrowwidth\": 0.5, \"ax\": 0, \"ay\": 60, \"font\": {\"color\": \"green\", \"size\": 6}, \"opacity\": 1, \"showarrow\": true, \"text\": \"119<br>+14%\", \"x\": 14, \"y\": 118.59219586840092}, {\"arrowcolor\": \"#616161\", \"arrowhead\": 0, \"arrowwidth\": 0.5, \"ax\": 0, \"ay\": 50, \"font\": {\"color\": \"brown\", \"size\": 6}, \"opacity\": 1, \"showarrow\": true, \"text\": \"101<br>-15%\", \"x\": 15, \"y\": 100.87025316455696}, {\"arrowcolor\": \"#616161\", \"arrowhead\": 0, \"arrowwidth\": 0.5, \"ax\": 0, \"ay\": 50, \"font\": {\"color\": \"brown\", \"size\": 6}, \"opacity\": 1, \"showarrow\": true, \"text\": \"86<br>-15%\", \"x\": 16, \"y\": 86.20689655172414}, {\"arrowcolor\": \"#616161\", \"arrowhead\": 0, \"arrowwidth\": 0.5, \"ax\": 0, \"ay\": 60, \"font\": {\"color\": \"green\", \"size\": 6}, \"opacity\": 1, \"showarrow\": true, \"text\": \"88<br>+2%\", \"x\": 17, \"y\": 88.01955990220048}, {\"arrowcolor\": \"#616161\", \"arrowhead\": 0, \"arrowwidth\": 0.5, \"ax\": 0, \"ay\": 50, \"font\": {\"color\": \"brown\", \"size\": 6}, \"opacity\": 1, \"showarrow\": true, \"text\": \"74<br>-16%\", \"x\": 18, \"y\": 74.14730598121602}, {\"arrowcolor\": \"#616161\", \"arrowhead\": 0, \"arrowwidth\": 0.5, \"ax\": 0, \"ay\": 50, \"font\": {\"color\": \"brown\", \"size\": 6}, \"opacity\": 1, \"showarrow\": true, \"text\": \"69<br>-7%\", \"x\": 19, \"y\": 69.1588785046729}, {\"arrowcolor\": \"#616161\", \"arrowhead\": 0, \"arrowwidth\": 0.5, \"ax\": 0, \"ay\": 60, \"font\": {\"color\": \"green\", \"size\": 6}, \"opacity\": 1, \"showarrow\": true, \"text\": \"72<br>+4%\", \"x\": 20, \"y\": 71.66257166257166}, {\"arrowcolor\": \"#616161\", \"arrowhead\": 0, \"arrowwidth\": 0.5, \"ax\": 0, \"ay\": 60, \"font\": {\"color\": \"green\", \"size\": 6}, \"opacity\": 1, \"showarrow\": true, \"text\": \"74<br>+3%\", \"x\": 21, \"y\": 73.78999179655456}, {\"arrowcolor\": \"#616161\", \"arrowhead\": 0, \"arrowwidth\": 0.5, \"ax\": 0, \"ay\": 60, \"font\": {\"color\": \"green\", \"size\": 6}, \"opacity\": 1, \"showarrow\": true, \"text\": \"115<br>+55%\", \"x\": 22, \"y\": 114.55399061032864}, {\"arrowcolor\": \"#616161\", \"arrowhead\": 0, \"arrowwidth\": 0.5, \"ax\": 0, \"ay\": 50, \"font\": {\"color\": \"brown\", \"size\": 6}, \"opacity\": 1, \"showarrow\": true, \"text\": \"98<br>-14%\", \"x\": 23, \"y\": 98.23182711198429}, {\"arrowcolor\": \"#616161\", \"arrowhead\": 0, \"arrowwidth\": 0.5, \"ax\": 0, \"ay\": 50, \"font\": {\"color\": \"brown\", \"size\": 6}, \"opacity\": 1, \"showarrow\": true, \"text\": \"60<br>-39%\", \"x\": 24, \"y\": 59.628975265017665}, {\"arrowcolor\": \"#616161\", \"arrowhead\": 0, \"arrowwidth\": 0.5, \"ax\": 0, \"ay\": 60, \"font\": {\"color\": \"green\", \"size\": 6}, \"opacity\": 1, \"showarrow\": true, \"text\": \"68<br>+13%\", \"x\": 25, \"y\": 67.56756756756756}, {\"arrowcolor\": \"#616161\", \"arrowhead\": 0, \"arrowwidth\": 0.5, \"ax\": 0, \"ay\": 50, \"font\": {\"color\": \"brown\", \"size\": 6}, \"opacity\": 1, \"showarrow\": true, \"text\": \"58<br>-14%\", \"x\": 26, \"y\": 58.15733088460361}, {\"arrowcolor\": \"#616161\", \"arrowhead\": 0, \"arrowwidth\": 0.5, \"ax\": 0, \"ay\": 60, \"font\": {\"color\": \"green\", \"size\": 6}, \"opacity\": 1, \"showarrow\": true, \"text\": \"64<br>+10%\", \"x\": 27, \"y\": 63.71963361210673}, {\"arrowcolor\": \"#616161\", \"arrowhead\": 0, \"arrowwidth\": 0.5, \"ax\": 0, \"ay\": 60, \"font\": {\"color\": \"green\", \"size\": 6}, \"opacity\": 1, \"showarrow\": true, \"text\": \"100<br>+57%\", \"x\": 28, \"y\": 100.31919744642043}, {\"arrowcolor\": \"#616161\", \"arrowhead\": 0, \"arrowwidth\": 0.5, \"ax\": 0, \"ay\": 50, \"font\": {\"color\": \"brown\", \"size\": 6}, \"opacity\": 1, \"showarrow\": true, \"text\": \"75<br>-25%\", \"x\": 29, \"y\": 75.27733755942948}, {\"arrowcolor\": \"#616161\", \"arrowhead\": 0, \"arrowwidth\": 0.5, \"ax\": 0, \"ay\": 60, \"font\": {\"color\": \"green\", \"size\": 6}, \"opacity\": 1, \"showarrow\": true, \"text\": \"104<br>+38%\", \"x\": 30, \"y\": 104.02275497765136}, {\"arrowcolor\": \"#616161\", \"arrowhead\": 0, \"arrowwidth\": 0.5, \"ax\": 0, \"ay\": 50, \"font\": {\"color\": \"brown\", \"size\": 6}, \"opacity\": 1, \"showarrow\": true, \"text\": \"67<br>-36%\", \"x\": 31, \"y\": 66.9554942890902}, {\"arrowcolor\": \"#616161\", \"arrowhead\": 0, \"arrowwidth\": 0.5, \"ax\": 0, \"ay\": 60, \"font\": {\"color\": \"green\", \"size\": 6}, \"opacity\": 1, \"showarrow\": true, \"text\": \"67<br>+0%\", \"x\": 32, \"y\": 67.11409395973155}, {\"arrowcolor\": \"#616161\", \"arrowhead\": 0, \"arrowwidth\": 0.5, \"ax\": 0, \"ay\": 60, \"font\": {\"color\": \"green\", \"size\": 6}, \"opacity\": 1, \"showarrow\": true, \"text\": \"82<br>+22%\", \"x\": 33, \"y\": 81.79959100204499}, {\"arrowcolor\": \"#616161\", \"arrowhead\": 0, \"arrowwidth\": 0.5, \"ax\": 0, \"ay\": 60, \"font\": {\"color\": \"green\", \"size\": 6}, \"opacity\": 1, \"showarrow\": true, \"text\": \"113<br>+39%\", \"x\": 34, \"y\": 113.36032388663968}, {\"arrowcolor\": \"#616161\", \"arrowhead\": 0, \"arrowwidth\": 0.5, \"ax\": 0, \"ay\": 50, \"font\": {\"color\": \"brown\", \"size\": 6}, \"opacity\": 1, \"showarrow\": true, \"text\": \"71<br>-37%\", \"x\": 35, \"y\": 71.15749525616698}, {\"arrowcolor\": \"#616161\", \"arrowhead\": 0, \"arrowwidth\": 0.5, \"ax\": 0, \"ay\": 60, \"font\": {\"color\": \"green\", \"size\": 6}, \"opacity\": 1, \"showarrow\": true, \"text\": \"95<br>+34%\", \"x\": 36, \"y\": 95.27754763877383}, {\"arrowcolor\": \"#616161\", \"arrowhead\": 0, \"arrowwidth\": 0.5, \"ax\": 0, \"ay\": 50, \"font\": {\"color\": \"brown\", \"size\": 6}, \"opacity\": 1, \"showarrow\": true, \"text\": \"94<br>-1%\", \"x\": 37, \"y\": 94.04990403071017}, {\"arrowcolor\": \"#616161\", \"arrowhead\": 0, \"arrowwidth\": 0.5, \"ax\": 0, \"ay\": 50, \"font\": {\"color\": \"brown\", \"size\": 6}, \"opacity\": 1, \"showarrow\": true, \"text\": \"64<br>-32%\", \"x\": 38, \"y\": 63.823272090988624}, {\"arrowcolor\": \"#616161\", \"arrowhead\": 0, \"arrowwidth\": 0.5, \"ax\": 0, \"ay\": -60, \"font\": {\"color\": \"brown\", \"size\": 6}, \"opacity\": 1, \"showarrow\": true, \"text\": \"142<br>0%\", \"x\": 0, \"y\": 142.01416207710463}, {\"arrowcolor\": \"#616161\", \"arrowhead\": 0, \"arrowwidth\": 0.5, \"ax\": 0, \"ay\": -50, \"font\": {\"color\": \"green\", \"size\": 6}, \"opacity\": 1, \"showarrow\": true, \"text\": \"153<br>+8%\", \"x\": 1, \"y\": 152.94561933534743}, {\"arrowcolor\": \"#616161\", \"arrowhead\": 0, \"arrowwidth\": 0.5, \"ax\": 0, \"ay\": -60, \"font\": {\"color\": \"brown\", \"size\": 6}, \"opacity\": 1, \"showarrow\": true, \"text\": \"101<br>-34%\", \"x\": 2, \"y\": 101.08481262327416}, {\"arrowcolor\": \"#616161\", \"arrowhead\": 0, \"arrowwidth\": 0.5, \"ax\": 0, \"ay\": -50, \"font\": {\"color\": \"green\", \"size\": 6}, \"opacity\": 1, \"showarrow\": true, \"text\": \"108<br>+7%\", \"x\": 3, \"y\": 108.48126232741618}, {\"arrowcolor\": \"#616161\", \"arrowhead\": 0, \"arrowwidth\": 0.5, \"ax\": 0, \"ay\": -50, \"font\": {\"color\": \"green\", \"size\": 6}, \"opacity\": 1, \"showarrow\": true, \"text\": \"139<br>+28%\", \"x\": 4, \"y\": 138.58267716535434}, {\"arrowcolor\": \"#616161\", \"arrowhead\": 0, \"arrowwidth\": 0.5, \"ax\": 0, \"ay\": -60, \"font\": {\"color\": \"brown\", \"size\": 6}, \"opacity\": 1, \"showarrow\": true, \"text\": \"119<br>-14%\", \"x\": 5, \"y\": 119.04761904761905}, {\"arrowcolor\": \"#616161\", \"arrowhead\": 0, \"arrowwidth\": 0.5, \"ax\": 0, \"ay\": -50, \"font\": {\"color\": \"green\", \"size\": 6}, \"opacity\": 1, \"showarrow\": true, \"text\": \"137<br>+15%\", \"x\": 6, \"y\": 137.36263736263737}, {\"arrowcolor\": \"#616161\", \"arrowhead\": 0, \"arrowwidth\": 0.5, \"ax\": 0, \"ay\": -60, \"font\": {\"color\": \"brown\", \"size\": 6}, \"opacity\": 1, \"showarrow\": true, \"text\": \"104<br>-24%\", \"x\": 7, \"y\": 103.92609699769054}, {\"arrowcolor\": \"#616161\", \"arrowhead\": 0, \"arrowwidth\": 0.5, \"ax\": 0, \"ay\": -50, \"font\": {\"color\": \"green\", \"size\": 6}, \"opacity\": 1, \"showarrow\": true, \"text\": \"119<br>+15%\", \"x\": 8, \"y\": 119.00117050331643}, {\"arrowcolor\": \"#616161\", \"arrowhead\": 0, \"arrowwidth\": 0.5, \"ax\": 0, \"ay\": -60, \"font\": {\"color\": \"brown\", \"size\": 6}, \"opacity\": 1, \"showarrow\": true, \"text\": \"86<br>-28%\", \"x\": 9, \"y\": 85.61511762437331}, {\"arrowcolor\": \"#616161\", \"arrowhead\": 0, \"arrowwidth\": 0.5, \"ax\": 0, \"ay\": -50, \"font\": {\"color\": \"green\", \"size\": 6}, \"opacity\": 1, \"showarrow\": true, \"text\": \"116<br>+36%\", \"x\": 10, \"y\": 116.46914589293011}, {\"arrowcolor\": \"#616161\", \"arrowhead\": 0, \"arrowwidth\": 0.5, \"ax\": 0, \"ay\": -50, \"font\": {\"color\": \"green\", \"size\": 6}, \"opacity\": 1, \"showarrow\": true, \"text\": \"142<br>+22%\", \"x\": 11, \"y\": 142.4404472532815}, {\"arrowcolor\": \"#616161\", \"arrowhead\": 0, \"arrowwidth\": 0.5, \"ax\": 0, \"ay\": -60, \"font\": {\"color\": \"brown\", \"size\": 6}, \"opacity\": 1, \"showarrow\": true, \"text\": \"112<br>-21%\", \"x\": 12, \"y\": 112.38250919493257}, {\"arrowcolor\": \"#616161\", \"arrowhead\": 0, \"arrowwidth\": 0.5, \"ax\": 0, \"ay\": -60, \"font\": {\"color\": \"brown\", \"size\": 6}, \"opacity\": 1, \"showarrow\": true, \"text\": \"104<br>-7%\", \"x\": 13, \"y\": 104.11622276029055}, {\"arrowcolor\": \"#616161\", \"arrowhead\": 0, \"arrowwidth\": 0.5, \"ax\": 0, \"ay\": -50, \"font\": {\"color\": \"green\", \"size\": 6}, \"opacity\": 1, \"showarrow\": true, \"text\": \"119<br>+14%\", \"x\": 14, \"y\": 118.59219586840092}, {\"arrowcolor\": \"#616161\", \"arrowhead\": 0, \"arrowwidth\": 0.5, \"ax\": 0, \"ay\": -60, \"font\": {\"color\": \"brown\", \"size\": 6}, \"opacity\": 1, \"showarrow\": true, \"text\": \"101<br>-15%\", \"x\": 15, \"y\": 100.87025316455696}, {\"arrowcolor\": \"#616161\", \"arrowhead\": 0, \"arrowwidth\": 0.5, \"ax\": 0, \"ay\": -60, \"font\": {\"color\": \"brown\", \"size\": 6}, \"opacity\": 1, \"showarrow\": true, \"text\": \"96<br>-5%\", \"x\": 16, \"y\": 95.54140127388536}, {\"arrowcolor\": \"#616161\", \"arrowhead\": 0, \"arrowwidth\": 0.5, \"ax\": 0, \"ay\": -50, \"font\": {\"color\": \"green\", \"size\": 6}, \"opacity\": 1, \"showarrow\": true, \"text\": \"116<br>+21%\", \"x\": 17, \"y\": 115.85365853658537}, {\"arrowcolor\": \"#616161\", \"arrowhead\": 0, \"arrowwidth\": 0.5, \"ax\": 0, \"ay\": -60, \"font\": {\"color\": \"brown\", \"size\": 6}, \"opacity\": 1, \"showarrow\": true, \"text\": \"108<br>-7%\", \"x\": 18, \"y\": 108.16326530612245}, {\"arrowcolor\": \"#616161\", \"arrowhead\": 0, \"arrowwidth\": 0.5, \"ax\": 0, \"ay\": -50, \"font\": {\"color\": \"green\", \"size\": 6}, \"opacity\": 1, \"showarrow\": true, \"text\": \"124<br>+14%\", \"x\": 19, \"y\": 123.70113805047006}, {\"arrowcolor\": \"#616161\", \"arrowhead\": 0, \"arrowwidth\": 0.5, \"ax\": 0, \"ay\": -60, \"font\": {\"color\": \"brown\", \"size\": 6}, \"opacity\": 1, \"showarrow\": true, \"text\": \"72<br>-42%\", \"x\": 20, \"y\": 71.66257166257166}, {\"arrowcolor\": \"#616161\", \"arrowhead\": 0, \"arrowwidth\": 0.5, \"ax\": 0, \"ay\": -50, \"font\": {\"color\": \"green\", \"size\": 6}, \"opacity\": 1, \"showarrow\": true, \"text\": \"136<br>+90%\", \"x\": 21, \"y\": 135.88026782197716}, {\"arrowcolor\": \"#616161\", \"arrowhead\": 0, \"arrowwidth\": 0.5, \"ax\": 0, \"ay\": -60, \"font\": {\"color\": \"brown\", \"size\": 6}, \"opacity\": 1, \"showarrow\": true, \"text\": \"116<br>-15%\", \"x\": 22, \"y\": 115.87485515643105}, {\"arrowcolor\": \"#616161\", \"arrowhead\": 0, \"arrowwidth\": 0.5, \"ax\": 0, \"ay\": -50, \"font\": {\"color\": \"green\", \"size\": 6}, \"opacity\": 1, \"showarrow\": true, \"text\": \"122<br>+6%\", \"x\": 23, \"y\": 122.33096085409252}, {\"arrowcolor\": \"#616161\", \"arrowhead\": 0, \"arrowwidth\": 0.5, \"ax\": 0, \"ay\": -60, \"font\": {\"color\": \"brown\", \"size\": 6}, \"opacity\": 1, \"showarrow\": true, \"text\": \"116<br>-5%\", \"x\": 24, \"y\": 116.08988764044943}, {\"arrowcolor\": \"#616161\", \"arrowhead\": 0, \"arrowwidth\": 0.5, \"ax\": 0, \"ay\": -60, \"font\": {\"color\": \"brown\", \"size\": 6}, \"opacity\": 1, \"showarrow\": true, \"text\": \"68<br>-42%\", \"x\": 25, \"y\": 67.56756756756756}, {\"arrowcolor\": \"#616161\", \"arrowhead\": 0, \"arrowwidth\": 0.5, \"ax\": 0, \"ay\": -50, \"font\": {\"color\": \"green\", \"size\": 6}, \"opacity\": 1, \"showarrow\": true, \"text\": \"98<br>+45%\", \"x\": 26, \"y\": 97.71986970684038}, {\"arrowcolor\": \"#616161\", \"arrowhead\": 0, \"arrowwidth\": 0.5, \"ax\": 0, \"ay\": -60, \"font\": {\"color\": \"brown\", \"size\": 6}, \"opacity\": 1, \"showarrow\": true, \"text\": \"64<br>-35%\", \"x\": 27, \"y\": 63.71963361210673}, {\"arrowcolor\": \"#616161\", \"arrowhead\": 0, \"arrowwidth\": 0.5, \"ax\": 0, \"ay\": -50, \"font\": {\"color\": \"green\", \"size\": 6}, \"opacity\": 1, \"showarrow\": true, \"text\": \"100<br>+57%\", \"x\": 28, \"y\": 100.31919744642043}, {\"arrowcolor\": \"#616161\", \"arrowhead\": 0, \"arrowwidth\": 0.5, \"ax\": 0, \"ay\": -50, \"font\": {\"color\": \"green\", \"size\": 6}, \"opacity\": 1, \"showarrow\": true, \"text\": \"108<br>+8%\", \"x\": 29, \"y\": 107.95180722891567}, {\"arrowcolor\": \"#616161\", \"arrowhead\": 0, \"arrowwidth\": 0.5, \"ax\": 0, \"ay\": -60, \"font\": {\"color\": \"brown\", \"size\": 6}, \"opacity\": 1, \"showarrow\": true, \"text\": \"104<br>-4%\", \"x\": 30, \"y\": 104.02275497765136}, {\"arrowcolor\": \"#616161\", \"arrowhead\": 0, \"arrowwidth\": 0.5, \"ax\": 0, \"ay\": -50, \"font\": {\"color\": \"green\", \"size\": 6}, \"opacity\": 1, \"showarrow\": true, \"text\": \"136<br>+31%\", \"x\": 31, \"y\": 136.36363636363637}, {\"arrowcolor\": \"#616161\", \"arrowhead\": 0, \"arrowwidth\": 0.5, \"ax\": 0, \"ay\": -60, \"font\": {\"color\": \"brown\", \"size\": 6}, \"opacity\": 1, \"showarrow\": true, \"text\": \"102<br>-25%\", \"x\": 32, \"y\": 102.29132569558101}, {\"arrowcolor\": \"#616161\", \"arrowhead\": 0, \"arrowwidth\": 0.5, \"ax\": 0, \"ay\": -60, \"font\": {\"color\": \"brown\", \"size\": 6}, \"opacity\": 1, \"showarrow\": true, \"text\": \"82<br>-20%\", \"x\": 33, \"y\": 82.3045267489712}, {\"arrowcolor\": \"#616161\", \"arrowhead\": 0, \"arrowwidth\": 0.5, \"ax\": 0, \"ay\": -50, \"font\": {\"color\": \"green\", \"size\": 6}, \"opacity\": 1, \"showarrow\": true, \"text\": \"113<br>+38%\", \"x\": 34, \"y\": 113.36032388663968}, {\"arrowcolor\": \"#616161\", \"arrowhead\": 0, \"arrowwidth\": 0.5, \"ax\": 0, \"ay\": -50, \"font\": {\"color\": \"green\", \"size\": 6}, \"opacity\": 1, \"showarrow\": true, \"text\": \"150<br>+32%\", \"x\": 35, \"y\": 149.95034756703078}, {\"arrowcolor\": \"#616161\", \"arrowhead\": 0, \"arrowwidth\": 0.5, \"ax\": 0, \"ay\": -60, \"font\": {\"color\": \"brown\", \"size\": 6}, \"opacity\": 1, \"showarrow\": true, \"text\": \"95<br>-36%\", \"x\": 36, \"y\": 95.27754763877383}, {\"arrowcolor\": \"#616161\", \"arrowhead\": 0, \"arrowwidth\": 0.5, \"ax\": 0, \"ay\": -50, \"font\": {\"color\": \"green\", \"size\": 6}, \"opacity\": 1, \"showarrow\": true, \"text\": \"104<br>+10%\", \"x\": 37, \"y\": 104.37179992122883}, {\"arrowcolor\": \"#616161\", \"arrowhead\": 0, \"arrowwidth\": 0.5, \"ax\": 0, \"ay\": -60, \"font\": {\"color\": \"brown\", \"size\": 6}, \"opacity\": 1, \"showarrow\": true, \"text\": \"85<br>-19%\", \"x\": 38, \"y\": 84.95752123938031}], \"height\": 500, \"plot_bgcolor\": \"rgba(0,0,0,0)\", \"showlegend\": true, \"template\": {\"data\": {\"bar\": [{\"error_x\": {\"color\": \"#2a3f5f\"}, \"error_y\": {\"color\": \"#2a3f5f\"}, \"marker\": {\"line\": {\"color\": \"#E5ECF6\", \"width\": 0.5}}, \"type\": \"bar\"}], \"barpolar\": [{\"marker\": {\"line\": {\"color\": \"#E5ECF6\", \"width\": 0.5}}, \"type\": \"barpolar\"}], \"carpet\": [{\"aaxis\": {\"endlinecolor\": \"#2a3f5f\", \"gridcolor\": \"white\", \"linecolor\": \"white\", \"minorgridcolor\": \"white\", \"startlinecolor\": \"#2a3f5f\"}, \"baxis\": {\"endlinecolor\": \"#2a3f5f\", \"gridcolor\": \"white\", \"linecolor\": \"white\", \"minorgridcolor\": \"white\", \"startlinecolor\": \"#2a3f5f\"}, \"type\": \"carpet\"}], \"choropleth\": [{\"colorbar\": {\"outlinewidth\": 0, \"ticks\": \"\"}, \"type\": \"choropleth\"}], \"contour\": [{\"colorbar\": {\"outlinewidth\": 0, \"ticks\": \"\"}, \"colorscale\": [[0.0, \"#0d0887\"], [0.1111111111111111, \"#46039f\"], [0.2222222222222222, \"#7201a8\"], [0.3333333333333333, \"#9c179e\"], [0.4444444444444444, \"#bd3786\"], [0.5555555555555556, \"#d8576b\"], [0.6666666666666666, \"#ed7953\"], [0.7777777777777778, \"#fb9f3a\"], [0.8888888888888888, \"#fdca26\"], [1.0, \"#f0f921\"]], \"type\": \"contour\"}], \"contourcarpet\": [{\"colorbar\": {\"outlinewidth\": 0, \"ticks\": \"\"}, \"type\": \"contourcarpet\"}], \"heatmap\": [{\"colorbar\": {\"outlinewidth\": 0, \"ticks\": \"\"}, \"colorscale\": [[0.0, \"#0d0887\"], [0.1111111111111111, \"#46039f\"], [0.2222222222222222, \"#7201a8\"], [0.3333333333333333, \"#9c179e\"], [0.4444444444444444, \"#bd3786\"], [0.5555555555555556, \"#d8576b\"], [0.6666666666666666, \"#ed7953\"], [0.7777777777777778, \"#fb9f3a\"], [0.8888888888888888, \"#fdca26\"], [1.0, \"#f0f921\"]], \"type\": \"heatmap\"}], \"heatmapgl\": [{\"colorbar\": {\"outlinewidth\": 0, \"ticks\": \"\"}, \"colorscale\": [[0.0, \"#0d0887\"], [0.1111111111111111, \"#46039f\"], [0.2222222222222222, \"#7201a8\"], [0.3333333333333333, \"#9c179e\"], [0.4444444444444444, \"#bd3786\"], [0.5555555555555556, \"#d8576b\"], [0.6666666666666666, \"#ed7953\"], [0.7777777777777778, \"#fb9f3a\"], [0.8888888888888888, \"#fdca26\"], [1.0, \"#f0f921\"]], \"type\": \"heatmapgl\"}], \"histogram\": [{\"marker\": {\"colorbar\": {\"outlinewidth\": 0, \"ticks\": \"\"}}, \"type\": \"histogram\"}], \"histogram2d\": [{\"colorbar\": {\"outlinewidth\": 0, \"ticks\": \"\"}, \"colorscale\": [[0.0, \"#0d0887\"], [0.1111111111111111, \"#46039f\"], [0.2222222222222222, \"#7201a8\"], [0.3333333333333333, \"#9c179e\"], [0.4444444444444444, \"#bd3786\"], [0.5555555555555556, \"#d8576b\"], [0.6666666666666666, \"#ed7953\"], [0.7777777777777778, \"#fb9f3a\"], [0.8888888888888888, \"#fdca26\"], [1.0, \"#f0f921\"]], \"type\": \"histogram2d\"}], \"histogram2dcontour\": [{\"colorbar\": {\"outlinewidth\": 0, \"ticks\": \"\"}, \"colorscale\": [[0.0, \"#0d0887\"], [0.1111111111111111, \"#46039f\"], [0.2222222222222222, \"#7201a8\"], [0.3333333333333333, \"#9c179e\"], [0.4444444444444444, \"#bd3786\"], [0.5555555555555556, \"#d8576b\"], [0.6666666666666666, \"#ed7953\"], [0.7777777777777778, \"#fb9f3a\"], [0.8888888888888888, \"#fdca26\"], [1.0, \"#f0f921\"]], \"type\": \"histogram2dcontour\"}], \"mesh3d\": [{\"colorbar\": {\"outlinewidth\": 0, \"ticks\": \"\"}, \"type\": \"mesh3d\"}], \"parcoords\": [{\"line\": {\"colorbar\": {\"outlinewidth\": 0, \"ticks\": \"\"}}, \"type\": \"parcoords\"}], \"pie\": [{\"automargin\": true, \"type\": \"pie\"}], \"scatter\": [{\"marker\": {\"colorbar\": {\"outlinewidth\": 0, \"ticks\": \"\"}}, \"type\": \"scatter\"}], \"scatter3d\": [{\"line\": {\"colorbar\": {\"outlinewidth\": 0, \"ticks\": \"\"}}, \"marker\": {\"colorbar\": {\"outlinewidth\": 0, \"ticks\": \"\"}}, \"type\": \"scatter3d\"}], \"scattercarpet\": [{\"marker\": {\"colorbar\": {\"outlinewidth\": 0, \"ticks\": \"\"}}, \"type\": \"scattercarpet\"}], \"scattergeo\": [{\"marker\": {\"colorbar\": {\"outlinewidth\": 0, \"ticks\": \"\"}}, \"type\": \"scattergeo\"}], \"scattergl\": [{\"marker\": {\"colorbar\": {\"outlinewidth\": 0, \"ticks\": \"\"}}, \"type\": \"scattergl\"}], \"scattermapbox\": [{\"marker\": {\"colorbar\": {\"outlinewidth\": 0, \"ticks\": \"\"}}, \"type\": \"scattermapbox\"}], \"scatterpolar\": [{\"marker\": {\"colorbar\": {\"outlinewidth\": 0, \"ticks\": \"\"}}, \"type\": \"scatterpolar\"}], \"scatterpolargl\": [{\"marker\": {\"colorbar\": {\"outlinewidth\": 0, \"ticks\": \"\"}}, \"type\": \"scatterpolargl\"}], \"scatterternary\": [{\"marker\": {\"colorbar\": {\"outlinewidth\": 0, \"ticks\": \"\"}}, \"type\": \"scatterternary\"}], \"surface\": [{\"colorbar\": {\"outlinewidth\": 0, \"ticks\": \"\"}, \"colorscale\": [[0.0, \"#0d0887\"], [0.1111111111111111, \"#46039f\"], [0.2222222222222222, \"#7201a8\"], [0.3333333333333333, \"#9c179e\"], [0.4444444444444444, \"#bd3786\"], [0.5555555555555556, \"#d8576b\"], [0.6666666666666666, \"#ed7953\"], [0.7777777777777778, \"#fb9f3a\"], [0.8888888888888888, \"#fdca26\"], [1.0, \"#f0f921\"]], \"type\": \"surface\"}], \"table\": [{\"cells\": {\"fill\": {\"color\": \"#EBF0F8\"}, \"line\": {\"color\": \"white\"}}, \"header\": {\"fill\": {\"color\": \"#C8D4E3\"}, \"line\": {\"color\": \"white\"}}, \"type\": \"table\"}]}, \"layout\": {\"annotationdefaults\": {\"arrowcolor\": \"#2a3f5f\", \"arrowhead\": 0, \"arrowwidth\": 1}, \"coloraxis\": {\"colorbar\": {\"outlinewidth\": 0, \"ticks\": \"\"}}, \"colorscale\": {\"diverging\": [[0, \"#8e0152\"], [0.1, \"#c51b7d\"], [0.2, \"#de77ae\"], [0.3, \"#f1b6da\"], [0.4, \"#fde0ef\"], [0.5, \"#f7f7f7\"], [0.6, \"#e6f5d0\"], [0.7, \"#b8e186\"], [0.8, \"#7fbc41\"], [0.9, \"#4d9221\"], [1, \"#276419\"]], \"sequential\": [[0.0, \"#0d0887\"], [0.1111111111111111, \"#46039f\"], [0.2222222222222222, \"#7201a8\"], [0.3333333333333333, \"#9c179e\"], [0.4444444444444444, \"#bd3786\"], [0.5555555555555556, \"#d8576b\"], [0.6666666666666666, \"#ed7953\"], [0.7777777777777778, \"#fb9f3a\"], [0.8888888888888888, \"#fdca26\"], [1.0, \"#f0f921\"]], \"sequentialminus\": [[0.0, \"#0d0887\"], [0.1111111111111111, \"#46039f\"], [0.2222222222222222, \"#7201a8\"], [0.3333333333333333, \"#9c179e\"], [0.4444444444444444, \"#bd3786\"], [0.5555555555555556, \"#d8576b\"], [0.6666666666666666, \"#ed7953\"], [0.7777777777777778, \"#fb9f3a\"], [0.8888888888888888, \"#fdca26\"], [1.0, \"#f0f921\"]]}, \"colorway\": [\"#636efa\", \"#EF553B\", \"#00cc96\", \"#ab63fa\", \"#FFA15A\", \"#19d3f3\", \"#FF6692\", \"#B6E880\", \"#FF97FF\", \"#FECB52\"], \"font\": {\"color\": \"#2a3f5f\"}, \"geo\": {\"bgcolor\": \"white\", \"lakecolor\": \"white\", \"landcolor\": \"#E5ECF6\", \"showlakes\": true, \"showland\": true, \"subunitcolor\": \"white\"}, \"hoverlabel\": {\"align\": \"left\"}, \"hovermode\": \"closest\", \"mapbox\": {\"style\": \"light\"}, \"paper_bgcolor\": \"white\", \"plot_bgcolor\": \"#E5ECF6\", \"polar\": {\"angularaxis\": {\"gridcolor\": \"white\", \"linecolor\": \"white\", \"ticks\": \"\"}, \"bgcolor\": \"#E5ECF6\", \"radialaxis\": {\"gridcolor\": \"white\", \"linecolor\": \"white\", \"ticks\": \"\"}}, \"scene\": {\"xaxis\": {\"backgroundcolor\": \"#E5ECF6\", \"gridcolor\": \"white\", \"gridwidth\": 2, \"linecolor\": \"white\", \"showbackground\": true, \"ticks\": \"\", \"zerolinecolor\": \"white\"}, \"yaxis\": {\"backgroundcolor\": \"#E5ECF6\", \"gridcolor\": \"white\", \"gridwidth\": 2, \"linecolor\": \"white\", \"showbackground\": true, \"ticks\": \"\", \"zerolinecolor\": \"white\"}, \"zaxis\": {\"backgroundcolor\": \"#E5ECF6\", \"gridcolor\": \"white\", \"gridwidth\": 2, \"linecolor\": \"white\", \"showbackground\": true, \"ticks\": \"\", \"zerolinecolor\": \"white\"}}, \"shapedefaults\": {\"line\": {\"color\": \"#2a3f5f\"}}, \"ternary\": {\"aaxis\": {\"gridcolor\": \"white\", \"linecolor\": \"white\", \"ticks\": \"\"}, \"baxis\": {\"gridcolor\": \"white\", \"linecolor\": \"white\", \"ticks\": \"\"}, \"bgcolor\": \"#E5ECF6\", \"caxis\": {\"gridcolor\": \"white\", \"linecolor\": \"white\", \"ticks\": \"\"}}, \"title\": {\"x\": 0.05}, \"xaxis\": {\"automargin\": true, \"gridcolor\": \"white\", \"linecolor\": \"white\", \"ticks\": \"\", \"title\": {\"standoff\": 15}, \"zerolinecolor\": \"white\", \"zerolinewidth\": 2}, \"yaxis\": {\"automargin\": true, \"gridcolor\": \"white\", \"linecolor\": \"white\", \"ticks\": \"\", \"title\": {\"standoff\": 15}, \"zerolinecolor\": \"white\", \"zerolinewidth\": 2}}}, \"title\": {\"text\": \"Price per Sq.ft. Dorado del Mar Change 2008-2019\"}, \"width\": 1000, \"xaxis\": {\"gridcolor\": \"#EEEEEE\", \"tickangle\": -45, \"tickfont\": {\"size\": 9}}, \"yaxis\": {\"gridcolor\": \"#EEEEEE\", \"nticks\": 18}},\n",
       "                        {\"responsive\": true}\n",
       "                    ).then(function(){\n",
       "                            \n",
       "var gd = document.getElementById('6cfcbc04-98a8-4be3-bf97-f27e5f72d6ad');\n",
       "var x = new MutationObserver(function (mutations, observer) {{\n",
       "        var display = window.getComputedStyle(gd).display;\n",
       "        if (!display || display === 'none') {{\n",
       "            console.log([gd, 'removed!']);\n",
       "            Plotly.purge(gd);\n",
       "            observer.disconnect();\n",
       "        }}\n",
       "}});\n",
       "\n",
       "// Listen for the removal of the full notebook cells\n",
       "var notebookContainer = gd.closest('#notebook-container');\n",
       "if (notebookContainer) {{\n",
       "    x.observe(notebookContainer, {childList: true});\n",
       "}}\n",
       "\n",
       "// Listen for the clearing of the current output cell\n",
       "var outputEl = gd.closest('.output');\n",
       "if (outputEl) {{\n",
       "    x.observe(outputEl, {childList: true});\n",
       "}}\n",
       "\n",
       "                        })\n",
       "                };\n",
       "                });\n",
       "            </script>\n",
       "        </div>"
      ]
     },
     "metadata": {},
     "output_type": "display_data"
    }
   ],
   "source": [
    "fig = go.Figure()\n",
    "fig.add_trace(go.Scatter(x= comps_q_sq.index, \n",
    "                         y= comps_q_sq['Price_min'],\n",
    "                         mode='lines+markers',\n",
    "                         name = 'Min Quarter value'\n",
    "                           ))\n",
    "fig.add_trace(go.Scatter(x= comps_q_sq.index, \n",
    "                         y= comps_q_sq['Price_max'],\n",
    "                         mode='lines+markers',\n",
    "                         name = 'Max Quarter value',\n",
    "                         fill='tonexty',fillcolor='rgba(248, 245, 159, 0.1)'\n",
    "                           ))\n",
    "fig.add_trace(go.Scatter(x= comps_q_sq.index, \n",
    "                         y= comps_q_sq['Price_median'],\n",
    "                         mode='lines',\n",
    "                         name = 'Median Quarter value',\n",
    "                         line = dict(shape = 'spline', width=1, dash='dashdot', color='grey')\n",
    "                           ))\n",
    "fig.update_layout(title_text='Price per Sq.ft. Dorado del Mar Change 2008-2019',\n",
    "                  width=1000, height=500, plot_bgcolor='rgba(0,0,0,0)', showlegend=True,\n",
    "                  yaxis=dict(gridcolor='#EEEEEE', nticks=18),\n",
    "                  xaxis=dict(tickangle=-45, gridcolor='#EEEEEE', \n",
    "                             tickfont=dict(size=9)))\n",
    "fig.update_layout(annotations=annotations_min)\n",
    "\n",
    "\n",
    "fig.show()"
   ]
  },
  {
   "cell_type": "markdown",
   "metadata": {},
   "source": [
    "## Forecasting"
   ]
  },
  {
   "cell_type": "code",
   "execution_count": null,
   "metadata": {},
   "outputs": [],
   "source": [
    "plot = comps.set_index('Sale date')\n",
    "plot = plot.sort_values('Sale date')\n",
    "decomposition = seasonal_decompose(plot['Sale price'], model='multiplicative', freq=12)\n",
    "plt.figure(figsize=(20,10))\n",
    "trend = decomposition.trend\n",
    "seasonal = decomposition.seasonal\n",
    "residual = decomposition.resid\n",
    "\n",
    "plt.subplot(411)\n",
    "plt.plot(plot['Sale price'], color = \"#00b8ff\", label = \"Original\")\n",
    "plt.legend(loc='best')\n",
    "plt.subplot(412)\n",
    "plt.plot(trend, 'b', label = \"Trend\")\n",
    "plt.legend(loc='best')\n",
    "plt.subplot(413)\n",
    "plt.plot(seasonal, color = \"#ff00ff\", label = \"Seasonality\")\n",
    "plt.legend(loc='left top')\n",
    "plt.subplot(414)\n",
    "plt.plot(residual, 'y', label = \"Residual\")\n",
    "plt.legend(loc='best')\n",
    "plt.tight_layout()\n",
    "plt.show();"
   ]
  },
  {
   "cell_type": "markdown",
   "metadata": {},
   "source": [
    "### model"
   ]
  },
  {
   "cell_type": "code",
   "execution_count": null,
   "metadata": {},
   "outputs": [],
   "source": [
    "from statsmodels.tsa.stattools import adfuller\n",
    "import itertools\n",
    "import statsmodels.api as sm\n",
    "from statsmodels.tsa.arima_model import ARIMA"
   ]
  },
  {
   "cell_type": "code",
   "execution_count": null,
   "metadata": {},
   "outputs": [],
   "source": [
    "def mean_absolute_percentage_error(y_true, y_pred): \n",
    "    y_true, y_pred = np.array(y_true), np.array(y_pred)\n",
    "    return np.mean(np.abs((y_true - y_pred) / y_true)) * 100"
   ]
  },
  {
   "cell_type": "code",
   "execution_count": null,
   "metadata": {},
   "outputs": [],
   "source": [
    "def evaluate_arima_model(params, step):\n",
    "    model = ARIMA(data_arima['Price_min'], order = params).fit()\n",
    "    pred = model.forecast(step)[0]\n",
    "    pred = pd.DataFrame(pred, columns=['Predict'])\n",
    "    test_data['Forecast'] = pred['Predict'].values\n",
    "    \n",
    "    mape = mean_absolute_percentage_error(test_data['Price_min'], test_data['Forecast'])\n",
    "    \n",
    "    return mape"
   ]
  },
  {
   "cell_type": "code",
   "execution_count": null,
   "metadata": {},
   "outputs": [],
   "source": [
    "def evaluate_models(step, val_range):\n",
    "    best_score, best_params = float(\"inf\"), None\n",
    "\n",
    "    p = d = q = range(val_range)\n",
    "    pdq = list(itertools.product(p, d, q))\n",
    "    for params in pdq:\n",
    "        try:\n",
    "            mape = evaluate_arima_model(params, step)\n",
    "            if mape < best_score:\n",
    "                best_score, best_params = mape, params\n",
    "                print('ARIMA % % MAPE=%.3f' % (params, mape))\n",
    "        except:\n",
    "            continue\n",
    "    print(best_params, best_score)"
   ]
  },
  {
   "cell_type": "code",
   "execution_count": null,
   "metadata": {},
   "outputs": [],
   "source": [
    "def compare_plots(forecast, original, interval):\n",
    "    fig = go.Figure()\n",
    "    fig.add_trace(go.Scatter(x= interval.index, \n",
    "                             y= forecast.values,\n",
    "                             mode='lines',\n",
    "                             name = 'Predict'\n",
    "                               ))\n",
    "    fig.add_trace(go.Scatter(x= interval.index, \n",
    "                             y= original.values,\n",
    "                             mode='lines',\n",
    "                             name = 'Original',\n",
    "                               ))\n",
    "\n",
    "    fig.update_layout(title_text='Predicted vs. Original Plots',\n",
    "                      width=800, height=400, plot_bgcolor='rgba(0,0,0,0)', showlegend=True,\n",
    "                      yaxis=dict(gridcolor='#EEEEEE', nticks=18),\n",
    "                      xaxis=dict(tickangle=-45, gridcolor='#EEEEEE', \n",
    "                                 tickfont=dict(size=9), nticks=50))\n",
    "\n",
    "    fig.show()"
   ]
  },
  {
   "cell_type": "markdown",
   "metadata": {},
   "source": [
    "### quarterly"
   ]
  },
  {
   "cell_type": "code",
   "execution_count": null,
   "metadata": {},
   "outputs": [],
   "source": [
    "comps_q = comps[['Sale price','Sale date']]\n",
    "comps_q = comps_q.set_index('Sale date')\n",
    "comps_q_sq = comps[['Price/area','Sale date']]\n",
    "comps_q_sq = comps_q_sq.set_index('Sale date')"
   ]
  },
  {
   "cell_type": "code",
   "execution_count": null,
   "metadata": {},
   "outputs": [],
   "source": [
    "comps_q.index = pd.DatetimeIndex(comps_q.index).to_period(\"Q\")\n",
    "comps_q_sq.index = pd.DatetimeIndex(comps_q_sq.index).to_period(\"Q\")"
   ]
  },
  {
   "cell_type": "code",
   "execution_count": null,
   "metadata": {},
   "outputs": [],
   "source": [
    "comps_q = comps_q.groupby(pd.Grouper(freq='Q'))['Sale price'].agg(Price_min='min',\n",
    "                                               Price_max='max',\n",
    "                                               Price_median='median')"
   ]
  },
  {
   "cell_type": "code",
   "execution_count": null,
   "metadata": {},
   "outputs": [],
   "source": [
    "comps_q_sq = comps_q_sq.groupby(pd.Grouper(freq='Q'))['Price/area'].agg(Price_min='min',\n",
    "                                               Price_max='max',\n",
    "                                               Price_median='median')"
   ]
  },
  {
   "cell_type": "code",
   "execution_count": null,
   "metadata": {},
   "outputs": [],
   "source": [
    "# filling missed values\n",
    "import math\n",
    "def fill_missed(data):\n",
    "    for i in range(0,data.shape[0]-1):\n",
    "        price_min = data['Price_min'][data['Price_min'].index[i]]\n",
    "        pred_min = data['Price_min'][data['Price_min'].index[i-1]]\n",
    "        next_min = data['Price_min'][data['Price_min'].index[i+1]]\n",
    "    \n",
    "        if math.isnan(price_min) == True:\n",
    "            price_min = (pred_min+next_min)/2\n",
    "            data['Price_min'][data['Price_min'].index[i]] = price_min\n",
    "    \n",
    "        price_max = data['Price_max'][data['Price_max'].index[i]]\n",
    "        pred_max = data['Price_max'][data['Price_max'].index[i-1]]\n",
    "        next_max = data['Price_max'][data['Price_max'].index[i+1]]\n",
    "    \n",
    "        if math.isnan(price_max) == True:\n",
    "            price_max = (pred_max + next_max)/2\n",
    "            data['Price_max'][data['Price_max'].index[i]] = price_max\n",
    "\n",
    "    for i in range(0,data.shape[0]-1):\n",
    "        price_median = data['Price_median'][data['Price_median'].index[i]]\n",
    "        pred_median = data['Price_median'][data['Price_median'].index[i-1]]\n",
    "        next_median = data['Price_median'][data['Price_median'].index[i+1]]\n",
    "    \n",
    "        if math.isnan(price_median) == True:\n",
    "            price_median = (pred_median+next_median)/2\n",
    "            data['Price_median'][data['Price_median'].index[i]] = price_median\n",
    "    return data"
   ]
  },
  {
   "cell_type": "code",
   "execution_count": null,
   "metadata": {},
   "outputs": [],
   "source": [
    "comps_q = fill_missed(comps_q)\n",
    "comps_q_sq = fill_missed(comps_q_sq)"
   ]
  },
  {
   "cell_type": "markdown",
   "metadata": {},
   "source": [
    "### monthly"
   ]
  },
  {
   "cell_type": "code",
   "execution_count": null,
   "metadata": {},
   "outputs": [],
   "source": [
    "comps_months = comps[['Sale price','Sale date']]\n",
    "comps_months = comps_months.set_index('Sale date')\n",
    "comps_months = comps_months.groupby(pd.Grouper(freq='M'))['Sale price'].agg(Price_min='min',\n",
    "                                               Price_max='max',\n",
    "                                               Price_median='median')\n",
    "comps_months_sq = comps[['Price/area','Sale date']]\n",
    "comps_months_sq = comps_months_sq.set_index('Sale date')\n",
    "comps_months_sq = comps_months_sq.groupby(pd.Grouper(freq='M'))['Price/area'].agg(Price_min='min',\n",
    "                                               Price_max='max',\n",
    "                                               Price_median='median')"
   ]
  },
  {
   "cell_type": "code",
   "execution_count": null,
   "metadata": {},
   "outputs": [],
   "source": [
    "def missed_months(data, pred_q):\n",
    "    for i in range(0,data.shape[0]-1):\n",
    "        price_min = data['Price_min'][data['Price_min'].index[i]]\n",
    "        pred_min = data['Price_min'][data['Price_min'].index[i-1]]\n",
    "        next_min = data['Price_min'][data['Price_min'].index[i+1]]\n",
    "    \n",
    "        if math.isnan(pred_min) == True or math.isnan(next_min) == True:\n",
    "            year = data['Price_min'].index[i].year\n",
    "            quarter = data['Price_min'].index[i].quarter\n",
    "            index = str(year)+'Q'+str(quarter)\n",
    "            price_min = pred_q['Price_min'][index]\n",
    "            data['Price_min'][data['Price_min'].index[i]] = price_min\n",
    "        #print (price_min)\n",
    "        else:\n",
    "            price_min = (pred_min+next_min)/2\n",
    "            data['Price_min'][data['Price_min'].index[i]] = price_min\n",
    "        \n",
    "    for i in range(0,data.shape[0]-1):\n",
    "        price_max = data['Price_max'][data['Price_max'].index[i]]\n",
    "        pred_max = data['Price_max'][data['Price_max'].index[i-1]]\n",
    "        next_max = data['Price_max'][data['Price_max'].index[i+1]]\n",
    "    \n",
    "        if math.isnan(pred_max) == True or math.isnan(next_max) == True:\n",
    "            year = data['Price_max'].index[i].year\n",
    "            quarter = data['Price_max'].index[i].quarter\n",
    "            index = str(year)+'Q'+str(quarter)\n",
    "            price_max = pred_q['Price_max'][index]\n",
    "            data['Price_max'][data['Price_max'].index[i]] = price_max\n",
    "            #print (price_max)\n",
    "        else:\n",
    "            price_max = (pred_max+next_max)/2\n",
    "            data['Price_max'][data['Price_max'].index[i]] = price_max\n",
    "\n",
    "    for i in range(0,data.shape[0]-1):\n",
    "        price_median = data['Price_median'][data['Price_median'].index[i]]\n",
    "        pred_median = data['Price_median'][data['Price_median'].index[i-1]]\n",
    "        next_median = data['Price_median'][data['Price_median'].index[i+1]]\n",
    "    \n",
    "        if math.isnan(pred_median) == True or math.isnan(next_median) == True:\n",
    "            year = data['Price_median'].index[i].year\n",
    "            quarter = data['Price_median'].index[i].quarter\n",
    "            index = str(year)+'Q'+str(quarter)\n",
    "            price_median = pred_q['Price_median'][index]\n",
    "            data['Price_median'][data['Price_median'].index[i]] = price_median\n",
    "            #print (price_median)\n",
    "        else:\n",
    "            price_median = (pred_median+next_median)/2\n",
    "            data['Price_median'][data['Price_median'].index[i]] = price_median\n",
    "    return data"
   ]
  },
  {
   "cell_type": "code",
   "execution_count": null,
   "metadata": {},
   "outputs": [],
   "source": [
    "comps_months = missed_months(comps_months, comps_q)"
   ]
  },
  {
   "cell_type": "code",
   "execution_count": null,
   "metadata": {},
   "outputs": [],
   "source": [
    "comps_months_sq = missed_months(comps_months_sq, comps_q_sq)"
   ]
  },
  {
   "cell_type": "markdown",
   "metadata": {},
   "source": [
    "### prophet"
   ]
  },
  {
   "cell_type": "code",
   "execution_count": null,
   "metadata": {},
   "outputs": [],
   "source": [
    "from fbprophet import Prophet\n",
    "from fbprophet.diagnostics import cross_validation\n",
    "from fbprophet.diagnostics import performance_metrics\n",
    "from fbprophet.plot import plot_cross_validation_metric"
   ]
  },
  {
   "cell_type": "code",
   "execution_count": null,
   "metadata": {},
   "outputs": [],
   "source": [
    "steps = 72\n",
    "test_interval = steps #months\n",
    "data_fb = comps_months[0:-test_interval]\n",
    "data_fb.drop(columns=['Price_max','Price_min'], inplace=True)\n",
    "test_data = comps_months[-test_interval:]\n",
    "test_data.drop(columns=['Price_max','Price_min'], inplace=True)\n",
    "data_fb = data_fb.rename(columns={'Price_median':'y'})\n",
    "data_fb['ds'] = data_fb.index\n",
    "test_data = test_data.rename(columns={'Price_median':'y'})\n",
    "test_data['ds'] = test_data.index"
   ]
  },
  {
   "cell_type": "code",
   "execution_count": null,
   "metadata": {},
   "outputs": [],
   "source": [
    "whole_interval = pd.concat([data_fb, test_data], axis=0)"
   ]
  },
  {
   "cell_type": "code",
   "execution_count": null,
   "metadata": {},
   "outputs": [],
   "source": [
    "m = Prophet(weekly_seasonality=False, daily_seasonality=False, yearly_seasonality=True)\n",
    "m.add_seasonality(name='yearly', period=260, fourier_order=5)\n",
    "m.fit(data_fb)\n",
    "future = m.make_future_dataframe(periods=steps, freq='M')\n",
    "forecast = m.predict(future)\n",
    "pred = forecast['yhat'].tail(n=test_interval).values\n",
    "#pred = pred.predicted_mean\n",
    "pred = pd.DataFrame(pred, columns=['Predict'])\n",
    "test_data['Forecast'] = pred['Predict'].values\n",
    "print(mean_absolute_percentage_error(test_data['y'], test_data['Forecast']))\n",
    "compare_plots(test_data['Forecast'], test_data['y'], test_data)"
   ]
  },
  {
   "cell_type": "code",
   "execution_count": null,
   "metadata": {},
   "outputs": [],
   "source": [
    "m = Prophet(weekly_seasonality=False, daily_seasonality=False, yearly_seasonality=True)\n",
    "m.add_seasonality(name='yearly', period=260, fourier_order=5)\n",
    "m.fit(whole_interval)\n",
    "future = m.make_future_dataframe(periods=steps, freq='M')\n",
    "forecast = m.predict(future)\n",
    "pred = forecast['yhat'].tail(n=test_interval).values\n",
    "pred = pd.DataFrame(pred, columns=['y'])\n",
    "pred.index = pd.date_range('2019-03', periods=steps, freq='M')\n",
    "#test_data['Forecast'] = pred['Predict'].values\n",
    "#print(mean_absolute_percentage_error(test_data['y'], test_data['Forecast']))\n",
    "#compare_plots(test_data['Forecast'], test_data['y'], test_data)"
   ]
  },
  {
   "cell_type": "code",
   "execution_count": null,
   "metadata": {},
   "outputs": [],
   "source": [
    "hist_pred = pd.concat([whole_interval, pred], axis=0) "
   ]
  },
  {
   "cell_type": "code",
   "execution_count": null,
   "metadata": {},
   "outputs": [],
   "source": [
    "comps_q_whole = hist_pred.copy()\n",
    "\n",
    "comps_q_whole.index = pd.DatetimeIndex(comps_q_whole.index).to_period(\"Q\")\n",
    "\n",
    "comps_q_whole = comps_q_whole.groupby(pd.Grouper(freq='Q'))['y'].agg(Price_min='min',\n",
    "                                               Price_max='max',\n",
    "                                               Price_median='median')"
   ]
  },
  {
   "cell_type": "code",
   "execution_count": null,
   "metadata": {},
   "outputs": [],
   "source": [
    "min_change = [(comps_q_whole['Price_min'][x+1]-comps_q_whole['Price_min'][x])/comps_q_whole['Price_min'][x]*100 for x in range(comps_q_whole.shape[0]-1)]\n",
    "percent_min = [0]\n",
    "percent_min.extend(min_change)\n",
    "max_change = [(comps_q_whole['Price_max'][x+1]-comps_q_whole['Price_max'][x])/comps_q_whole['Price_max'][x]*100 for x in range(comps_q_whole.shape[0]-1)]\n",
    "percent_max = [0]\n",
    "percent_max.extend(max_change)\n",
    "comps_q_whole['Price_max_change'] = percent_max\n",
    "comps_q_whole['Price_min_change'] = percent_min"
   ]
  },
  {
   "cell_type": "code",
   "execution_count": null,
   "metadata": {},
   "outputs": [],
   "source": [
    "annotations_min=[set_annotation(comps_q_whole, k, comps_q_whole['Price_min'][k], k, 'min') for k in range(comps_q_whole.shape[0])]\n",
    "annotations_max=[set_annotation(comps_q_whole, k, comps_q_whole['Price_max'][k], k, 'max') for k in range(comps_q_whole.shape[0])]\n",
    "annotations_min.extend(annotations_max)"
   ]
  },
  {
   "cell_type": "code",
   "execution_count": null,
   "metadata": {},
   "outputs": [],
   "source": [
    "fig = go.Figure()\n",
    "fig.add_trace(go.Scatter(x= comps_q_whole.loc[:'2019Q1'].index.astype(str), \n",
    "                             y= comps_q_whole.loc[:'2019Q1']['Price_min'].values,\n",
    "                             mode='lines',\n",
    "                             name = 'Original'\n",
    "                               ))\n",
    "fig.add_trace(go.Scatter(x= comps_q_whole.loc[:'2019Q1'].index.astype(str), \n",
    "                             y= comps_q_whole.loc[:'2019Q1']['Price_max'].values,\n",
    "                             mode='lines',\n",
    "                             name = 'Original'\n",
    "                               ))\n",
    "\n",
    "fig.add_trace(go.Scatter(x= comps_q_whole.loc['2019Q1':].index.astype(str), \n",
    "                             y= comps_q_whole.loc['2019Q1':]['Price_max'].values,\n",
    "                             mode='lines',\n",
    "                          line = dict(dash='dash', color='red'),\n",
    "                             name = 'lower_bond',\n",
    "                               ))\n",
    "fig.add_trace(go.Scatter(x= comps_q_whole.loc['2019Q1':].index.astype(str), \n",
    "                             y= comps_q_whole.loc['2019Q1':]['Price_min'].values,\n",
    "                             mode='lines',\n",
    "                          line = dict(dash='dash', color='blue'),\n",
    "                             name = 'lower_bond',\n",
    "                               ))\n",
    "\n",
    "fig.update_layout(title_text='Predicted vs. Original Plots',\n",
    "                      width=1100, height=500, plot_bgcolor='rgba(0,0,0,0)', showlegend=True,\n",
    "                      yaxis=dict(gridcolor='#EEEEEE', nticks=10),\n",
    "                      xaxis=dict(tickangle=-45, gridcolor='#EEEEEE', \n",
    "                                 tickfont=dict(size=9), nticks=50))\n",
    "fig.update_layout(annotations=annotations_min)\n",
    "\n",
    "fig.show()"
   ]
  },
  {
   "cell_type": "code",
   "execution_count": null,
   "metadata": {},
   "outputs": [],
   "source": [
    "2900*80"
   ]
  },
  {
   "cell_type": "markdown",
   "metadata": {},
   "source": [
    "## forecast per sq.ft"
   ]
  },
  {
   "cell_type": "code",
   "execution_count": null,
   "metadata": {},
   "outputs": [],
   "source": [
    "from fbprophet import Prophet\n",
    "from fbprophet.diagnostics import cross_validation\n",
    "from fbprophet.diagnostics import performance_metrics\n",
    "from fbprophet.plot import plot_cross_validation_metric\n",
    "\n",
    "steps = 24\n",
    "test_interval = steps #months\n",
    "data_fb = comps_months_sq[0:-test_interval]\n",
    "data_fb.drop(columns=['Price_max','Price_min'], inplace=True)\n",
    "test_data = comps_months_sq[-test_interval:]\n",
    "test_data.drop(columns=['Price_max','Price_min'], inplace=True)\n",
    "data_fb = data_fb.rename(columns={'Price_median':'y'})\n",
    "data_fb['ds'] = data_fb.index\n",
    "test_data = test_data.rename(columns={'Price_median':'y'})\n",
    "test_data['ds'] = test_data.index\n",
    "\n",
    "whole_interval = pd.concat([data_fb, test_data], axis=0)\n",
    "\n",
    "m = Prophet(weekly_seasonality=False, daily_seasonality=False, yearly_seasonality=True)\n",
    "m.add_seasonality(name='yearly', period=260, fourier_order=5)\n",
    "m.fit(data_fb)\n",
    "future = m.make_future_dataframe(periods=steps, freq='M')\n",
    "forecast = m.predict(future)\n",
    "pred = forecast['yhat'].tail(n=test_interval).values\n",
    "#pred = pred.predicted_mean\n",
    "pred = pd.DataFrame(pred, columns=['Predict'])\n",
    "test_data['Forecast'] = pred['Predict'].values\n",
    "print(mean_absolute_percentage_error(test_data['y'], test_data['Forecast']))\n",
    "compare_plots(test_data['Forecast'], test_data['y'], test_data)"
   ]
  },
  {
   "cell_type": "code",
   "execution_count": null,
   "metadata": {},
   "outputs": [],
   "source": [
    "m = Prophet(weekly_seasonality=False, daily_seasonality=False, yearly_seasonality=True)\n",
    "m.add_seasonality(name='yearly', period=260, fourier_order=5)\n",
    "m.fit(whole_interval)\n",
    "future = m.make_future_dataframe(periods=steps, freq='M')\n",
    "forecast = m.predict(future)\n",
    "pred = forecast['yhat'].tail(n=test_interval).values\n",
    "pred = pd.DataFrame(pred, columns=['y'])\n",
    "pred.index = pd.date_range('2019-03', periods=steps, freq='M')"
   ]
  },
  {
   "cell_type": "code",
   "execution_count": null,
   "metadata": {},
   "outputs": [],
   "source": [
    "hist_pred = pd.concat([whole_interval, pred], axis=0) \n",
    "\n",
    "comps_q_sq_whole = hist_pred.copy()\n",
    "\n",
    "comps_q_sq_whole.index = pd.DatetimeIndex(comps_q_sq_whole.index).to_period(\"Q\")\n",
    "\n",
    "comps_q_sq_whole = comps_q_sq_whole.groupby(pd.Grouper(freq='Q'))['y'].agg(Price_min='min',\n",
    "                                               Price_max='max',\n",
    "                                               Price_median='median')"
   ]
  },
  {
   "cell_type": "code",
   "execution_count": null,
   "metadata": {},
   "outputs": [],
   "source": [
    "min_change = [(comps_q_sq_whole['Price_min'][x+1]-comps_q_sq_whole['Price_min'][x])/comps_q_sq_whole['Price_min'][x]*100 for x in range(comps_q_sq_whole.shape[0]-1)]\n",
    "percent_min = [0]\n",
    "percent_min.extend(min_change)\n",
    "max_change = [(comps_q_sq_whole['Price_max'][x+1]-comps_q_sq_whole['Price_max'][x])/comps_q_sq_whole['Price_max'][x]*100 for x in range(comps_q_sq_whole.shape[0]-1)]\n",
    "percent_max = [0]\n",
    "percent_max.extend(max_change)\n",
    "comps_q_sq_whole['Price_max_change'] = percent_max\n",
    "comps_q_sq_whole['Price_min_change'] = percent_min\n",
    "\n",
    "annotations_min=[set_annotation(comps_q_sq_whole, k, comps_q_sq_whole['Price_min'][k], k, 'min', percent=True) for k in range(comps_q_sq_whole.shape[0])]\n",
    "annotations_max=[set_annotation(comps_q_sq_whole, k, comps_q_sq_whole['Price_max'][k], k, 'max', percent=True) for k in range(comps_q_sq_whole.shape[0])]\n",
    "annotations_min.extend(annotations_max)"
   ]
  },
  {
   "cell_type": "code",
   "execution_count": null,
   "metadata": {},
   "outputs": [],
   "source": [
    "fig = go.Figure()\n",
    "fig.add_trace(go.Scatter(x= comps_q_sq_whole.loc[:'2019Q1'].index.astype(str), \n",
    "                             y= comps_q_sq_whole.loc[:'2019Q1']['Price_min'].values,\n",
    "                             mode='lines',\n",
    "                             name = 'Original'\n",
    "                               ))\n",
    "fig.add_trace(go.Scatter(x= comps_q_sq_whole.loc[:'2019Q1'].index.astype(str), \n",
    "                             y= comps_q_sq_whole.loc[:'2019Q1']['Price_max'].values,\n",
    "                             mode='lines',\n",
    "                             name = 'Original'\n",
    "                               ))\n",
    "\n",
    "fig.add_trace(go.Scatter(x= comps_q_sq_whole.loc['2019Q1':].index.astype(str), \n",
    "                             y= comps_q_sq_whole.loc['2019Q1':]['Price_max'].values,\n",
    "                             mode='lines',\n",
    "                          line = dict(dash='dash', color='red'),\n",
    "                             name = 'lower_bond',\n",
    "                               ))\n",
    "fig.add_trace(go.Scatter(x= comps_q_sq_whole.loc['2019Q1':].index.astype(str), \n",
    "                             y= comps_q_sq_whole.loc['2019Q1':]['Price_min'].values,\n",
    "                             mode='lines',\n",
    "                          line = dict(dash='dash', color='blue'),\n",
    "                             name = 'lower_bond',\n",
    "                               ))\n",
    "\n",
    "fig.update_layout(title_text='Predicted vs. Original Plots',\n",
    "                      width=1150, height=400, plot_bgcolor='rgba(0,0,0,0)', showlegend=True,\n",
    "                      yaxis=dict(gridcolor='#EEEEEE', nticks=10),\n",
    "                      xaxis=dict(tickangle=-45, gridcolor='#EEEEEE', \n",
    "                                 tickfont=dict(size=9), nticks=50))\n",
    "fig.update_layout(annotations=annotations_min)\n",
    "\n",
    "fig.show()"
   ]
  },
  {
   "cell_type": "markdown",
   "metadata": {},
   "source": [
    "# *"
   ]
  },
  {
   "cell_type": "code",
   "execution_count": null,
   "metadata": {},
   "outputs": [],
   "source": [
    "fig = go.Figure()\n",
    "fig.add_trace(go.Scatter(x= test_data.index, \n",
    "                             y= test_data['y'].values,\n",
    "                             mode='lines',\n",
    "                             name = 'Original'\n",
    "                               ))\n",
    "fig.add_trace(go.Scatter(x= test_data.index, \n",
    "                             y= forecast['yhat_lower'].tail(n=test_interval).values,\n",
    "                             mode='lines',\n",
    "                          line = dict(dash='dash'),\n",
    "                             name = 'lower_bond',\n",
    "                               ))\n",
    "\n",
    "fig.add_trace(go.Scatter(x= test_data.index, \n",
    "                             y= forecast['yhat_upper'].tail(n=test_interval).values,\n",
    "                             mode='lines',\n",
    "                             line = dict(dash='dash'),\n",
    "                         \n",
    "                             name = 'upper_bond',\n",
    "                               ))\n",
    "\n",
    "fig.update_layout(title_text='Predicted vs. Original Plots',\n",
    "                      width=800, height=400, plot_bgcolor='rgba(0,0,0,0)', showlegend=True,\n",
    "                      yaxis=dict(gridcolor='#EEEEEE', nticks=18),\n",
    "                      xaxis=dict(tickangle=-45, gridcolor='#EEEEEE', \n",
    "                                 tickfont=dict(size=9), nticks=50))"
   ]
  },
  {
   "cell_type": "code",
   "execution_count": null,
   "metadata": {},
   "outputs": [],
   "source": [
    "df_cv = cross_validation(m, initial='1500 days', period='180 days', horizon = '720 days')\n",
    "df_cv.head()"
   ]
  },
  {
   "cell_type": "code",
   "execution_count": null,
   "metadata": {},
   "outputs": [],
   "source": [
    "df_p = performance_metrics(df_cv)"
   ]
  },
  {
   "cell_type": "code",
   "execution_count": null,
   "metadata": {},
   "outputs": [],
   "source": [
    "fig = go.Figure()\n",
    "fig.add_trace(go.Scatter(x= df_p['horizon'].values, \n",
    "                             y= df_p['mape'].values,\n",
    "                             mode='lines',\n",
    "                             name = 'Original'\n",
    "                               ))\n",
    "\n",
    "fig.update_layout(title_text='Predicted vs. Original Plots',\n",
    "                      width=800, height=400, plot_bgcolor='rgba(0,0,0,0)', showlegend=True,\n",
    "                      yaxis=dict(gridcolor='#EEEEEE', nticks=18),\n",
    "                      xaxis=dict(tickangle=-45, gridcolor='#EEEEEE', \n",
    "                                 tickfont=dict(size=9), nticks=50))"
   ]
  },
  {
   "cell_type": "code",
   "execution_count": null,
   "metadata": {},
   "outputs": [],
   "source": [
    "df_cv.shape, data_fb.shape, df_p.shape"
   ]
  },
  {
   "cell_type": "markdown",
   "metadata": {},
   "source": [
    "# Dorado"
   ]
  },
  {
   "cell_type": "code",
   "execution_count": null,
   "metadata": {},
   "outputs": [],
   "source": [
    "dorado = pd.read_csv('Dorado 2000-2020.csv')"
   ]
  },
  {
   "cell_type": "markdown",
   "metadata": {},
   "source": [
    "## Postprocessing"
   ]
  },
  {
   "cell_type": "code",
   "execution_count": null,
   "metadata": {},
   "outputs": [],
   "source": [
    "cols = ['Municipality','Community', 'Property id', 'Address/Unit', 'Street','GLA(feet)', 'Rooms', \n",
    "        'Bedrooms', 'Bathrooms','Full bath', 'Half bath', 'Site(meters)', 'Garage', 'Stories', 'Units',  \n",
    "        'Building type', 'Cons. Type','Conditions','Actual age', 'Efective Age',  'Extras', 'Sale price',   \n",
    "        'Sale date','Appraisal value', 'Appraisal date',  'Opinion of site value', 'Marketing time',  \n",
    "        'Days on market', 'Prior sale date', 'Prior sale price', 'Latitud','Longitud','Zoning'\n",
    "        ]"
   ]
  },
  {
   "cell_type": "code",
   "execution_count": null,
   "metadata": {},
   "outputs": [],
   "source": [
    "dorado = dorado[cols]"
   ]
  },
  {
   "cell_type": "code",
   "execution_count": null,
   "metadata": {},
   "outputs": [],
   "source": [
    "# id\n",
    "dorado['Property id'] = dorado['Property id'].str.split('ID: ', expand=True)[1]\n",
    "# address\n",
    "dorado['Address/Unit'] = dorado['Street'] + ', ' + dorado['Address/Unit']\n",
    "# price\n",
    "for col in ['Sale price', 'Appraisal value','Opinion of site value','Prior sale price','GLA(feet)']:\n",
    "    dorado[col] = dorado[col].str.replace('\\$','').str.replace(',','')\n",
    "    dorado[col] = dorado[col].replace({'':np.nan})\n",
    "#for cols in ['Sale date']:\n",
    "   # dorado[col] = pd.to_datetime(dorado[col])"
   ]
  },
  {
   "cell_type": "code",
   "execution_count": null,
   "metadata": {},
   "outputs": [],
   "source": [
    "dorado['Sale date'] = pd.to_datetime(dorado['Sale date'])\n"
   ]
  },
  {
   "cell_type": "code",
   "execution_count": null,
   "metadata": {},
   "outputs": [],
   "source": [
    "dorado.shape"
   ]
  },
  {
   "cell_type": "code",
   "execution_count": null,
   "metadata": {},
   "outputs": [],
   "source": [
    "# to floats\n",
    "for col in ['Bedrooms','Sale price', 'Appraisal value','Opinion of site value','Prior sale price'\n",
    "           ,'Bathrooms','GLA(feet)']:\n",
    "    dorado[col] = dorado[col].astype('float')"
   ]
  },
  {
   "cell_type": "code",
   "execution_count": null,
   "metadata": {},
   "outputs": [],
   "source": [
    "#dorado.to_excel('Dorado_city_price_history.xlsx')"
   ]
  },
  {
   "cell_type": "markdown",
   "metadata": {},
   "source": [
    "## comps"
   ]
  },
  {
   "cell_type": "code",
   "execution_count": null,
   "metadata": {},
   "outputs": [],
   "source": [
    "comps_dorado = dorado[(dorado['Bedrooms'] >=3) & \n",
    "               (dorado['Bathrooms'] >=2) &\n",
    "               (dorado['GLA(feet)'] >=2000) &\n",
    "               (dorado['GLA(feet)'] <=5000) &\n",
    "               (dorado['Sale price'] <=1000000)\n",
    "              ]"
   ]
  },
  {
   "cell_type": "code",
   "execution_count": null,
   "metadata": {},
   "outputs": [],
   "source": [
    "comps_dorado.shape"
   ]
  },
  {
   "cell_type": "code",
   "execution_count": null,
   "metadata": {},
   "outputs": [],
   "source": [
    "fig = go.Figure()\n",
    "fig.add_trace(go.Histogram(x=del_mar_full['Sale price'], xbins_size=50000, marker_color='blue', name='whole community'))\n",
    "fig.add_trace(go.Histogram(x=comps_dorado['Sale price'], xbins_size=50000, marker_color='red', name='comps'))\n",
    "fig.update_layout(width=800, height=350)\n",
    "fig.show()"
   ]
  },
  {
   "cell_type": "code",
   "execution_count": null,
   "metadata": {},
   "outputs": [],
   "source": [
    "comps_dorado['Sale date Year'] = comps_dorado['Sale date'].apply(lambda x: x.year)\n",
    "comps_dorado['Sale date Quarter'] = comps_dorado['Sale date'].apply(lambda x: x.quarter)\n",
    "comps_dorado['Sale date Year-Quarter'] = comps_dorado['Sale date Year'].astype(str) +' Q'+ comps_dorado['Sale date Quarter'].astype(str) "
   ]
  },
  {
   "cell_type": "markdown",
   "metadata": {},
   "source": [
    "### sales volume"
   ]
  },
  {
   "cell_type": "code",
   "execution_count": null,
   "metadata": {},
   "outputs": [],
   "source": [
    "sales_volume_mar_comps = comps.groupby('Sale date Year-Quarter')['Sale price'].count()\n",
    "sales_volume_mar_comps = pd.DataFrame(sales_volume_mar_comps ).rename(columns={'Sale price':'Volume'})\n",
    "\n",
    "del_mar_full = del_mar_full.sort_values('Sale date Year-Quarter')\n",
    "sales_volume_mar = del_mar_full.groupby('Sale date Year-Quarter')['Sale price'].count()\n",
    "sales_volume_mar = pd.DataFrame(sales_volume_mar).rename(columns={'Sale price':'Volume'})\n",
    "\n",
    "comps_dorado = comps_dorado.sort_values('Sale date Year-Quarter')\n",
    "sales_volume_dorado_comps = comps_dorado.groupby('Sale date Year-Quarter')['Sale price'].count()\n",
    "sales_volume_dorado_comps = pd.DataFrame(sales_volume_dorado_comps ).rename(columns={'Sale price':'Volume'})\n",
    "\n",
    "#sales_volume['Sale price'] = [x/400*100 for x in sales_volume['Sale price']]"
   ]
  },
  {
   "cell_type": "code",
   "execution_count": null,
   "metadata": {},
   "outputs": [],
   "source": [
    "sales_volume_mar_comps.index"
   ]
  },
  {
   "cell_type": "code",
   "execution_count": null,
   "metadata": {},
   "outputs": [],
   "source": [
    "fig = go.Figure()\n",
    "fig.add_trace(go.Scatter(x= sales_volume_dorado_comps.index, \n",
    "                         y= sales_volume_dorado_comps['Volume'],\n",
    "                         mode='markers',\n",
    "                         name = 'Dorado (comps)',\n",
    "                         marker=dict(size=10, opacity=0.6)\n",
    "                           ))\n",
    "fig.add_trace(go.Scatter(x= sales_volume_mar_comps.index, \n",
    "                         y= sales_volume_mar_comps['Volume'],\n",
    "                         mode='markers',\n",
    "                         name = 'Dorado del Mar (comps)',\n",
    "                         marker=dict(size=10, opacity=0.6)\n",
    "                           ))\n",
    "fig.add_trace(go.Scatter(x= sales_volume_mar.index, \n",
    "                         y= sales_volume_mar['Volume'],\n",
    "                         mode='markers',\n",
    "                         name = 'Dorado del Mar',\n",
    "                         marker=dict(size=10, opacity=0.6)\n",
    "                           ))\n",
    "\n",
    "\n",
    "\n",
    "fig.update_layout(title_text='Price per Sq.ft. Dorado del Mar Change 2008-2019',\n",
    "                  width=1200, height=300, plot_bgcolor='rgba(0,0,0,0)', showlegend=True,\n",
    "                  yaxis=dict(gridcolor='#EEEEEE', nticks=10),\n",
    "                  xaxis=dict(tickangle=-45, gridcolor='#EEEEEE', \n",
    "                             tickfont=dict(size=9)))\n",
    "\n",
    "fig.show()"
   ]
  },
  {
   "cell_type": "code",
   "execution_count": null,
   "metadata": {},
   "outputs": [],
   "source": [
    "### sales volume\n",
    "\n",
    "sales_volume_mar_comps = comps.groupby('Sale date Year-Quarter')['Sale price'].count()\n",
    "sales_volume_mar_comps = pd.DataFrame(sales_volume_mar_comps ).rename(columns={'Sale price':'Volume'})\n",
    "\n",
    "del_mar_full = del_mar_full.sort_values('Sale date Year-Quarter')\n",
    "sales_volume_dorado = del_mar_full.groupby('Sale date Year-Quarter')['Sale price'].count()\n",
    "sales_volume_dorado = pd.DataFrame(sales_volume_dorado).rename(columns={'Sale price':'Volume'})\n",
    "\n",
    "\n",
    "#sales_volume['Sale price'] = [x/400*100 for x in sales_volume['Sale price']]\n",
    "\n",
    "fig = go.Figure()\n",
    "fig.add_trace(go.Scatter(x= sales_volume_mar_comps.index, \n",
    "                         y= sales_volume_mar_comps['Volume'],\n",
    "                         mode='markers',\n",
    "                         name = 'Dorado del Mar',\n",
    "                         marker=dict(size=10, opacity=0.6)\n",
    "                           ))\n",
    "fig.add_trace(go.Scatter(x= sales_volume_dorado.index, \n",
    "                         y= sales_volume_dorado['Volume'],\n",
    "                         mode='markers',\n",
    "                         name = 'Dorado',\n",
    "                         marker=dict(size=10, opacity=0.6)\n",
    "                           ))\n",
    "\n",
    "\n",
    "\n",
    "fig.update_layout(title_text='Price per Sq.ft. Dorado del Mar Change 2008-2019',\n",
    "                  width=1200, height=300, plot_bgcolor='rgba(0,0,0,0)', showlegend=True,\n",
    "                  yaxis=dict(gridcolor='#EEEEEE', nticks=10),\n",
    "                  xaxis=dict(tickangle=-45, gridcolor='#EEEEEE', \n",
    "                             tickfont=dict(size=9)))\n",
    "\n",
    "fig.show()"
   ]
  },
  {
   "cell_type": "code",
   "execution_count": null,
   "metadata": {},
   "outputs": [],
   "source": []
  },
  {
   "cell_type": "code",
   "execution_count": null,
   "metadata": {},
   "outputs": [],
   "source": [
    "comps_quarters = comps.groupby('Sale date Year-Quarter')['Sale price'].agg(Price_min='min', \n",
    "                                                                          Price_max='max', \n",
    "                                                                          Price_median='median')\n",
    "comps_quarters = pd.DataFrame(comps_quarters)"
   ]
  },
  {
   "cell_type": "code",
   "execution_count": null,
   "metadata": {},
   "outputs": [],
   "source": [
    "comps_quarters['Price_max'].sum()/comps_quarters.shape[0]"
   ]
  },
  {
   "cell_type": "code",
   "execution_count": null,
   "metadata": {},
   "outputs": [],
   "source": [
    "min_change = [(comps_quarters['Price_min'][x+1]-comps_quarters['Price_min'][x])/comps_quarters['Price_min'][x]*100 for x in range(comps_quarters.shape[0]-1)]\n",
    "percent_min = [0]\n",
    "percent_min.extend(min_change)\n",
    "max_change = [(comps_quarters['Price_max'][x+1]-comps_quarters['Price_max'][x])/comps_quarters['Price_max'][x]*100 for x in range(comps_quarters.shape[0]-1)]\n",
    "percent_max = [0]\n",
    "percent_max.extend(max_change)\n",
    "comps_quarters['Price_max_change'] = percent_max\n",
    "comps_quarters['Price_min_change'] = percent_min"
   ]
  },
  {
   "cell_type": "code",
   "execution_count": null,
   "metadata": {},
   "outputs": [],
   "source": [
    "annotations_min=[set_annotation(k, comps_quarters['Price_min'][k], k, 'min') for k in range(comps_quarters.shape[0])]\n",
    "annotations_max=[set_annotation(k, comps_quarters['Price_max'][k], k, 'max') for k in range(comps_quarters.shape[0])]\n",
    "annotations_min.extend(annotations_max)"
   ]
  },
  {
   "cell_type": "code",
   "execution_count": null,
   "metadata": {},
   "outputs": [],
   "source": [
    "fig = go.Figure()\n",
    "fig.add_trace(go.Scatter(x= comps_quarters.index, \n",
    "                         y= comps_quarters['Price_min'],\n",
    "                         mode='lines+markers',\n",
    "                         marker_color='blue',\n",
    "                         name = 'Min Quarter value',\n",
    "                        ),\n",
    "             )\n",
    "fig.add_trace(go.Scatter(x= comps_quarters.index, \n",
    "                         y= comps_quarters['Price_max'],\n",
    "                         mode='lines+markers',\n",
    "                         marker_color='red',\n",
    "                         name = 'Max Quarter value',\n",
    "                         fill='tonexty',fillcolor='rgba(248, 245, 159, 0.1)'))\n",
    "fig.add_trace(go.Scatter(x= comps_quarters.index, \n",
    "                         y= comps_quarters['Price_median'],\n",
    "                         mode='lines',\n",
    "                         name = 'Median Quarter value',\n",
    "                         line = dict(shape = 'spline', width=1, dash='dashdot', color='grey')\n",
    "                           ))\n",
    "fig.update_layout(title_text='Price change Dorado Municipality 2008-2019',\n",
    "                  width=1200, height=500, plot_bgcolor='rgba(0,0,0,0)', showlegend=True,\n",
    "                  yaxis=dict(gridcolor='#EEEEEE', nticks=18),\n",
    "                  xaxis=dict(tickangle=-45, gridcolor='#EEEEEE', \n",
    "                             tickfont=dict(size=9)))\n",
    "fig.update_layout(annotations=annotations_min)\n",
    "fig.show()"
   ]
  },
  {
   "cell_type": "code",
   "execution_count": null,
   "metadata": {},
   "outputs": [],
   "source": [
    "import plotly.offline\n",
    "plotly.offline.plot(fig, filename = 'filename.html', auto_open=False)"
   ]
  },
  {
   "cell_type": "code",
   "execution_count": null,
   "metadata": {},
   "outputs": [],
   "source": [
    "comps['Price/area'] = comps['Sale price']/comps['GLA(feet)']"
   ]
  },
  {
   "cell_type": "code",
   "execution_count": null,
   "metadata": {},
   "outputs": [],
   "source": [
    "comps_quarters = comps.groupby('Sale date Year-Quarter')['Price/area'].agg(Price_min='min', \n",
    "                                                                          Price_max='max', \n",
    "                                                                          Price_median='median')\n",
    "comps_quarters = pd.DataFrame(comps_quarters)"
   ]
  },
  {
   "cell_type": "code",
   "execution_count": null,
   "metadata": {},
   "outputs": [],
   "source": [
    "min_change = [(comps_quarters['Price_min'][x+1]-comps_quarters['Price_min'][x])/comps_quarters['Price_min'][x]*100 for x in range(comps_quarters.shape[0]-1)]\n",
    "percent_min = [0]\n",
    "percent_min.extend(min_change)\n",
    "max_change = [(comps_quarters['Price_max'][x+1]-comps_quarters['Price_max'][x])/comps_quarters['Price_max'][x]*100 for x in range(comps_quarters.shape[0]-1)]\n",
    "percent_max = [0]\n",
    "percent_max.extend(max_change)\n",
    "comps_quarters['Price_max_change'] = percent_max\n",
    "comps_quarters['Price_min_change'] = percent_min"
   ]
  },
  {
   "cell_type": "code",
   "execution_count": null,
   "metadata": {},
   "outputs": [],
   "source": [
    "annotations_min=[set_annotation(k, comps_quarters['Price_min'][k], k, 'min', percent=True) for k in range(comps_quarters.shape[0])]\n",
    "annotations_max=[set_annotation(k, comps_quarters['Price_max'][k], k, 'max', percent=True) for k in range(comps_quarters.shape[0])]\n",
    "annotations_min.extend(annotations_max)"
   ]
  },
  {
   "cell_type": "code",
   "execution_count": null,
   "metadata": {},
   "outputs": [],
   "source": [
    "fig = go.Figure()\n",
    "fig.add_trace(go.Scatter(x= comps_quarters.index, \n",
    "                         y= comps_quarters['Price_min'],\n",
    "                         mode='lines+markers',\n",
    "                         name = 'Min Quarter value'\n",
    "                           ))\n",
    "fig.add_trace(go.Scatter(x= comps_quarters.index, \n",
    "                         y= comps_quarters['Price_max'],\n",
    "                         mode='lines+markers',\n",
    "                         name = 'Max Quarter value',\n",
    "                         fill='tonexty',fillcolor='rgba(248, 245, 159, 0.1)'\n",
    "                           ))\n",
    "fig.add_trace(go.Scatter(x= comps_quarters.index, \n",
    "                         y= comps_quarters['Price_median'],\n",
    "                         mode='lines',\n",
    "                         name = 'Median Quarter value',\n",
    "                         line = dict(shape = 'spline', width=1, dash='dashdot', color='grey')\n",
    "                           ))\n",
    "fig.update_layout(title_text='Price per Sq.ft. Dorado Change 2008-2019',\n",
    "                  width=1000, height=500, plot_bgcolor='rgba(0,0,0,0)', showlegend=True,\n",
    "                  yaxis=dict(gridcolor='#EEEEEE', nticks=18),\n",
    "                  xaxis=dict(tickangle=-45, gridcolor='#EEEEEE', \n",
    "                             tickfont=dict(size=9)))\n",
    "fig.update_layout(annotations=annotations_min)\n",
    "\n",
    "\n",
    "fig.show()"
   ]
  },
  {
   "cell_type": "markdown",
   "metadata": {},
   "source": [
    "# Current Market"
   ]
  },
  {
   "cell_type": "code",
   "execution_count": null,
   "metadata": {},
   "outputs": [],
   "source": [
    "import requests\n",
    "from bs4 import BeautifulSoup\n",
    "\n",
    "url = \"https://www.realtor.com/realestateandhomes-detail/H-5-Medusa_Dorado_PR_00646_M94193-76867\"\n",
    "r = requests.get(url)\n",
    "content = r.content\n",
    "soup = BeautifulSoup(content, \"html.parser\")"
   ]
  },
  {
   "cell_type": "code",
   "execution_count": null,
   "metadata": {},
   "outputs": [],
   "source": [
    "import cfscrape\n",
    "from lxml import etree"
   ]
  },
  {
   "cell_type": "code",
   "execution_count": null,
   "metadata": {},
   "outputs": [],
   "source": [
    "import requests\n",
    "def telegram_bot_sendtext(bot_message,token,chatid):\n",
    "    bot_token = token\n",
    "    bot_chatID = chatid\n",
    "    send_text = 'https://api.telegram.org/bot' + bot_token + '/sendMessage?chat_id=' + bot_chatID + '&parse_mode=Markdown&text=' + bot_message\n",
    "    response = requests.get(send_text)\n",
    "    return response.json()['ok']"
   ]
  },
  {
   "cell_type": "code",
   "execution_count": null,
   "metadata": {},
   "outputs": [],
   "source": [
    "telegram_key = '856344749:AAF5bInzIqtvWbcaeXSlZtLPys6E6zafcto'\n"
   ]
  },
  {
   "cell_type": "code",
   "execution_count": null,
   "metadata": {},
   "outputs": [],
   "source": [
    "telegram_bot_sendtext(\"zdras'te\", telegram_key,'188524609')\n"
   ]
  },
  {
   "cell_type": "code",
   "execution_count": null,
   "metadata": {},
   "outputs": [],
   "source": [
    "header = {'Accept': 'text/html,application/xhtml+xml,application/xml;q=0.9',\n",
    "          'Accept-Encoding': 'gzip, deflate, sdch',\n",
    "          'Accept-Language' : 'nl-NL,nl;q=0.8,en-US;q=0.6,en;q=0.4',\n",
    "          'Cache-Control' : 'max-age=0',\n",
    "          'Connection': 'keep-alive',\n",
    "          'User-Agent': 'Mozilla/5.0 (X11; Linux x86_64) AppleWebKit/537.36 (KHTML, like Gecko) Chrome/43.0.2357.81 Safari/537.36'}"
   ]
  },
  {
   "cell_type": "code",
   "execution_count": null,
   "metadata": {},
   "outputs": [],
   "source": [
    "scraper = cfscrape.create_scraper()\n",
    "url = \"https://www.realtor.com/realestateandhomes-detail/G03-Calle-Madre-Perla_Dorado_PR_00646_M98687-17719\"\n",
    "scraped_html=scraper.get(url,headers=header).content\n",
    "html = etree.HTML(scraped_html)"
   ]
  },
  {
   "cell_type": "markdown",
   "metadata": {},
   "source": [
    "#### parsing"
   ]
  },
  {
   "cell_type": "markdown",
   "metadata": {},
   "source": [
    "#### links"
   ]
  },
  {
   "cell_type": "code",
   "execution_count": null,
   "metadata": {},
   "outputs": [],
   "source": [
    "url ='https://www.realtor.com/realestateandhomes-search/00646?pos=18.465155,-66.289702,18.486036,-66.251078,15'\n",
    "scraped_html_main =scraper.get(url,headers=header).content\n",
    "html_main = etree.HTML(scraped_html_main)\n",
    "links_pre = html_main.xpath('//*[@id=\"srp-list\"]/ul//@href')\n",
    "links=[]\n",
    "for i in range(0, len(links_pre)):\n",
    "    \n",
    "    if '/realestateandhomes' in links_pre[i] and links_pre[i] not in links:\n",
    "        links.append(links_pre[i])"
   ]
  },
  {
   "cell_type": "markdown",
   "metadata": {},
   "source": [
    "#### features"
   ]
  },
  {
   "cell_type": "code",
   "execution_count": null,
   "metadata": {},
   "outputs": [],
   "source": [
    "features = html.xpath('//*[@id=\"ldp-property-meta\"]/ul//text()')\n",
    "main_features = []\n",
    "for i in range(0, len(features)):\n",
    "    features[i] = re.sub(\"\\n+|\\r+|\\t+\", \"\",  features[i])\n",
    "    features[i] = re.sub(\"\\s\\s+|,\", \"\",  features[i])\n",
    "    if len(features[i]) != 0:\n",
    "        main_features.append(features[i])\n",
    "main_features = main_features[::2]\n",
    "main_features #'beds', 'baths', 'living area', 'sqft lot'        "
   ]
  },
  {
   "cell_type": "code",
   "execution_count": null,
   "metadata": {},
   "outputs": [],
   "source": [
    "features"
   ]
  },
  {
   "cell_type": "code",
   "execution_count": null,
   "metadata": {},
   "outputs": [],
   "source": [
    "facts_pre = html.xpath('//*[@id=\"key-fact-carousel\"]/ul//text()')\n",
    "facts = []\n",
    "for i in range(0, len(facts_pre)):\n",
    "    facts_pre[i] = re.sub(\"\\n+|\\r+|\\t+\", \"\",  facts_pre[i])\n",
    "    facts_pre[i] = re.sub(\"\\s\\s+\", \"\",  facts_pre[i])\n",
    "    if len(facts_pre[i]) != 0 and facts_pre[i] != '®':\n",
    "        facts.append(facts_pre[i])\n",
    "facts = facts[1::2]\n",
    "facts #['Status', 'Price/Sq Ft', 'On realtor.com', 'Type', 'Built']        "
   ]
  },
  {
   "cell_type": "code",
   "execution_count": null,
   "metadata": {},
   "outputs": [],
   "source": [
    "price = html.xpath('//*[@id=\"ldp-pricewrap\"]/div/div/span/text()')\n",
    "price = re.sub(\"\\n+|\\r+|\\t+|\\$|,\", \"\",  price[0])\n",
    "price = re.sub(\"\\s\\s+\", \"\",  price)\n",
    "price"
   ]
  },
  {
   "cell_type": "code",
   "execution_count": null,
   "metadata": {},
   "outputs": [],
   "source": [
    "address_pre = html.xpath('//*[@id=\"ldp-address\"]/h1//text()')\n",
    "for i in range(0, len(address_pre)):\n",
    "    address_pre[i] = re.sub(\"\\n+|\\r+|\\t+\", \"\",  address_pre[i])\n",
    "    address_pre[i] = re.sub(\"\\s\\s+\", \"\",  address_pre[i])\n",
    "address = [x + ' ' for x in address_pre[1::2]]\n",
    "address = ''.join(address)\n",
    "address = re.sub(\"Dorado PR 00646 \", \"Dorado, PR, 00646\",  address)\n",
    "address\n"
   ]
  },
  {
   "cell_type": "code",
   "execution_count": null,
   "metadata": {},
   "outputs": [],
   "source": [
    "lot_descr = html.xpath('//*[@id=\"load-more-features\"]/div[4]/div[1]/ul/li/text()')\n",
    "lot_descr = re.findall('(?<=Lot Description: ).*', lot_descr[0])\n",
    "lot_descr"
   ]
  },
  {
   "cell_type": "code",
   "execution_count": null,
   "metadata": {},
   "outputs": [],
   "source": [
    "park_features = html.xpath('//*[@id=\"load-more-features\"]/div[5]/div[1]/ul/li/text()')\n",
    "park_features = re.findall('(?<=Parking Features: ).*', park_features[0])\n",
    "park_features"
   ]
  },
  {
   "cell_type": "code",
   "execution_count": null,
   "metadata": {},
   "outputs": [],
   "source": [
    "pre_total_park = html.xpath('//*[@id=\"load-more-features\"]/div[5]/div[2]//text()')\n",
    "total_park = []\n",
    "for i in range(0, len(pre_total_park)):\n",
    "    pre_total_park[i] = re.sub(\"\\n+|\\r+|\\t+\", \"\",  pre_total_park[i])\n",
    "    pre_total_park[i] = re.sub(\"\\s\\s+\", \"\",  pre_total_park[i])\n",
    "    if len(pre_total_park[i]) != 0:\n",
    "        pre_total_park[i] = re.findall('(?<=Parking Total: ).*', pre_total_park[i])[0]\n",
    "        total_park.append(pre_total_park[i])\n",
    "total_park"
   ]
  },
  {
   "cell_type": "code",
   "execution_count": null,
   "metadata": {},
   "outputs": [],
   "source": [
    "coordinates = html.xpath('//*[@id=\"load-more-features\"]/div[7]/div[1]/ul/li[2]/text()')\n",
    "coordinates = re.findall('(?<=Directions: Coordinates: ).*', coordinates[0])[0].split(', ')\n",
    "coordinates"
   ]
  },
  {
   "cell_type": "code",
   "execution_count": null,
   "metadata": {},
   "outputs": [],
   "source": [
    "pd.DataFrame({'address':address,\n",
    "              'price':price,\n",
    "              'beds':main_features[0],\n",
    "              'baths':main_features[1],\n",
    "              'living area':main_features[2],\n",
    "              'lot area':main_features[3],\n",
    "              'extra':lot_descr[0],\n",
    "              'status':facts[0],\n",
    "              'days on market':facts[2],\n",
    "              'property type':facts[3],\n",
    "              'parking':park_features[0],\n",
    "              'parking lots':total_park[0], \n",
    "              'year built':facts[4],\n",
    "              'lat':coordinates[0],\n",
    "              'lon':coordinates[1]\n",
    "             }, index=[0])"
   ]
  },
  {
   "cell_type": "markdown",
   "metadata": {},
   "source": [
    "#### *all in one place*"
   ]
  },
  {
   "cell_type": "code",
   "execution_count": null,
   "metadata": {},
   "outputs": [],
   "source": [
    "from random import randint\n",
    "from time import sleep"
   ]
  },
  {
   "cell_type": "code",
   "execution_count": null,
   "metadata": {},
   "outputs": [],
   "source": [
    "table=pd.DataFrame([])\n",
    "for n,j in enumerate(links[9:10]):\n",
    "    url = 'https://www.realtor.com'+j\n",
    "    print(url)\n",
    "    sleep(randint(7,12))\n",
    "    scraped_html=scraper.get(url,headers=header).content\n",
    "    html = etree.HTML(scraped_html)\n",
    "    \n",
    "    features = html.xpath('//*[@id=\"ldp-property-meta\"]/ul//text()')\n",
    "    main_features = []\n",
    "    for i in range(0, len(features)):\n",
    "        features[i] = re.sub(\"\\n+|\\r+|\\t+\", \"\",  features[i])\n",
    "        features[i] = re.sub(\"\\s\\s+|,\", \"\",  features[i])\n",
    "        if len(features[i]) != 0:\n",
    "            main_features.append(features[i])\n",
    "    main_features = main_features[::2]\n",
    "\n",
    "    price = html.xpath('//*[@id=\"ldp-pricewrap\"]/div/div/span/text()')\n",
    "    if len(price) > 0:\n",
    "        price = re.sub(\"\\n+|\\r+|\\t+|\\$|,\", \"\",  price[0])\n",
    "        price = re.sub(\"\\s\\s+\", \"\",  price)\n",
    "    else:\n",
    "        price='-'\n",
    "\n",
    "\n",
    "    address_pre = html.xpath('//*[@id=\"ldp-address\"]/h1//text()')\n",
    "    for i in range(0, len(address_pre)):\n",
    "        address_pre[i] = re.sub(\"\\n+|\\r+|\\t+\", \"\",  address_pre[i])\n",
    "        address_pre[i] = re.sub(\"\\s\\s+\", \"\",  address_pre[i])\n",
    "    address = [x + ' ' for x in address_pre[1::2]]\n",
    "    address = ''.join(address)\n",
    "    address = re.sub(\"Dorado PR 00646 \", \"Dorado, PR, 00646\",  address)\n",
    "    \n",
    "    row = pd.DataFrame({'address':address,\n",
    "              'price':price,\n",
    "              'beds':main_features[0],\n",
    "              'baths':main_features[1],\n",
    "              'living area':main_features[2],\n",
    "              #'lot area':main_features[3],\n",
    "              #'extra':lot_descr,\n",
    "              #'status':facts[0],\n",
    "              #'days on market':facts[2],\n",
    "              #'property type':facts[3],\n",
    "              #'parking':park_features,\n",
    "              #'parking lots':total_park, \n",
    "              #'year built':facts[4],\n",
    "              #'coordinates':coordinates,\n",
    "              'url':url\n",
    "              #'lon':coordinates[1]\n",
    "             }, index=[n])\n",
    "    \n",
    "    table = pd.concat([table, row])"
   ]
  },
  {
   "cell_type": "markdown",
   "metadata": {},
   "source": [
    "## Classificado"
   ]
  },
  {
   "cell_type": "code",
   "execution_count": null,
   "metadata": {},
   "outputs": [],
   "source": [
    "import requests\n",
    "from bs4 import BeautifulSoup\n",
    "\n",
    "url = \"https://www.clasificadosonline.com/UDREListing.asp?RESPueblos=&Category=%25&LowPrice=0&HighPrice=999999999&Bedrooms=%25&Area=Dorado+del+Mar&Submit2=Search+without+repossessed\"\n",
    "r = requests.get(url)\n",
    "content = r.content\n",
    "soup = BeautifulSoup(content, \"html.parser\")"
   ]
  },
  {
   "cell_type": "code",
   "execution_count": null,
   "metadata": {},
   "outputs": [],
   "source": [
    "#table = soup.findAll(attrs={'class':'Ver14nounder'})\n",
    "table = soup.findAll('table')\n",
    "\n",
    "\"\"\"\n",
    "for i in table:\n",
    "    row = i.find(\"tr\")\n",
    "    for j in row:\n",
    "        col = j.find(\"td\")\n",
    "        try:\n",
    "            print(col.text)\n",
    "            \n",
    "        #for n in col:\n",
    "            #print(n.text)\n",
    " \"\"\"  "
   ]
  },
  {
   "cell_type": "code",
   "execution_count": null,
   "metadata": {},
   "outputs": [],
   "source": [
    "table[43].findAll(\"tr\")[0].findAll(\"td\")[0].text"
   ]
  },
  {
   "cell_type": "code",
   "execution_count": null,
   "metadata": {},
   "outputs": [],
   "source": []
  }
 ],
 "metadata": {
  "kernelspec": {
   "display_name": "Python 3",
   "language": "python",
   "name": "python3"
  },
  "language_info": {
   "codemirror_mode": {
    "name": "ipython",
    "version": 3
   },
   "file_extension": ".py",
   "mimetype": "text/x-python",
   "name": "python",
   "nbconvert_exporter": "python",
   "pygments_lexer": "ipython3",
   "version": "3.7.5"
  }
 },
 "nbformat": 4,
 "nbformat_minor": 4
}
